{
 "cells": [
  {
   "cell_type": "code",
   "execution_count": 50,
   "id": "f19405f0",
   "metadata": {},
   "outputs": [],
   "source": [
    "import pandas as pd\n",
    "from kafka import KafkaProducer\n",
    "from time import sleep\n",
    "from json import dumps\n",
    "import json"
   ]
  },
  {
   "cell_type": "code",
   "execution_count": 51,
   "id": "b483a0e4",
   "metadata": {},
   "outputs": [],
   "source": [
    "producer = KafkaProducer(bootstrap_servers=['34.203.241.118:9092'], #change public ip here\n",
    "                         value_serializer=lambda x: \n",
    "                         dumps(x).encode('utf-8')) # send JSON data to Kafka Producer"
   ]
  },
  {
   "cell_type": "code",
   "execution_count": 23,
   "id": "0c30b915",
   "metadata": {},
   "outputs": [
    {
     "data": {
      "text/plain": [
       "<kafka.producer.future.FutureRecordMetadata at 0x1175b6550>"
      ]
     },
     "execution_count": 23,
     "metadata": {},
     "output_type": "execute_result"
    }
   ],
   "source": [
    "producer.send('demo_test', value={'age': '23'})"
   ]
  },
  {
   "cell_type": "code",
   "execution_count": 52,
   "id": "cc8d45aa",
   "metadata": {},
   "outputs": [],
   "source": [
    "df = pd.read_csv(\"data/indexProcessed.csv\")"
   ]
  },
  {
   "cell_type": "code",
   "execution_count": 53,
   "id": "e68fbffd",
   "metadata": {},
   "outputs": [],
   "source": [
    "df_sorted = df.sort_values('Date')"
   ]
  },
  {
   "cell_type": "code",
   "execution_count": 54,
   "id": "113a2516",
   "metadata": {},
   "outputs": [
    {
     "data": {
      "text/html": [
       "<div>\n",
       "<style scoped>\n",
       "    .dataframe tbody tr th:only-of-type {\n",
       "        vertical-align: middle;\n",
       "    }\n",
       "\n",
       "    .dataframe tbody tr th {\n",
       "        vertical-align: top;\n",
       "    }\n",
       "\n",
       "    .dataframe thead th {\n",
       "        text-align: right;\n",
       "    }\n",
       "</style>\n",
       "<table border=\"1\" class=\"dataframe\">\n",
       "  <thead>\n",
       "    <tr style=\"text-align: right;\">\n",
       "      <th></th>\n",
       "      <th>Index</th>\n",
       "      <th>Date</th>\n",
       "      <th>Open</th>\n",
       "      <th>High</th>\n",
       "      <th>Low</th>\n",
       "      <th>Close</th>\n",
       "      <th>Adj Close</th>\n",
       "      <th>Volume</th>\n",
       "      <th>CloseUSD</th>\n",
       "    </tr>\n",
       "  </thead>\n",
       "  <tbody>\n",
       "    <tr>\n",
       "      <th>40920</th>\n",
       "      <td>N225</td>\n",
       "      <td>1965-01-05</td>\n",
       "      <td>1257.719971</td>\n",
       "      <td>1257.719971</td>\n",
       "      <td>1257.719971</td>\n",
       "      <td>1257.719971</td>\n",
       "      <td>1257.719971</td>\n",
       "      <td>0.0</td>\n",
       "      <td>12.577200</td>\n",
       "    </tr>\n",
       "    <tr>\n",
       "      <th>40921</th>\n",
       "      <td>N225</td>\n",
       "      <td>1965-01-06</td>\n",
       "      <td>1263.989990</td>\n",
       "      <td>1263.989990</td>\n",
       "      <td>1263.989990</td>\n",
       "      <td>1263.989990</td>\n",
       "      <td>1263.989990</td>\n",
       "      <td>0.0</td>\n",
       "      <td>12.639900</td>\n",
       "    </tr>\n",
       "    <tr>\n",
       "      <th>40922</th>\n",
       "      <td>N225</td>\n",
       "      <td>1965-01-07</td>\n",
       "      <td>1274.270020</td>\n",
       "      <td>1274.270020</td>\n",
       "      <td>1274.270020</td>\n",
       "      <td>1274.270020</td>\n",
       "      <td>1274.270020</td>\n",
       "      <td>0.0</td>\n",
       "      <td>12.742700</td>\n",
       "    </tr>\n",
       "    <tr>\n",
       "      <th>40923</th>\n",
       "      <td>N225</td>\n",
       "      <td>1965-01-08</td>\n",
       "      <td>1286.430054</td>\n",
       "      <td>1286.430054</td>\n",
       "      <td>1286.430054</td>\n",
       "      <td>1286.430054</td>\n",
       "      <td>1286.430054</td>\n",
       "      <td>0.0</td>\n",
       "      <td>12.864301</td>\n",
       "    </tr>\n",
       "    <tr>\n",
       "      <th>40924</th>\n",
       "      <td>N225</td>\n",
       "      <td>1965-01-12</td>\n",
       "      <td>1288.540039</td>\n",
       "      <td>1288.540039</td>\n",
       "      <td>1288.540039</td>\n",
       "      <td>1288.540039</td>\n",
       "      <td>1288.540039</td>\n",
       "      <td>0.0</td>\n",
       "      <td>12.885400</td>\n",
       "    </tr>\n",
       "    <tr>\n",
       "      <th>40925</th>\n",
       "      <td>N225</td>\n",
       "      <td>1965-01-13</td>\n",
       "      <td>1281.670044</td>\n",
       "      <td>1281.670044</td>\n",
       "      <td>1281.670044</td>\n",
       "      <td>1281.670044</td>\n",
       "      <td>1281.670044</td>\n",
       "      <td>0.0</td>\n",
       "      <td>12.816700</td>\n",
       "    </tr>\n",
       "    <tr>\n",
       "      <th>40926</th>\n",
       "      <td>N225</td>\n",
       "      <td>1965-01-14</td>\n",
       "      <td>1289.500000</td>\n",
       "      <td>1289.500000</td>\n",
       "      <td>1289.500000</td>\n",
       "      <td>1289.500000</td>\n",
       "      <td>1289.500000</td>\n",
       "      <td>0.0</td>\n",
       "      <td>12.895000</td>\n",
       "    </tr>\n",
       "    <tr>\n",
       "      <th>40927</th>\n",
       "      <td>N225</td>\n",
       "      <td>1965-01-18</td>\n",
       "      <td>1271.680054</td>\n",
       "      <td>1271.680054</td>\n",
       "      <td>1271.680054</td>\n",
       "      <td>1271.680054</td>\n",
       "      <td>1271.680054</td>\n",
       "      <td>0.0</td>\n",
       "      <td>12.716801</td>\n",
       "    </tr>\n",
       "    <tr>\n",
       "      <th>40928</th>\n",
       "      <td>N225</td>\n",
       "      <td>1965-01-19</td>\n",
       "      <td>1270.339966</td>\n",
       "      <td>1270.339966</td>\n",
       "      <td>1270.339966</td>\n",
       "      <td>1270.339966</td>\n",
       "      <td>1270.339966</td>\n",
       "      <td>0.0</td>\n",
       "      <td>12.703400</td>\n",
       "    </tr>\n",
       "    <tr>\n",
       "      <th>40929</th>\n",
       "      <td>N225</td>\n",
       "      <td>1965-01-20</td>\n",
       "      <td>1268.880005</td>\n",
       "      <td>1268.880005</td>\n",
       "      <td>1268.880005</td>\n",
       "      <td>1268.880005</td>\n",
       "      <td>1268.880005</td>\n",
       "      <td>0.0</td>\n",
       "      <td>12.688800</td>\n",
       "    </tr>\n",
       "  </tbody>\n",
       "</table>\n",
       "</div>"
      ],
      "text/plain": [
       "      Index        Date         Open         High          Low        Close  \\\n",
       "40920  N225  1965-01-05  1257.719971  1257.719971  1257.719971  1257.719971   \n",
       "40921  N225  1965-01-06  1263.989990  1263.989990  1263.989990  1263.989990   \n",
       "40922  N225  1965-01-07  1274.270020  1274.270020  1274.270020  1274.270020   \n",
       "40923  N225  1965-01-08  1286.430054  1286.430054  1286.430054  1286.430054   \n",
       "40924  N225  1965-01-12  1288.540039  1288.540039  1288.540039  1288.540039   \n",
       "40925  N225  1965-01-13  1281.670044  1281.670044  1281.670044  1281.670044   \n",
       "40926  N225  1965-01-14  1289.500000  1289.500000  1289.500000  1289.500000   \n",
       "40927  N225  1965-01-18  1271.680054  1271.680054  1271.680054  1271.680054   \n",
       "40928  N225  1965-01-19  1270.339966  1270.339966  1270.339966  1270.339966   \n",
       "40929  N225  1965-01-20  1268.880005  1268.880005  1268.880005  1268.880005   \n",
       "\n",
       "         Adj Close  Volume   CloseUSD  \n",
       "40920  1257.719971     0.0  12.577200  \n",
       "40921  1263.989990     0.0  12.639900  \n",
       "40922  1274.270020     0.0  12.742700  \n",
       "40923  1286.430054     0.0  12.864301  \n",
       "40924  1288.540039     0.0  12.885400  \n",
       "40925  1281.670044     0.0  12.816700  \n",
       "40926  1289.500000     0.0  12.895000  \n",
       "40927  1271.680054     0.0  12.716801  \n",
       "40928  1270.339966     0.0  12.703400  \n",
       "40929  1268.880005     0.0  12.688800  "
      ]
     },
     "execution_count": 54,
     "metadata": {},
     "output_type": "execute_result"
    }
   ],
   "source": [
    "df_sorted.head(10)"
   ]
  },
  {
   "cell_type": "code",
   "execution_count": 55,
   "id": "06e7e6d6",
   "metadata": {},
   "outputs": [
    {
     "data": {
      "text/plain": [
       "(104224, 9)"
      ]
     },
     "execution_count": 55,
     "metadata": {},
     "output_type": "execute_result"
    }
   ],
   "source": [
    "df.shape"
   ]
  },
  {
   "cell_type": "code",
   "execution_count": 56,
   "id": "4c7ec0be",
   "metadata": {},
   "outputs": [],
   "source": [
    "# while True:\n",
    "#     dict_stock = df_sorted.sample(1).to_dict(orient=\"records\")[0]\n",
    "#     producer.send('demo_test', value=dict_stock)\n",
    "#     sleep(1)"
   ]
  },
  {
   "cell_type": "code",
   "execution_count": 58,
   "id": "aa7c441e",
   "metadata": {},
   "outputs": [
    {
     "ename": "KeyboardInterrupt",
     "evalue": "",
     "output_type": "error",
     "traceback": [
      "\u001b[0;31m---------------------------------------------------------------------------\u001b[0m",
      "\u001b[0;31mKeyboardInterrupt\u001b[0m                         Traceback (most recent call last)",
      "Cell \u001b[0;32mIn[58], line 5\u001b[0m\n\u001b[1;32m      3\u001b[0m dict_stock \u001b[38;5;241m=\u001b[39m row\u001b[38;5;241m.\u001b[39mto_dict()  \u001b[38;5;66;03m# Convert row to dictionary\u001b[39;00m\n\u001b[1;32m      4\u001b[0m producer\u001b[38;5;241m.\u001b[39msend(\u001b[38;5;124m'\u001b[39m\u001b[38;5;124mdemo_test\u001b[39m\u001b[38;5;124m'\u001b[39m, value\u001b[38;5;241m=\u001b[39mdict_stock)\n\u001b[0;32m----> 5\u001b[0m sleep(\u001b[38;5;241m1\u001b[39m)\n",
      "\u001b[0;31mKeyboardInterrupt\u001b[0m: "
     ]
    }
   ],
   "source": [
    "while True:\n",
    "    for index, row in df_sorted.iterrows():\n",
    "        dict_stock = row.to_dict()  # Convert row to dictionary\n",
    "        producer.send('demo_test', value=dict_stock)\n",
    "        sleep(1)  # Adjust sleep time as needed"
   ]
  },
  {
   "cell_type": "code",
   "execution_count": 59,
   "id": "ed71c0e4",
   "metadata": {},
   "outputs": [],
   "source": [
    "producer.flush() #clear data from kafka server"
   ]
  },
  {
   "cell_type": "code",
   "execution_count": null,
   "id": "5991d10f",
   "metadata": {},
   "outputs": [],
   "source": []
  },
  {
   "cell_type": "code",
   "execution_count": null,
   "id": "3632d61d",
   "metadata": {},
   "outputs": [],
   "source": []
  }
 ],
 "metadata": {
  "kernelspec": {
   "display_name": "Python 3 (ipykernel)",
   "language": "python",
   "name": "python3"
  },
  "language_info": {
   "codemirror_mode": {
    "name": "ipython",
    "version": 3
   },
   "file_extension": ".py",
   "mimetype": "text/x-python",
   "name": "python",
   "nbconvert_exporter": "python",
   "pygments_lexer": "ipython3",
   "version": "3.11.8"
  }
 },
 "nbformat": 4,
 "nbformat_minor": 5
}
