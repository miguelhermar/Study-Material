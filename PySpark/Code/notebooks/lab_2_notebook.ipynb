{
 "cells": [
  {
   "cell_type": "markdown",
   "metadata": {},
   "source": [
    "## Data discovery: Some SQL Joins examples\n",
    "> Download the dataset from [the official TLC Trip Record Data website](https://www.nyc.gov/site/tlc/about/tlc-trip-record-data.page)"
   ]
  },
  {
   "cell_type": "markdown",
   "metadata": {},
   "source": [
    "### This cell only shows how to document code\n",
    "```python\n",
    "# Load file\n",
    "local_file = 'datasets/your-downloaded-from-TLC-taxis-file-here.parquet'\n",
    "\n",
    "# Show data\n",
    "spark.read.parquet(local_file).show()\n",
    "```"
   ]
  },
  {
   "cell_type": "code",
   "execution_count": null,
   "metadata": {},
   "outputs": [],
   "source": [
    "from pyspark.sql import SparkSession\n",
    "from pyspark.sql.types import StringType, StructField, StructType"
   ]
  },
  {
   "cell_type": "markdown",
   "metadata": {},
   "source": [
    "### What is master(local N)?\n",
    "The --master option specifies the master URL for a distributed cluster, or local to run locally with one thread, or local[N] to run locally with N threads.\n",
    "\n",
    "<b>Source</b>: See Spark [docs here](spark.apache.org/docs/latest). See all [options here](https://spark.apache.org/docs/latest/submitting-applications.html#master-urls)"
   ]
  },
  {
   "cell_type": "code",
   "execution_count": null,
   "metadata": {},
   "outputs": [],
   "source": [
    "# Create SparkSession\n",
    "spark = SparkSession.builder\\\n",
    "             .master(\"local[1]\")\\\n",
    "             .appName(\"spark-app-version-x\")\\\n",
    "             .getOrCreate()"
   ]
  },
  {
   "cell_type": "code",
   "execution_count": null,
   "metadata": {},
   "outputs": [],
   "source": [
    "# Read taxi data\n",
    "local_file = 'datasets/parquet/'\n",
    "df = spark.read.parquet(local_file)"
   ]
  },
  {
   "cell_type": "code",
   "execution_count": null,
   "metadata": {},
   "outputs": [],
   "source": [
    "# DF is like a relation table in memory. Let's see the columns\n",
    "df.printSchema()"
   ]
  },
  {
   "cell_type": "code",
   "execution_count": null,
   "metadata": {},
   "outputs": [],
   "source": [
    "# Query sample, using Spark SQL\n",
    "df.createOrReplaceTempView('tbl_raw_yellow_taxis')"
   ]
  },
  {
   "cell_type": "code",
   "execution_count": null,
   "metadata": {},
   "outputs": [],
   "source": [
    "# SQL Statement\n",
    "spark.sql('''\n",
    "          select *\n",
    "          from tbl_raw_yellow_taxis\n",
    "          ''').show(n=5)"
   ]
  },
  {
   "cell_type": "markdown",
   "metadata": {},
   "source": [
    "### Let's create a real \"dimension\" table, for our RateCodeID\n",
    "1. Standard rate\n",
    "2. JFK\n",
    "3. Newark\n",
    "4. Nassau or Westchester \n",
    "5. Negotiated fare\n",
    "6. Group ride"
   ]
  },
  {
   "cell_type": "code",
   "execution_count": null,
   "metadata": {},
   "outputs": [],
   "source": [
    "# Add Rate Code IDs\n",
    "data = [(\"1\", \"Standard rate\"), (\"2\", \"JFK\"), (\"3\", \"Newark\"),(\"4\",\"Nassau or Westchester \"),(\"5\",\"Negotiated fare\"), (\"6\",\"Group ride\")]"
   ]
  },
  {
   "cell_type": "code",
   "execution_count": null,
   "metadata": {},
   "outputs": [],
   "source": [
    "# Define schema, to ensure data types\n",
    "schema = StructType([ \\\n",
    "    StructField(\"RatecodeID\",StringType(),True), \\\n",
    "    StructField(\"RatecodeName\",StringType(),True)\n",
    "  ])"
   ]
  },
  {
   "cell_type": "code",
   "execution_count": null,
   "metadata": {},
   "outputs": [],
   "source": [
    "# Create Dataframe for Rate Codes\n",
    "df_rate_codes = spark.createDataFrame(data=data,schema=schema)"
   ]
  },
  {
   "cell_type": "code",
   "execution_count": null,
   "metadata": {},
   "outputs": [],
   "source": [
    "# Show rates\n",
    "df_rate_codes.show()"
   ]
  },
  {
   "cell_type": "code",
   "execution_count": null,
   "metadata": {},
   "outputs": [],
   "source": [
    "# Inner join example:\n",
    "df.join(df_rate_codes, df[\"RatecodeID\"] == df_rate_codes[\"RatecodeID\"], \"inner\").show(n=5)"
   ]
  },
  {
   "cell_type": "code",
   "execution_count": null,
   "metadata": {},
   "outputs": [],
   "source": [
    "# Inner join example. Using only columns, to avoid duplicating columns from both tables\n",
    "# - for example, see above how RatecodeID shows twice (one for each table joined)\n",
    "df.join(df_rate_codes, df[\"RatecodeID\"] == df_rate_codes[\"RatecodeID\"], \"left\").drop(df_rate_codes[\"RatecodeID\"]).show(n=5)"
   ]
  },
  {
   "cell_type": "code",
   "execution_count": null,
   "metadata": {},
   "outputs": [],
   "source": [
    "# Left join example, showing those WITH NO rate code:\n",
    "df.join(df_rate_codes, df[\"RatecodeID\"] == df_rate_codes[\"rate_code_id\"], \"left\").where(\"RatecodeID is NULL\").show()"
   ]
  },
  {
   "cell_type": "code",
   "execution_count": 1,
   "metadata": {},
   "outputs": [
    {
     "ename": "NameError",
     "evalue": "name 'spark' is not defined",
     "output_type": "error",
     "traceback": [
      "\u001b[0;31m---------------------------------------------------------------------------\u001b[0m",
      "\u001b[0;31mNameError\u001b[0m                                 Traceback (most recent call last)",
      "Cell \u001b[0;32mIn[1], line 2\u001b[0m\n\u001b[1;32m      1\u001b[0m \u001b[38;5;66;03m# SQL Statement\u001b[39;00m\n\u001b[0;32m----> 2\u001b[0m spark\u001b[38;5;241m.\u001b[39msql(\u001b[38;5;124m'''\u001b[39m\n\u001b[1;32m      3\u001b[0m \u001b[38;5;124m          select RatecodeID, count(1)\u001b[39m\n\u001b[1;32m      4\u001b[0m \u001b[38;5;124m          from tbl_raw_yellow_taxis\u001b[39m\n\u001b[1;32m      5\u001b[0m \u001b[38;5;124m          group by RatecodeID\u001b[39m\n\u001b[1;32m      6\u001b[0m \u001b[38;5;124m          \u001b[39m\u001b[38;5;124m'''\u001b[39m)\u001b[38;5;241m.\u001b[39mshow(n\u001b[38;5;241m=\u001b[39m\u001b[38;5;241m5\u001b[39m)\n",
      "\u001b[0;31mNameError\u001b[0m: name 'spark' is not defined"
     ]
    }
   ],
   "source": [
    "# SQL Statement\n",
    "spark.sql('''\n",
    "          select RatecodeID, count(1)\n",
    "          from tbl_raw_yellow_taxis\n",
    "          group by RatecodeID\n",
    "          ''').show(n=5)"
   ]
  },
  {
   "cell_type": "code",
   "execution_count": null,
   "metadata": {},
   "outputs": [],
   "source": [
    "# If user doesn't want to see NULL values\n",
    "df_na_rate_codes = df.na.fill(value=0,subset=[\"RatecodeID\"])"
   ]
  },
  {
   "cell_type": "code",
   "execution_count": null,
   "metadata": {},
   "outputs": [],
   "source": [
    "# Left join example, showing those WITH NO rate code:\n",
    "df_na_rate_codes.join(df_rate_codes, df_na_rate_codes[\"RatecodeID\"] == df_rate_codes[\"rate_code_id\"], \"left\").where(\"RatecodeID is NULL\").show()"
   ]
  },
  {
   "cell_type": "code",
   "execution_count": null,
   "metadata": {},
   "outputs": [],
   "source": [
    "# Confirm counts\n",
    "df_na_rate_codes.createOrReplaceTempView('tbl_na_rate_codes')"
   ]
  },
  {
   "cell_type": "code",
   "execution_count": null,
   "metadata": {},
   "outputs": [],
   "source": [
    "# SQL Statement\n",
    "spark.sql('''\n",
    "          select RatecodeID, count(1)\n",
    "          from tbl_na_rate_codes\n",
    "          group by RatecodeID\n",
    "          ''').show(n=5)"
   ]
  },
  {
   "cell_type": "code",
   "execution_count": null,
   "metadata": {},
   "outputs": [],
   "source": [
    "# Stop the session\n",
    "spark.stop()"
   ]
  }
 ],
 "metadata": {
  "kernelspec": {
   "display_name": "Python 3 (ipykernel)",
   "language": "python",
   "name": "python3"
  },
  "language_info": {
   "codemirror_mode": {
    "name": "ipython",
    "version": 3
   },
   "file_extension": ".py",
   "mimetype": "text/x-python",
   "name": "python",
   "nbconvert_exporter": "python",
   "pygments_lexer": "ipython3",
   "version": "3.11.8"
  }
 },
 "nbformat": 4,
 "nbformat_minor": 2
}
