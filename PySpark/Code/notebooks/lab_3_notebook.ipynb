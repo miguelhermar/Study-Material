{
 "cells": [
  {
   "attachments": {},
   "cell_type": "markdown",
   "metadata": {},
   "source": [
    "## Apache Spark: UDF example\n",
    "> Download the dataset from [the official TLC Trip Record Data website](https://www.nyc.gov/site/tlc/about/tlc-trip-record-data.page)"
   ]
  },
  {
   "attachments": {},
   "cell_type": "markdown",
   "metadata": {},
   "source": [
    "### This cell only shows how to document code\n",
    "```python\n",
    "# Load file\n",
    "local_file = 'datasets/your-downloaded-from-TLC-taxis-file-here.parquet'\n",
    "\n",
    "# Show data\n",
    "spark.read.parquet(local_file).show()\n",
    "```"
   ]
  },
  {
   "cell_type": "code",
   "execution_count": null,
   "metadata": {},
   "outputs": [],
   "source": [
    "import numpy as np\n",
    "from pyspark.sql import SparkSession\n",
    "from pyspark.sql.functions import udf, pandas_udf, PandasUDFType\n",
    "from pyspark.sql.types import IntegerType"
   ]
  },
  {
   "attachments": {},
   "cell_type": "markdown",
   "metadata": {},
   "source": [
    "### What is master(local N)?\n",
    "The --master option specifies the master URL for a distributed cluster, or local to run locally with one thread, or local[N] to run locally with N threads.\n",
    "\n",
    "<b>Source</b>: See Spark [docs here](spark.apache.org/docs/latest). See all [options here](https://spark.apache.org/docs/latest/submitting-applications.html#master-urls)"
   ]
  },
  {
   "cell_type": "code",
   "execution_count": null,
   "metadata": {},
   "outputs": [],
   "source": [
    "# Create SparkSession\n",
    "spark = SparkSession.builder\\\n",
    "             .master(\"local[1]\")\\\n",
    "             .appName(\"spark-app-version-x\")\\\n",
    "             .getOrCreate()"
   ]
  },
  {
   "cell_type": "code",
   "execution_count": null,
   "metadata": {},
   "outputs": [],
   "source": [
    "# Read taxi data\n",
    "local_file = 'datasets/parquet/'\n",
    "df = spark.read.parquet(local_file)"
   ]
  },
  {
   "cell_type": "code",
   "execution_count": null,
   "metadata": {},
   "outputs": [],
   "source": [
    "# DF is like a relation table in memory. Let's see the columns\n",
    "df.printSchema()"
   ]
  },
  {
   "cell_type": "markdown",
   "metadata": {},
   "source": [
    "### Let's create a real \"dimension\" table, for our RateCodeID\n",
    "1. Standard rate\n",
    "2. JFK\n",
    "3. Newark\n",
    "4. Nassau or Westchester \n",
    "5. Negotiated fare\n",
    "6. Group ride"
   ]
  },
  {
   "cell_type": "markdown",
   "metadata": {},
   "source": [
    "### Instead of SQL JOIN and DF.na.fill, let's create a Spark UDF"
   ]
  },
  {
   "cell_type": "code",
   "execution_count": null,
   "metadata": {},
   "outputs": [],
   "source": [
    "# Define a Python function\n",
    "@udf\n",
    "def tag_rate_code_udf(rate_code_id):\n",
    "    if rate_code_id == 1:\n",
    "        return \"Standard rate\"\n",
    "    elif rate_code_id == 2:\n",
    "        return \"JFK\"\n",
    "    elif rate_code_id == 3:\n",
    "        return \"Newark\"\n",
    "    elif rate_code_id == 4:\n",
    "        return \"Nassau or Westchester\"\n",
    "    elif rate_code_id == 5:\n",
    "        return \"Negotiated fare\"\n",
    "    elif rate_code_id == 6:\n",
    "        return \"Group ride\"\n",
    "    else:\n",
    "        return \"rate not available\""
   ]
  },
  {
   "cell_type": "code",
   "execution_count": null,
   "metadata": {},
   "outputs": [],
   "source": [
    "# Apply the UDF to the DataFrame\n",
    "df.withColumn(\"RateCodeName\", tag_rate_code_udf(df[\"RatecodeID\"])).select('VendorID','tpep_pickup_datetime','RatecodeID','RateCodeName').show(n=5)"
   ]
  },
  {
   "cell_type": "code",
   "execution_count": null,
   "metadata": {},
   "outputs": [],
   "source": [
    "# Confirm the UDF works:\n",
    "df.withColumn(\"RateCodeName\", tag_rate_code_udf(df[\"RatecodeID\"])).where(\"RatecodeID is NULL\").select('VendorID','tpep_pickup_datetime','RatecodeID','RateCodeName').show(n=5)"
   ]
  },
  {
   "cell_type": "code",
   "execution_count": null,
   "metadata": {},
   "outputs": [],
   "source": [
    "# Apply the UDF to the DataFrame\n",
    "df_na_rate_codes = df.withColumn(\"RateCodeName\", tag_rate_code_udf(df[\"RatecodeID\"]))"
   ]
  },
  {
   "cell_type": "code",
   "execution_count": null,
   "metadata": {},
   "outputs": [],
   "source": [
    "df_na_rate_codes.select('VendorID','tpep_pickup_datetime','RatecodeID','RateCodeName').where(\"RatecodeID is NULL\").show(n=5)"
   ]
  },
  {
   "cell_type": "markdown",
   "metadata": {},
   "source": [
    "### Or simply look for NULL and replace, using a UDF (probably bad performance)"
   ]
  },
  {
   "cell_type": "code",
   "execution_count": null,
   "metadata": {},
   "outputs": [],
   "source": [
    "# Define a Python function\n",
    "@udf\n",
    "def tag_null_rate_codes_udf(rate_code_id):\n",
    "    if (rate_code_id != rate_code_id) | (rate_code_id is None):\n",
    "        return 0\n",
    "    else:\n",
    "        return rate_code_id"
   ]
  },
  {
   "cell_type": "code",
   "execution_count": null,
   "metadata": {},
   "outputs": [],
   "source": [
    "%%time\n",
    "\n",
    "# Apply the UDF to the DataFrame, using the same RatecodeID col\n",
    "df_na_rate_codes = df.withColumn(\"RatecodeID\", tag_null_rate_codes_udf(df[\"RatecodeID\"]))\n",
    "df_na_rate_codes.show(n=3)"
   ]
  },
  {
   "cell_type": "code",
   "execution_count": null,
   "metadata": {},
   "outputs": [],
   "source": [
    "# Show data\n",
    "df_na_rate_codes.select('VendorID','tpep_pickup_datetime','RatecodeID').where('RatecodeID = 0').show(n=5)"
   ]
  },
  {
   "cell_type": "code",
   "execution_count": null,
   "metadata": {},
   "outputs": [],
   "source": [
    "# Show data\n",
    "df_na_rate_codes.select('VendorID','tpep_pickup_datetime','RatecodeID').where('RatecodeID is NULL').count()"
   ]
  },
  {
   "cell_type": "code",
   "execution_count": null,
   "metadata": {},
   "outputs": [],
   "source": [
    "df_na_rate_codes.explain()"
   ]
  },
  {
   "cell_type": "code",
   "execution_count": null,
   "metadata": {},
   "outputs": [],
   "source": [
    "# Show data\n",
    "df_na_rate_codes.groupBy('RatecodeID').count().orderBy('RatecodeID').show()"
   ]
  },
  {
   "cell_type": "code",
   "execution_count": null,
   "metadata": {},
   "outputs": [],
   "source": [
    "# Show data\n",
    "df.groupBy('RatecodeID').count().orderBy('RatecodeID').show()"
   ]
  },
  {
   "cell_type": "markdown",
   "metadata": {},
   "source": [
    "---\n",
    "### Using Pandas UDF\n",
    "- Dependencies\n",
    "```\n",
    "❯ source venv/bin/activate\n",
    "❯ pip3 install pandas pyarrow\n",
    "```"
   ]
  },
  {
   "cell_type": "code",
   "execution_count": null,
   "metadata": {},
   "outputs": [],
   "source": [
    "# Define a Python function\n",
    "@pandas_udf(\"double\", PandasUDFType.SCALAR)\n",
    "def tag_null_rate_codes_pudf(rate_code_id):\n",
    "    if (rate_code_id is None):\n",
    "        return 0\n",
    "    else:\n",
    "        return rate_code_id"
   ]
  },
  {
   "cell_type": "code",
   "execution_count": null,
   "metadata": {},
   "outputs": [],
   "source": [
    "# Apply the UDF to the DataFrame, using the same RatecodeID col\n",
    "df_na_rate_codes_pudf = df.withColumn(\"RatecodeID\", tag_null_rate_codes_pudf(df[\"RatecodeID\"]))\n",
    "df_na_rate_codes_pudf.show(n=3)"
   ]
  },
  {
   "cell_type": "code",
   "execution_count": null,
   "metadata": {},
   "outputs": [],
   "source": [
    "# Stop the session\n",
    "spark.stop()"
   ]
  }
 ],
 "metadata": {
  "kernelspec": {
   "display_name": "venv",
   "language": "python",
   "name": "python3"
  },
  "language_info": {
   "codemirror_mode": {
    "name": "ipython",
    "version": 3
   },
   "file_extension": ".py",
   "mimetype": "text/x-python",
   "name": "python",
   "nbconvert_exporter": "python",
   "pygments_lexer": "ipython3",
   "version": "3.9.6"
  },
  "orig_nbformat": 4
 },
 "nbformat": 4,
 "nbformat_minor": 2
}
