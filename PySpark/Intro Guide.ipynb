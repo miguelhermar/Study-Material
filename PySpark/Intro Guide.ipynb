{
 "cells": [
  {
   "cell_type": "code",
   "execution_count": 1,
   "id": "e68e295e",
   "metadata": {},
   "outputs": [],
   "source": [
    "from pyspark.sql import SparkSession"
   ]
  },
  {
   "cell_type": "code",
   "execution_count": 2,
   "id": "d44cd3ca",
   "metadata": {},
   "outputs": [
    {
     "data": {
      "text/html": [
       "<div>\n",
       "<style scoped>\n",
       "    .dataframe tbody tr th:only-of-type {\n",
       "        vertical-align: middle;\n",
       "    }\n",
       "\n",
       "    .dataframe tbody tr th {\n",
       "        vertical-align: top;\n",
       "    }\n",
       "\n",
       "    .dataframe thead th {\n",
       "        text-align: right;\n",
       "    }\n",
       "</style>\n",
       "<table border=\"1\" class=\"dataframe\">\n",
       "  <thead>\n",
       "    <tr style=\"text-align: right;\">\n",
       "      <th></th>\n",
       "      <th>Name</th>\n",
       "      <th>age</th>\n",
       "      <th>Experience</th>\n",
       "    </tr>\n",
       "  </thead>\n",
       "  <tbody>\n",
       "    <tr>\n",
       "      <th>0</th>\n",
       "      <td>Krish</td>\n",
       "      <td>31</td>\n",
       "      <td>10</td>\n",
       "    </tr>\n",
       "    <tr>\n",
       "      <th>1</th>\n",
       "      <td>Sudhanshu</td>\n",
       "      <td>30</td>\n",
       "      <td>8</td>\n",
       "    </tr>\n",
       "    <tr>\n",
       "      <th>2</th>\n",
       "      <td>Sunny</td>\n",
       "      <td>29</td>\n",
       "      <td>4</td>\n",
       "    </tr>\n",
       "  </tbody>\n",
       "</table>\n",
       "</div>"
      ],
      "text/plain": [
       "        Name  age  Experience\n",
       "0      Krish   31          10\n",
       "1  Sudhanshu   30           8\n",
       "2      Sunny   29           4"
      ]
     },
     "execution_count": 2,
     "metadata": {},
     "output_type": "execute_result"
    }
   ],
   "source": [
    "import pandas as pd\n",
    "pd.read_csv('test1.csv')#.info()"
   ]
  },
  {
   "cell_type": "markdown",
   "id": "02f9038f",
   "metadata": {},
   "source": [
    "### What is master(local N)?\n",
    "The --master option specifies the master URL for a distributed cluster, or local to run locally with one thread, or local[N] to run locally with N threads.\n",
    "\n",
    "Create SparkSession\n",
    "spark = SparkSession.builder\\\n",
    "             .master(\"local[1]\")\\\n",
    "             .appName(\"spark-app-version-x\")\\\n",
    "             .getOrCreate()"
   ]
  },
  {
   "cell_type": "code",
   "execution_count": 3,
   "id": "c8c372b8",
   "metadata": {},
   "outputs": [
    {
     "name": "stderr",
     "output_type": "stream",
     "text": [
      "24/03/24 09:31:38 WARN Utils: Your hostname, miguels-MBP.local resolves to a loopback address: 127.0.0.1; using 192.168.100.17 instead (on interface en0)\n",
      "24/03/24 09:31:38 WARN Utils: Set SPARK_LOCAL_IP if you need to bind to another address\n",
      "Setting default log level to \"WARN\".\n",
      "To adjust logging level use sc.setLogLevel(newLevel). For SparkR, use setLogLevel(newLevel).\n",
      "24/03/24 09:31:38 WARN NativeCodeLoader: Unable to load native-hadoop library for your platform... using builtin-java classes where applicable\n"
     ]
    }
   ],
   "source": [
    "spark = SparkSession.builder.appName(\"Practice\").getOrCreate()"
   ]
  },
  {
   "cell_type": "code",
   "execution_count": 4,
   "id": "38867ed2",
   "metadata": {},
   "outputs": [
    {
     "data": {
      "text/html": [
       "\n",
       "        <div>\n",
       "            <p><b>SparkContext</b></p>\n",
       "\n",
       "            <p><a href=\"http://192.168.100.17:4040\">Spark UI</a></p>\n",
       "\n",
       "            <dl>\n",
       "              <dt>Version</dt>\n",
       "                <dd><code>v3.4.1</code></dd>\n",
       "              <dt>Master</dt>\n",
       "                <dd><code>local[*]</code></dd>\n",
       "              <dt>AppName</dt>\n",
       "                <dd><code>Practice</code></dd>\n",
       "            </dl>\n",
       "        </div>\n",
       "        "
      ],
      "text/plain": [
       "<SparkContext master=local[*] appName=Practice>"
      ]
     },
     "execution_count": 4,
     "metadata": {},
     "output_type": "execute_result"
    }
   ],
   "source": [
    "sc = spark.sparkContext\n",
    "sc"
   ]
  },
  {
   "cell_type": "code",
   "execution_count": 31,
   "id": "6411ff9a",
   "metadata": {},
   "outputs": [],
   "source": [
    "## Read the Data\n",
    "\n",
    "df_pyspark = spark.read.csv('test1.csv', header=True, inferSchema=True)\n",
    "# df_pyspark = spark.read.option('header', 'true').csv('test1.csv', inferSchema=True) # Alternative way\n",
    "# df_pyspark = spark.read.format(\"csv\").option(\"header\",True).option(\"inferSchema\",True).load(\"test1.csv\")"
   ]
  },
  {
   "cell_type": "code",
   "execution_count": 27,
   "id": "611234b1",
   "metadata": {},
   "outputs": [
    {
     "name": "stdout",
     "output_type": "stream",
     "text": [
      "+---------+---+----------+\n",
      "|     Name|age|Experience|\n",
      "+---------+---+----------+\n",
      "|    Krish| 31|        10|\n",
      "|Sudhanshu| 30|         8|\n",
      "|    Sunny| 29|         4|\n",
      "+---------+---+----------+\n",
      "\n"
     ]
    }
   ],
   "source": [
    "df_pyspark.show()"
   ]
  },
  {
   "cell_type": "code",
   "execution_count": 9,
   "id": "b991ee4d",
   "metadata": {},
   "outputs": [
    {
     "data": {
      "text/plain": [
       "pyspark.sql.dataframe.DataFrame"
      ]
     },
     "execution_count": 9,
     "metadata": {},
     "output_type": "execute_result"
    }
   ],
   "source": [
    "type(df_pyspark)"
   ]
  },
  {
   "cell_type": "code",
   "execution_count": 10,
   "id": "209ac81e",
   "metadata": {},
   "outputs": [
    {
     "name": "stdout",
     "output_type": "stream",
     "text": [
      "root\n",
      " |-- Name: string (nullable = true)\n",
      " |-- age: integer (nullable = true)\n",
      " |-- Experience: integer (nullable = true)\n",
      "\n"
     ]
    }
   ],
   "source": [
    "# printSchema = df.info\n",
    "\n",
    "df_pyspark.printSchema()"
   ]
  },
  {
   "cell_type": "code",
   "execution_count": 12,
   "id": "2488838e",
   "metadata": {},
   "outputs": [
    {
     "data": {
      "text/plain": [
       "['Name', 'age', 'Experience']"
      ]
     },
     "execution_count": 12,
     "metadata": {},
     "output_type": "execute_result"
    }
   ],
   "source": [
    "df_pyspark.columns"
   ]
  },
  {
   "cell_type": "code",
   "execution_count": 13,
   "id": "88debfeb",
   "metadata": {},
   "outputs": [
    {
     "data": {
      "text/plain": [
       "[Row(Name='Krish', age=31, Experience=10),\n",
       " Row(Name='Sudhanshu', age=30, Experience=8),\n",
       " Row(Name='Sunny', age=29, Experience=4)]"
      ]
     },
     "execution_count": 13,
     "metadata": {},
     "output_type": "execute_result"
    }
   ],
   "source": [
    "df_pyspark.head(3)"
   ]
  },
  {
   "cell_type": "code",
   "execution_count": 14,
   "id": "8ee8cddb",
   "metadata": {},
   "outputs": [
    {
     "name": "stdout",
     "output_type": "stream",
     "text": [
      "+---------+----------+\n",
      "|     Name|Experience|\n",
      "+---------+----------+\n",
      "|    Krish|        10|\n",
      "|Sudhanshu|         8|\n",
      "|    Sunny|         4|\n",
      "+---------+----------+\n",
      "\n"
     ]
    }
   ],
   "source": [
    "# df_pyspark.select('Name').show()\n",
    "df_pyspark.select(['Name', 'Experience']).show()"
   ]
  },
  {
   "cell_type": "code",
   "execution_count": 15,
   "id": "ed48af26",
   "metadata": {},
   "outputs": [
    {
     "data": {
      "text/plain": [
       "[('Name', 'string'), ('age', 'int'), ('Experience', 'int')]"
      ]
     },
     "execution_count": 15,
     "metadata": {},
     "output_type": "execute_result"
    }
   ],
   "source": [
    "df_pyspark.dtypes"
   ]
  },
  {
   "cell_type": "code",
   "execution_count": 16,
   "id": "28b301b1",
   "metadata": {},
   "outputs": [
    {
     "name": "stdout",
     "output_type": "stream",
     "text": [
      "+-------+-----+----+-----------------+\n",
      "|summary| Name| age|       Experience|\n",
      "+-------+-----+----+-----------------+\n",
      "|  count|    3|   3|                3|\n",
      "|   mean| null|30.0|7.333333333333333|\n",
      "| stddev| null| 1.0|3.055050463303893|\n",
      "|    min|Krish|  29|                4|\n",
      "|    max|Sunny|  31|               10|\n",
      "+-------+-----+----+-----------------+\n",
      "\n"
     ]
    }
   ],
   "source": [
    "# Describe DF\n",
    "\n",
    "df_pyspark.describe().show()"
   ]
  },
  {
   "cell_type": "code",
   "execution_count": 17,
   "id": "d78a46ce",
   "metadata": {},
   "outputs": [
    {
     "name": "stdout",
     "output_type": "stream",
     "text": [
      "+---------+---+----------+------------------------+\n",
      "|     Name|age|Experience|Experience After 2 Years|\n",
      "+---------+---+----------+------------------------+\n",
      "|    Krish| 31|        10|                      12|\n",
      "|Sudhanshu| 30|         8|                      10|\n",
      "|    Sunny| 29|         4|                       6|\n",
      "+---------+---+----------+------------------------+\n",
      "\n"
     ]
    }
   ],
   "source": [
    "# Adding columns\n",
    "\n",
    "df_pyspark = df_pyspark.withColumn('Experience After 2 Years', df_pyspark['Experience'] + 2)\n",
    "df_pyspark.show()"
   ]
  },
  {
   "cell_type": "code",
   "execution_count": 18,
   "id": "dbefc484",
   "metadata": {},
   "outputs": [
    {
     "name": "stdout",
     "output_type": "stream",
     "text": [
      "+---------+---+----------+\n",
      "|     Name|age|Experience|\n",
      "+---------+---+----------+\n",
      "|    Krish| 31|        10|\n",
      "|Sudhanshu| 30|         8|\n",
      "|    Sunny| 29|         4|\n",
      "+---------+---+----------+\n",
      "\n"
     ]
    }
   ],
   "source": [
    "# Dropping columns\n",
    "\n",
    "df_pyspark = df_pyspark.drop('Experience After 2 Years')\n",
    "df_pyspark.show()"
   ]
  },
  {
   "cell_type": "code",
   "execution_count": 19,
   "id": "161cd26f",
   "metadata": {},
   "outputs": [
    {
     "name": "stdout",
     "output_type": "stream",
     "text": [
      "+---------+---+----------+\n",
      "| New Name|age|Experience|\n",
      "+---------+---+----------+\n",
      "|    Krish| 31|        10|\n",
      "|Sudhanshu| 30|         8|\n",
      "|    Sunny| 29|         4|\n",
      "+---------+---+----------+\n",
      "\n"
     ]
    }
   ],
   "source": [
    "# Renaming columns\n",
    "\n",
    "df_pyspark.withColumnRenamed('Name', 'New Name').show()"
   ]
  },
  {
   "cell_type": "code",
   "execution_count": null,
   "id": "a39fe317",
   "metadata": {},
   "outputs": [],
   "source": []
  },
  {
   "cell_type": "code",
   "execution_count": 35,
   "id": "01db8323",
   "metadata": {},
   "outputs": [
    {
     "name": "stdout",
     "output_type": "stream",
     "text": [
      "+---------+----+----------+------+\n",
      "|     Name| age|Experience|Salary|\n",
      "+---------+----+----------+------+\n",
      "|    Krish|  31|        10| 30000|\n",
      "|Sudhanshu|  30|         8| 25000|\n",
      "|    Sunny|  29|         4| 20000|\n",
      "|     Paul|  24|         3| 20000|\n",
      "|   Harsha|  21|         1| 15000|\n",
      "|  Shubham|  23|         2| 18000|\n",
      "|   Mahesh|null|      null| 40000|\n",
      "|     null|  34|        10| 38000|\n",
      "|     null|  36|      null|  null|\n",
      "+---------+----+----------+------+\n",
      "\n"
     ]
    }
   ],
   "source": [
    "df_pyspark2 = spark.read.csv('test2.csv', header=True)\n",
    "df_pyspark2.show()"
   ]
  },
  {
   "cell_type": "code",
   "execution_count": 32,
   "id": "de219aeb",
   "metadata": {},
   "outputs": [
    {
     "data": {
      "text/plain": [
       "[('Name', 'string'), ('age', 'int'), ('Experience', 'int'), ('Salary', 'int')]"
      ]
     },
     "execution_count": 32,
     "metadata": {},
     "output_type": "execute_result"
    }
   ],
   "source": [
    "df_pyspark2.dtypes"
   ]
  },
  {
   "cell_type": "code",
   "execution_count": 21,
   "id": "0a8044dd",
   "metadata": {},
   "outputs": [
    {
     "name": "stdout",
     "output_type": "stream",
     "text": [
      "+---------+---+----------+------+\n",
      "|     Name|age|Experience|Salary|\n",
      "+---------+---+----------+------+\n",
      "|    Krish| 31|        10| 30000|\n",
      "|Sudhanshu| 30|         8| 25000|\n",
      "|    Sunny| 29|         4| 20000|\n",
      "|     Paul| 24|         3| 20000|\n",
      "|   Harsha| 21|         1| 15000|\n",
      "|  Shubham| 23|         2| 18000|\n",
      "|     null| 34|        10| 38000|\n",
      "+---------+---+----------+------+\n",
      "\n"
     ]
    }
   ],
   "source": [
    "# Drop rows based on the null values\n",
    "\n",
    "# df_pyspark2.na.drop().show()\n",
    "# df_pyspark2.na.drop(how='any').show()\n",
    "#df_pyspark2.na.drop(how='any', thresh=2).show() # how many tolerable null values\n",
    "df_pyspark2.na.drop(how='any', subset=['Experience']).show()"
   ]
  },
  {
   "cell_type": "code",
   "execution_count": 34,
   "id": "3d4054ed",
   "metadata": {},
   "outputs": [
    {
     "name": "stdout",
     "output_type": "stream",
     "text": [
      "+---------+-------------+-------------+------+\n",
      "|     Name|          age|   Experience|Salary|\n",
      "+---------+-------------+-------------+------+\n",
      "|    Krish|           31|           10| 30000|\n",
      "|Sudhanshu|           30|            8| 25000|\n",
      "|    Sunny|           29|            4| 20000|\n",
      "|     Paul|           24|            3| 20000|\n",
      "|   Harsha|           21|            1| 15000|\n",
      "|  Shubham|           23|            2| 18000|\n",
      "|   Mahesh|Missing Value|Missing Value| 40000|\n",
      "|     null|           34|           10| 38000|\n",
      "|     null|           36|Missing Value|  null|\n",
      "+---------+-------------+-------------+------+\n",
      "\n"
     ]
    }
   ],
   "source": [
    "## Filling the missing values\n",
    "\n",
    "df_pyspark2.na.fill('Missing Value', ['Experience', 'age']).show()"
   ]
  },
  {
   "cell_type": "code",
   "execution_count": 89,
   "id": "8e7d5c2d",
   "metadata": {},
   "outputs": [
    {
     "name": "stdout",
     "output_type": "stream",
     "text": [
      "+---------+----+----------+------+-----------+------------------+--------------+\n",
      "|     Name| age|Experience|Salary|age_imputed|Experience_imputed|Salary_imputed|\n",
      "+---------+----+----------+------+-----------+------------------+--------------+\n",
      "|    Krish|  31|        10| 30000|         31|                10|         30000|\n",
      "|Sudhanshu|  30|         8| 25000|         30|                 8|         25000|\n",
      "|    Sunny|  29|         4| 20000|         29|                 4|         20000|\n",
      "|     Paul|  24|         3| 20000|         24|                 3|         20000|\n",
      "|   Harsha|  21|         1| 15000|         21|                 1|         15000|\n",
      "|  Shubham|  23|         2| 18000|         23|                 2|         18000|\n",
      "|   Mahesh|null|      null| 40000|         29|                 4|         40000|\n",
      "|     null|  34|        10| 38000|         34|                10|         38000|\n",
      "|     null|  36|      null|  null|         36|                 4|         20000|\n",
      "+---------+----+----------+------+-----------+------------------+--------------+\n",
      "\n"
     ]
    }
   ],
   "source": [
    "## Impute mean to null values\n",
    "\n",
    "from pyspark.ml.feature import Imputer\n",
    "\n",
    "imputer = Imputer(\n",
    "    inputCols=['age', 'Experience', 'Salary'], \n",
    "    outputCols=[f\"{c}_imputed\" for c in ['age', 'Experience', 'Salary']]\n",
    "    ).setStrategy(\"median\")\n",
    "\n",
    "# Add imputation cols to df\n",
    "imputer.fit(df_pyspark2).transform(df_pyspark2).show()"
   ]
  },
  {
   "cell_type": "markdown",
   "id": "0d2b4f32",
   "metadata": {},
   "source": [
    "## Filtering"
   ]
  },
  {
   "cell_type": "code",
   "execution_count": 38,
   "id": "0f364457",
   "metadata": {},
   "outputs": [
    {
     "name": "stdout",
     "output_type": "stream",
     "text": [
      "+---------+----+----------+------+\n",
      "|     Name| age|Experience|Salary|\n",
      "+---------+----+----------+------+\n",
      "|    Krish|  31|        10| 30000|\n",
      "|Sudhanshu|  30|         8| 25000|\n",
      "|    Sunny|  29|         4| 20000|\n",
      "|     Paul|  24|         3| 20000|\n",
      "|   Harsha|  21|         1| 15000|\n",
      "|  Shubham|  23|         2| 18000|\n",
      "|   Mahesh|null|      null| 40000|\n",
      "|     null|  34|        10| 38000|\n",
      "|     null|  36|      null|  null|\n",
      "+---------+----+----------+------+\n",
      "\n"
     ]
    }
   ],
   "source": [
    "df_pyspark3 = spark.read.csv('test2.csv', header=True, inferSchema=True)\n",
    "df_pyspark3.show()"
   ]
  },
  {
   "cell_type": "code",
   "execution_count": 39,
   "id": "35032a27",
   "metadata": {},
   "outputs": [
    {
     "name": "stdout",
     "output_type": "stream",
     "text": [
      "+---------+---+----------+------+\n",
      "|     Name|age|Experience|Salary|\n",
      "+---------+---+----------+------+\n",
      "|    Krish| 31|        10| 30000|\n",
      "|Sudhanshu| 30|         8| 25000|\n",
      "|    Sunny| 29|         4| 20000|\n",
      "|     Paul| 24|         3| 20000|\n",
      "|   Harsha| 21|         1| 15000|\n",
      "|  Shubham| 23|         2| 18000|\n",
      "+---------+---+----------+------+\n",
      "\n"
     ]
    }
   ],
   "source": [
    "df_pyspark3 = df_pyspark3.na.drop(how='any')\n",
    "df_pyspark3.show()"
   ]
  },
  {
   "cell_type": "code",
   "execution_count": 43,
   "id": "86bbbca7",
   "metadata": {},
   "outputs": [
    {
     "name": "stdout",
     "output_type": "stream",
     "text": [
      "+-------+---+----------+------+\n",
      "|   Name|age|Experience|Salary|\n",
      "+-------+---+----------+------+\n",
      "|  Sunny| 29|         4| 20000|\n",
      "|   Paul| 24|         3| 20000|\n",
      "| Harsha| 21|         1| 15000|\n",
      "|Shubham| 23|         2| 18000|\n",
      "+-------+---+----------+------+\n",
      "\n"
     ]
    }
   ],
   "source": [
    "# Salary of the people who earn less than or equal to 20000\n",
    "\n",
    "df_pyspark3.filter(\"Salary<=20000\").show()\n",
    "# df_pyspark3.filter(df_pyspark3[\"Salary\"]<=20000).show() --> Alternative way"
   ]
  },
  {
   "cell_type": "code",
   "execution_count": 41,
   "id": "46842fa0",
   "metadata": {},
   "outputs": [
    {
     "name": "stdout",
     "output_type": "stream",
     "text": [
      "+-------+---+\n",
      "|   Name|Age|\n",
      "+-------+---+\n",
      "|  Sunny| 29|\n",
      "|   Paul| 24|\n",
      "| Harsha| 21|\n",
      "|Shubham| 23|\n",
      "+-------+---+\n",
      "\n"
     ]
    }
   ],
   "source": [
    "df_pyspark3.filter(\"Salary<=20000\").select([\"Name\", \"Age\"]).show()"
   ]
  },
  {
   "cell_type": "code",
   "execution_count": 46,
   "id": "46ef8a0c",
   "metadata": {},
   "outputs": [
    {
     "name": "stdout",
     "output_type": "stream",
     "text": [
      "+-------+---+----------+------+\n",
      "|   Name|age|Experience|Salary|\n",
      "+-------+---+----------+------+\n",
      "|  Sunny| 29|         4| 20000|\n",
      "|   Paul| 24|         3| 20000|\n",
      "| Harsha| 21|         1| 15000|\n",
      "|Shubham| 23|         2| 18000|\n",
      "+-------+---+----------+------+\n",
      "\n"
     ]
    }
   ],
   "source": [
    "df_pyspark3.filter((df_pyspark3[\"Salary\"]<=20000) & \n",
    "                   (df_pyspark3[\"Salary\"]>=15000)).show()"
   ]
  },
  {
   "cell_type": "code",
   "execution_count": 47,
   "id": "a1f2ced7",
   "metadata": {},
   "outputs": [
    {
     "name": "stdout",
     "output_type": "stream",
     "text": [
      "+---------+---+----------+------+\n",
      "|     Name|age|Experience|Salary|\n",
      "+---------+---+----------+------+\n",
      "|    Krish| 31|        10| 30000|\n",
      "|Sudhanshu| 30|         8| 25000|\n",
      "+---------+---+----------+------+\n",
      "\n"
     ]
    }
   ],
   "source": [
    "df_pyspark3.filter(~(df_pyspark3[\"Salary\"]<=20000)).show() "
   ]
  },
  {
   "cell_type": "markdown",
   "id": "5dfa4fdf",
   "metadata": {},
   "source": [
    "## Groupby and Aggregate Functions"
   ]
  },
  {
   "cell_type": "code",
   "execution_count": 48,
   "id": "97746087",
   "metadata": {},
   "outputs": [
    {
     "name": "stdout",
     "output_type": "stream",
     "text": [
      "+---------+------------+------+\n",
      "|     Name| Departments|salary|\n",
      "+---------+------------+------+\n",
      "|    Krish|Data Science| 10000|\n",
      "|    Krish|         IOT|  5000|\n",
      "|   Mahesh|    Big Data|  4000|\n",
      "|    Krish|    Big Data|  4000|\n",
      "|   Mahesh|Data Science|  3000|\n",
      "|Sudhanshu|Data Science| 20000|\n",
      "|Sudhanshu|         IOT| 10000|\n",
      "|Sudhanshu|    Big Data|  5000|\n",
      "|    Sunny|Data Science| 10000|\n",
      "|    Sunny|    Big Data|  2000|\n",
      "+---------+------------+------+\n",
      "\n"
     ]
    }
   ],
   "source": [
    "df_pyspark4 = spark.read.csv('test3.csv', header=True, inferSchema=True)\n",
    "df_pyspark4.show()"
   ]
  },
  {
   "cell_type": "code",
   "execution_count": 49,
   "id": "d96699bd",
   "metadata": {},
   "outputs": [
    {
     "name": "stdout",
     "output_type": "stream",
     "text": [
      "root\n",
      " |-- Name: string (nullable = true)\n",
      " |-- Departments: string (nullable = true)\n",
      " |-- salary: integer (nullable = true)\n",
      "\n"
     ]
    }
   ],
   "source": [
    "df_pyspark4.printSchema()"
   ]
  },
  {
   "cell_type": "code",
   "execution_count": 56,
   "id": "0f5d22d8",
   "metadata": {},
   "outputs": [
    {
     "name": "stdout",
     "output_type": "stream",
     "text": [
      "+---------+-----------+\n",
      "|     Name|sum(salary)|\n",
      "+---------+-----------+\n",
      "|Sudhanshu|      35000|\n",
      "|    Sunny|      12000|\n",
      "|    Krish|      19000|\n",
      "|   Mahesh|       7000|\n",
      "+---------+-----------+\n",
      "\n"
     ]
    }
   ],
   "source": [
    "# Groupby\n",
    "\n",
    "df_pyspark4.groupBy('Name').sum().show()"
   ]
  },
  {
   "cell_type": "code",
   "execution_count": 60,
   "id": "020b9764",
   "metadata": {},
   "outputs": [
    {
     "name": "stdout",
     "output_type": "stream",
     "text": [
      "+------------+-----+\n",
      "| Departments|count|\n",
      "+------------+-----+\n",
      "|         IOT|    2|\n",
      "|    Big Data|    4|\n",
      "|Data Science|    4|\n",
      "+------------+-----+\n",
      "\n"
     ]
    }
   ],
   "source": [
    "df_pyspark4.groupBy('Departments').count().show()"
   ]
  },
  {
   "cell_type": "code",
   "execution_count": 61,
   "id": "1c9d9cfd",
   "metadata": {},
   "outputs": [
    {
     "name": "stdout",
     "output_type": "stream",
     "text": [
      "+-----------+\n",
      "|sum(Salary)|\n",
      "+-----------+\n",
      "|      73000|\n",
      "+-----------+\n",
      "\n"
     ]
    }
   ],
   "source": [
    "# Direct aggregate function\n",
    "\n",
    "df_pyspark4.agg({'Salary':'sum'}).show()"
   ]
  },
  {
   "cell_type": "markdown",
   "id": "2dcc6c93",
   "metadata": {},
   "source": [
    "## PySpark ML"
   ]
  },
  {
   "cell_type": "code",
   "execution_count": 101,
   "id": "bf9dca95",
   "metadata": {},
   "outputs": [
    {
     "name": "stdout",
     "output_type": "stream",
     "text": [
      "+---------+---+----------+------+\n",
      "|     Name|age|Experience|Salary|\n",
      "+---------+---+----------+------+\n",
      "|    Krish| 31|        10| 30000|\n",
      "|Sudhanshu| 30|         8| 25000|\n",
      "|    Sunny| 29|         4| 20000|\n",
      "|     Paul| 24|         3| 20000|\n",
      "|   Harsha| 21|         1| 15000|\n",
      "|  Shubham| 23|         2| 18000|\n",
      "+---------+---+----------+------+\n",
      "\n"
     ]
    }
   ],
   "source": [
    "training = spark.read.csv('test2.csv', header=True, inferSchema=True)\n",
    "training = training.na.drop(how='any')\n",
    "training.show()"
   ]
  },
  {
   "cell_type": "code",
   "execution_count": 89,
   "id": "42cd4138",
   "metadata": {},
   "outputs": [
    {
     "name": "stdout",
     "output_type": "stream",
     "text": [
      "root\n",
      " |-- Name: string (nullable = true)\n",
      " |-- age: integer (nullable = true)\n",
      " |-- Experience: integer (nullable = true)\n",
      " |-- Salary: integer (nullable = true)\n",
      "\n"
     ]
    }
   ],
   "source": [
    "training.printSchema()"
   ]
  },
  {
   "cell_type": "code",
   "execution_count": 90,
   "id": "5e425c79",
   "metadata": {},
   "outputs": [
    {
     "data": {
      "text/plain": [
       "['Name', 'age', 'Experience', 'Salary']"
      ]
     },
     "execution_count": 90,
     "metadata": {},
     "output_type": "execute_result"
    }
   ],
   "source": [
    "training.columns"
   ]
  },
  {
   "cell_type": "code",
   "execution_count": 91,
   "id": "8537993a",
   "metadata": {},
   "outputs": [],
   "source": [
    "from pyspark.ml.feature import VectorAssembler\n",
    "\n",
    "feature_assembler = VectorAssembler(inputCols=[\"age\", \"Experience\"], outputCol=\"Independent Features\")"
   ]
  },
  {
   "cell_type": "code",
   "execution_count": 92,
   "id": "e3dcfe6a",
   "metadata": {},
   "outputs": [],
   "source": [
    "output = feature_assembler.transform(training)"
   ]
  },
  {
   "cell_type": "code",
   "execution_count": 93,
   "id": "8361d7af",
   "metadata": {},
   "outputs": [
    {
     "name": "stdout",
     "output_type": "stream",
     "text": [
      "+---------+---+----------+------+--------------------+\n",
      "|     Name|age|Experience|Salary|Independent Features|\n",
      "+---------+---+----------+------+--------------------+\n",
      "|    Krish| 31|        10| 30000|         [31.0,10.0]|\n",
      "|Sudhanshu| 30|         8| 25000|          [30.0,8.0]|\n",
      "|    Sunny| 29|         4| 20000|          [29.0,4.0]|\n",
      "|     Paul| 24|         3| 20000|          [24.0,3.0]|\n",
      "|   Harsha| 21|         1| 15000|          [21.0,1.0]|\n",
      "|  Shubham| 23|         2| 18000|          [23.0,2.0]|\n",
      "+---------+---+----------+------+--------------------+\n",
      "\n"
     ]
    }
   ],
   "source": [
    "output.show()"
   ]
  },
  {
   "cell_type": "code",
   "execution_count": 74,
   "id": "d9ff511f",
   "metadata": {},
   "outputs": [
    {
     "data": {
      "text/plain": [
       "['Name', 'age', 'Experience', 'Salary', 'Independent Features']"
      ]
     },
     "execution_count": 74,
     "metadata": {},
     "output_type": "execute_result"
    }
   ],
   "source": [
    "output.columns"
   ]
  },
  {
   "cell_type": "code",
   "execution_count": 94,
   "id": "12582ec7",
   "metadata": {},
   "outputs": [],
   "source": [
    "finalized_data = output.select([\"Independent Features\", \"Salary\"])"
   ]
  },
  {
   "cell_type": "code",
   "execution_count": 95,
   "id": "3a4afaa5",
   "metadata": {},
   "outputs": [
    {
     "name": "stdout",
     "output_type": "stream",
     "text": [
      "+--------------------+------+\n",
      "|Independent Features|Salary|\n",
      "+--------------------+------+\n",
      "|         [31.0,10.0]| 30000|\n",
      "|          [30.0,8.0]| 25000|\n",
      "|          [29.0,4.0]| 20000|\n",
      "|          [24.0,3.0]| 20000|\n",
      "|          [21.0,1.0]| 15000|\n",
      "|          [23.0,2.0]| 18000|\n",
      "+--------------------+------+\n",
      "\n"
     ]
    }
   ],
   "source": [
    "finalized_data.show()"
   ]
  },
  {
   "cell_type": "code",
   "execution_count": 100,
   "id": "185395b5",
   "metadata": {},
   "outputs": [
    {
     "name": "stderr",
     "output_type": "stream",
     "text": [
      "23/09/16 19:59:24 WARN Instrumentation: [57e98014] regParam is zero, which might cause numerical instability and overfitting.\n"
     ]
    }
   ],
   "source": [
    "from pyspark.ml.regression import LinearRegression\n",
    "\n",
    "# Train test split\n",
    "train_data, test_data = finalized_data.randomSplit([0.75, 0.25])\n",
    "regressor = LinearRegression(featuresCol=\"Independent Features\", labelCol=\"Salary\")\n",
    "regressor = regressor.fit(train_data)"
   ]
  },
  {
   "cell_type": "code",
   "execution_count": 97,
   "id": "cc7b7006",
   "metadata": {},
   "outputs": [
    {
     "data": {
      "text/plain": [
       "DenseVector([-706.4673, 3550.3761])"
      ]
     },
     "execution_count": 97,
     "metadata": {},
     "output_type": "execute_result"
    }
   ],
   "source": [
    "regressor.coefficients"
   ]
  },
  {
   "cell_type": "code",
   "execution_count": 98,
   "id": "63f47b2d",
   "metadata": {},
   "outputs": [
    {
     "data": {
      "text/plain": [
       "26291.855982270346"
      ]
     },
     "execution_count": 98,
     "metadata": {},
     "output_type": "execute_result"
    }
   ],
   "source": [
    "regressor.intercept"
   ]
  },
  {
   "cell_type": "code",
   "execution_count": 99,
   "id": "41f1b200",
   "metadata": {},
   "outputs": [
    {
     "name": "stdout",
     "output_type": "stream",
     "text": [
      "+--------------------+------+------------------+\n",
      "|Independent Features|Salary|        prediction|\n",
      "+--------------------+------+------------------+\n",
      "|          [23.0,2.0]| 18000|17143.861340872107|\n",
      "|          [30.0,8.0]| 25000| 33500.84732581509|\n",
      "|         [31.0,10.0]| 30000| 39895.13232959475|\n",
      "+--------------------+------+------------------+\n",
      "\n"
     ]
    }
   ],
   "source": [
    "pred_results = regressor.evaluate(test_data)\n",
    "pred_results.predictions.show()"
   ]
  },
  {
   "cell_type": "code",
   "execution_count": null,
   "id": "88e64144",
   "metadata": {},
   "outputs": [],
   "source": [
    "# Performance metrics\n",
    "\n",
    "pred_results.r2, pred_results.meanAbsoluteError, pred_results.meanSquaredError"
   ]
  },
  {
   "cell_type": "markdown",
   "id": "0e6f3d66",
   "metadata": {},
   "source": [
    "-------"
   ]
  },
  {
   "cell_type": "markdown",
   "id": "959e984c",
   "metadata": {},
   "source": [
    "## Before Vector Assembler if applicable"
   ]
  },
  {
   "cell_type": "code",
   "execution_count": null,
   "id": "d1facb44",
   "metadata": {},
   "outputs": [],
   "source": [
    "## Handling categorical features\n",
    "from pyspark.ml.feature import StringIndexer # to convert string categorical features into numerical features\n",
    "\n",
    "indexer = StringIndexer(inputCols=['sex', 'smoker', 'day', 'time'], outputCols=['sex_indexed', 'smoker_indexed', 'day_indexed', 'time_indexed'])\n",
    "df_r = indexer.fit(df).transform(df)\n",
    "display(df_r)"
   ]
  },
  {
   "cell_type": "code",
   "execution_count": null,
   "id": "9a8f7c64",
   "metadata": {},
   "outputs": [],
   "source": []
  },
  {
   "cell_type": "code",
   "execution_count": 5,
   "id": "1e3d494f",
   "metadata": {},
   "outputs": [
    {
     "ename": "NameError",
     "evalue": "name 'spark' is not defined",
     "output_type": "error",
     "traceback": [
      "\u001b[0;31m---------------------------------------------------------------------------\u001b[0m",
      "\u001b[0;31mNameError\u001b[0m                                 Traceback (most recent call last)",
      "Cell \u001b[0;32mIn[5], line 1\u001b[0m\n\u001b[0;32m----> 1\u001b[0m spark\u001b[38;5;241m.\u001b[39mstop()\n",
      "\u001b[0;31mNameError\u001b[0m: name 'spark' is not defined"
     ]
    }
   ],
   "source": [
    "spark.stop()"
   ]
  },
  {
   "cell_type": "markdown",
   "id": "1fc0ee92",
   "metadata": {},
   "source": [
    "### Calculate the total number of unique words?"
   ]
  },
  {
   "cell_type": "code",
   "execution_count": 73,
   "id": "d6882799",
   "metadata": {},
   "outputs": [
    {
     "name": "stdout",
     "output_type": "stream",
     "text": [
      "[1, 4, 9, 16, 25]\n"
     ]
    }
   ],
   "source": [
    "# Parallelize method example\n",
    "numbers_list = [1, 2, 3, 4, 5]\n",
    "numbers_rdd = sc.parallelize(numbers_list)  # This will create an RDD\n",
    "squared_rdd = numbers_rdd.map(lambda x: x**2)  # This will square each element\n",
    "squared_list = squared_rdd.collect()  # This collects the results back to the driver\n",
    "print(squared_list)"
   ]
  },
  {
   "cell_type": "code",
   "execution_count": 44,
   "id": "c1a566cb",
   "metadata": {},
   "outputs": [],
   "source": [
    "# Open the text file in RDD mode\n",
    "line = sc.textFile(\"union-text.txt\");"
   ]
  },
  {
   "cell_type": "code",
   "execution_count": 45,
   "id": "d3053de3",
   "metadata": {},
   "outputs": [],
   "source": [
    "# Function that converts each line into words\n",
    "def toWords(line):\n",
    "    return line.split();\n",
    "\n",
    "# FlatMap Transformation\n",
    "words = line.flatMap(toWords);"
   ]
  },
  {
   "cell_type": "code",
   "execution_count": 47,
   "id": "c3d54264",
   "metadata": {},
   "outputs": [],
   "source": [
    "# Create a (key,value) pair for each word:\n",
    "def toTuple(word):\n",
    "    return (word, 1);\n",
    "\n",
    "wordsTuple = words.map(toTuple);"
   ]
  },
  {
   "cell_type": "code",
   "execution_count": 53,
   "id": "8d9f91a7",
   "metadata": {},
   "outputs": [],
   "source": [
    "# ReduceByKey()\n",
    "def sum(x, y):\n",
    "    return x+y\n",
    "\n",
    "counts = wordsTuple.reduceByKey(sum)"
   ]
  },
  {
   "cell_type": "code",
   "execution_count": 54,
   "id": "c8f80f34",
   "metadata": {},
   "outputs": [
    {
     "data": {
      "text/plain": [
       "[('Hello', 1)]"
      ]
     },
     "execution_count": 54,
     "metadata": {},
     "output_type": "execute_result"
    }
   ],
   "source": [
    "counts.collect()"
   ]
  },
  {
   "cell_type": "markdown",
   "id": "4f380c60",
   "metadata": {},
   "source": [
    "#### Map and Filter Transformations"
   ]
  },
  {
   "cell_type": "code",
   "execution_count": 32,
   "id": "8da7cde2",
   "metadata": {},
   "outputs": [],
   "source": [
    "sc = spark.sparkContext"
   ]
  },
  {
   "cell_type": "code",
   "execution_count": 33,
   "id": "720bcca9",
   "metadata": {},
   "outputs": [
    {
     "data": {
      "text/plain": [
       "[('b', 1), ('a', 1), ('c', 1)]"
      ]
     },
     "execution_count": 33,
     "metadata": {},
     "output_type": "execute_result"
    }
   ],
   "source": [
    "#  This line creates a new RDD from a local Python list [\"b\", \"a\", \"c\"]. \n",
    "# The sc.parallelize method is used to distribute the local data across the cluster \n",
    "# (or locally if you're running Spark in a local environment).\n",
    "rdd1 = sc.parallelize([\"b\", \"a\", \"c\"])\n",
    "\n",
    "#  This line collects the elements of the RDD from the Spark cluster and returns them to your local machine as a list.\n",
    "rdd1.collect()\n",
    "\n",
    "mapRdd = rdd1.map(lambda x: (x, 1))\n",
    "mapRdd.collect()"
   ]
  },
  {
   "cell_type": "code",
   "execution_count": 35,
   "id": "61321d85",
   "metadata": {},
   "outputs": [
    {
     "data": {
      "text/plain": [
       "['b', 1, 'a', 1, 'c', 1]"
      ]
     },
     "execution_count": 35,
     "metadata": {},
     "output_type": "execute_result"
    }
   ],
   "source": [
    "fmapRdd = rdd1.flatMap(lambda x: (x, 1))\n",
    "fmapRdd.collect()"
   ]
  },
  {
   "cell_type": "code",
   "execution_count": 36,
   "id": "11aca0f4",
   "metadata": {},
   "outputs": [
    {
     "data": {
      "text/plain": [
       "[2, 4]"
      ]
     },
     "execution_count": 36,
     "metadata": {},
     "output_type": "execute_result"
    }
   ],
   "source": [
    "rdd = sc.parallelize([1, 2, 3, 4, 5])\n",
    "filterRDD = rdd.filter(lambda x: x % 2 == 0)\n",
    "filterRDD.collect()"
   ]
  },
  {
   "cell_type": "markdown",
   "id": "62080aca",
   "metadata": {},
   "source": [
    "#### Union Transformation"
   ]
  },
  {
   "cell_type": "code",
   "execution_count": 37,
   "id": "650eb158",
   "metadata": {},
   "outputs": [
    {
     "data": {
      "text/plain": [
       "['Hello']"
      ]
     },
     "execution_count": 37,
     "metadata": {},
     "output_type": "execute_result"
    }
   ],
   "source": [
    "import os\n",
    "path = os.path.join(\"./\", \"union-text.txt\")\n",
    "with open(path, \"w\") as testFile:\n",
    "    testFile.write(\"Hello\")\n",
    "textFile = sc.textFile(path)\n",
    "textFile.collect()"
   ]
  },
  {
   "cell_type": "code",
   "execution_count": 38,
   "id": "2effe136",
   "metadata": {},
   "outputs": [
    {
     "data": {
      "text/plain": [
       "['Hello', 'World!']"
      ]
     },
     "execution_count": 38,
     "metadata": {},
     "output_type": "execute_result"
    }
   ],
   "source": [
    "parallelized = sc.parallelize([\"World!\"])\n",
    "sorted(sc.union([textFile, parallelized]).collect())"
   ]
  },
  {
   "cell_type": "markdown",
   "id": "19598109",
   "metadata": {},
   "source": [
    "## Wide Transformations"
   ]
  },
  {
   "cell_type": "markdown",
   "id": "ba965e4a",
   "metadata": {},
   "source": [
    "#### Intersection and Distinct Transformations"
   ]
  },
  {
   "cell_type": "code",
   "execution_count": 39,
   "id": "3ed6e0dc",
   "metadata": {},
   "outputs": [
    {
     "data": {
      "text/plain": [
       "[1, 2, 3]"
      ]
     },
     "execution_count": 39,
     "metadata": {},
     "output_type": "execute_result"
    }
   ],
   "source": [
    "# Intersection requires comparing elements across partitions to identify common elements, \n",
    "# thus necessitating a shuffle as elements from different partitions might need to be compared.\n",
    "\n",
    "rdd1 = sc.parallelize([1, 10, 2, 3, 4, 5])\n",
    "rdd2 = sc.parallelize([1, 6, 2, 3, 7, 8])\n",
    "rdd1.intersection(rdd2).collect()"
   ]
  },
  {
   "cell_type": "code",
   "execution_count": 40,
   "id": "3e0c674e",
   "metadata": {},
   "outputs": [
    {
     "data": {
      "text/plain": [
       "[1, 2, 3]"
      ]
     },
     "execution_count": 40,
     "metadata": {},
     "output_type": "execute_result"
    }
   ],
   "source": [
    "# It requires checking all partitions since duplicates could reside in different partitions, \n",
    "# thereby necessitating a shuffle to ensure that only unique elements are retained.\n",
    "sorted(sc.parallelize([1, 1, 2, 3]).distinct().collect())"
   ]
  },
  {
   "cell_type": "markdown",
   "id": "436c7c94",
   "metadata": {},
   "source": [
    "#### reduceByKey Transformation"
   ]
  },
  {
   "cell_type": "code",
   "execution_count": 55,
   "id": "55c9ba51",
   "metadata": {},
   "outputs": [
    {
     "data": {
      "text/plain": [
       "[('a', 2), ('b', 1)]"
      ]
     },
     "execution_count": 55,
     "metadata": {},
     "output_type": "execute_result"
    }
   ],
   "source": [
    "from operator import add\n",
    "rdd = sc.parallelize([(\"a\", 1), (\"b\", 1), (\"a\", 1)])\n",
    "sorted(rdd.reduceByKey(add).collect())"
   ]
  },
  {
   "cell_type": "markdown",
   "id": "200c15c6",
   "metadata": {},
   "source": [
    "#### Repartition Transformation (it results in roughly equal sized partitions)"
   ]
  },
  {
   "cell_type": "code",
   "execution_count": 60,
   "id": "2d069059",
   "metadata": {},
   "outputs": [
    {
     "data": {
      "text/plain": [
       "[1, 2, 3, 4, 5, 6, 7]"
      ]
     },
     "execution_count": 60,
     "metadata": {},
     "output_type": "execute_result"
    }
   ],
   "source": [
    "rdd = sc.parallelize([1,2,3,4,5,6,7], 4) # 4 partitions\n",
    "\n",
    "sorted(rdd.collect()) "
   ]
  },
  {
   "cell_type": "code",
   "execution_count": 57,
   "id": "893f6529",
   "metadata": {},
   "outputs": [
    {
     "data": {
      "text/plain": [
       "[[1], [2, 3], [4, 5], [6, 7]]"
      ]
     },
     "execution_count": 57,
     "metadata": {},
     "output_type": "execute_result"
    }
   ],
   "source": [
    "# Glom transforms each partition of the RDD into an array and returns a new RDD where each element is one of these arrays.\n",
    "sorted(rdd.glom().collect()) "
   ]
  },
  {
   "cell_type": "code",
   "execution_count": 61,
   "id": "56f0a1b0",
   "metadata": {},
   "outputs": [
    {
     "data": {
      "text/plain": [
       "2"
      ]
     },
     "execution_count": 61,
     "metadata": {},
     "output_type": "execute_result"
    }
   ],
   "source": [
    "len(rdd.repartition(2).glom().collect())"
   ]
  },
  {
   "cell_type": "code",
   "execution_count": 63,
   "id": "da4a5004",
   "metadata": {},
   "outputs": [
    {
     "data": {
      "text/plain": [
       "[[1, 2, 3], [4, 5, 6, 7]]"
      ]
     },
     "execution_count": 63,
     "metadata": {},
     "output_type": "execute_result"
    }
   ],
   "source": [
    "sorted(rdd.repartition(2).glom().collect())"
   ]
  },
  {
   "cell_type": "code",
   "execution_count": 64,
   "id": "e8da3664",
   "metadata": {},
   "outputs": [
    {
     "data": {
      "text/plain": [
       "10"
      ]
     },
     "execution_count": 64,
     "metadata": {},
     "output_type": "execute_result"
    }
   ],
   "source": [
    "len(rdd.repartition(10).glom().collect())"
   ]
  },
  {
   "cell_type": "markdown",
   "id": "4c8f3555",
   "metadata": {},
   "source": [
    "#### Coalesce Transformation"
   ]
  },
  {
   "cell_type": "code",
   "execution_count": 66,
   "id": "7080ba6f",
   "metadata": {},
   "outputs": [
    {
     "data": {
      "text/plain": [
       "[[1], [2, 3], [4, 5]]"
      ]
     },
     "execution_count": 66,
     "metadata": {},
     "output_type": "execute_result"
    }
   ],
   "source": [
    "sc.parallelize([1, 2, 3, 4, 5], 3).glom().collect()"
   ]
  },
  {
   "cell_type": "code",
   "execution_count": 75,
   "id": "c1ebf6f6",
   "metadata": {},
   "outputs": [
    {
     "data": {
      "text/plain": [
       "[[1, 2], [3, 4, 5, 6, 7]]"
      ]
     },
     "execution_count": 75,
     "metadata": {},
     "output_type": "execute_result"
    }
   ],
   "source": [
    "# Coalesce: Reduces to two partitions without extensive shuffling of data. \n",
    "# It's often used after filtering down a large dataset, \n",
    "# where there are many partitions with small amounts of data.\n",
    "sc.parallelize([1, 2, 3, 4, 5, 6, 7], 3).coalesce(2).glom().collect() "
   ]
  },
  {
   "cell_type": "code",
   "execution_count": 68,
   "id": "f24751e7",
   "metadata": {},
   "outputs": [
    {
     "data": {
      "text/plain": [
       "[[1, 2, 3], [4, 5, 6, 7]]"
      ]
     },
     "execution_count": 68,
     "metadata": {},
     "output_type": "execute_result"
    }
   ],
   "source": [
    "# Repartition: roughly equal sized partitions: data is fully shuffled and evenly distributed \n",
    "# across the specified number of partitions.\n",
    "# It's useful when you want to increase parallelism in processing or evenly distribute data across the cluster, \n",
    "# especially after a large transformation.\n",
    "sorted(rdd.repartition(2).glom().collect())"
   ]
  },
  {
   "cell_type": "markdown",
   "id": "ac9c6cf6",
   "metadata": {},
   "source": [
    "Unlike coalesce, repartition causes a full shuffle of the data, regardless of whether the number of partitions is being increased or decreased. This means it's more expensive in terms of computation and I/O."
   ]
  },
  {
   "cell_type": "markdown",
   "id": "4af1388d",
   "metadata": {},
   "source": [
    "Use coalesce when you need to reduce the number of partitions and want to minimize shuffling. Use repartition when you need to redistribute the data more evenly across the cluster, even if that means increasing the number of partitions, or when decreasing but you need a full shuffle for better data distribution."
   ]
  },
  {
   "cell_type": "code",
   "execution_count": null,
   "id": "d10a8681",
   "metadata": {},
   "outputs": [],
   "source": []
  },
  {
   "cell_type": "markdown",
   "id": "83040205",
   "metadata": {},
   "source": [
    "#### Reduce Transformation"
   ]
  },
  {
   "cell_type": "code",
   "execution_count": 69,
   "id": "fe180180",
   "metadata": {},
   "outputs": [
    {
     "data": {
      "text/plain": [
       "[20, 32, 45, 62, 8, 5]"
      ]
     },
     "execution_count": 69,
     "metadata": {},
     "output_type": "execute_result"
    }
   ],
   "source": [
    "rdd1 = spark.sparkContext.parallelize([20,32,45,62,8,5])\n",
    "rdd1.collect()"
   ]
  },
  {
   "cell_type": "code",
   "execution_count": 70,
   "id": "d902d5b4",
   "metadata": {},
   "outputs": [
    {
     "name": "stdout",
     "output_type": "stream",
     "text": [
      "172\n"
     ]
    }
   ],
   "source": [
    "# Sum of elements in this case \n",
    "value = rdd1.reduce(lambda a,b : (a+b))\n",
    "print(value)"
   ]
  },
  {
   "cell_type": "code",
   "execution_count": 71,
   "id": "ef4138f2",
   "metadata": {},
   "outputs": [
    {
     "data": {
      "text/plain": [
       "[62]"
      ]
     },
     "execution_count": 71,
     "metadata": {},
     "output_type": "execute_result"
    }
   ],
   "source": [
    "rdd1.top(1)"
   ]
  },
  {
   "cell_type": "code",
   "execution_count": 72,
   "id": "97b5596f",
   "metadata": {},
   "outputs": [
    {
     "name": "stdout",
     "output_type": "stream",
     "text": [
      "+--------+--------------------+---------------------+---------------+-------------+----------+------------------+------------+------------+------------+-----------+-----+-------+----------+------------+---------------------+------------+\n",
      "|VendorID|tpep_pickup_datetime|tpep_dropoff_datetime|passenger_count|trip_distance|RatecodeID|store_and_fwd_flag|PULocationID|DOLocationID|payment_type|fare_amount|extra|mta_tax|tip_amount|tolls_amount|improvement_surcharge|total_amount|\n",
      "+--------+--------------------+---------------------+---------------+-------------+----------+------------------+------------+------------+------------+-----------+-----+-------+----------+------------+---------------------+------------+\n",
      "|     1.0| 2017-07-01 00:06:25|  2017-07-01 00:10:50|            1.0|          1.2|       1.0|                 N|       249.0|        90.0|         1.0|        5.5|  0.5|    0.5|      1.35|         0.0|                  0.3|        8.15|\n",
      "|     1.0| 2017-07-01 00:20:04|  2017-07-01 00:21:38|            2.0|          0.2|       1.0|                 N|       249.0|       158.0|         2.0|        3.0|  0.5|    0.5|       0.0|         0.0|                  0.3|         4.3|\n",
      "|     1.0| 2017-07-01 00:44:10|  2017-07-01 00:59:29|            1.0|          4.3|       1.0|                 N|       100.0|        45.0|         1.0|       15.5|  0.5|    0.5|      3.35|         0.0|                  0.3|       20.15|\n",
      "|     1.0| 2017-07-01 00:07:33|  2017-07-01 00:31:30|            1.0|          8.3|       1.0|                 N|       138.0|       162.0|         1.0|       27.0|  0.5|    0.5|       6.8|        5.76|                  0.3|       40.86|\n",
      "|     1.0| 2017-07-01 00:01:17|  2017-07-01 00:16:18|            1.0|          1.9|       1.0|                 N|       107.0|       158.0|         1.0|       10.5|  0.5|    0.5|       0.0|         0.0|                  0.3|        11.8|\n",
      "+--------+--------------------+---------------------+---------------+-------------+----------+------------------+------------+------------+------------+-----------+-----+-------+----------+------------+---------------------+------------+\n",
      "only showing top 5 rows\n",
      "\n"
     ]
    }
   ],
   "source": [
    "# Read the Excel file into a Pandas DataFrame\n",
    "pandas_df = pd.read_excel('trip_yellow_taxi.xlsx')\n",
    "pandas_df = pandas_df.dropna(how='all')\n",
    "\n",
    "# Convert the Pandas DataFrame to a PySpark DataFrame\n",
    "spark_df = spark.createDataFrame(pandas_df)\n",
    "spark_df.show(5)"
   ]
  },
  {
   "cell_type": "code",
   "execution_count": 76,
   "id": "187ce8e0",
   "metadata": {},
   "outputs": [
    {
     "data": {
      "text/plain": [
       "24654"
      ]
     },
     "execution_count": 76,
     "metadata": {},
     "output_type": "execute_result"
    }
   ],
   "source": [
    "spark_df.count()"
   ]
  },
  {
   "cell_type": "code",
   "execution_count": 64,
   "id": "8f6bfa50",
   "metadata": {},
   "outputs": [
    {
     "data": {
      "text/plain": [
       "[Row(VendorID=1.0, tpep_pickup_datetime=datetime.datetime(2017, 7, 1, 0, 6, 25), tpep_dropoff_datetime=datetime.datetime(2017, 7, 1, 0, 10, 50), passenger_count=1.0, trip_distance=1.2, RatecodeID=1.0, store_and_fwd_flag='N', PULocationID=249.0, DOLocationID=90.0, payment_type=1.0, fare_amount=5.5, extra=0.5, mta_tax=0.5, tip_amount=1.35, tolls_amount=0.0, improvement_surcharge=0.3, total_amount=8.15),\n",
       " Row(VendorID=1.0, tpep_pickup_datetime=datetime.datetime(2017, 7, 1, 0, 20, 4), tpep_dropoff_datetime=datetime.datetime(2017, 7, 1, 0, 21, 38), passenger_count=2.0, trip_distance=0.2, RatecodeID=1.0, store_and_fwd_flag='N', PULocationID=249.0, DOLocationID=158.0, payment_type=2.0, fare_amount=3.0, extra=0.5, mta_tax=0.5, tip_amount=0.0, tolls_amount=0.0, improvement_surcharge=0.3, total_amount=4.3),\n",
       " Row(VendorID=1.0, tpep_pickup_datetime=datetime.datetime(2017, 7, 1, 0, 44, 10), tpep_dropoff_datetime=datetime.datetime(2017, 7, 1, 0, 59, 29), passenger_count=1.0, trip_distance=4.3, RatecodeID=1.0, store_and_fwd_flag='N', PULocationID=100.0, DOLocationID=45.0, payment_type=1.0, fare_amount=15.5, extra=0.5, mta_tax=0.5, tip_amount=3.35, tolls_amount=0.0, improvement_surcharge=0.3, total_amount=20.15),\n",
       " Row(VendorID=1.0, tpep_pickup_datetime=datetime.datetime(2017, 7, 1, 0, 7, 33), tpep_dropoff_datetime=datetime.datetime(2017, 7, 1, 0, 31, 30), passenger_count=1.0, trip_distance=8.3, RatecodeID=1.0, store_and_fwd_flag='N', PULocationID=138.0, DOLocationID=162.0, payment_type=1.0, fare_amount=27.0, extra=0.5, mta_tax=0.5, tip_amount=6.8, tolls_amount=5.76, improvement_surcharge=0.3, total_amount=40.86),\n",
       " Row(VendorID=1.0, tpep_pickup_datetime=datetime.datetime(2017, 7, 1, 0, 1, 17), tpep_dropoff_datetime=datetime.datetime(2017, 7, 1, 0, 16, 18), passenger_count=1.0, trip_distance=1.9, RatecodeID=1.0, store_and_fwd_flag='N', PULocationID=107.0, DOLocationID=158.0, payment_type=1.0, fare_amount=10.5, extra=0.5, mta_tax=0.5, tip_amount=0.0, tolls_amount=0.0, improvement_surcharge=0.3, total_amount=11.8),\n",
       " Row(VendorID=1.0, tpep_pickup_datetime=datetime.datetime(2017, 7, 1, 0, 23, 32), tpep_dropoff_datetime=datetime.datetime(2017, 7, 1, 0, 43, 23), passenger_count=2.0, trip_distance=4.7, RatecodeID=1.0, store_and_fwd_flag='N', PULocationID=158.0, DOLocationID=263.0, payment_type=1.0, fare_amount=17.0, extra=0.5, mta_tax=0.5, tip_amount=3.0, tolls_amount=0.0, improvement_surcharge=0.3, total_amount=21.3),\n",
       " Row(VendorID=1.0, tpep_pickup_datetime=datetime.datetime(2017, 7, 1, 0, 30, 49), tpep_dropoff_datetime=datetime.datetime(2017, 7, 1, 0, 46, 56), passenger_count=3.0, trip_distance=2.3, RatecodeID=1.0, store_and_fwd_flag='N', PULocationID=246.0, DOLocationID=162.0, payment_type=1.0, fare_amount=12.0, extra=0.5, mta_tax=0.5, tip_amount=2.65, tolls_amount=0.0, improvement_surcharge=0.3, total_amount=15.95),\n",
       " Row(VendorID=1.0, tpep_pickup_datetime=datetime.datetime(2017, 7, 1, 0, 4, 21), tpep_dropoff_datetime=datetime.datetime(2017, 7, 1, 0, 25, 37), passenger_count=1.0, trip_distance=5.4, RatecodeID=1.0, store_and_fwd_flag='N', PULocationID=17.0, DOLocationID=90.0, payment_type=1.0, fare_amount=19.0, extra=0.5, mta_tax=0.5, tip_amount=2.0, tolls_amount=0.0, improvement_surcharge=0.3, total_amount=22.3),\n",
       " Row(VendorID=2.0, tpep_pickup_datetime=datetime.datetime(2017, 10, 1, 0, 15, 30), tpep_dropoff_datetime=datetime.datetime(2017, 10, 1, 0, 25, 11), passenger_count=1.0, trip_distance=2.17, RatecodeID=1.0, store_and_fwd_flag='N', PULocationID=141.0, DOLocationID=142.0, payment_type=1.0, fare_amount=9.0, extra=0.5, mta_tax=0.5, tip_amount=2.06, tolls_amount=0.0, improvement_surcharge=0.3, total_amount=12.36),\n",
       " Row(VendorID=1.0, tpep_pickup_datetime=datetime.datetime(2017, 12, 1, 0, 1, 46), tpep_dropoff_datetime=datetime.datetime(2017, 12, 1, 0, 12, 19), passenger_count=1.0, trip_distance=1.9, RatecodeID=1.0, store_and_fwd_flag='N', PULocationID=161.0, DOLocationID=107.0, payment_type=1.0, fare_amount=9.0, extra=0.5, mta_tax=0.5, tip_amount=2.05, tolls_amount=0.0, improvement_surcharge=0.3, total_amount=12.35),\n",
       " Row(VendorID=1.0, tpep_pickup_datetime=datetime.datetime(2017, 12, 1, 0, 17, 52), tpep_dropoff_datetime=datetime.datetime(2017, 12, 1, 0, 32, 35), passenger_count=1.0, trip_distance=3.3, RatecodeID=1.0, store_and_fwd_flag='N', PULocationID=107.0, DOLocationID=263.0, payment_type=1.0, fare_amount=12.5, extra=0.5, mta_tax=0.5, tip_amount=2.07, tolls_amount=0.0, improvement_surcharge=0.3, total_amount=15.87),\n",
       " Row(VendorID=1.0, tpep_pickup_datetime=datetime.datetime(2017, 12, 1, 0, 10), tpep_dropoff_datetime=datetime.datetime(2017, 12, 1, 0, 24, 35), passenger_count=1.0, trip_distance=2.8, RatecodeID=1.0, store_and_fwd_flag='N', PULocationID=264.0, DOLocationID=87.0, payment_type=1.0, fare_amount=12.0, extra=0.5, mta_tax=0.5, tip_amount=2.65, tolls_amount=0.0, improvement_surcharge=0.3, total_amount=15.95),\n",
       " Row(VendorID=1.0, tpep_pickup_datetime=datetime.datetime(2017, 12, 1, 0, 3, 14), tpep_dropoff_datetime=datetime.datetime(2017, 12, 1, 0, 30, 47), passenger_count=1.0, trip_distance=10.3, RatecodeID=1.0, store_and_fwd_flag='N', PULocationID=138.0, DOLocationID=237.0, payment_type=1.0, fare_amount=32.0, extra=0.5, mta_tax=0.5, tip_amount=7.8, tolls_amount=5.76, improvement_surcharge=0.3, total_amount=46.86),\n",
       " Row(VendorID=1.0, tpep_pickup_datetime=datetime.datetime(2017, 12, 1, 0, 9, 32), tpep_dropoff_datetime=datetime.datetime(2017, 12, 1, 0, 30, 5), passenger_count=1.0, trip_distance=2.8, RatecodeID=1.0, store_and_fwd_flag='N', PULocationID=163.0, DOLocationID=186.0, payment_type=1.0, fare_amount=14.5, extra=0.5, mta_tax=0.5, tip_amount=3.15, tolls_amount=0.0, improvement_surcharge=0.3, total_amount=18.95),\n",
       " Row(VendorID=1.0, tpep_pickup_datetime=datetime.datetime(2017, 12, 1, 0, 59, 12), tpep_dropoff_datetime=datetime.datetime(2017, 12, 1, 1, 12, 14), passenger_count=1.0, trip_distance=2.1, RatecodeID=1.0, store_and_fwd_flag='N', PULocationID=48.0, DOLocationID=143.0, payment_type=1.0, fare_amount=10.5, extra=0.5, mta_tax=0.5, tip_amount=2.0, tolls_amount=0.0, improvement_surcharge=0.3, total_amount=13.8),\n",
       " Row(VendorID=1.0, tpep_pickup_datetime=datetime.datetime(2017, 12, 1, 0, 19, 44), tpep_dropoff_datetime=datetime.datetime(2017, 12, 1, 0, 57, 47), passenger_count=1.0, trip_distance=8.2, RatecodeID=1.0, store_and_fwd_flag='N', PULocationID=246.0, DOLocationID=129.0, payment_type=1.0, fare_amount=30.0, extra=0.5, mta_tax=0.5, tip_amount=1.0, tolls_amount=0.0, improvement_surcharge=0.3, total_amount=32.3),\n",
       " Row(VendorID=2.0, tpep_pickup_datetime=datetime.datetime(2017, 12, 1, 0, 29, 29), tpep_dropoff_datetime=datetime.datetime(2017, 12, 1, 0, 41, 52), passenger_count=1.0, trip_distance=2.36, RatecodeID=1.0, store_and_fwd_flag='N', PULocationID=238.0, DOLocationID=42.0, payment_type=1.0, fare_amount=11.0, extra=0.5, mta_tax=0.5, tip_amount=3.08, tolls_amount=0.0, improvement_surcharge=0.3, total_amount=15.38),\n",
       " Row(VendorID=1.0, tpep_pickup_datetime=datetime.datetime(2017, 12, 1, 0, 23, 34), tpep_dropoff_datetime=datetime.datetime(2017, 12, 1, 0, 39), passenger_count=1.0, trip_distance=3.2, RatecodeID=1.0, store_and_fwd_flag='N', PULocationID=229.0, DOLocationID=148.0, payment_type=1.0, fare_amount=13.0, extra=0.5, mta_tax=0.5, tip_amount=2.85, tolls_amount=0.0, improvement_surcharge=0.3, total_amount=17.15),\n",
       " Row(VendorID=1.0, tpep_pickup_datetime=datetime.datetime(2017, 12, 1, 0, 43, 8), tpep_dropoff_datetime=datetime.datetime(2017, 12, 1, 1, 3, 39), passenger_count=1.0, trip_distance=5.3, RatecodeID=1.0, store_and_fwd_flag='N', PULocationID=148.0, DOLocationID=262.0, payment_type=1.0, fare_amount=20.0, extra=0.5, mta_tax=0.5, tip_amount=3.0, tolls_amount=0.0, improvement_surcharge=0.3, total_amount=24.3),\n",
       " Row(VendorID=2.0, tpep_pickup_datetime=datetime.datetime(2017, 12, 1, 0, 0, 54), tpep_dropoff_datetime=datetime.datetime(2017, 12, 1, 0, 6, 24), passenger_count=1.0, trip_distance=1.38, RatecodeID=1.0, store_and_fwd_flag='N', PULocationID=236.0, DOLocationID=141.0, payment_type=1.0, fare_amount=6.5, extra=0.5, mta_tax=0.5, tip_amount=1.0, tolls_amount=0.0, improvement_surcharge=0.3, total_amount=8.8),\n",
       " Row(VendorID=2.0, tpep_pickup_datetime=datetime.datetime(2017, 12, 1, 0, 25, 4), tpep_dropoff_datetime=datetime.datetime(2017, 12, 1, 0, 32, 44), passenger_count=1.0, trip_distance=1.99, RatecodeID=1.0, store_and_fwd_flag='N', PULocationID=229.0, DOLocationID=263.0, payment_type=1.0, fare_amount=8.0, extra=0.5, mta_tax=0.5, tip_amount=1.7, tolls_amount=0.0, improvement_surcharge=0.3, total_amount=11.0),\n",
       " Row(VendorID=2.0, tpep_pickup_datetime=datetime.datetime(2017, 12, 1, 0, 32, 29), tpep_dropoff_datetime=datetime.datetime(2017, 12, 1, 0, 51, 7), passenger_count=1.0, trip_distance=4.55, RatecodeID=1.0, store_and_fwd_flag='N', PULocationID=161.0, DOLocationID=179.0, payment_type=1.0, fare_amount=17.0, extra=0.5, mta_tax=0.5, tip_amount=3.66, tolls_amount=0.0, improvement_surcharge=0.3, total_amount=21.96),\n",
       " Row(VendorID=2.0, tpep_pickup_datetime=datetime.datetime(2017, 12, 1, 0, 28, 27), tpep_dropoff_datetime=datetime.datetime(2017, 12, 1, 0, 44, 7), passenger_count=2.0, trip_distance=2.49, RatecodeID=1.0, store_and_fwd_flag='N', PULocationID=231.0, DOLocationID=107.0, payment_type=1.0, fare_amount=12.0, extra=0.5, mta_tax=0.5, tip_amount=2.66, tolls_amount=0.0, improvement_surcharge=0.3, total_amount=15.96),\n",
       " Row(VendorID=1.0, tpep_pickup_datetime=datetime.datetime(2017, 12, 1, 0, 6), tpep_dropoff_datetime=datetime.datetime(2017, 12, 1, 0, 23, 51), passenger_count=1.0, trip_distance=5.2, RatecodeID=1.0, store_and_fwd_flag='N', PULocationID=170.0, DOLocationID=166.0, payment_type=1.0, fare_amount=17.5, extra=0.5, mta_tax=0.5, tip_amount=3.75, tolls_amount=0.0, improvement_surcharge=0.3, total_amount=22.55),\n",
       " Row(VendorID=1.0, tpep_pickup_datetime=datetime.datetime(2017, 12, 1, 0, 31, 7), tpep_dropoff_datetime=datetime.datetime(2017, 12, 1, 0, 50, 44), passenger_count=1.0, trip_distance=6.8, RatecodeID=1.0, store_and_fwd_flag='N', PULocationID=140.0, DOLocationID=255.0, payment_type=1.0, fare_amount=22.5, extra=0.5, mta_tax=0.5, tip_amount=4.75, tolls_amount=0.0, improvement_surcharge=0.3, total_amount=28.55),\n",
       " Row(VendorID=1.0, tpep_pickup_datetime=datetime.datetime(2017, 12, 1, 0, 58, 30), tpep_dropoff_datetime=datetime.datetime(2017, 12, 1, 1, 9, 15), passenger_count=1.0, trip_distance=3.3, RatecodeID=1.0, store_and_fwd_flag='N', PULocationID=148.0, DOLocationID=162.0, payment_type=1.0, fare_amount=11.5, extra=0.5, mta_tax=0.5, tip_amount=2.55, tolls_amount=0.0, improvement_surcharge=0.3, total_amount=15.35),\n",
       " Row(VendorID=1.0, tpep_pickup_datetime=datetime.datetime(2017, 12, 1, 0, 6, 17), tpep_dropoff_datetime=datetime.datetime(2017, 12, 1, 0, 20, 51), passenger_count=1.0, trip_distance=2.2, RatecodeID=1.0, store_and_fwd_flag='N', PULocationID=164.0, DOLocationID=142.0, payment_type=1.0, fare_amount=11.0, extra=0.5, mta_tax=0.5, tip_amount=3.65, tolls_amount=0.0, improvement_surcharge=0.3, total_amount=15.95),\n",
       " Row(VendorID=1.0, tpep_pickup_datetime=datetime.datetime(2017, 12, 1, 0, 36, 20), tpep_dropoff_datetime=datetime.datetime(2017, 12, 1, 0, 40, 53), passenger_count=1.0, trip_distance=0.5, RatecodeID=1.0, store_and_fwd_flag='N', PULocationID=162.0, DOLocationID=229.0, payment_type=1.0, fare_amount=5.0, extra=0.5, mta_tax=0.5, tip_amount=5.0, tolls_amount=0.0, improvement_surcharge=0.3, total_amount=11.3),\n",
       " Row(VendorID=2.0, tpep_pickup_datetime=datetime.datetime(2017, 12, 1, 0, 35), tpep_dropoff_datetime=datetime.datetime(2017, 12, 1, 0, 41, 24), passenger_count=1.0, trip_distance=0.99, RatecodeID=1.0, store_and_fwd_flag='N', PULocationID=100.0, DOLocationID=163.0, payment_type=1.0, fare_amount=6.0, extra=0.5, mta_tax=0.5, tip_amount=2.0, tolls_amount=0.0, improvement_surcharge=0.3, total_amount=9.3),\n",
       " Row(VendorID=1.0, tpep_pickup_datetime=datetime.datetime(2017, 12, 1, 0, 51, 23), tpep_dropoff_datetime=datetime.datetime(2017, 12, 1, 1, 6, 12), passenger_count=1.0, trip_distance=3.5, RatecodeID=1.0, store_and_fwd_flag='N', PULocationID=238.0, DOLocationID=244.0, payment_type=1.0, fare_amount=14.0, extra=0.5, mta_tax=0.5, tip_amount=2.0, tolls_amount=0.0, improvement_surcharge=0.3, total_amount=17.3),\n",
       " Row(VendorID=1.0, tpep_pickup_datetime=datetime.datetime(2017, 12, 1, 0, 14, 53), tpep_dropoff_datetime=datetime.datetime(2017, 12, 1, 0, 31, 33), passenger_count=1.0, trip_distance=3.2, RatecodeID=1.0, store_and_fwd_flag='N', PULocationID=231.0, DOLocationID=107.0, payment_type=1.0, fare_amount=13.5, extra=0.5, mta_tax=0.5, tip_amount=2.0, tolls_amount=0.0, improvement_surcharge=0.3, total_amount=16.8),\n",
       " Row(VendorID=1.0, tpep_pickup_datetime=datetime.datetime(2017, 12, 1, 0, 13, 54), tpep_dropoff_datetime=datetime.datetime(2017, 12, 1, 0, 20, 21), passenger_count=1.0, trip_distance=1.6, RatecodeID=1.0, store_and_fwd_flag='N', PULocationID=249.0, DOLocationID=231.0, payment_type=1.0, fare_amount=7.0, extra=0.5, mta_tax=0.5, tip_amount=1.65, tolls_amount=0.0, improvement_surcharge=0.3, total_amount=9.95),\n",
       " Row(VendorID=1.0, tpep_pickup_datetime=datetime.datetime(2017, 12, 1, 0, 28, 35), tpep_dropoff_datetime=datetime.datetime(2017, 12, 1, 0, 34, 6), passenger_count=2.0, trip_distance=1.5, RatecodeID=1.0, store_and_fwd_flag='N', PULocationID=125.0, DOLocationID=90.0, payment_type=1.0, fare_amount=6.5, extra=0.5, mta_tax=0.5, tip_amount=1.0, tolls_amount=0.0, improvement_surcharge=0.3, total_amount=8.8),\n",
       " Row(VendorID=1.0, tpep_pickup_datetime=datetime.datetime(2017, 12, 1, 0, 38, 33), tpep_dropoff_datetime=datetime.datetime(2017, 12, 1, 0, 53, 37), passenger_count=2.0, trip_distance=5.1, RatecodeID=1.0, store_and_fwd_flag='N', PULocationID=186.0, DOLocationID=166.0, payment_type=1.0, fare_amount=16.5, extra=0.5, mta_tax=0.5, tip_amount=3.55, tolls_amount=0.0, improvement_surcharge=0.3, total_amount=21.35),\n",
       " Row(VendorID=2.0, tpep_pickup_datetime=datetime.datetime(2017, 12, 1, 0, 14, 19), tpep_dropoff_datetime=datetime.datetime(2017, 12, 1, 0, 21, 32), passenger_count=1.0, trip_distance=1.07, RatecodeID=1.0, store_and_fwd_flag='N', PULocationID=48.0, DOLocationID=142.0, payment_type=1.0, fare_amount=6.5, extra=0.5, mta_tax=0.5, tip_amount=1.56, tolls_amount=0.0, improvement_surcharge=0.3, total_amount=9.36),\n",
       " Row(VendorID=1.0, tpep_pickup_datetime=datetime.datetime(2017, 12, 1, 0, 30, 51), tpep_dropoff_datetime=datetime.datetime(2017, 12, 1, 0, 36, 41), passenger_count=1.0, trip_distance=1.6, RatecodeID=1.0, store_and_fwd_flag='N', PULocationID=142.0, DOLocationID=239.0, payment_type=1.0, fare_amount=7.0, extra=0.5, mta_tax=0.5, tip_amount=1.65, tolls_amount=0.0, improvement_surcharge=0.3, total_amount=9.95),\n",
       " Row(VendorID=1.0, tpep_pickup_datetime=datetime.datetime(2017, 12, 1, 0, 46, 29), tpep_dropoff_datetime=datetime.datetime(2017, 12, 1, 1, 12, 26), passenger_count=1.0, trip_distance=5.9, RatecodeID=1.0, store_and_fwd_flag='N', PULocationID=163.0, DOLocationID=80.0, payment_type=1.0, fare_amount=22.0, extra=0.5, mta_tax=0.5, tip_amount=3.0, tolls_amount=0.0, improvement_surcharge=0.3, total_amount=26.3),\n",
       " Row(VendorID=1.0, tpep_pickup_datetime=datetime.datetime(2017, 12, 1, 0, 24, 35), tpep_dropoff_datetime=datetime.datetime(2017, 12, 1, 0, 26, 48), passenger_count=1.0, trip_distance=0.9, RatecodeID=1.0, store_and_fwd_flag='N', PULocationID=74.0, DOLocationID=263.0, payment_type=1.0, fare_amount=4.5, extra=0.5, mta_tax=0.5, tip_amount=1.15, tolls_amount=0.0, improvement_surcharge=0.3, total_amount=6.95),\n",
       " Row(VendorID=1.0, tpep_pickup_datetime=datetime.datetime(2017, 12, 1, 0, 30, 20), tpep_dropoff_datetime=datetime.datetime(2017, 12, 1, 0, 34, 36), passenger_count=1.0, trip_distance=1.5, RatecodeID=1.0, store_and_fwd_flag='N', PULocationID=263.0, DOLocationID=229.0, payment_type=1.0, fare_amount=6.0, extra=0.5, mta_tax=0.5, tip_amount=2.15, tolls_amount=0.0, improvement_surcharge=0.3, total_amount=9.45),\n",
       " Row(VendorID=1.0, tpep_pickup_datetime=datetime.datetime(2017, 12, 1, 0, 46, 18), tpep_dropoff_datetime=datetime.datetime(2017, 12, 1, 0, 59, 27), passenger_count=1.0, trip_distance=4.0, RatecodeID=1.0, store_and_fwd_flag='N', PULocationID=137.0, DOLocationID=43.0, payment_type=1.0, fare_amount=13.5, extra=0.5, mta_tax=0.5, tip_amount=3.7, tolls_amount=0.0, improvement_surcharge=0.3, total_amount=18.5),\n",
       " Row(VendorID=2.0, tpep_pickup_datetime=datetime.datetime(2017, 12, 1, 0, 48, 2), tpep_dropoff_datetime=datetime.datetime(2017, 12, 1, 0, 54, 22), passenger_count=2.0, trip_distance=1.78, RatecodeID=1.0, store_and_fwd_flag='N', PULocationID=48.0, DOLocationID=249.0, payment_type=1.0, fare_amount=7.5, extra=0.5, mta_tax=0.5, tip_amount=1.0, tolls_amount=0.0, improvement_surcharge=0.3, total_amount=9.8),\n",
       " Row(VendorID=2.0, tpep_pickup_datetime=datetime.datetime(2017, 12, 1, 0, 56, 16), tpep_dropoff_datetime=datetime.datetime(2017, 12, 1, 1, 1, 38), passenger_count=2.0, trip_distance=0.99, RatecodeID=1.0, store_and_fwd_flag='N', PULocationID=249.0, DOLocationID=107.0, payment_type=1.0, fare_amount=5.5, extra=0.5, mta_tax=0.5, tip_amount=1.36, tolls_amount=0.0, improvement_surcharge=0.3, total_amount=8.16),\n",
       " Row(VendorID=1.0, tpep_pickup_datetime=datetime.datetime(2017, 12, 1, 0, 23, 52), tpep_dropoff_datetime=datetime.datetime(2017, 12, 1, 0, 32, 40), passenger_count=2.0, trip_distance=1.8, RatecodeID=1.0, store_and_fwd_flag='N', PULocationID=229.0, DOLocationID=107.0, payment_type=1.0, fare_amount=8.0, extra=0.5, mta_tax=0.5, tip_amount=1.85, tolls_amount=0.0, improvement_surcharge=0.3, total_amount=11.15),\n",
       " Row(VendorID=1.0, tpep_pickup_datetime=datetime.datetime(2017, 12, 1, 0, 5, 47), tpep_dropoff_datetime=datetime.datetime(2017, 12, 1, 0, 42, 38), passenger_count=1.0, trip_distance=18.9, RatecodeID=1.0, store_and_fwd_flag='N', PULocationID=132.0, DOLocationID=40.0, payment_type=1.0, fare_amount=52.0, extra=0.5, mta_tax=0.5, tip_amount=10.65, tolls_amount=0.0, improvement_surcharge=0.3, total_amount=63.95),\n",
       " Row(VendorID=1.0, tpep_pickup_datetime=datetime.datetime(2017, 12, 1, 0, 23, 49), tpep_dropoff_datetime=datetime.datetime(2017, 12, 1, 0, 36, 45), passenger_count=1.0, trip_distance=2.3, RatecodeID=1.0, store_and_fwd_flag='N', PULocationID=170.0, DOLocationID=114.0, payment_type=1.0, fare_amount=10.5, extra=0.5, mta_tax=0.5, tip_amount=2.35, tolls_amount=0.0, improvement_surcharge=0.3, total_amount=14.15),\n",
       " Row(VendorID=1.0, tpep_pickup_datetime=datetime.datetime(2017, 12, 1, 0, 17, 48), tpep_dropoff_datetime=datetime.datetime(2017, 12, 1, 0, 44, 40), passenger_count=1.0, trip_distance=6.9, RatecodeID=1.0, store_and_fwd_flag='N', PULocationID=158.0, DOLocationID=226.0, payment_type=1.0, fare_amount=24.0, extra=0.5, mta_tax=0.5, tip_amount=6.3, tolls_amount=0.0, improvement_surcharge=0.3, total_amount=31.6),\n",
       " Row(VendorID=1.0, tpep_pickup_datetime=datetime.datetime(2017, 12, 1, 0, 16, 42), tpep_dropoff_datetime=datetime.datetime(2017, 12, 1, 0, 27, 39), passenger_count=1.0, trip_distance=1.7, RatecodeID=1.0, store_and_fwd_flag='N', PULocationID=186.0, DOLocationID=114.0, payment_type=1.0, fare_amount=9.0, extra=0.5, mta_tax=0.5, tip_amount=2.05, tolls_amount=0.0, improvement_surcharge=0.3, total_amount=12.35),\n",
       " Row(VendorID=1.0, tpep_pickup_datetime=datetime.datetime(2017, 12, 1, 0, 59, 45), tpep_dropoff_datetime=datetime.datetime(2017, 12, 1, 1, 29, 28), passenger_count=1.0, trip_distance=10.3, RatecodeID=1.0, store_and_fwd_flag='N', PULocationID=114.0, DOLocationID=243.0, payment_type=1.0, fare_amount=32.5, extra=0.5, mta_tax=0.5, tip_amount=6.75, tolls_amount=0.0, improvement_surcharge=0.3, total_amount=40.55),\n",
       " Row(VendorID=1.0, tpep_pickup_datetime=datetime.datetime(2017, 12, 1, 0, 39, 56), tpep_dropoff_datetime=datetime.datetime(2017, 12, 1, 0, 49, 10), passenger_count=2.0, trip_distance=1.6, RatecodeID=1.0, store_and_fwd_flag='N', PULocationID=249.0, DOLocationID=144.0, payment_type=1.0, fare_amount=8.5, extra=0.5, mta_tax=0.5, tip_amount=1.2, tolls_amount=0.0, improvement_surcharge=0.3, total_amount=11.0),\n",
       " Row(VendorID=2.0, tpep_pickup_datetime=datetime.datetime(2017, 12, 1, 0, 17, 45), tpep_dropoff_datetime=datetime.datetime(2017, 12, 1, 0, 24, 11), passenger_count=1.0, trip_distance=2.37, RatecodeID=1.0, store_and_fwd_flag='N', PULocationID=142.0, DOLocationID=151.0, payment_type=1.0, fare_amount=8.5, extra=0.5, mta_tax=0.5, tip_amount=1.96, tolls_amount=0.0, improvement_surcharge=0.3, total_amount=11.76),\n",
       " Row(VendorID=1.0, tpep_pickup_datetime=datetime.datetime(2017, 12, 1, 0, 33, 36), tpep_dropoff_datetime=datetime.datetime(2017, 12, 1, 0, 37, 16), passenger_count=1.0, trip_distance=0.7, RatecodeID=1.0, store_and_fwd_flag='N', PULocationID=17.0, DOLocationID=61.0, payment_type=1.0, fare_amount=4.5, extra=0.5, mta_tax=0.5, tip_amount=1.15, tolls_amount=0.0, improvement_surcharge=0.3, total_amount=6.95),\n",
       " Row(VendorID=1.0, tpep_pickup_datetime=datetime.datetime(2017, 12, 1, 0, 23, 6), tpep_dropoff_datetime=datetime.datetime(2017, 12, 1, 0, 35, 15), passenger_count=2.0, trip_distance=1.2, RatecodeID=1.0, store_and_fwd_flag='N', PULocationID=170.0, DOLocationID=170.0, payment_type=1.0, fare_amount=9.0, extra=0.5, mta_tax=0.5, tip_amount=1.0, tolls_amount=0.0, improvement_surcharge=0.3, total_amount=11.3),\n",
       " Row(VendorID=2.0, tpep_pickup_datetime=datetime.datetime(2017, 12, 1, 0, 54, 18), tpep_dropoff_datetime=datetime.datetime(2017, 12, 1, 0, 59, 34), passenger_count=5.0, trip_distance=1.26, RatecodeID=1.0, store_and_fwd_flag='N', PULocationID=233.0, DOLocationID=229.0, payment_type=1.0, fare_amount=6.0, extra=0.5, mta_tax=0.5, tip_amount=1.46, tolls_amount=0.0, improvement_surcharge=0.3, total_amount=8.76),\n",
       " Row(VendorID=1.0, tpep_pickup_datetime=datetime.datetime(2017, 12, 1, 0, 46, 23), tpep_dropoff_datetime=datetime.datetime(2017, 12, 1, 0, 47, 41), passenger_count=1.0, trip_distance=0.5, RatecodeID=1.0, store_and_fwd_flag='N', PULocationID=68.0, DOLocationID=68.0, payment_type=1.0, fare_amount=3.5, extra=0.5, mta_tax=0.5, tip_amount=0.95, tolls_amount=0.0, improvement_surcharge=0.3, total_amount=5.75),\n",
       " Row(VendorID=1.0, tpep_pickup_datetime=datetime.datetime(2017, 12, 1, 0, 4, 18), tpep_dropoff_datetime=datetime.datetime(2017, 12, 1, 0, 9, 43), passenger_count=1.0, trip_distance=1.1, RatecodeID=1.0, store_and_fwd_flag='N', PULocationID=162.0, DOLocationID=237.0, payment_type=1.0, fare_amount=6.0, extra=0.5, mta_tax=0.5, tip_amount=1.45, tolls_amount=0.0, improvement_surcharge=0.3, total_amount=8.75),\n",
       " Row(VendorID=1.0, tpep_pickup_datetime=datetime.datetime(2017, 12, 1, 0, 44, 41), tpep_dropoff_datetime=datetime.datetime(2017, 12, 1, 0, 50, 9), passenger_count=1.0, trip_distance=1.0, RatecodeID=1.0, store_and_fwd_flag='N', PULocationID=140.0, DOLocationID=262.0, payment_type=1.0, fare_amount=6.0, extra=0.5, mta_tax=0.5, tip_amount=1.0, tolls_amount=0.0, improvement_surcharge=0.3, total_amount=8.3),\n",
       " Row(VendorID=1.0, tpep_pickup_datetime=datetime.datetime(2017, 12, 1, 0, 11, 37), tpep_dropoff_datetime=datetime.datetime(2017, 12, 1, 0, 22, 11), passenger_count=1.0, trip_distance=1.5, RatecodeID=1.0, store_and_fwd_flag='N', PULocationID=140.0, DOLocationID=43.0, payment_type=1.0, fare_amount=9.0, extra=0.5, mta_tax=0.5, tip_amount=2.05, tolls_amount=0.0, improvement_surcharge=0.3, total_amount=12.35),\n",
       " Row(VendorID=2.0, tpep_pickup_datetime=datetime.datetime(2017, 12, 1, 0, 27, 8), tpep_dropoff_datetime=datetime.datetime(2017, 12, 1, 0, 35, 7), passenger_count=1.0, trip_distance=2.86, RatecodeID=1.0, store_and_fwd_flag='N', PULocationID=166.0, DOLocationID=244.0, payment_type=1.0, fare_amount=10.0, extra=0.5, mta_tax=0.5, tip_amount=2.26, tolls_amount=0.0, improvement_surcharge=0.3, total_amount=13.56),\n",
       " Row(VendorID=2.0, tpep_pickup_datetime=datetime.datetime(2017, 12, 1, 0, 17, 12), tpep_dropoff_datetime=datetime.datetime(2017, 12, 1, 0, 45, 12), passenger_count=2.0, trip_distance=5.32, RatecodeID=1.0, store_and_fwd_flag='N', PULocationID=107.0, DOLocationID=181.0, payment_type=1.0, fare_amount=20.0, extra=0.5, mta_tax=0.5, tip_amount=4.26, tolls_amount=0.0, improvement_surcharge=0.3, total_amount=25.56),\n",
       " Row(VendorID=1.0, tpep_pickup_datetime=datetime.datetime(2017, 12, 1, 0, 7, 2), tpep_dropoff_datetime=datetime.datetime(2017, 12, 1, 0, 13, 59), passenger_count=1.0, trip_distance=1.4, RatecodeID=1.0, store_and_fwd_flag='N', PULocationID=161.0, DOLocationID=50.0, payment_type=1.0, fare_amount=7.0, extra=0.5, mta_tax=0.5, tip_amount=0.83, tolls_amount=0.0, improvement_surcharge=0.3, total_amount=9.13),\n",
       " Row(VendorID=2.0, tpep_pickup_datetime=datetime.datetime(2017, 12, 1, 0, 41, 22), tpep_dropoff_datetime=datetime.datetime(2017, 12, 1, 0, 59, 41), passenger_count=1.0, trip_distance=6.88, RatecodeID=1.0, store_and_fwd_flag='N', PULocationID=137.0, DOLocationID=247.0, payment_type=1.0, fare_amount=21.0, extra=0.5, mta_tax=0.5, tip_amount=4.46, tolls_amount=0.0, improvement_surcharge=0.3, total_amount=26.76),\n",
       " Row(VendorID=2.0, tpep_pickup_datetime=datetime.datetime(2017, 12, 1, 0, 2, 23), tpep_dropoff_datetime=datetime.datetime(2017, 12, 1, 0, 12, 25), passenger_count=2.0, trip_distance=1.58, RatecodeID=1.0, store_and_fwd_flag='N', PULocationID=234.0, DOLocationID=249.0, payment_type=1.0, fare_amount=8.5, extra=0.5, mta_tax=0.5, tip_amount=2.45, tolls_amount=0.0, improvement_surcharge=0.3, total_amount=12.25),\n",
       " Row(VendorID=2.0, tpep_pickup_datetime=datetime.datetime(2017, 12, 1, 0, 28, 53), tpep_dropoff_datetime=datetime.datetime(2017, 12, 1, 1, 15, 55), passenger_count=2.0, trip_distance=7.62, RatecodeID=1.0, store_and_fwd_flag='N', PULocationID=48.0, DOLocationID=80.0, payment_type=1.0, fare_amount=32.5, extra=0.5, mta_tax=0.5, tip_amount=4.0, tolls_amount=0.0, improvement_surcharge=0.3, total_amount=37.8),\n",
       " Row(VendorID=1.0, tpep_pickup_datetime=datetime.datetime(2017, 12, 1, 0, 50, 52), tpep_dropoff_datetime=datetime.datetime(2017, 12, 1, 1, 2, 24), passenger_count=1.0, trip_distance=2.7, RatecodeID=1.0, store_and_fwd_flag='N', PULocationID=13.0, DOLocationID=90.0, payment_type=1.0, fare_amount=11.0, extra=0.5, mta_tax=0.5, tip_amount=3.65, tolls_amount=0.0, improvement_surcharge=0.3, total_amount=15.95),\n",
       " Row(VendorID=1.0, tpep_pickup_datetime=datetime.datetime(2017, 12, 1, 0, 9, 6), tpep_dropoff_datetime=datetime.datetime(2017, 12, 1, 0, 20, 47), passenger_count=1.0, trip_distance=2.0, RatecodeID=1.0, store_and_fwd_flag='N', PULocationID=249.0, DOLocationID=100.0, payment_type=1.0, fare_amount=9.5, extra=0.5, mta_tax=0.5, tip_amount=1.08, tolls_amount=0.0, improvement_surcharge=0.3, total_amount=11.88),\n",
       " Row(VendorID=2.0, tpep_pickup_datetime=datetime.datetime(2017, 12, 1, 0, 6, 48), tpep_dropoff_datetime=datetime.datetime(2017, 12, 1, 0, 12, 28), passenger_count=1.0, trip_distance=1.06, RatecodeID=1.0, store_and_fwd_flag='N', PULocationID=164.0, DOLocationID=90.0, payment_type=1.0, fare_amount=6.0, extra=0.5, mta_tax=0.5, tip_amount=1.82, tolls_amount=0.0, improvement_surcharge=0.3, total_amount=9.12),\n",
       " Row(VendorID=2.0, tpep_pickup_datetime=datetime.datetime(2017, 12, 1, 0, 8, 31), tpep_dropoff_datetime=datetime.datetime(2017, 12, 1, 0, 9, 39), passenger_count=1.0, trip_distance=0.34, RatecodeID=1.0, store_and_fwd_flag='N', PULocationID=50.0, DOLocationID=50.0, payment_type=1.0, fare_amount=3.0, extra=0.5, mta_tax=0.5, tip_amount=0.86, tolls_amount=0.0, improvement_surcharge=0.3, total_amount=5.16),\n",
       " Row(VendorID=2.0, tpep_pickup_datetime=datetime.datetime(2017, 12, 1, 0, 18, 2), tpep_dropoff_datetime=datetime.datetime(2017, 12, 1, 0, 29, 37), passenger_count=1.0, trip_distance=2.44, RatecodeID=1.0, store_and_fwd_flag='N', PULocationID=50.0, DOLocationID=158.0, payment_type=1.0, fare_amount=10.0, extra=0.5, mta_tax=0.5, tip_amount=2.82, tolls_amount=0.0, improvement_surcharge=0.3, total_amount=14.12),\n",
       " Row(VendorID=1.0, tpep_pickup_datetime=datetime.datetime(2017, 12, 1, 0, 11, 57), tpep_dropoff_datetime=datetime.datetime(2017, 12, 1, 0, 29, 54), passenger_count=1.0, trip_distance=5.1, RatecodeID=1.0, store_and_fwd_flag='N', PULocationID=264.0, DOLocationID=264.0, payment_type=1.0, fare_amount=18.0, extra=0.5, mta_tax=0.5, tip_amount=2.0, tolls_amount=0.0, improvement_surcharge=0.3, total_amount=21.3),\n",
       " Row(VendorID=1.0, tpep_pickup_datetime=datetime.datetime(2017, 12, 1, 0, 31, 24), tpep_dropoff_datetime=datetime.datetime(2017, 12, 1, 0, 44, 15), passenger_count=1.0, trip_distance=2.6, RatecodeID=1.0, store_and_fwd_flag='N', PULocationID=264.0, DOLocationID=264.0, payment_type=1.0, fare_amount=11.0, extra=0.5, mta_tax=0.5, tip_amount=3.05, tolls_amount=0.0, improvement_surcharge=0.3, total_amount=15.35),\n",
       " Row(VendorID=1.0, tpep_pickup_datetime=datetime.datetime(2017, 12, 1, 0, 4, 23), tpep_dropoff_datetime=datetime.datetime(2017, 12, 1, 0, 20, 36), passenger_count=1.0, trip_distance=2.4, RatecodeID=1.0, store_and_fwd_flag='N', PULocationID=68.0, DOLocationID=224.0, payment_type=1.0, fare_amount=12.5, extra=0.5, mta_tax=0.5, tip_amount=2.75, tolls_amount=0.0, improvement_surcharge=0.3, total_amount=16.55),\n",
       " Row(VendorID=2.0, tpep_pickup_datetime=datetime.datetime(2017, 12, 1, 0, 45, 42), tpep_dropoff_datetime=datetime.datetime(2017, 12, 1, 0, 56, 40), passenger_count=1.0, trip_distance=6.48, RatecodeID=2.0, store_and_fwd_flag='N', PULocationID=14.0, DOLocationID=21.0, payment_type=1.0, fare_amount=52.0, extra=0.0, mta_tax=0.5, tip_amount=13.2, tolls_amount=0.0, improvement_surcharge=0.3, total_amount=66.0),\n",
       " Row(VendorID=1.0, tpep_pickup_datetime=datetime.datetime(2017, 12, 1, 0, 3, 54), tpep_dropoff_datetime=datetime.datetime(2017, 12, 1, 0, 13, 55), passenger_count=2.0, trip_distance=1.6, RatecodeID=1.0, store_and_fwd_flag='N', PULocationID=234.0, DOLocationID=148.0, payment_type=1.0, fare_amount=8.5, extra=0.5, mta_tax=0.5, tip_amount=1.95, tolls_amount=0.0, improvement_surcharge=0.3, total_amount=11.75),\n",
       " Row(VendorID=1.0, tpep_pickup_datetime=datetime.datetime(2017, 12, 1, 0, 30, 35), tpep_dropoff_datetime=datetime.datetime(2017, 12, 1, 0, 33, 59), passenger_count=1.0, trip_distance=0.7, RatecodeID=1.0, store_and_fwd_flag='N', PULocationID=142.0, DOLocationID=143.0, payment_type=1.0, fare_amount=5.0, extra=0.5, mta_tax=0.5, tip_amount=0.63, tolls_amount=0.0, improvement_surcharge=0.3, total_amount=6.93),\n",
       " Row(VendorID=1.0, tpep_pickup_datetime=datetime.datetime(2017, 12, 1, 0, 57, 43), tpep_dropoff_datetime=datetime.datetime(2017, 12, 1, 1, 1, 25), passenger_count=1.0, trip_distance=0.7, RatecodeID=1.0, store_and_fwd_flag='N', PULocationID=79.0, DOLocationID=79.0, payment_type=1.0, fare_amount=4.5, extra=0.5, mta_tax=0.5, tip_amount=1.15, tolls_amount=0.0, improvement_surcharge=0.3, total_amount=6.95),\n",
       " Row(VendorID=1.0, tpep_pickup_datetime=datetime.datetime(2017, 12, 1, 0, 13, 7), tpep_dropoff_datetime=datetime.datetime(2017, 12, 1, 0, 39, 12), passenger_count=1.0, trip_distance=7.1, RatecodeID=1.0, store_and_fwd_flag='N', PULocationID=40.0, DOLocationID=225.0, payment_type=1.0, fare_amount=24.0, extra=0.5, mta_tax=0.5, tip_amount=3.8, tolls_amount=0.0, improvement_surcharge=0.3, total_amount=29.1),\n",
       " Row(VendorID=1.0, tpep_pickup_datetime=datetime.datetime(2017, 12, 1, 0, 50, 20), tpep_dropoff_datetime=datetime.datetime(2017, 12, 1, 0, 57, 51), passenger_count=3.0, trip_distance=1.2, RatecodeID=1.0, store_and_fwd_flag='N', PULocationID=114.0, DOLocationID=148.0, payment_type=1.0, fare_amount=7.0, extra=0.5, mta_tax=0.5, tip_amount=1.66, tolls_amount=0.0, improvement_surcharge=0.3, total_amount=9.96),\n",
       " Row(VendorID=1.0, tpep_pickup_datetime=datetime.datetime(2017, 12, 1, 0, 2, 40), tpep_dropoff_datetime=datetime.datetime(2017, 12, 1, 0, 13, 24), passenger_count=1.0, trip_distance=1.4, RatecodeID=1.0, store_and_fwd_flag='N', PULocationID=255.0, DOLocationID=80.0, payment_type=1.0, fare_amount=8.0, extra=0.5, mta_tax=0.5, tip_amount=1.85, tolls_amount=0.0, improvement_surcharge=0.3, total_amount=11.15),\n",
       " Row(VendorID=1.0, tpep_pickup_datetime=datetime.datetime(2017, 12, 1, 0, 8, 48), tpep_dropoff_datetime=datetime.datetime(2017, 12, 1, 0, 27, 18), passenger_count=1.0, trip_distance=3.0, RatecodeID=1.0, store_and_fwd_flag='N', PULocationID=230.0, DOLocationID=79.0, payment_type=1.0, fare_amount=14.0, extra=0.5, mta_tax=0.5, tip_amount=3.05, tolls_amount=0.0, improvement_surcharge=0.3, total_amount=18.35),\n",
       " Row(VendorID=1.0, tpep_pickup_datetime=datetime.datetime(2017, 12, 1, 0, 32, 24), tpep_dropoff_datetime=datetime.datetime(2017, 12, 1, 0, 51, 52), passenger_count=1.0, trip_distance=5.7, RatecodeID=1.0, store_and_fwd_flag='N', PULocationID=107.0, DOLocationID=179.0, payment_type=1.0, fare_amount=19.0, extra=0.5, mta_tax=0.5, tip_amount=0.0, tolls_amount=0.0, improvement_surcharge=0.3, total_amount=20.3),\n",
       " Row(VendorID=1.0, tpep_pickup_datetime=datetime.datetime(2017, 12, 1, 0, 2, 50), tpep_dropoff_datetime=datetime.datetime(2017, 12, 1, 0, 8, 34), passenger_count=1.0, trip_distance=1.4, RatecodeID=1.0, store_and_fwd_flag='N', PULocationID=137.0, DOLocationID=162.0, payment_type=1.0, fare_amount=6.5, extra=0.5, mta_tax=0.5, tip_amount=1.55, tolls_amount=0.0, improvement_surcharge=0.3, total_amount=9.35),\n",
       " Row(VendorID=1.0, tpep_pickup_datetime=datetime.datetime(2017, 12, 1, 0, 41, 23), tpep_dropoff_datetime=datetime.datetime(2017, 12, 1, 0, 49, 32), passenger_count=1.0, trip_distance=1.8, RatecodeID=1.0, store_and_fwd_flag='N', PULocationID=141.0, DOLocationID=239.0, payment_type=1.0, fare_amount=8.5, extra=0.5, mta_tax=0.5, tip_amount=1.95, tolls_amount=0.0, improvement_surcharge=0.3, total_amount=11.75),\n",
       " Row(VendorID=1.0, tpep_pickup_datetime=datetime.datetime(2017, 12, 1, 0, 21, 9), tpep_dropoff_datetime=datetime.datetime(2017, 12, 1, 0, 25, 10), passenger_count=1.0, trip_distance=0.9, RatecodeID=1.0, store_and_fwd_flag='N', PULocationID=230.0, DOLocationID=142.0, payment_type=1.0, fare_amount=5.0, extra=0.5, mta_tax=0.5, tip_amount=1.55, tolls_amount=0.0, improvement_surcharge=0.3, total_amount=7.85),\n",
       " Row(VendorID=1.0, tpep_pickup_datetime=datetime.datetime(2017, 12, 1, 0, 6, 2), tpep_dropoff_datetime=datetime.datetime(2017, 12, 1, 0, 15, 21), passenger_count=1.0, trip_distance=1.7, RatecodeID=1.0, store_and_fwd_flag='N', PULocationID=113.0, DOLocationID=137.0, payment_type=1.0, fare_amount=8.5, extra=0.5, mta_tax=0.5, tip_amount=1.95, tolls_amount=0.0, improvement_surcharge=0.3, total_amount=11.75),\n",
       " Row(VendorID=1.0, tpep_pickup_datetime=datetime.datetime(2017, 12, 1, 0, 57, 28), tpep_dropoff_datetime=datetime.datetime(2017, 12, 1, 1, 12, 50), passenger_count=2.0, trip_distance=7.9, RatecodeID=1.0, store_and_fwd_flag='N', PULocationID=238.0, DOLocationID=220.0, payment_type=1.0, fare_amount=23.5, extra=0.5, mta_tax=0.5, tip_amount=4.5, tolls_amount=0.0, improvement_surcharge=0.3, total_amount=29.3),\n",
       " Row(VendorID=1.0, tpep_pickup_datetime=datetime.datetime(2017, 12, 1, 0, 20, 5), tpep_dropoff_datetime=datetime.datetime(2017, 12, 1, 0, 29, 48), passenger_count=1.0, trip_distance=2.8, RatecodeID=1.0, store_and_fwd_flag='N', PULocationID=161.0, DOLocationID=75.0, payment_type=1.0, fare_amount=10.5, extra=0.5, mta_tax=0.5, tip_amount=2.35, tolls_amount=0.0, improvement_surcharge=0.3, total_amount=14.15),\n",
       " Row(VendorID=1.0, tpep_pickup_datetime=datetime.datetime(2017, 12, 1, 0, 7, 26), tpep_dropoff_datetime=datetime.datetime(2017, 12, 1, 0, 23, 13), passenger_count=2.0, trip_distance=2.4, RatecodeID=1.0, store_and_fwd_flag='N', PULocationID=148.0, DOLocationID=68.0, payment_type=1.0, fare_amount=12.5, extra=0.5, mta_tax=0.5, tip_amount=2.75, tolls_amount=0.0, improvement_surcharge=0.3, total_amount=16.55),\n",
       " Row(VendorID=1.0, tpep_pickup_datetime=datetime.datetime(2017, 12, 1, 0, 58, 1), tpep_dropoff_datetime=datetime.datetime(2017, 12, 1, 1, 12, 25), passenger_count=2.0, trip_distance=2.1, RatecodeID=1.0, store_and_fwd_flag='N', PULocationID=79.0, DOLocationID=231.0, payment_type=1.0, fare_amount=11.5, extra=0.5, mta_tax=0.5, tip_amount=2.55, tolls_amount=0.0, improvement_surcharge=0.3, total_amount=15.35),\n",
       " Row(VendorID=1.0, tpep_pickup_datetime=datetime.datetime(2017, 12, 1, 0, 22, 44), tpep_dropoff_datetime=datetime.datetime(2017, 12, 1, 0, 26, 1), passenger_count=1.0, trip_distance=0.5, RatecodeID=1.0, store_and_fwd_flag='N', PULocationID=234.0, DOLocationID=170.0, payment_type=1.0, fare_amount=4.5, extra=0.5, mta_tax=0.5, tip_amount=1.15, tolls_amount=0.0, improvement_surcharge=0.3, total_amount=6.95),\n",
       " Row(VendorID=1.0, tpep_pickup_datetime=datetime.datetime(2017, 12, 1, 0, 48, 8), tpep_dropoff_datetime=datetime.datetime(2017, 12, 1, 1, 2, 52), passenger_count=1.0, trip_distance=3.4, RatecodeID=1.0, store_and_fwd_flag='N', PULocationID=234.0, DOLocationID=142.0, payment_type=1.0, fare_amount=13.5, extra=0.5, mta_tax=0.5, tip_amount=2.95, tolls_amount=0.0, improvement_surcharge=0.3, total_amount=17.75),\n",
       " Row(VendorID=1.0, tpep_pickup_datetime=datetime.datetime(2017, 12, 1, 0, 4, 44), tpep_dropoff_datetime=datetime.datetime(2017, 12, 1, 0, 13, 12), passenger_count=1.0, trip_distance=1.6, RatecodeID=1.0, store_and_fwd_flag='N', PULocationID=50.0, DOLocationID=229.0, payment_type=1.0, fare_amount=8.0, extra=0.5, mta_tax=0.5, tip_amount=1.85, tolls_amount=0.0, improvement_surcharge=0.3, total_amount=11.15),\n",
       " Row(VendorID=1.0, tpep_pickup_datetime=datetime.datetime(2017, 12, 1, 0, 58, 48), tpep_dropoff_datetime=datetime.datetime(2017, 12, 1, 1, 21, 28), passenger_count=1.0, trip_distance=5.1, RatecodeID=1.0, store_and_fwd_flag='N', PULocationID=50.0, DOLocationID=179.0, payment_type=1.0, fare_amount=19.0, extra=0.5, mta_tax=0.5, tip_amount=4.05, tolls_amount=0.0, improvement_surcharge=0.3, total_amount=24.35),\n",
       " Row(VendorID=1.0, tpep_pickup_datetime=datetime.datetime(2017, 12, 1, 0, 27, 23), tpep_dropoff_datetime=datetime.datetime(2017, 12, 1, 0, 36, 18), passenger_count=1.0, trip_distance=1.7, RatecodeID=1.0, store_and_fwd_flag='N', PULocationID=158.0, DOLocationID=107.0, payment_type=1.0, fare_amount=8.0, extra=0.5, mta_tax=0.5, tip_amount=1.85, tolls_amount=0.0, improvement_surcharge=0.3, total_amount=11.15),\n",
       " Row(VendorID=1.0, tpep_pickup_datetime=datetime.datetime(2017, 12, 1, 0, 40, 19), tpep_dropoff_datetime=datetime.datetime(2017, 12, 1, 0, 59, 39), passenger_count=1.0, trip_distance=4.0, RatecodeID=1.0, store_and_fwd_flag='N', PULocationID=107.0, DOLocationID=256.0, payment_type=1.0, fare_amount=16.0, extra=0.5, mta_tax=0.5, tip_amount=2.0, tolls_amount=0.0, improvement_surcharge=0.3, total_amount=19.3),\n",
       " Row(VendorID=1.0, tpep_pickup_datetime=datetime.datetime(2017, 12, 1, 0, 7, 11), tpep_dropoff_datetime=datetime.datetime(2017, 12, 1, 0, 23, 59), passenger_count=1.0, trip_distance=7.2, RatecodeID=1.0, store_and_fwd_flag='N', PULocationID=48.0, DOLocationID=244.0, payment_type=1.0, fare_amount=22.0, extra=0.5, mta_tax=0.5, tip_amount=4.0, tolls_amount=0.0, improvement_surcharge=0.3, total_amount=27.3),\n",
       " Row(VendorID=1.0, tpep_pickup_datetime=datetime.datetime(2017, 12, 1, 0, 28, 17), tpep_dropoff_datetime=datetime.datetime(2017, 12, 1, 0, 37, 34), passenger_count=1.0, trip_distance=2.5, RatecodeID=1.0, store_and_fwd_flag='N', PULocationID=79.0, DOLocationID=161.0, payment_type=1.0, fare_amount=9.5, extra=0.5, mta_tax=0.5, tip_amount=0.7, tolls_amount=0.0, improvement_surcharge=0.3, total_amount=11.5),\n",
       " Row(VendorID=1.0, tpep_pickup_datetime=datetime.datetime(2017, 12, 1, 0, 38, 18), tpep_dropoff_datetime=datetime.datetime(2017, 12, 1, 0, 46, 40), passenger_count=1.0, trip_distance=2.2, RatecodeID=1.0, store_and_fwd_flag='N', PULocationID=161.0, DOLocationID=239.0, payment_type=1.0, fare_amount=9.0, extra=0.5, mta_tax=0.5, tip_amount=1.7, tolls_amount=0.0, improvement_surcharge=0.3, total_amount=12.0),\n",
       " Row(VendorID=1.0, tpep_pickup_datetime=datetime.datetime(2017, 12, 1, 0, 2, 59), tpep_dropoff_datetime=datetime.datetime(2017, 12, 1, 0, 10, 17), passenger_count=1.0, trip_distance=1.0, RatecodeID=1.0, store_and_fwd_flag='N', PULocationID=162.0, DOLocationID=141.0, payment_type=1.0, fare_amount=6.5, extra=0.5, mta_tax=0.5, tip_amount=1.55, tolls_amount=0.0, improvement_surcharge=0.3, total_amount=9.35),\n",
       " Row(VendorID=1.0, tpep_pickup_datetime=datetime.datetime(2017, 12, 1, 0, 25, 15), tpep_dropoff_datetime=datetime.datetime(2017, 12, 1, 0, 38, 8), passenger_count=1.0, trip_distance=5.1, RatecodeID=1.0, store_and_fwd_flag='N', PULocationID=170.0, DOLocationID=13.0, payment_type=1.0, fare_amount=16.5, extra=0.5, mta_tax=0.5, tip_amount=3.55, tolls_amount=0.0, improvement_surcharge=0.3, total_amount=21.35),\n",
       " Row(VendorID=1.0, tpep_pickup_datetime=datetime.datetime(2017, 12, 1, 0, 47, 57), tpep_dropoff_datetime=datetime.datetime(2017, 12, 1, 0, 56, 29), passenger_count=1.0, trip_distance=0.7, RatecodeID=1.0, store_and_fwd_flag='N', PULocationID=234.0, DOLocationID=234.0, payment_type=1.0, fare_amount=7.0, extra=0.5, mta_tax=0.5, tip_amount=1.65, tolls_amount=0.0, improvement_surcharge=0.3, total_amount=9.95),\n",
       " Row(VendorID=1.0, tpep_pickup_datetime=datetime.datetime(2017, 12, 1, 0, 14, 30), tpep_dropoff_datetime=datetime.datetime(2017, 12, 1, 0, 16, 23), passenger_count=1.0, trip_distance=0.6, RatecodeID=1.0, store_and_fwd_flag='N', PULocationID=239.0, DOLocationID=238.0, payment_type=1.0, fare_amount=4.0, extra=0.5, mta_tax=0.5, tip_amount=1.7, tolls_amount=0.0, improvement_surcharge=0.3, total_amount=7.0),\n",
       " Row(VendorID=1.0, tpep_pickup_datetime=datetime.datetime(2017, 12, 1, 0, 57, 21), tpep_dropoff_datetime=datetime.datetime(2017, 12, 1, 1, 9, 46), passenger_count=1.0, trip_distance=2.4, RatecodeID=1.0, store_and_fwd_flag='N', PULocationID=230.0, DOLocationID=263.0, payment_type=1.0, fare_amount=11.0, extra=0.5, mta_tax=0.5, tip_amount=3.05, tolls_amount=0.0, improvement_surcharge=0.3, total_amount=15.35),\n",
       " Row(VendorID=2.0, tpep_pickup_datetime=datetime.datetime(2017, 12, 1, 0, 56, 41), tpep_dropoff_datetime=datetime.datetime(2017, 12, 1, 1, 30, 31), passenger_count=1.0, trip_distance=19.94, RatecodeID=2.0, store_and_fwd_flag='N', PULocationID=264.0, DOLocationID=264.0, payment_type=1.0, fare_amount=52.0, extra=0.0, mta_tax=0.5, tip_amount=11.71, tolls_amount=5.76, improvement_surcharge=0.3, total_amount=70.27),\n",
       " Row(VendorID=1.0, tpep_pickup_datetime=datetime.datetime(2017, 12, 1, 0, 16, 33), tpep_dropoff_datetime=datetime.datetime(2017, 12, 1, 0, 36, 35), passenger_count=1.0, trip_distance=3.4, RatecodeID=1.0, store_and_fwd_flag='N', PULocationID=162.0, DOLocationID=231.0, payment_type=1.0, fare_amount=15.5, extra=0.5, mta_tax=0.5, tip_amount=3.0, tolls_amount=0.0, improvement_surcharge=0.3, total_amount=19.8),\n",
       " Row(VendorID=1.0, tpep_pickup_datetime=datetime.datetime(2017, 12, 1, 0, 22, 8), tpep_dropoff_datetime=datetime.datetime(2017, 12, 1, 0, 44, 28), passenger_count=1.0, trip_distance=6.9, RatecodeID=1.0, store_and_fwd_flag='N', PULocationID=87.0, DOLocationID=142.0, payment_type=1.0, fare_amount=23.0, extra=0.5, mta_tax=0.5, tip_amount=4.85, tolls_amount=0.0, improvement_surcharge=0.3, total_amount=29.15),\n",
       " Row(VendorID=1.0, tpep_pickup_datetime=datetime.datetime(2017, 12, 1, 0, 56, 8), tpep_dropoff_datetime=datetime.datetime(2017, 12, 1, 1, 5, 41), passenger_count=1.0, trip_distance=1.7, RatecodeID=1.0, store_and_fwd_flag='N', PULocationID=142.0, DOLocationID=186.0, payment_type=1.0, fare_amount=8.0, extra=0.5, mta_tax=0.5, tip_amount=1.85, tolls_amount=0.0, improvement_surcharge=0.3, total_amount=11.15),\n",
       " Row(VendorID=2.0, tpep_pickup_datetime=datetime.datetime(2017, 12, 1, 0, 12, 45), tpep_dropoff_datetime=datetime.datetime(2017, 12, 1, 0, 59, 28), passenger_count=2.0, trip_distance=16.5, RatecodeID=1.0, store_and_fwd_flag='N', PULocationID=255.0, DOLocationID=214.0, payment_type=1.0, fare_amount=49.0, extra=0.5, mta_tax=0.5, tip_amount=15.46, tolls_amount=11.52, improvement_surcharge=0.3, total_amount=77.28),\n",
       " Row(VendorID=1.0, tpep_pickup_datetime=datetime.datetime(2017, 12, 1, 0, 3, 11), tpep_dropoff_datetime=datetime.datetime(2017, 12, 1, 0, 14, 8), passenger_count=1.0, trip_distance=2.0, RatecodeID=1.0, store_and_fwd_flag='N', PULocationID=140.0, DOLocationID=143.0, payment_type=1.0, fare_amount=9.5, extra=0.5, mta_tax=0.5, tip_amount=2.15, tolls_amount=0.0, improvement_surcharge=0.3, total_amount=12.95),\n",
       " Row(VendorID=2.0, tpep_pickup_datetime=datetime.datetime(2017, 12, 1, 0, 7, 44), tpep_dropoff_datetime=datetime.datetime(2017, 12, 1, 0, 24, 15), passenger_count=5.0, trip_distance=4.58, RatecodeID=1.0, store_and_fwd_flag='N', PULocationID=148.0, DOLocationID=141.0, payment_type=1.0, fare_amount=16.5, extra=0.5, mta_tax=0.5, tip_amount=0.0, tolls_amount=0.0, improvement_surcharge=0.3, total_amount=17.8),\n",
       " Row(VendorID=1.0, tpep_pickup_datetime=datetime.datetime(2017, 12, 1, 0, 50, 3), tpep_dropoff_datetime=datetime.datetime(2017, 12, 1, 0, 53, 35), passenger_count=1.0, trip_distance=0.0, RatecodeID=1.0, store_and_fwd_flag='N', PULocationID=145.0, DOLocationID=145.0, payment_type=2.0, fare_amount=4.0, extra=0.5, mta_tax=0.5, tip_amount=0.0, tolls_amount=0.0, improvement_surcharge=0.3, total_amount=5.3),\n",
       " Row(VendorID=1.0, tpep_pickup_datetime=datetime.datetime(2017, 12, 1, 0, 14, 20), tpep_dropoff_datetime=datetime.datetime(2017, 12, 1, 0, 28, 35), passenger_count=1.0, trip_distance=4.2, RatecodeID=1.0, store_and_fwd_flag='N', PULocationID=82.0, DOLocationID=258.0, payment_type=2.0, fare_amount=15.0, extra=0.5, mta_tax=0.5, tip_amount=0.0, tolls_amount=0.0, improvement_surcharge=0.3, total_amount=16.3),\n",
       " Row(VendorID=1.0, tpep_pickup_datetime=datetime.datetime(2017, 12, 1, 0, 20, 32), tpep_dropoff_datetime=datetime.datetime(2017, 12, 1, 0, 31, 24), passenger_count=1.0, trip_distance=5.4, RatecodeID=1.0, store_and_fwd_flag='N', PULocationID=50.0, DOLocationID=116.0, payment_type=2.0, fare_amount=17.0, extra=0.5, mta_tax=0.5, tip_amount=0.0, tolls_amount=0.0, improvement_surcharge=0.3, total_amount=18.3),\n",
       " Row(VendorID=2.0, tpep_pickup_datetime=datetime.datetime(2017, 12, 1, 0, 40, 4), tpep_dropoff_datetime=datetime.datetime(2017, 12, 1, 0, 50, 13), passenger_count=1.0, trip_distance=2.09, RatecodeID=1.0, store_and_fwd_flag='N', PULocationID=166.0, DOLocationID=116.0, payment_type=2.0, fare_amount=10.0, extra=0.5, mta_tax=0.5, tip_amount=0.0, tolls_amount=0.0, improvement_surcharge=0.3, total_amount=11.3),\n",
       " Row(VendorID=1.0, tpep_pickup_datetime=datetime.datetime(2017, 12, 1, 0, 43, 35), tpep_dropoff_datetime=datetime.datetime(2017, 12, 1, 0, 56, 14), passenger_count=1.0, trip_distance=3.9, RatecodeID=1.0, store_and_fwd_flag='N', PULocationID=226.0, DOLocationID=95.0, payment_type=2.0, fare_amount=14.0, extra=0.5, mta_tax=0.5, tip_amount=0.0, tolls_amount=0.0, improvement_surcharge=0.3, total_amount=15.3),\n",
       " Row(VendorID=1.0, tpep_pickup_datetime=datetime.datetime(2017, 12, 1, 0, 10, 47), tpep_dropoff_datetime=datetime.datetime(2017, 12, 1, 0, 21, 35), passenger_count=1.0, trip_distance=2.1, RatecodeID=1.0, store_and_fwd_flag='N', PULocationID=234.0, DOLocationID=229.0, payment_type=2.0, fare_amount=9.5, extra=0.5, mta_tax=0.5, tip_amount=0.0, tolls_amount=0.0, improvement_surcharge=0.3, total_amount=10.8),\n",
       " Row(VendorID=1.0, tpep_pickup_datetime=datetime.datetime(2017, 12, 1, 0, 29, 54), tpep_dropoff_datetime=datetime.datetime(2017, 12, 1, 0, 31, 48), passenger_count=1.0, trip_distance=0.4, RatecodeID=1.0, store_and_fwd_flag='N', PULocationID=161.0, DOLocationID=162.0, payment_type=2.0, fare_amount=3.5, extra=0.5, mta_tax=0.5, tip_amount=0.0, tolls_amount=0.0, improvement_surcharge=0.3, total_amount=4.8),\n",
       " Row(VendorID=1.0, tpep_pickup_datetime=datetime.datetime(2017, 12, 1, 0, 56, 31), tpep_dropoff_datetime=datetime.datetime(2017, 12, 1, 1, 2, 9), passenger_count=2.0, trip_distance=1.2, RatecodeID=1.0, store_and_fwd_flag='N', PULocationID=162.0, DOLocationID=163.0, payment_type=2.0, fare_amount=6.5, extra=0.5, mta_tax=0.5, tip_amount=0.0, tolls_amount=0.0, improvement_surcharge=0.3, total_amount=7.8),\n",
       " Row(VendorID=2.0, tpep_pickup_datetime=datetime.datetime(2017, 12, 1, 0, 3, 38), tpep_dropoff_datetime=datetime.datetime(2017, 12, 1, 0, 15, 35), passenger_count=1.0, trip_distance=2.5, RatecodeID=1.0, store_and_fwd_flag='N', PULocationID=249.0, DOLocationID=158.0, payment_type=2.0, fare_amount=10.5, extra=0.5, mta_tax=0.5, tip_amount=0.0, tolls_amount=0.0, improvement_surcharge=0.3, total_amount=11.8),\n",
       " Row(VendorID=2.0, tpep_pickup_datetime=datetime.datetime(2017, 12, 1, 0, 17, 47), tpep_dropoff_datetime=datetime.datetime(2017, 12, 1, 0, 33, 9), passenger_count=1.0, trip_distance=2.22, RatecodeID=1.0, store_and_fwd_flag='N', PULocationID=158.0, DOLocationID=164.0, payment_type=2.0, fare_amount=12.0, extra=0.5, mta_tax=0.5, tip_amount=0.0, tolls_amount=0.0, improvement_surcharge=0.3, total_amount=13.3),\n",
       " Row(VendorID=2.0, tpep_pickup_datetime=datetime.datetime(2017, 12, 1, 0, 18, 24), tpep_dropoff_datetime=datetime.datetime(2017, 12, 1, 0, 44, 7), passenger_count=2.0, trip_distance=11.66, RatecodeID=1.0, store_and_fwd_flag='N', PULocationID=107.0, DOLocationID=250.0, payment_type=2.0, fare_amount=34.0, extra=0.5, mta_tax=0.5, tip_amount=0.0, tolls_amount=0.0, improvement_surcharge=0.3, total_amount=35.3),\n",
       " Row(VendorID=1.0, tpep_pickup_datetime=datetime.datetime(2017, 12, 1, 0, 47, 56), tpep_dropoff_datetime=datetime.datetime(2017, 12, 1, 0, 51, 47), passenger_count=2.0, trip_distance=0.4, RatecodeID=1.0, store_and_fwd_flag='N', PULocationID=48.0, DOLocationID=230.0, payment_type=2.0, fare_amount=4.5, extra=0.5, mta_tax=0.5, tip_amount=0.0, tolls_amount=0.0, improvement_surcharge=0.3, total_amount=5.8),\n",
       " Row(VendorID=2.0, tpep_pickup_datetime=datetime.datetime(2017, 12, 1, 0, 7), tpep_dropoff_datetime=datetime.datetime(2017, 12, 1, 0, 10, 1), passenger_count=1.0, trip_distance=0.62, RatecodeID=1.0, store_and_fwd_flag='N', PULocationID=163.0, DOLocationID=50.0, payment_type=2.0, fare_amount=4.5, extra=0.5, mta_tax=0.5, tip_amount=0.0, tolls_amount=0.0, improvement_surcharge=0.3, total_amount=5.8),\n",
       " Row(VendorID=2.0, tpep_pickup_datetime=datetime.datetime(2017, 12, 1, 0, 34, 27), tpep_dropoff_datetime=datetime.datetime(2017, 12, 1, 0, 38, 51), passenger_count=1.0, trip_distance=0.94, RatecodeID=1.0, store_and_fwd_flag='N', PULocationID=170.0, DOLocationID=107.0, payment_type=2.0, fare_amount=5.5, extra=0.5, mta_tax=0.5, tip_amount=0.0, tolls_amount=0.0, improvement_surcharge=0.3, total_amount=6.8),\n",
       " Row(VendorID=1.0, tpep_pickup_datetime=datetime.datetime(2017, 12, 1, 0, 6, 5), tpep_dropoff_datetime=datetime.datetime(2017, 12, 1, 0, 14, 49), passenger_count=1.0, trip_distance=3.0, RatecodeID=1.0, store_and_fwd_flag='N', PULocationID=229.0, DOLocationID=75.0, payment_type=2.0, fare_amount=10.5, extra=0.5, mta_tax=0.5, tip_amount=0.0, tolls_amount=0.0, improvement_surcharge=0.3, total_amount=11.8),\n",
       " Row(VendorID=2.0, tpep_pickup_datetime=datetime.datetime(2017, 12, 1, 0, 34, 35), tpep_dropoff_datetime=datetime.datetime(2017, 12, 1, 0, 46, 33), passenger_count=2.0, trip_distance=2.79, RatecodeID=1.0, store_and_fwd_flag='N', PULocationID=114.0, DOLocationID=48.0, payment_type=2.0, fare_amount=11.0, extra=0.5, mta_tax=0.5, tip_amount=0.0, tolls_amount=0.0, improvement_surcharge=0.3, total_amount=12.3),\n",
       " Row(VendorID=1.0, tpep_pickup_datetime=datetime.datetime(2017, 12, 1, 0, 36, 42), tpep_dropoff_datetime=datetime.datetime(2017, 12, 1, 0, 48, 1), passenger_count=1.0, trip_distance=1.6, RatecodeID=1.0, store_and_fwd_flag='N', PULocationID=107.0, DOLocationID=249.0, payment_type=2.0, fare_amount=9.0, extra=0.5, mta_tax=0.5, tip_amount=0.0, tolls_amount=0.0, improvement_surcharge=0.3, total_amount=10.3),\n",
       " Row(VendorID=2.0, tpep_pickup_datetime=datetime.datetime(2017, 12, 1, 0, 30, 23), tpep_dropoff_datetime=datetime.datetime(2017, 12, 1, 0, 38, 48), passenger_count=2.0, trip_distance=1.61, RatecodeID=1.0, store_and_fwd_flag='N', PULocationID=161.0, DOLocationID=68.0, payment_type=2.0, fare_amount=7.5, extra=0.5, mta_tax=0.5, tip_amount=0.0, tolls_amount=0.0, improvement_surcharge=0.3, total_amount=8.8),\n",
       " Row(VendorID=2.0, tpep_pickup_datetime=datetime.datetime(2017, 12, 1, 0, 39, 45), tpep_dropoff_datetime=datetime.datetime(2017, 12, 1, 0, 52, 10), passenger_count=2.0, trip_distance=3.21, RatecodeID=1.0, store_and_fwd_flag='N', PULocationID=68.0, DOLocationID=238.0, payment_type=2.0, fare_amount=12.0, extra=0.5, mta_tax=0.5, tip_amount=0.0, tolls_amount=0.0, improvement_surcharge=0.3, total_amount=13.3),\n",
       " Row(VendorID=2.0, tpep_pickup_datetime=datetime.datetime(2017, 12, 1, 0, 33, 15), tpep_dropoff_datetime=datetime.datetime(2017, 12, 1, 0, 53, 25), passenger_count=1.0, trip_distance=5.97, RatecodeID=1.0, store_and_fwd_flag='N', PULocationID=229.0, DOLocationID=223.0, payment_type=2.0, fare_amount=19.5, extra=0.5, mta_tax=0.5, tip_amount=0.0, tolls_amount=0.0, improvement_surcharge=0.3, total_amount=20.8),\n",
       " Row(VendorID=1.0, tpep_pickup_datetime=datetime.datetime(2017, 12, 1, 0, 2, 31), tpep_dropoff_datetime=datetime.datetime(2017, 12, 1, 0, 7, 40), passenger_count=1.0, trip_distance=0.9, RatecodeID=1.0, store_and_fwd_flag='N', PULocationID=234.0, DOLocationID=170.0, payment_type=2.0, fare_amount=5.5, extra=0.5, mta_tax=0.5, tip_amount=0.0, tolls_amount=0.0, improvement_surcharge=0.3, total_amount=6.8),\n",
       " Row(VendorID=2.0, tpep_pickup_datetime=datetime.datetime(2017, 12, 1, 0, 28, 18), tpep_dropoff_datetime=datetime.datetime(2017, 12, 1, 0, 28, 56), passenger_count=1.0, trip_distance=0.34, RatecodeID=1.0, store_and_fwd_flag='N', PULocationID=238.0, DOLocationID=43.0, payment_type=2.0, fare_amount=3.0, extra=0.5, mta_tax=0.5, tip_amount=0.0, tolls_amount=0.0, improvement_surcharge=0.3, total_amount=4.3),\n",
       " Row(VendorID=2.0, tpep_pickup_datetime=datetime.datetime(2017, 12, 1, 0, 44, 24), tpep_dropoff_datetime=datetime.datetime(2017, 12, 1, 0, 52, 3), passenger_count=1.0, trip_distance=1.72, RatecodeID=1.0, store_and_fwd_flag='N', PULocationID=162.0, DOLocationID=186.0, payment_type=2.0, fare_amount=8.0, extra=0.5, mta_tax=0.5, tip_amount=0.0, tolls_amount=0.0, improvement_surcharge=0.3, total_amount=9.3),\n",
       " Row(VendorID=1.0, tpep_pickup_datetime=datetime.datetime(2017, 12, 1, 0, 0, 31), tpep_dropoff_datetime=datetime.datetime(2017, 12, 1, 0, 16), passenger_count=1.0, trip_distance=3.9, RatecodeID=1.0, store_and_fwd_flag='N', PULocationID=186.0, DOLocationID=88.0, payment_type=2.0, fare_amount=14.0, extra=0.5, mta_tax=0.5, tip_amount=0.0, tolls_amount=0.0, improvement_surcharge=0.3, total_amount=15.3),\n",
       " Row(VendorID=1.0, tpep_pickup_datetime=datetime.datetime(2017, 12, 1, 0, 51, 58), tpep_dropoff_datetime=datetime.datetime(2017, 12, 1, 1, 20, 34), passenger_count=1.0, trip_distance=5.3, RatecodeID=1.0, store_and_fwd_flag='N', PULocationID=164.0, DOLocationID=166.0, payment_type=2.0, fare_amount=22.0, extra=0.5, mta_tax=0.5, tip_amount=0.0, tolls_amount=0.0, improvement_surcharge=0.3, total_amount=23.3),\n",
       " Row(VendorID=1.0, tpep_pickup_datetime=datetime.datetime(2017, 12, 1, 0, 2, 14), tpep_dropoff_datetime=datetime.datetime(2017, 12, 1, 0, 7, 19), passenger_count=2.0, trip_distance=0.9, RatecodeID=1.0, store_and_fwd_flag='N', PULocationID=113.0, DOLocationID=144.0, payment_type=2.0, fare_amount=5.5, extra=0.5, mta_tax=0.5, tip_amount=0.0, tolls_amount=0.0, improvement_surcharge=0.3, total_amount=6.8),\n",
       " Row(VendorID=1.0, tpep_pickup_datetime=datetime.datetime(2017, 12, 1, 0, 17, 20), tpep_dropoff_datetime=datetime.datetime(2017, 12, 1, 0, 45, 57), passenger_count=1.0, trip_distance=17.0, RatecodeID=1.0, store_and_fwd_flag='N', PULocationID=132.0, DOLocationID=178.0, payment_type=2.0, fare_amount=46.0, extra=0.5, mta_tax=0.5, tip_amount=0.0, tolls_amount=0.0, improvement_surcharge=0.3, total_amount=47.3),\n",
       " Row(VendorID=1.0, tpep_pickup_datetime=datetime.datetime(2017, 12, 1, 0, 16, 21), tpep_dropoff_datetime=datetime.datetime(2017, 12, 1, 0, 18, 44), passenger_count=2.0, trip_distance=0.5, RatecodeID=1.0, store_and_fwd_flag='N', PULocationID=48.0, DOLocationID=163.0, payment_type=2.0, fare_amount=4.0, extra=0.5, mta_tax=0.5, tip_amount=0.0, tolls_amount=0.0, improvement_surcharge=0.3, total_amount=5.3),\n",
       " Row(VendorID=2.0, tpep_pickup_datetime=datetime.datetime(2017, 12, 1, 0, 57, 20), tpep_dropoff_datetime=datetime.datetime(2017, 12, 1, 1, 41, 56), passenger_count=1.0, trip_distance=12.13, RatecodeID=1.0, store_and_fwd_flag='N', PULocationID=48.0, DOLocationID=116.0, payment_type=2.0, fare_amount=41.0, extra=0.5, mta_tax=0.5, tip_amount=0.0, tolls_amount=0.0, improvement_surcharge=0.3, total_amount=42.3),\n",
       " Row(VendorID=2.0, tpep_pickup_datetime=datetime.datetime(2017, 12, 1, 0, 8), tpep_dropoff_datetime=datetime.datetime(2017, 12, 1, 0, 22, 8), passenger_count=1.0, trip_distance=1.31, RatecodeID=1.0, store_and_fwd_flag='N', PULocationID=164.0, DOLocationID=161.0, payment_type=2.0, fare_amount=10.0, extra=0.5, mta_tax=0.5, tip_amount=0.0, tolls_amount=0.0, improvement_surcharge=0.3, total_amount=11.3),\n",
       " Row(VendorID=2.0, tpep_pickup_datetime=datetime.datetime(2017, 12, 1, 0, 32, 6), tpep_dropoff_datetime=datetime.datetime(2017, 12, 1, 0, 37, 25), passenger_count=1.0, trip_distance=0.85, RatecodeID=1.0, store_and_fwd_flag='N', PULocationID=100.0, DOLocationID=48.0, payment_type=2.0, fare_amount=5.5, extra=0.5, mta_tax=0.5, tip_amount=0.0, tolls_amount=0.0, improvement_surcharge=0.3, total_amount=6.8),\n",
       " Row(VendorID=1.0, tpep_pickup_datetime=datetime.datetime(2017, 12, 1, 0, 32, 17), tpep_dropoff_datetime=datetime.datetime(2017, 12, 1, 0, 36, 58), passenger_count=1.0, trip_distance=0.7, RatecodeID=1.0, store_and_fwd_flag='N', PULocationID=239.0, DOLocationID=238.0, payment_type=2.0, fare_amount=5.5, extra=0.5, mta_tax=0.5, tip_amount=0.0, tolls_amount=0.0, improvement_surcharge=0.3, total_amount=6.8),\n",
       " Row(VendorID=1.0, tpep_pickup_datetime=datetime.datetime(2017, 12, 1, 0, 18, 12), tpep_dropoff_datetime=datetime.datetime(2017, 12, 1, 0, 20, 28), passenger_count=1.0, trip_distance=0.7, RatecodeID=1.0, store_and_fwd_flag='N', PULocationID=151.0, DOLocationID=166.0, payment_type=2.0, fare_amount=4.5, extra=0.5, mta_tax=0.5, tip_amount=0.0, tolls_amount=0.0, improvement_surcharge=0.3, total_amount=5.8),\n",
       " Row(VendorID=2.0, tpep_pickup_datetime=datetime.datetime(2017, 12, 1, 0, 29), tpep_dropoff_datetime=datetime.datetime(2017, 12, 1, 0, 32, 59), passenger_count=1.0, trip_distance=0.88, RatecodeID=1.0, store_and_fwd_flag='N', PULocationID=100.0, DOLocationID=161.0, payment_type=2.0, fare_amount=5.0, extra=0.5, mta_tax=0.5, tip_amount=0.0, tolls_amount=0.0, improvement_surcharge=0.3, total_amount=6.3),\n",
       " Row(VendorID=2.0, tpep_pickup_datetime=datetime.datetime(2017, 12, 1, 0, 44, 54), tpep_dropoff_datetime=datetime.datetime(2017, 12, 1, 0, 48, 46), passenger_count=1.0, trip_distance=0.58, RatecodeID=1.0, store_and_fwd_flag='N', PULocationID=237.0, DOLocationID=162.0, payment_type=2.0, fare_amount=4.5, extra=0.5, mta_tax=0.5, tip_amount=0.0, tolls_amount=0.0, improvement_surcharge=0.3, total_amount=5.8),\n",
       " Row(VendorID=2.0, tpep_pickup_datetime=datetime.datetime(2017, 12, 1, 0, 56, 31), tpep_dropoff_datetime=datetime.datetime(2017, 12, 1, 1, 19, 53), passenger_count=1.0, trip_distance=6.35, RatecodeID=1.0, store_and_fwd_flag='N', PULocationID=230.0, DOLocationID=223.0, payment_type=2.0, fare_amount=22.5, extra=0.5, mta_tax=0.5, tip_amount=0.0, tolls_amount=0.0, improvement_surcharge=0.3, total_amount=23.8),\n",
       " Row(VendorID=2.0, tpep_pickup_datetime=datetime.datetime(2017, 12, 1, 0, 45, 16), tpep_dropoff_datetime=datetime.datetime(2017, 12, 1, 0, 50, 52), passenger_count=1.0, trip_distance=0.95, RatecodeID=1.0, store_and_fwd_flag='N', PULocationID=113.0, DOLocationID=249.0, payment_type=2.0, fare_amount=5.5, extra=0.5, mta_tax=0.5, tip_amount=0.0, tolls_amount=0.0, improvement_surcharge=0.3, total_amount=6.8),\n",
       " Row(VendorID=1.0, tpep_pickup_datetime=datetime.datetime(2017, 12, 1, 0, 22, 45), tpep_dropoff_datetime=datetime.datetime(2017, 12, 1, 0, 41), passenger_count=1.0, trip_distance=3.7, RatecodeID=1.0, store_and_fwd_flag='N', PULocationID=163.0, DOLocationID=211.0, payment_type=2.0, fare_amount=15.0, extra=0.5, mta_tax=0.5, tip_amount=0.0, tolls_amount=0.0, improvement_surcharge=0.3, total_amount=16.3),\n",
       " Row(VendorID=1.0, tpep_pickup_datetime=datetime.datetime(2017, 12, 1, 0, 20, 36), tpep_dropoff_datetime=datetime.datetime(2017, 12, 1, 0, 24, 26), passenger_count=1.0, trip_distance=1.1, RatecodeID=1.0, store_and_fwd_flag='N', PULocationID=237.0, DOLocationID=229.0, payment_type=2.0, fare_amount=5.5, extra=0.5, mta_tax=0.5, tip_amount=0.0, tolls_amount=0.0, improvement_surcharge=0.3, total_amount=6.8),\n",
       " Row(VendorID=1.0, tpep_pickup_datetime=datetime.datetime(2017, 12, 1, 0, 47, 21), tpep_dropoff_datetime=datetime.datetime(2017, 12, 1, 1, 13, 43), passenger_count=1.0, trip_distance=6.1, RatecodeID=1.0, store_and_fwd_flag='N', PULocationID=161.0, DOLocationID=82.0, payment_type=2.0, fare_amount=23.0, extra=0.5, mta_tax=0.5, tip_amount=0.0, tolls_amount=0.0, improvement_surcharge=0.3, total_amount=24.3),\n",
       " Row(VendorID=1.0, tpep_pickup_datetime=datetime.datetime(2017, 12, 1, 0, 44, 50), tpep_dropoff_datetime=datetime.datetime(2017, 12, 1, 0, 48, 57), passenger_count=1.0, trip_distance=0.9, RatecodeID=1.0, store_and_fwd_flag='N', PULocationID=163.0, DOLocationID=142.0, payment_type=2.0, fare_amount=5.5, extra=0.5, mta_tax=0.5, tip_amount=0.0, tolls_amount=0.0, improvement_surcharge=0.3, total_amount=6.8),\n",
       " Row(VendorID=1.0, tpep_pickup_datetime=datetime.datetime(2017, 12, 1, 0, 54, 4), tpep_dropoff_datetime=datetime.datetime(2017, 12, 1, 0, 58, 57), passenger_count=1.0, trip_distance=0.6, RatecodeID=1.0, store_and_fwd_flag='N', PULocationID=45.0, DOLocationID=148.0, payment_type=2.0, fare_amount=5.0, extra=0.5, mta_tax=0.5, tip_amount=0.0, tolls_amount=0.0, improvement_surcharge=0.3, total_amount=6.3),\n",
       " Row(VendorID=1.0, tpep_pickup_datetime=datetime.datetime(2017, 12, 1, 0, 30, 55), tpep_dropoff_datetime=datetime.datetime(2017, 12, 1, 0, 31, 24), passenger_count=1.0, trip_distance=7.2, RatecodeID=1.0, store_and_fwd_flag='N', PULocationID=244.0, DOLocationID=244.0, payment_type=2.0, fare_amount=2.5, extra=0.5, mta_tax=0.5, tip_amount=0.0, tolls_amount=0.0, improvement_surcharge=0.3, total_amount=3.8),\n",
       " Row(VendorID=1.0, tpep_pickup_datetime=datetime.datetime(2017, 12, 1, 0, 38, 16), tpep_dropoff_datetime=datetime.datetime(2017, 12, 1, 0, 55, 23), passenger_count=1.0, trip_distance=3.6, RatecodeID=1.0, store_and_fwd_flag='N', PULocationID=152.0, DOLocationID=263.0, payment_type=2.0, fare_amount=15.0, extra=0.5, mta_tax=0.5, tip_amount=0.0, tolls_amount=0.0, improvement_surcharge=0.3, total_amount=16.3),\n",
       " Row(VendorID=2.0, tpep_pickup_datetime=datetime.datetime(2017, 12, 1, 0, 46, 38), tpep_dropoff_datetime=datetime.datetime(2017, 12, 1, 0, 49, 8), passenger_count=2.0, trip_distance=0.57, RatecodeID=1.0, store_and_fwd_flag='N', PULocationID=237.0, DOLocationID=141.0, payment_type=2.0, fare_amount=4.0, extra=0.5, mta_tax=0.5, tip_amount=0.0, tolls_amount=0.0, improvement_surcharge=0.3, total_amount=5.3),\n",
       " Row(VendorID=1.0, tpep_pickup_datetime=datetime.datetime(2017, 12, 1, 0, 57, 45), tpep_dropoff_datetime=datetime.datetime(2017, 12, 1, 1, 6, 29), passenger_count=1.0, trip_distance=1.1, RatecodeID=1.0, store_and_fwd_flag='N', PULocationID=48.0, DOLocationID=230.0, payment_type=2.0, fare_amount=7.0, extra=0.5, mta_tax=0.5, tip_amount=0.0, tolls_amount=0.0, improvement_surcharge=0.3, total_amount=8.3),\n",
       " Row(VendorID=1.0, tpep_pickup_datetime=datetime.datetime(2017, 12, 1, 0, 10, 4), tpep_dropoff_datetime=datetime.datetime(2017, 12, 1, 0, 23, 57), passenger_count=2.0, trip_distance=3.4, RatecodeID=1.0, store_and_fwd_flag='N', PULocationID=132.0, DOLocationID=132.0, payment_type=2.0, fare_amount=14.0, extra=0.5, mta_tax=0.5, tip_amount=0.0, tolls_amount=0.0, improvement_surcharge=0.3, total_amount=15.3),\n",
       " Row(VendorID=1.0, tpep_pickup_datetime=datetime.datetime(2017, 12, 1, 0, 37, 15), tpep_dropoff_datetime=datetime.datetime(2017, 12, 1, 1, 10, 49), passenger_count=4.0, trip_distance=17.5, RatecodeID=2.0, store_and_fwd_flag='N', PULocationID=132.0, DOLocationID=48.0, payment_type=2.0, fare_amount=52.0, extra=0.0, mta_tax=0.5, tip_amount=0.0, tolls_amount=5.76, improvement_surcharge=0.3, total_amount=58.56),\n",
       " Row(VendorID=2.0, tpep_pickup_datetime=datetime.datetime(2017, 12, 1, 0, 7, 48), tpep_dropoff_datetime=datetime.datetime(2017, 12, 1, 0, 15, 36), passenger_count=1.0, trip_distance=1.03, RatecodeID=1.0, store_and_fwd_flag='N', PULocationID=230.0, DOLocationID=186.0, payment_type=2.0, fare_amount=6.5, extra=0.5, mta_tax=0.5, tip_amount=0.0, tolls_amount=0.0, improvement_surcharge=0.3, total_amount=7.8),\n",
       " Row(VendorID=1.0, tpep_pickup_datetime=datetime.datetime(2017, 12, 1, 0, 47, 55), tpep_dropoff_datetime=datetime.datetime(2017, 12, 1, 0, 54, 52), passenger_count=1.0, trip_distance=0.8, RatecodeID=1.0, store_and_fwd_flag='N', PULocationID=163.0, DOLocationID=230.0, payment_type=2.0, fare_amount=6.5, extra=0.5, mta_tax=0.5, tip_amount=0.0, tolls_amount=0.0, improvement_surcharge=0.3, total_amount=7.8),\n",
       " Row(VendorID=1.0, tpep_pickup_datetime=datetime.datetime(2017, 12, 1, 0, 37, 56), tpep_dropoff_datetime=datetime.datetime(2017, 12, 1, 0, 50, 9), passenger_count=1.0, trip_distance=2.6, RatecodeID=1.0, store_and_fwd_flag='N', PULocationID=238.0, DOLocationID=42.0, payment_type=2.0, fare_amount=11.5, extra=0.5, mta_tax=0.5, tip_amount=0.0, tolls_amount=0.0, improvement_surcharge=0.3, total_amount=12.8),\n",
       " Row(VendorID=2.0, tpep_pickup_datetime=datetime.datetime(2017, 12, 1, 0, 6, 8), tpep_dropoff_datetime=datetime.datetime(2017, 12, 1, 0, 22, 15), passenger_count=2.0, trip_distance=1.43, RatecodeID=1.0, store_and_fwd_flag='N', PULocationID=161.0, DOLocationID=141.0, payment_type=2.0, fare_amount=11.5, extra=0.5, mta_tax=0.5, tip_amount=0.0, tolls_amount=0.0, improvement_surcharge=0.3, total_amount=12.8),\n",
       " Row(VendorID=2.0, tpep_pickup_datetime=datetime.datetime(2017, 12, 1, 0, 29, 27), tpep_dropoff_datetime=datetime.datetime(2017, 12, 1, 0, 34, 35), passenger_count=1.0, trip_distance=1.12, RatecodeID=1.0, store_and_fwd_flag='N', PULocationID=48.0, DOLocationID=100.0, payment_type=2.0, fare_amount=6.0, extra=0.5, mta_tax=0.5, tip_amount=0.0, tolls_amount=0.0, improvement_surcharge=0.3, total_amount=7.3),\n",
       " Row(VendorID=2.0, tpep_pickup_datetime=datetime.datetime(2017, 12, 1, 0, 8, 53), tpep_dropoff_datetime=datetime.datetime(2017, 12, 1, 0, 15, 50), passenger_count=1.0, trip_distance=1.35, RatecodeID=1.0, store_and_fwd_flag='N', PULocationID=226.0, DOLocationID=226.0, payment_type=2.0, fare_amount=7.0, extra=0.5, mta_tax=0.5, tip_amount=0.0, tolls_amount=0.0, improvement_surcharge=0.3, total_amount=8.3),\n",
       " Row(VendorID=2.0, tpep_pickup_datetime=datetime.datetime(2017, 12, 1, 0, 33, 57), tpep_dropoff_datetime=datetime.datetime(2017, 12, 1, 0, 40, 6), passenger_count=1.0, trip_distance=1.63, RatecodeID=1.0, store_and_fwd_flag='N', PULocationID=68.0, DOLocationID=50.0, payment_type=2.0, fare_amount=7.0, extra=0.5, mta_tax=0.5, tip_amount=0.0, tolls_amount=0.0, improvement_surcharge=0.3, total_amount=8.3),\n",
       " Row(VendorID=2.0, tpep_pickup_datetime=datetime.datetime(2017, 12, 1, 0, 57, 4), tpep_dropoff_datetime=datetime.datetime(2017, 12, 1, 1, 3, 50), passenger_count=3.0, trip_distance=2.3, RatecodeID=1.0, store_and_fwd_flag='N', PULocationID=74.0, DOLocationID=238.0, payment_type=2.0, fare_amount=8.5, extra=0.5, mta_tax=0.5, tip_amount=0.0, tolls_amount=0.0, improvement_surcharge=0.3, total_amount=9.8),\n",
       " Row(VendorID=1.0, tpep_pickup_datetime=datetime.datetime(2017, 12, 1, 0, 1, 15), tpep_dropoff_datetime=datetime.datetime(2017, 12, 1, 0, 30, 24), passenger_count=1.0, trip_distance=7.8, RatecodeID=1.0, store_and_fwd_flag='N', PULocationID=100.0, DOLocationID=159.0, payment_type=2.0, fare_amount=27.5, extra=0.5, mta_tax=0.5, tip_amount=0.0, tolls_amount=0.0, improvement_surcharge=0.3, total_amount=28.8),\n",
       " Row(VendorID=2.0, tpep_pickup_datetime=datetime.datetime(2017, 12, 1, 0, 7, 8), tpep_dropoff_datetime=datetime.datetime(2017, 12, 1, 0, 32, 32), passenger_count=1.0, trip_distance=5.49, RatecodeID=1.0, store_and_fwd_flag='N', PULocationID=148.0, DOLocationID=37.0, payment_type=2.0, fare_amount=20.5, extra=0.5, mta_tax=0.5, tip_amount=0.0, tolls_amount=0.0, improvement_surcharge=0.3, total_amount=21.8),\n",
       " Row(VendorID=2.0, tpep_pickup_datetime=datetime.datetime(2017, 12, 1, 0, 22, 14), tpep_dropoff_datetime=datetime.datetime(2017, 12, 1, 0, 31, 14), passenger_count=1.0, trip_distance=1.47, RatecodeID=1.0, store_and_fwd_flag='N', PULocationID=162.0, DOLocationID=137.0, payment_type=2.0, fare_amount=8.0, extra=0.5, mta_tax=0.5, tip_amount=0.0, tolls_amount=0.0, improvement_surcharge=0.3, total_amount=9.3),\n",
       " Row(VendorID=2.0, tpep_pickup_datetime=datetime.datetime(2017, 12, 1, 0, 1, 41), tpep_dropoff_datetime=datetime.datetime(2017, 12, 1, 0, 19, 59), passenger_count=1.0, trip_distance=2.89, RatecodeID=1.0, store_and_fwd_flag='N', PULocationID=90.0, DOLocationID=162.0, payment_type=2.0, fare_amount=13.5, extra=0.5, mta_tax=0.5, tip_amount=0.0, tolls_amount=0.0, improvement_surcharge=0.3, total_amount=14.8),\n",
       " Row(VendorID=2.0, tpep_pickup_datetime=datetime.datetime(2017, 12, 1, 0, 1, 18), tpep_dropoff_datetime=datetime.datetime(2017, 12, 1, 0, 16, 1), passenger_count=5.0, trip_distance=2.46, RatecodeID=1.0, store_and_fwd_flag='N', PULocationID=230.0, DOLocationID=107.0, payment_type=2.0, fare_amount=11.5, extra=0.5, mta_tax=0.5, tip_amount=0.0, tolls_amount=0.0, improvement_surcharge=0.3, total_amount=12.8),\n",
       " Row(VendorID=1.0, tpep_pickup_datetime=datetime.datetime(2017, 12, 1, 0, 43, 24), tpep_dropoff_datetime=datetime.datetime(2017, 12, 1, 0, 52, 46), passenger_count=1.0, trip_distance=1.2, RatecodeID=1.0, store_and_fwd_flag='N', PULocationID=249.0, DOLocationID=114.0, payment_type=2.0, fare_amount=8.0, extra=0.5, mta_tax=0.5, tip_amount=0.0, tolls_amount=0.0, improvement_surcharge=0.3, total_amount=9.3),\n",
       " Row(VendorID=2.0, tpep_pickup_datetime=datetime.datetime(2017, 12, 1, 0, 32, 26), tpep_dropoff_datetime=datetime.datetime(2017, 12, 1, 0, 40, 59), passenger_count=2.0, trip_distance=1.14, RatecodeID=1.0, store_and_fwd_flag='N', PULocationID=75.0, DOLocationID=24.0, payment_type=2.0, fare_amount=7.5, extra=0.5, mta_tax=0.5, tip_amount=0.0, tolls_amount=0.0, improvement_surcharge=0.3, total_amount=8.8),\n",
       " Row(VendorID=2.0, tpep_pickup_datetime=datetime.datetime(2017, 12, 1, 0, 33, 51), tpep_dropoff_datetime=datetime.datetime(2017, 12, 1, 0, 37, 18), passenger_count=1.0, trip_distance=0.5, RatecodeID=1.0, store_and_fwd_flag='N', PULocationID=164.0, DOLocationID=170.0, payment_type=2.0, fare_amount=4.5, extra=0.5, mta_tax=0.5, tip_amount=0.0, tolls_amount=0.0, improvement_surcharge=0.3, total_amount=5.8),\n",
       " Row(VendorID=2.0, tpep_pickup_datetime=datetime.datetime(2017, 12, 1, 0, 48, 6), tpep_dropoff_datetime=datetime.datetime(2017, 12, 1, 1, 8, 50), passenger_count=1.0, trip_distance=6.0, RatecodeID=1.0, store_and_fwd_flag='N', PULocationID=137.0, DOLocationID=61.0, payment_type=2.0, fare_amount=20.5, extra=0.5, mta_tax=0.5, tip_amount=0.0, tolls_amount=0.0, improvement_surcharge=0.3, total_amount=21.8),\n",
       " Row(VendorID=1.0, tpep_pickup_datetime=datetime.datetime(2017, 12, 1, 0, 25, 41), tpep_dropoff_datetime=datetime.datetime(2017, 12, 1, 0, 35, 39), passenger_count=1.0, trip_distance=2.9, RatecodeID=1.0, store_and_fwd_flag='N', PULocationID=237.0, DOLocationID=74.0, payment_type=2.0, fare_amount=10.5, extra=0.5, mta_tax=0.5, tip_amount=0.0, tolls_amount=0.0, improvement_surcharge=0.3, total_amount=11.8),\n",
       " Row(VendorID=1.0, tpep_pickup_datetime=datetime.datetime(2017, 12, 1, 0, 3, 10), tpep_dropoff_datetime=datetime.datetime(2017, 12, 1, 0, 6, 42), passenger_count=1.0, trip_distance=0.6, RatecodeID=1.0, store_and_fwd_flag='N', PULocationID=4.0, DOLocationID=79.0, payment_type=2.0, fare_amount=4.5, extra=0.5, mta_tax=0.5, tip_amount=0.0, tolls_amount=0.0, improvement_surcharge=0.3, total_amount=5.8),\n",
       " Row(VendorID=1.0, tpep_pickup_datetime=datetime.datetime(2017, 12, 1, 0, 46, 44), tpep_dropoff_datetime=datetime.datetime(2017, 12, 1, 0, 52, 36), passenger_count=1.0, trip_distance=1.1, RatecodeID=1.0, store_and_fwd_flag='N', PULocationID=237.0, DOLocationID=48.0, payment_type=2.0, fare_amount=6.0, extra=0.5, mta_tax=0.5, tip_amount=0.0, tolls_amount=0.0, improvement_surcharge=0.3, total_amount=7.3),\n",
       " Row(VendorID=1.0, tpep_pickup_datetime=datetime.datetime(2017, 12, 1, 0, 46), tpep_dropoff_datetime=datetime.datetime(2017, 12, 1, 0, 46), passenger_count=1.0, trip_distance=0.0, RatecodeID=1.0, store_and_fwd_flag='N', PULocationID=264.0, DOLocationID=264.0, payment_type=2.0, fare_amount=13.5, extra=0.5, mta_tax=0.5, tip_amount=0.0, tolls_amount=0.0, improvement_surcharge=0.3, total_amount=14.8),\n",
       " Row(VendorID=1.0, tpep_pickup_datetime=datetime.datetime(2017, 12, 1, 0, 40, 5), tpep_dropoff_datetime=datetime.datetime(2017, 12, 1, 0, 57, 26), passenger_count=1.0, trip_distance=7.2, RatecodeID=1.0, store_and_fwd_flag='N', PULocationID=249.0, DOLocationID=181.0, payment_type=2.0, fare_amount=22.0, extra=0.0, mta_tax=0.5, tip_amount=0.0, tolls_amount=0.0, improvement_surcharge=0.3, total_amount=22.8),\n",
       " Row(VendorID=1.0, tpep_pickup_datetime=datetime.datetime(2017, 12, 1, 0, 33, 59), tpep_dropoff_datetime=datetime.datetime(2017, 12, 1, 1, 16, 18), passenger_count=1.0, trip_distance=16.7, RatecodeID=1.0, store_and_fwd_flag='N', PULocationID=48.0, DOLocationID=132.0, payment_type=2.0, fare_amount=50.0, extra=0.5, mta_tax=0.5, tip_amount=0.0, tolls_amount=0.0, improvement_surcharge=0.3, total_amount=51.3),\n",
       " Row(VendorID=1.0, tpep_pickup_datetime=datetime.datetime(2017, 12, 1, 0, 9, 5), tpep_dropoff_datetime=datetime.datetime(2017, 12, 1, 0, 14, 22), passenger_count=1.0, trip_distance=1.3, RatecodeID=1.0, store_and_fwd_flag='N', PULocationID=230.0, DOLocationID=142.0, payment_type=2.0, fare_amount=6.5, extra=0.5, mta_tax=0.5, tip_amount=0.0, tolls_amount=0.0, improvement_surcharge=0.3, total_amount=7.8),\n",
       " Row(VendorID=2.0, tpep_pickup_datetime=datetime.datetime(2017, 12, 1, 0, 50, 39), tpep_dropoff_datetime=datetime.datetime(2017, 12, 1, 0, 57, 27), passenger_count=1.0, trip_distance=2.89, RatecodeID=1.0, store_and_fwd_flag='N', PULocationID=129.0, DOLocationID=83.0, payment_type=2.0, fare_amount=10.5, extra=0.5, mta_tax=0.5, tip_amount=0.0, tolls_amount=0.0, improvement_surcharge=0.3, total_amount=11.8),\n",
       " Row(VendorID=1.0, tpep_pickup_datetime=datetime.datetime(2017, 12, 1, 0, 15, 55), tpep_dropoff_datetime=datetime.datetime(2017, 12, 1, 0, 20, 51), passenger_count=1.0, trip_distance=0.6, RatecodeID=1.0, store_and_fwd_flag='N', PULocationID=161.0, DOLocationID=162.0, payment_type=2.0, fare_amount=5.0, extra=0.5, mta_tax=0.5, tip_amount=0.0, tolls_amount=0.0, improvement_surcharge=0.3, total_amount=6.3),\n",
       " Row(VendorID=1.0, tpep_pickup_datetime=datetime.datetime(2017, 12, 1, 0, 27, 7), tpep_dropoff_datetime=datetime.datetime(2017, 12, 1, 0, 34, 41), passenger_count=4.0, trip_distance=0.8, RatecodeID=1.0, store_and_fwd_flag='N', PULocationID=161.0, DOLocationID=48.0, payment_type=2.0, fare_amount=6.5, extra=0.5, mta_tax=0.5, tip_amount=0.0, tolls_amount=0.0, improvement_surcharge=0.3, total_amount=7.8),\n",
       " Row(VendorID=2.0, tpep_pickup_datetime=datetime.datetime(2017, 12, 1, 0, 55, 22), tpep_dropoff_datetime=datetime.datetime(2017, 12, 1, 1, 7, 54), passenger_count=6.0, trip_distance=3.8, RatecodeID=1.0, store_and_fwd_flag='N', PULocationID=163.0, DOLocationID=226.0, payment_type=2.0, fare_amount=13.5, extra=0.5, mta_tax=0.5, tip_amount=0.0, tolls_amount=0.0, improvement_surcharge=0.3, total_amount=14.8),\n",
       " Row(VendorID=1.0, tpep_pickup_datetime=datetime.datetime(2017, 12, 1, 0, 23, 56), tpep_dropoff_datetime=datetime.datetime(2017, 12, 1, 0, 36, 12), passenger_count=1.0, trip_distance=3.9, RatecodeID=1.0, store_and_fwd_flag='N', PULocationID=142.0, DOLocationID=116.0, payment_type=2.0, fare_amount=13.5, extra=0.5, mta_tax=0.5, tip_amount=0.0, tolls_amount=0.0, improvement_surcharge=0.3, total_amount=14.8),\n",
       " Row(VendorID=2.0, tpep_pickup_datetime=datetime.datetime(2017, 12, 1, 0, 17, 40), tpep_dropoff_datetime=datetime.datetime(2017, 12, 1, 0, 41, 33), passenger_count=1.0, trip_distance=13.72, RatecodeID=1.0, store_and_fwd_flag='N', PULocationID=132.0, DOLocationID=155.0, payment_type=2.0, fare_amount=38.5, extra=0.5, mta_tax=0.5, tip_amount=0.0, tolls_amount=0.0, improvement_surcharge=0.3, total_amount=39.8),\n",
       " Row(VendorID=1.0, tpep_pickup_datetime=datetime.datetime(2017, 12, 1, 0, 8, 53), tpep_dropoff_datetime=datetime.datetime(2017, 12, 1, 0, 8, 53), passenger_count=2.0, trip_distance=0.0, RatecodeID=1.0, store_and_fwd_flag='N', PULocationID=186.0, DOLocationID=264.0, payment_type=2.0, fare_amount=9.0, extra=0.5, mta_tax=0.5, tip_amount=0.0, tolls_amount=0.0, improvement_surcharge=0.3, total_amount=10.3),\n",
       " Row(VendorID=1.0, tpep_pickup_datetime=datetime.datetime(2017, 12, 1, 0, 29, 16), tpep_dropoff_datetime=datetime.datetime(2017, 12, 1, 0, 34, 49), passenger_count=1.0, trip_distance=0.9, RatecodeID=1.0, store_and_fwd_flag='N', PULocationID=230.0, DOLocationID=230.0, payment_type=2.0, fare_amount=5.5, extra=0.5, mta_tax=0.5, tip_amount=0.0, tolls_amount=0.0, improvement_surcharge=0.3, total_amount=6.8),\n",
       " Row(VendorID=1.0, tpep_pickup_datetime=datetime.datetime(2017, 12, 1, 0, 12, 4), tpep_dropoff_datetime=datetime.datetime(2017, 12, 1, 0, 29, 40), passenger_count=2.0, trip_distance=7.6, RatecodeID=1.0, store_and_fwd_flag='N', PULocationID=87.0, DOLocationID=14.0, payment_type=2.0, fare_amount=23.0, extra=0.5, mta_tax=0.5, tip_amount=0.0, tolls_amount=5.76, improvement_surcharge=0.3, total_amount=30.06),\n",
       " Row(VendorID=1.0, tpep_pickup_datetime=datetime.datetime(2017, 12, 1, 0, 34, 42), tpep_dropoff_datetime=datetime.datetime(2017, 12, 1, 1, 1, 42), passenger_count=1.0, trip_distance=16.5, RatecodeID=2.0, store_and_fwd_flag='N', PULocationID=132.0, DOLocationID=170.0, payment_type=2.0, fare_amount=52.0, extra=0.0, mta_tax=0.5, tip_amount=0.0, tolls_amount=5.76, improvement_surcharge=0.3, total_amount=58.56),\n",
       " Row(VendorID=1.0, tpep_pickup_datetime=datetime.datetime(2017, 12, 1, 0, 49, 12), tpep_dropoff_datetime=datetime.datetime(2017, 12, 1, 0, 59, 59), passenger_count=1.0, trip_distance=2.2, RatecodeID=1.0, store_and_fwd_flag='N', PULocationID=50.0, DOLocationID=234.0, payment_type=2.0, fare_amount=9.5, extra=0.5, mta_tax=0.5, tip_amount=0.0, tolls_amount=0.0, improvement_surcharge=0.3, total_amount=10.8),\n",
       " Row(VendorID=1.0, tpep_pickup_datetime=datetime.datetime(2017, 12, 1, 0, 49, 44), tpep_dropoff_datetime=datetime.datetime(2017, 12, 1, 0, 53, 42), passenger_count=2.0, trip_distance=0.8, RatecodeID=1.0, store_and_fwd_flag='N', PULocationID=230.0, DOLocationID=186.0, payment_type=2.0, fare_amount=5.0, extra=0.5, mta_tax=0.5, tip_amount=0.0, tolls_amount=0.0, improvement_surcharge=0.3, total_amount=6.3),\n",
       " Row(VendorID=1.0, tpep_pickup_datetime=datetime.datetime(2017, 12, 1, 0, 12, 14), tpep_dropoff_datetime=datetime.datetime(2017, 12, 1, 0, 27, 24), passenger_count=1.0, trip_distance=3.4, RatecodeID=1.0, store_and_fwd_flag='N', PULocationID=163.0, DOLocationID=226.0, payment_type=2.0, fare_amount=14.0, extra=0.5, mta_tax=0.5, tip_amount=0.0, tolls_amount=0.0, improvement_surcharge=0.3, total_amount=15.3),\n",
       " Row(VendorID=2.0, tpep_pickup_datetime=datetime.datetime(2017, 12, 1, 0, 10, 3), tpep_dropoff_datetime=datetime.datetime(2017, 12, 1, 0, 24), passenger_count=6.0, trip_distance=2.94, RatecodeID=1.0, store_and_fwd_flag='N', PULocationID=236.0, DOLocationID=164.0, payment_type=2.0, fare_amount=12.5, extra=0.5, mta_tax=0.5, tip_amount=0.0, tolls_amount=0.0, improvement_surcharge=0.3, total_amount=13.8),\n",
       " Row(VendorID=1.0, tpep_pickup_datetime=datetime.datetime(2017, 12, 1, 0, 22, 47), tpep_dropoff_datetime=datetime.datetime(2017, 12, 1, 0, 27, 21), passenger_count=3.0, trip_distance=0.5, RatecodeID=1.0, store_and_fwd_flag='N', PULocationID=148.0, DOLocationID=148.0, payment_type=2.0, fare_amount=5.0, extra=0.5, mta_tax=0.5, tip_amount=0.0, tolls_amount=0.0, improvement_surcharge=0.3, total_amount=6.3),\n",
       " Row(VendorID=1.0, tpep_pickup_datetime=datetime.datetime(2017, 12, 1, 0, 41, 21), tpep_dropoff_datetime=datetime.datetime(2017, 12, 1, 0, 51, 38), passenger_count=1.0, trip_distance=3.2, RatecodeID=1.0, store_and_fwd_flag='N', PULocationID=233.0, DOLocationID=112.0, payment_type=2.0, fare_amount=11.5, extra=0.5, mta_tax=0.5, tip_amount=0.0, tolls_amount=5.76, improvement_surcharge=0.3, total_amount=18.56),\n",
       " Row(VendorID=2.0, tpep_pickup_datetime=datetime.datetime(2017, 12, 1, 0, 17, 14), tpep_dropoff_datetime=datetime.datetime(2017, 12, 1, 0, 28, 37), passenger_count=1.0, trip_distance=2.01, RatecodeID=1.0, store_and_fwd_flag='N', PULocationID=237.0, DOLocationID=186.0, payment_type=2.0, fare_amount=9.5, extra=0.5, mta_tax=0.5, tip_amount=0.0, tolls_amount=0.0, improvement_surcharge=0.3, total_amount=10.8),\n",
       " Row(VendorID=1.0, tpep_pickup_datetime=datetime.datetime(2017, 12, 1, 0, 1, 28), tpep_dropoff_datetime=datetime.datetime(2017, 12, 1, 0, 10, 47), passenger_count=2.0, trip_distance=1.9, RatecodeID=1.0, store_and_fwd_flag='N', PULocationID=264.0, DOLocationID=264.0, payment_type=2.0, fare_amount=9.0, extra=0.5, mta_tax=0.5, tip_amount=0.0, tolls_amount=0.0, improvement_surcharge=0.3, total_amount=10.3),\n",
       " Row(VendorID=1.0, tpep_pickup_datetime=datetime.datetime(2017, 12, 1, 0, 24, 37), tpep_dropoff_datetime=datetime.datetime(2017, 12, 1, 0, 41, 47), passenger_count=1.0, trip_distance=6.3, RatecodeID=1.0, store_and_fwd_flag='N', PULocationID=152.0, DOLocationID=186.0, payment_type=2.0, fare_amount=20.5, extra=0.5, mta_tax=0.5, tip_amount=0.0, tolls_amount=0.0, improvement_surcharge=0.3, total_amount=21.8),\n",
       " Row(VendorID=1.0, tpep_pickup_datetime=datetime.datetime(2017, 12, 1, 0, 56, 1), tpep_dropoff_datetime=datetime.datetime(2017, 12, 1, 1, 6, 4), passenger_count=1.0, trip_distance=2.1, RatecodeID=1.0, store_and_fwd_flag='N', PULocationID=163.0, DOLocationID=140.0, payment_type=2.0, fare_amount=9.5, extra=0.5, mta_tax=0.5, tip_amount=0.0, tolls_amount=0.0, improvement_surcharge=0.3, total_amount=10.8),\n",
       " Row(VendorID=1.0, tpep_pickup_datetime=datetime.datetime(2017, 12, 1, 0, 31, 13), tpep_dropoff_datetime=datetime.datetime(2017, 12, 1, 0, 49, 16), passenger_count=2.0, trip_distance=3.8, RatecodeID=1.0, store_and_fwd_flag='N', PULocationID=144.0, DOLocationID=61.0, payment_type=2.0, fare_amount=15.5, extra=0.5, mta_tax=0.5, tip_amount=0.0, tolls_amount=0.0, improvement_surcharge=0.3, total_amount=16.8),\n",
       " Row(VendorID=1.0, tpep_pickup_datetime=datetime.datetime(2017, 12, 1, 0, 11, 15), tpep_dropoff_datetime=datetime.datetime(2017, 12, 1, 0, 13, 1), passenger_count=1.0, trip_distance=0.3, RatecodeID=1.0, store_and_fwd_flag='N', PULocationID=162.0, DOLocationID=164.0, payment_type=2.0, fare_amount=3.5, extra=0.5, mta_tax=0.5, tip_amount=0.0, tolls_amount=0.0, improvement_surcharge=0.3, total_amount=4.8),\n",
       " Row(VendorID=1.0, tpep_pickup_datetime=datetime.datetime(2017, 12, 1, 0, 1, 5), tpep_dropoff_datetime=datetime.datetime(2017, 12, 1, 0, 3, 40), passenger_count=1.0, trip_distance=0.7, RatecodeID=1.0, store_and_fwd_flag='N', PULocationID=79.0, DOLocationID=107.0, payment_type=2.0, fare_amount=4.5, extra=0.5, mta_tax=0.5, tip_amount=0.0, tolls_amount=0.0, improvement_surcharge=0.3, total_amount=5.8),\n",
       " Row(VendorID=2.0, tpep_pickup_datetime=datetime.datetime(2017, 12, 1, 0, 30, 53), tpep_dropoff_datetime=datetime.datetime(2017, 12, 1, 0, 36, 29), passenger_count=2.0, trip_distance=0.51, RatecodeID=1.0, store_and_fwd_flag='N', PULocationID=148.0, DOLocationID=148.0, payment_type=2.0, fare_amount=5.5, extra=0.5, mta_tax=0.5, tip_amount=0.0, tolls_amount=0.0, improvement_surcharge=0.3, total_amount=6.8),\n",
       " Row(VendorID=2.0, tpep_pickup_datetime=datetime.datetime(2017, 12, 1, 0, 45, 37), tpep_dropoff_datetime=datetime.datetime(2017, 12, 1, 0, 55, 44), passenger_count=1.0, trip_distance=2.0, RatecodeID=1.0, store_and_fwd_flag='N', PULocationID=249.0, DOLocationID=230.0, payment_type=2.0, fare_amount=9.0, extra=0.5, mta_tax=0.5, tip_amount=0.0, tolls_amount=0.0, improvement_surcharge=0.3, total_amount=10.3),\n",
       " Row(VendorID=1.0, tpep_pickup_datetime=datetime.datetime(2017, 12, 1, 0, 4, 39), tpep_dropoff_datetime=datetime.datetime(2017, 12, 1, 0, 29, 44), passenger_count=1.0, trip_distance=5.7, RatecodeID=1.0, store_and_fwd_flag='N', PULocationID=164.0, DOLocationID=74.0, payment_type=2.0, fare_amount=21.0, extra=0.5, mta_tax=0.5, tip_amount=0.0, tolls_amount=0.0, improvement_surcharge=0.3, total_amount=22.3),\n",
       " Row(VendorID=2.0, tpep_pickup_datetime=datetime.datetime(2017, 12, 1, 0, 44, 59), tpep_dropoff_datetime=datetime.datetime(2017, 12, 1, 1, 4, 44), passenger_count=5.0, trip_distance=7.23, RatecodeID=1.0, store_and_fwd_flag='N', PULocationID=233.0, DOLocationID=196.0, payment_type=2.0, fare_amount=21.0, extra=0.5, mta_tax=0.5, tip_amount=0.0, tolls_amount=5.76, improvement_surcharge=0.3, total_amount=28.06),\n",
       " Row(VendorID=1.0, tpep_pickup_datetime=datetime.datetime(2017, 12, 1, 0, 41, 49), tpep_dropoff_datetime=datetime.datetime(2017, 12, 1, 0, 46, 40), passenger_count=2.0, trip_distance=0.7, RatecodeID=1.0, store_and_fwd_flag='N', PULocationID=48.0, DOLocationID=48.0, payment_type=2.0, fare_amount=5.0, extra=0.5, mta_tax=0.5, tip_amount=0.0, tolls_amount=0.0, improvement_surcharge=0.3, total_amount=6.3),\n",
       " Row(VendorID=1.0, tpep_pickup_datetime=datetime.datetime(2017, 12, 1, 0, 45, 33), tpep_dropoff_datetime=datetime.datetime(2017, 12, 1, 0, 45, 33), passenger_count=1.0, trip_distance=0.0, RatecodeID=1.0, store_and_fwd_flag='N', PULocationID=114.0, DOLocationID=264.0, payment_type=2.0, fare_amount=11.0, extra=0.5, mta_tax=0.5, tip_amount=0.0, tolls_amount=0.0, improvement_surcharge=0.3, total_amount=12.3),\n",
       " Row(VendorID=2.0, tpep_pickup_datetime=datetime.datetime(2017, 12, 1, 0, 32, 13), tpep_dropoff_datetime=datetime.datetime(2017, 12, 1, 0, 34, 50), passenger_count=1.0, trip_distance=0.65, RatecodeID=1.0, store_and_fwd_flag='N', PULocationID=211.0, DOLocationID=249.0, payment_type=2.0, fare_amount=4.0, extra=0.5, mta_tax=0.5, tip_amount=0.0, tolls_amount=0.0, improvement_surcharge=0.3, total_amount=5.3),\n",
       " Row(VendorID=2.0, tpep_pickup_datetime=datetime.datetime(2017, 12, 1, 0, 47, 30), tpep_dropoff_datetime=datetime.datetime(2017, 12, 1, 0, 55, 31), passenger_count=5.0, trip_distance=2.82, RatecodeID=1.0, store_and_fwd_flag='N', PULocationID=162.0, DOLocationID=75.0, payment_type=2.0, fare_amount=10.0, extra=0.5, mta_tax=0.5, tip_amount=0.0, tolls_amount=0.0, improvement_surcharge=0.3, total_amount=11.3),\n",
       " Row(VendorID=1.0, tpep_pickup_datetime=datetime.datetime(2017, 12, 1, 0, 12, 41), tpep_dropoff_datetime=datetime.datetime(2017, 12, 1, 0, 22, 13), passenger_count=1.0, trip_distance=2.0, RatecodeID=1.0, store_and_fwd_flag='N', PULocationID=79.0, DOLocationID=164.0, payment_type=2.0, fare_amount=9.0, extra=0.5, mta_tax=0.5, tip_amount=0.0, tolls_amount=0.0, improvement_surcharge=0.3, total_amount=10.3),\n",
       " Row(VendorID=1.0, tpep_pickup_datetime=datetime.datetime(2017, 12, 1, 0, 23, 33), tpep_dropoff_datetime=datetime.datetime(2017, 12, 1, 0, 39, 17), passenger_count=1.0, trip_distance=2.4, RatecodeID=1.0, store_and_fwd_flag='N', PULocationID=114.0, DOLocationID=66.0, payment_type=2.0, fare_amount=12.5, extra=0.5, mta_tax=0.5, tip_amount=0.0, tolls_amount=0.0, improvement_surcharge=0.3, total_amount=13.8),\n",
       " Row(VendorID=1.0, tpep_pickup_datetime=datetime.datetime(2017, 12, 1, 0, 24, 41), tpep_dropoff_datetime=datetime.datetime(2017, 12, 1, 0, 28, 34), passenger_count=1.0, trip_distance=0.3, RatecodeID=1.0, store_and_fwd_flag='N', PULocationID=229.0, DOLocationID=229.0, payment_type=2.0, fare_amount=4.5, extra=0.5, mta_tax=0.5, tip_amount=0.0, tolls_amount=0.0, improvement_surcharge=0.3, total_amount=5.8),\n",
       " Row(VendorID=1.0, tpep_pickup_datetime=datetime.datetime(2017, 12, 1, 0, 49, 54), tpep_dropoff_datetime=datetime.datetime(2017, 12, 1, 0, 54, 18), passenger_count=1.0, trip_distance=0.8, RatecodeID=1.0, store_and_fwd_flag='N', PULocationID=236.0, DOLocationID=75.0, payment_type=2.0, fare_amount=5.5, extra=0.5, mta_tax=0.5, tip_amount=0.0, tolls_amount=0.0, improvement_surcharge=0.3, total_amount=6.8),\n",
       " Row(VendorID=1.0, tpep_pickup_datetime=datetime.datetime(2017, 12, 1, 0, 11, 40), tpep_dropoff_datetime=datetime.datetime(2017, 12, 1, 0, 41, 19), passenger_count=3.0, trip_distance=17.7, RatecodeID=2.0, store_and_fwd_flag='N', PULocationID=132.0, DOLocationID=68.0, payment_type=2.0, fare_amount=52.0, extra=0.0, mta_tax=0.5, tip_amount=0.0, tolls_amount=5.76, improvement_surcharge=0.3, total_amount=58.56),\n",
       " Row(VendorID=1.0, tpep_pickup_datetime=datetime.datetime(2017, 12, 1, 0, 0, 51), tpep_dropoff_datetime=datetime.datetime(2017, 12, 1, 0, 4, 10), passenger_count=1.0, trip_distance=0.5, RatecodeID=1.0, store_and_fwd_flag='N', PULocationID=249.0, DOLocationID=114.0, payment_type=2.0, fare_amount=4.0, extra=0.5, mta_tax=0.5, tip_amount=0.0, tolls_amount=0.0, improvement_surcharge=0.3, total_amount=5.3),\n",
       " Row(VendorID=1.0, tpep_pickup_datetime=datetime.datetime(2017, 12, 1, 0, 28, 57), tpep_dropoff_datetime=datetime.datetime(2017, 12, 1, 0, 37, 22), passenger_count=1.0, trip_distance=1.4, RatecodeID=1.0, store_and_fwd_flag='N', PULocationID=211.0, DOLocationID=107.0, payment_type=2.0, fare_amount=8.0, extra=0.5, mta_tax=0.5, tip_amount=0.0, tolls_amount=0.0, improvement_surcharge=0.3, total_amount=9.3),\n",
       " Row(VendorID=1.0, tpep_pickup_datetime=datetime.datetime(2017, 12, 1, 0, 38, 28), tpep_dropoff_datetime=datetime.datetime(2017, 12, 1, 0, 54, 36), passenger_count=1.0, trip_distance=4.6, RatecodeID=1.0, store_and_fwd_flag='N', PULocationID=107.0, DOLocationID=193.0, payment_type=2.0, fare_amount=16.0, extra=0.5, mta_tax=0.5, tip_amount=0.0, tolls_amount=0.0, improvement_surcharge=0.3, total_amount=17.3),\n",
       " Row(VendorID=2.0, tpep_pickup_datetime=datetime.datetime(2017, 12, 1, 0, 29, 46), tpep_dropoff_datetime=datetime.datetime(2017, 12, 1, 0, 37, 32), passenger_count=1.0, trip_distance=1.67, RatecodeID=1.0, store_and_fwd_flag='N', PULocationID=249.0, DOLocationID=68.0, payment_type=2.0, fare_amount=7.5, extra=0.5, mta_tax=0.5, tip_amount=0.0, tolls_amount=0.0, improvement_surcharge=0.3, total_amount=8.8),\n",
       " Row(VendorID=2.0, tpep_pickup_datetime=datetime.datetime(2017, 12, 1, 0, 12, 46), tpep_dropoff_datetime=datetime.datetime(2017, 12, 1, 0, 20, 9), passenger_count=6.0, trip_distance=1.6, RatecodeID=1.0, store_and_fwd_flag='N', PULocationID=48.0, DOLocationID=170.0, payment_type=2.0, fare_amount=7.5, extra=0.5, mta_tax=0.5, tip_amount=0.0, tolls_amount=0.0, improvement_surcharge=0.3, total_amount=8.8),\n",
       " Row(VendorID=2.0, tpep_pickup_datetime=datetime.datetime(2017, 12, 1, 0, 11, 53), tpep_dropoff_datetime=datetime.datetime(2017, 12, 1, 0, 19, 38), passenger_count=1.0, trip_distance=1.31, RatecodeID=1.0, store_and_fwd_flag='N', PULocationID=90.0, DOLocationID=249.0, payment_type=2.0, fare_amount=7.0, extra=0.5, mta_tax=0.5, tip_amount=0.0, tolls_amount=0.0, improvement_surcharge=0.3, total_amount=8.3),\n",
       " Row(VendorID=1.0, tpep_pickup_datetime=datetime.datetime(2017, 12, 1, 0, 28, 34), tpep_dropoff_datetime=datetime.datetime(2017, 12, 1, 0, 42, 35), passenger_count=1.0, trip_distance=3.7, RatecodeID=1.0, store_and_fwd_flag='N', PULocationID=256.0, DOLocationID=137.0, payment_type=2.0, fare_amount=14.0, extra=0.5, mta_tax=0.5, tip_amount=0.0, tolls_amount=0.0, improvement_surcharge=0.3, total_amount=15.3),\n",
       " Row(VendorID=1.0, tpep_pickup_datetime=datetime.datetime(2017, 12, 1, 0, 7, 59), tpep_dropoff_datetime=datetime.datetime(2017, 12, 1, 0, 15, 8), passenger_count=1.0, trip_distance=0.8, RatecodeID=1.0, store_and_fwd_flag='N', PULocationID=161.0, DOLocationID=230.0, payment_type=2.0, fare_amount=6.0, extra=0.5, mta_tax=0.5, tip_amount=0.0, tolls_amount=0.0, improvement_surcharge=0.3, total_amount=7.3),\n",
       " Row(VendorID=2.0, tpep_pickup_datetime=datetime.datetime(2017, 12, 1, 0, 13, 4), tpep_dropoff_datetime=datetime.datetime(2017, 12, 1, 0, 16, 25), passenger_count=1.0, trip_distance=0.64, RatecodeID=1.0, store_and_fwd_flag='N', PULocationID=7.0, DOLocationID=7.0, payment_type=2.0, fare_amount=4.5, extra=0.5, mta_tax=0.5, tip_amount=0.0, tolls_amount=0.0, improvement_surcharge=0.3, total_amount=5.8),\n",
       " Row(VendorID=2.0, tpep_pickup_datetime=datetime.datetime(2017, 12, 1, 0, 34, 17), tpep_dropoff_datetime=datetime.datetime(2017, 12, 1, 0, 34, 49), passenger_count=1.0, trip_distance=0.0, RatecodeID=1.0, store_and_fwd_flag='N', PULocationID=161.0, DOLocationID=161.0, payment_type=2.0, fare_amount=2.5, extra=0.5, mta_tax=0.5, tip_amount=0.0, tolls_amount=0.0, improvement_surcharge=0.3, total_amount=3.8),\n",
       " Row(VendorID=1.0, tpep_pickup_datetime=datetime.datetime(2017, 12, 1, 0, 50, 36), tpep_dropoff_datetime=datetime.datetime(2017, 12, 1, 1, 4, 10), passenger_count=1.0, trip_distance=4.3, RatecodeID=1.0, store_and_fwd_flag='N', PULocationID=186.0, DOLocationID=261.0, payment_type=2.0, fare_amount=15.0, extra=0.5, mta_tax=0.5, tip_amount=0.0, tolls_amount=0.0, improvement_surcharge=0.3, total_amount=16.3),\n",
       " Row(VendorID=2.0, tpep_pickup_datetime=datetime.datetime(2017, 12, 1, 0, 55, 36), tpep_dropoff_datetime=datetime.datetime(2017, 12, 1, 1, 7, 19), passenger_count=1.0, trip_distance=1.8, RatecodeID=1.0, store_and_fwd_flag='N', PULocationID=79.0, DOLocationID=90.0, payment_type=2.0, fare_amount=9.5, extra=0.5, mta_tax=0.5, tip_amount=0.0, tolls_amount=0.0, improvement_surcharge=0.3, total_amount=10.8),\n",
       " Row(VendorID=1.0, tpep_pickup_datetime=datetime.datetime(2017, 12, 1, 0, 28, 35), tpep_dropoff_datetime=datetime.datetime(2017, 12, 1, 0, 32, 58), passenger_count=0.0, trip_distance=0.6, RatecodeID=1.0, store_and_fwd_flag='N', PULocationID=264.0, DOLocationID=264.0, payment_type=2.0, fare_amount=5.0, extra=0.5, mta_tax=0.5, tip_amount=0.0, tolls_amount=0.0, improvement_surcharge=0.3, total_amount=6.3),\n",
       " Row(VendorID=1.0, tpep_pickup_datetime=datetime.datetime(2017, 12, 1, 0, 13, 30), tpep_dropoff_datetime=datetime.datetime(2017, 12, 1, 0, 15, 9), passenger_count=1.0, trip_distance=0.5, RatecodeID=1.0, store_and_fwd_flag='N', PULocationID=161.0, DOLocationID=170.0, payment_type=2.0, fare_amount=4.0, extra=0.5, mta_tax=0.5, tip_amount=0.0, tolls_amount=0.0, improvement_surcharge=0.3, total_amount=5.3),\n",
       " Row(VendorID=1.0, tpep_pickup_datetime=datetime.datetime(2017, 12, 1, 0, 45, 43), tpep_dropoff_datetime=datetime.datetime(2017, 12, 1, 1, 2, 55), passenger_count=1.0, trip_distance=2.8, RatecodeID=1.0, store_and_fwd_flag='N', PULocationID=249.0, DOLocationID=261.0, payment_type=2.0, fare_amount=13.5, extra=0.5, mta_tax=0.5, tip_amount=0.0, tolls_amount=0.0, improvement_surcharge=0.3, total_amount=14.8),\n",
       " Row(VendorID=2.0, tpep_pickup_datetime=datetime.datetime(2017, 12, 1, 0, 24, 37), tpep_dropoff_datetime=datetime.datetime(2017, 12, 1, 0, 29, 44), passenger_count=2.0, trip_distance=1.03, RatecodeID=1.0, store_and_fwd_flag='N', PULocationID=79.0, DOLocationID=107.0, payment_type=2.0, fare_amount=6.0, extra=0.5, mta_tax=0.5, tip_amount=0.0, tolls_amount=0.0, improvement_surcharge=0.3, total_amount=7.3),\n",
       " Row(VendorID=2.0, tpep_pickup_datetime=datetime.datetime(2017, 12, 1, 0, 59, 16), tpep_dropoff_datetime=datetime.datetime(2017, 12, 1, 1, 4, 10), passenger_count=1.0, trip_distance=0.58, RatecodeID=1.0, store_and_fwd_flag='N', PULocationID=161.0, DOLocationID=162.0, payment_type=2.0, fare_amount=5.0, extra=0.5, mta_tax=0.5, tip_amount=0.0, tolls_amount=0.0, improvement_surcharge=0.3, total_amount=6.3),\n",
       " Row(VendorID=1.0, tpep_pickup_datetime=datetime.datetime(2017, 12, 1, 0, 5, 47), tpep_dropoff_datetime=datetime.datetime(2017, 12, 1, 0, 25, 34), passenger_count=1.0, trip_distance=5.7, RatecodeID=1.0, store_and_fwd_flag='N', PULocationID=13.0, DOLocationID=189.0, payment_type=2.0, fare_amount=19.0, extra=0.5, mta_tax=0.5, tip_amount=0.0, tolls_amount=0.0, improvement_surcharge=0.3, total_amount=20.3),\n",
       " Row(VendorID=1.0, tpep_pickup_datetime=datetime.datetime(2017, 12, 1, 0, 46, 59), tpep_dropoff_datetime=datetime.datetime(2017, 12, 1, 1, 3, 52), passenger_count=1.0, trip_distance=8.0, RatecodeID=1.0, store_and_fwd_flag='N', PULocationID=132.0, DOLocationID=76.0, payment_type=2.0, fare_amount=23.0, extra=0.5, mta_tax=0.5, tip_amount=0.0, tolls_amount=0.0, improvement_surcharge=0.3, total_amount=24.3),\n",
       " Row(VendorID=1.0, tpep_pickup_datetime=datetime.datetime(2017, 12, 1, 0, 39, 35), tpep_dropoff_datetime=datetime.datetime(2017, 12, 1, 0, 42, 29), passenger_count=1.0, trip_distance=0.8, RatecodeID=1.0, store_and_fwd_flag='N', PULocationID=263.0, DOLocationID=75.0, payment_type=2.0, fare_amount=5.0, extra=0.5, mta_tax=0.5, tip_amount=0.0, tolls_amount=0.0, improvement_surcharge=0.3, total_amount=6.3),\n",
       " Row(VendorID=2.0, tpep_pickup_datetime=datetime.datetime(2017, 12, 1, 0, 10, 31), tpep_dropoff_datetime=datetime.datetime(2017, 12, 1, 0, 21, 51), passenger_count=5.0, trip_distance=6.79, RatecodeID=1.0, store_and_fwd_flag='N', PULocationID=132.0, DOLocationID=63.0, payment_type=2.0, fare_amount=20.0, extra=0.5, mta_tax=0.5, tip_amount=0.0, tolls_amount=0.0, improvement_surcharge=0.3, total_amount=21.3),\n",
       " Row(VendorID=2.0, tpep_pickup_datetime=datetime.datetime(2017, 12, 1, 0, 41, 30), tpep_dropoff_datetime=datetime.datetime(2017, 12, 1, 0, 54), passenger_count=5.0, trip_distance=8.41, RatecodeID=1.0, store_and_fwd_flag='N', PULocationID=132.0, DOLocationID=222.0, payment_type=2.0, fare_amount=23.5, extra=0.5, mta_tax=0.5, tip_amount=0.0, tolls_amount=0.0, improvement_surcharge=0.3, total_amount=24.8),\n",
       " Row(VendorID=2.0, tpep_pickup_datetime=datetime.datetime(2017, 12, 1, 0, 34, 16), tpep_dropoff_datetime=datetime.datetime(2017, 12, 1, 0, 42, 23), passenger_count=6.0, trip_distance=0.92, RatecodeID=1.0, store_and_fwd_flag='N', PULocationID=144.0, DOLocationID=79.0, payment_type=2.0, fare_amount=7.0, extra=0.5, mta_tax=0.5, tip_amount=0.0, tolls_amount=0.0, improvement_surcharge=0.3, total_amount=8.3),\n",
       " Row(VendorID=1.0, tpep_pickup_datetime=datetime.datetime(2017, 12, 1, 0, 47, 57), tpep_dropoff_datetime=datetime.datetime(2017, 12, 1, 1, 2, 23), passenger_count=1.0, trip_distance=2.3, RatecodeID=1.0, store_and_fwd_flag='N', PULocationID=48.0, DOLocationID=137.0, payment_type=2.0, fare_amount=11.5, extra=0.5, mta_tax=0.5, tip_amount=0.0, tolls_amount=0.0, improvement_surcharge=0.3, total_amount=12.8),\n",
       " Row(VendorID=1.0, tpep_pickup_datetime=datetime.datetime(2017, 12, 1, 0, 25, 11), tpep_dropoff_datetime=datetime.datetime(2017, 12, 1, 0, 30, 55), passenger_count=1.0, trip_distance=1.4, RatecodeID=1.0, store_and_fwd_flag='N', PULocationID=48.0, DOLocationID=142.0, payment_type=2.0, fare_amount=6.5, extra=0.5, mta_tax=0.5, tip_amount=0.0, tolls_amount=0.0, improvement_surcharge=0.3, total_amount=7.8),\n",
       " Row(VendorID=2.0, tpep_pickup_datetime=datetime.datetime(2017, 12, 1, 0, 21, 55), tpep_dropoff_datetime=datetime.datetime(2017, 12, 1, 0, 22, 53), passenger_count=1.0, trip_distance=0.05, RatecodeID=1.0, store_and_fwd_flag='N', PULocationID=230.0, DOLocationID=230.0, payment_type=2.0, fare_amount=0.0, extra=0.0, mta_tax=0.0, tip_amount=0.0, tolls_amount=0.0, improvement_surcharge=0.0, total_amount=0.0),\n",
       " Row(VendorID=2.0, tpep_pickup_datetime=datetime.datetime(2017, 12, 1, 0, 31, 38), tpep_dropoff_datetime=datetime.datetime(2017, 12, 1, 1, 10, 38), passenger_count=1.0, trip_distance=21.17, RatecodeID=2.0, store_and_fwd_flag='N', PULocationID=132.0, DOLocationID=143.0, payment_type=2.0, fare_amount=52.0, extra=0.0, mta_tax=0.5, tip_amount=0.0, tolls_amount=5.76, improvement_surcharge=0.3, total_amount=58.56),\n",
       " Row(VendorID=2.0, tpep_pickup_datetime=datetime.datetime(2017, 12, 1, 0, 23, 23), tpep_dropoff_datetime=datetime.datetime(2017, 12, 1, 0, 33, 7), passenger_count=1.0, trip_distance=2.72, RatecodeID=1.0, store_and_fwd_flag='N', PULocationID=140.0, DOLocationID=151.0, payment_type=2.0, fare_amount=10.5, extra=0.5, mta_tax=0.5, tip_amount=0.0, tolls_amount=0.0, improvement_surcharge=0.3, total_amount=11.8),\n",
       " Row(VendorID=1.0, tpep_pickup_datetime=datetime.datetime(2017, 12, 1, 0, 32, 52), tpep_dropoff_datetime=datetime.datetime(2017, 12, 1, 0, 53, 4), passenger_count=1.0, trip_distance=5.3, RatecodeID=1.0, store_and_fwd_flag='N', PULocationID=48.0, DOLocationID=116.0, payment_type=2.0, fare_amount=19.0, extra=0.5, mta_tax=0.5, tip_amount=0.0, tolls_amount=0.0, improvement_surcharge=0.3, total_amount=20.3),\n",
       " Row(VendorID=1.0, tpep_pickup_datetime=datetime.datetime(2017, 12, 1, 0, 37, 15), tpep_dropoff_datetime=datetime.datetime(2017, 12, 1, 0, 37, 57), passenger_count=1.0, trip_distance=0.2, RatecodeID=1.0, store_and_fwd_flag='N', PULocationID=261.0, DOLocationID=261.0, payment_type=2.0, fare_amount=3.0, extra=0.5, mta_tax=0.5, tip_amount=0.0, tolls_amount=0.0, improvement_surcharge=0.3, total_amount=4.3),\n",
       " Row(VendorID=2.0, tpep_pickup_datetime=datetime.datetime(2017, 12, 1, 0, 5, 51), tpep_dropoff_datetime=datetime.datetime(2017, 12, 1, 0, 19, 36), passenger_count=1.0, trip_distance=4.53, RatecodeID=1.0, store_and_fwd_flag='N', PULocationID=232.0, DOLocationID=140.0, payment_type=2.0, fare_amount=15.0, extra=0.5, mta_tax=0.5, tip_amount=0.0, tolls_amount=0.0, improvement_surcharge=0.3, total_amount=16.3),\n",
       " Row(VendorID=2.0, tpep_pickup_datetime=datetime.datetime(2017, 12, 1, 0, 12), tpep_dropoff_datetime=datetime.datetime(2017, 12, 1, 0, 29, 15), passenger_count=6.0, trip_distance=3.27, RatecodeID=1.0, store_and_fwd_flag='N', PULocationID=90.0, DOLocationID=232.0, payment_type=2.0, fare_amount=14.0, extra=0.5, mta_tax=0.5, tip_amount=0.0, tolls_amount=0.0, improvement_surcharge=0.3, total_amount=15.3),\n",
       " Row(VendorID=2.0, tpep_pickup_datetime=datetime.datetime(2017, 12, 1, 0, 41, 15), tpep_dropoff_datetime=datetime.datetime(2017, 12, 1, 0, 45, 48), passenger_count=1.0, trip_distance=0.02, RatecodeID=1.0, store_and_fwd_flag='N', PULocationID=161.0, DOLocationID=161.0, payment_type=2.0, fare_amount=4.5, extra=0.5, mta_tax=0.5, tip_amount=0.0, tolls_amount=0.0, improvement_surcharge=0.3, total_amount=5.8),\n",
       " Row(VendorID=1.0, tpep_pickup_datetime=datetime.datetime(2017, 12, 1, 0, 10, 45), tpep_dropoff_datetime=datetime.datetime(2017, 12, 1, 0, 21, 8), passenger_count=2.0, trip_distance=2.0, RatecodeID=1.0, store_and_fwd_flag='N', PULocationID=107.0, DOLocationID=161.0, payment_type=2.0, fare_amount=9.0, extra=0.5, mta_tax=0.5, tip_amount=0.0, tolls_amount=0.0, improvement_surcharge=0.3, total_amount=10.3),\n",
       " Row(VendorID=2.0, tpep_pickup_datetime=datetime.datetime(2017, 12, 1, 0, 12, 40), tpep_dropoff_datetime=datetime.datetime(2017, 12, 1, 0, 28, 13), passenger_count=1.0, trip_distance=2.57, RatecodeID=1.0, store_and_fwd_flag='N', PULocationID=238.0, DOLocationID=74.0, payment_type=2.0, fare_amount=13.0, extra=0.5, mta_tax=0.5, tip_amount=0.0, tolls_amount=0.0, improvement_surcharge=0.3, total_amount=14.3),\n",
       " Row(VendorID=1.0, tpep_pickup_datetime=datetime.datetime(2017, 12, 1, 0, 8, 57), tpep_dropoff_datetime=datetime.datetime(2017, 12, 1, 0, 24, 40), passenger_count=1.0, trip_distance=2.4, RatecodeID=1.0, store_and_fwd_flag='N', PULocationID=230.0, DOLocationID=113.0, payment_type=2.0, fare_amount=12.0, extra=0.5, mta_tax=0.5, tip_amount=0.0, tolls_amount=0.0, improvement_surcharge=0.3, total_amount=13.3),\n",
       " Row(VendorID=1.0, tpep_pickup_datetime=datetime.datetime(2017, 12, 1, 0, 45, 51), tpep_dropoff_datetime=datetime.datetime(2017, 12, 1, 0, 48, 17), passenger_count=1.0, trip_distance=0.6, RatecodeID=1.0, store_and_fwd_flag='N', PULocationID=125.0, DOLocationID=158.0, payment_type=2.0, fare_amount=4.0, extra=0.5, mta_tax=0.5, tip_amount=0.0, tolls_amount=0.0, improvement_surcharge=0.3, total_amount=5.3),\n",
       " Row(VendorID=1.0, tpep_pickup_datetime=datetime.datetime(2017, 12, 1, 0, 55), tpep_dropoff_datetime=datetime.datetime(2017, 12, 1, 1, 27, 55), passenger_count=1.0, trip_distance=10.5, RatecodeID=1.0, store_and_fwd_flag='N', PULocationID=90.0, DOLocationID=89.0, payment_type=2.0, fare_amount=33.0, extra=0.5, mta_tax=0.5, tip_amount=0.0, tolls_amount=0.0, improvement_surcharge=0.3, total_amount=34.3),\n",
       " Row(VendorID=1.0, tpep_pickup_datetime=datetime.datetime(2017, 12, 1, 0, 30, 25), tpep_dropoff_datetime=datetime.datetime(2017, 12, 1, 0, 40, 32), passenger_count=1.0, trip_distance=2.3, RatecodeID=1.0, store_and_fwd_flag='N', PULocationID=237.0, DOLocationID=107.0, payment_type=2.0, fare_amount=10.0, extra=0.5, mta_tax=0.5, tip_amount=0.0, tolls_amount=0.0, improvement_surcharge=0.3, total_amount=11.3),\n",
       " Row(VendorID=2.0, tpep_pickup_datetime=datetime.datetime(2017, 12, 1, 0, 6, 21), tpep_dropoff_datetime=datetime.datetime(2017, 12, 1, 0, 12, 43), passenger_count=2.0, trip_distance=1.1, RatecodeID=1.0, store_and_fwd_flag='N', PULocationID=114.0, DOLocationID=107.0, payment_type=2.0, fare_amount=6.5, extra=0.5, mta_tax=0.5, tip_amount=0.0, tolls_amount=0.0, improvement_surcharge=0.3, total_amount=7.8),\n",
       " Row(VendorID=1.0, tpep_pickup_datetime=datetime.datetime(2017, 12, 1, 0, 19, 44), tpep_dropoff_datetime=datetime.datetime(2017, 12, 1, 0, 38, 11), passenger_count=1.0, trip_distance=3.9, RatecodeID=1.0, store_and_fwd_flag='N', PULocationID=50.0, DOLocationID=209.0, payment_type=2.0, fare_amount=16.0, extra=0.5, mta_tax=0.5, tip_amount=0.0, tolls_amount=0.0, improvement_surcharge=0.3, total_amount=17.3),\n",
       " Row(VendorID=1.0, tpep_pickup_datetime=datetime.datetime(2017, 12, 1, 0, 39, 35), tpep_dropoff_datetime=datetime.datetime(2017, 12, 1, 0, 48, 34), passenger_count=1.0, trip_distance=3.5, RatecodeID=1.0, store_and_fwd_flag='N', PULocationID=209.0, DOLocationID=107.0, payment_type=2.0, fare_amount=12.0, extra=0.5, mta_tax=0.5, tip_amount=0.0, tolls_amount=0.0, improvement_surcharge=0.3, total_amount=13.3),\n",
       " Row(VendorID=1.0, tpep_pickup_datetime=datetime.datetime(2017, 12, 1, 0, 12), tpep_dropoff_datetime=datetime.datetime(2017, 12, 1, 0, 12, 51), passenger_count=1.0, trip_distance=0.0, RatecodeID=1.0, store_and_fwd_flag='N', PULocationID=226.0, DOLocationID=226.0, payment_type=3.0, fare_amount=2.5, extra=0.5, mta_tax=0.5, tip_amount=0.0, tolls_amount=0.0, improvement_surcharge=0.3, total_amount=3.8),\n",
       " Row(VendorID=1.0, tpep_pickup_datetime=datetime.datetime(2017, 12, 1, 0, 13, 37), tpep_dropoff_datetime=datetime.datetime(2017, 12, 1, 0, 13, 47), passenger_count=1.0, trip_distance=0.0, RatecodeID=1.0, store_and_fwd_flag='N', PULocationID=226.0, DOLocationID=226.0, payment_type=3.0, fare_amount=2.5, extra=0.5, mta_tax=0.5, tip_amount=0.0, tolls_amount=0.0, improvement_surcharge=0.3, total_amount=3.8),\n",
       " Row(VendorID=1.0, tpep_pickup_datetime=datetime.datetime(2017, 12, 1, 0, 14, 15), tpep_dropoff_datetime=datetime.datetime(2017, 12, 1, 0, 15, 5), passenger_count=1.0, trip_distance=0.0, RatecodeID=1.0, store_and_fwd_flag='N', PULocationID=226.0, DOLocationID=226.0, payment_type=3.0, fare_amount=2.5, extra=0.5, mta_tax=0.5, tip_amount=0.0, tolls_amount=0.0, improvement_surcharge=0.3, total_amount=3.8),\n",
       " Row(VendorID=1.0, tpep_pickup_datetime=datetime.datetime(2017, 12, 1, 0, 15, 33), tpep_dropoff_datetime=datetime.datetime(2017, 12, 1, 0, 15, 37), passenger_count=1.0, trip_distance=0.0, RatecodeID=1.0, store_and_fwd_flag='N', PULocationID=226.0, DOLocationID=226.0, payment_type=3.0, fare_amount=2.5, extra=0.5, mta_tax=0.5, tip_amount=0.0, tolls_amount=0.0, improvement_surcharge=0.3, total_amount=3.8),\n",
       " Row(VendorID=1.0, tpep_pickup_datetime=datetime.datetime(2017, 12, 1, 0, 1, 15), tpep_dropoff_datetime=datetime.datetime(2017, 12, 1, 0, 34, 36), passenger_count=1.0, trip_distance=9.5, RatecodeID=1.0, store_and_fwd_flag='N', PULocationID=232.0, DOLocationID=167.0, payment_type=3.0, fare_amount=32.0, extra=0.5, mta_tax=0.5, tip_amount=0.0, tolls_amount=0.0, improvement_surcharge=0.3, total_amount=33.3),\n",
       " Row(VendorID=1.0, tpep_pickup_datetime=datetime.datetime(2017, 12, 1, 0, 15, 14), tpep_dropoff_datetime=datetime.datetime(2017, 12, 1, 0, 23), passenger_count=1.0, trip_distance=1.8, RatecodeID=1.0, store_and_fwd_flag='N', PULocationID=249.0, DOLocationID=100.0, payment_type=3.0, fare_amount=8.0, extra=0.5, mta_tax=0.5, tip_amount=0.0, tolls_amount=0.0, improvement_surcharge=0.3, total_amount=9.3),\n",
       " Row(VendorID=1.0, tpep_pickup_datetime=datetime.datetime(2017, 12, 1, 0, 37, 17), tpep_dropoff_datetime=datetime.datetime(2017, 12, 1, 0, 43, 34), passenger_count=4.0, trip_distance=0.8, RatecodeID=1.0, store_and_fwd_flag='N', PULocationID=161.0, DOLocationID=230.0, payment_type=3.0, fare_amount=6.0, extra=0.5, mta_tax=0.5, tip_amount=0.0, tolls_amount=0.0, improvement_surcharge=0.3, total_amount=7.3),\n",
       " Row(VendorID=1.0, tpep_pickup_datetime=datetime.datetime(2017, 12, 1, 0, 48, 39), tpep_dropoff_datetime=datetime.datetime(2017, 12, 1, 0, 49, 14), passenger_count=1.0, trip_distance=0.0, RatecodeID=1.0, store_and_fwd_flag='N', PULocationID=163.0, DOLocationID=163.0, payment_type=3.0, fare_amount=2.5, extra=0.5, mta_tax=0.5, tip_amount=0.0, tolls_amount=0.0, improvement_surcharge=0.3, total_amount=3.8),\n",
       " Row(VendorID=1.0, tpep_pickup_datetime=datetime.datetime(2017, 12, 1, 0, 34, 51), tpep_dropoff_datetime=datetime.datetime(2017, 12, 1, 0, 36, 56), passenger_count=1.0, trip_distance=0.2, RatecodeID=1.0, store_and_fwd_flag='N', PULocationID=45.0, DOLocationID=148.0, payment_type=3.0, fare_amount=3.5, extra=0.5, mta_tax=0.5, tip_amount=0.0, tolls_amount=0.0, improvement_surcharge=0.3, total_amount=4.8),\n",
       " Row(VendorID=1.0, tpep_pickup_datetime=datetime.datetime(2017, 12, 1, 0, 0, 53), tpep_dropoff_datetime=datetime.datetime(2017, 12, 1, 0, 1, 23), passenger_count=1.0, trip_distance=0.0, RatecodeID=1.0, store_and_fwd_flag='N', PULocationID=236.0, DOLocationID=236.0, payment_type=3.0, fare_amount=2.5, extra=0.5, mta_tax=0.5, tip_amount=0.0, tolls_amount=0.0, improvement_surcharge=0.3, total_amount=3.8),\n",
       " Row(VendorID=2.0, tpep_pickup_datetime=datetime.datetime(2017, 12, 1, 0, 41, 15), tpep_dropoff_datetime=datetime.datetime(2017, 12, 1, 0, 45, 48), passenger_count=1.0, trip_distance=0.02, RatecodeID=1.0, store_and_fwd_flag='N', PULocationID=161.0, DOLocationID=161.0, payment_type=3.0, fare_amount=-4.5, extra=-0.5, mta_tax=-0.5, tip_amount=0.0, tolls_amount=0.0, improvement_surcharge=-0.3, total_amount=-5.8),\n",
       " Row(VendorID=1.0, tpep_pickup_datetime=datetime.datetime(2017, 12, 1, 0, 1, 19), tpep_dropoff_datetime=datetime.datetime(2017, 12, 1, 0, 16, 22), passenger_count=1.0, trip_distance=2.0, RatecodeID=1.0, store_and_fwd_flag='N', PULocationID=162.0, DOLocationID=48.0, payment_type=3.0, fare_amount=11.0, extra=0.5, mta_tax=0.5, tip_amount=0.0, tolls_amount=0.0, improvement_surcharge=0.3, total_amount=12.3),\n",
       " Row(VendorID=1.0, tpep_pickup_datetime=datetime.datetime(2017, 12, 1, 0, 17, 5), tpep_dropoff_datetime=datetime.datetime(2017, 12, 1, 0, 56, 51), passenger_count=1.0, trip_distance=22.3, RatecodeID=5.0, store_and_fwd_flag='N', PULocationID=48.0, DOLocationID=265.0, payment_type=3.0, fare_amount=0.0, extra=0.0, mta_tax=0.0, tip_amount=0.0, tolls_amount=10.5, improvement_surcharge=0.3, total_amount=10.8),\n",
       " Row(VendorID=1.0, tpep_pickup_datetime=datetime.datetime(2017, 12, 1, 0, 49, 41), tpep_dropoff_datetime=datetime.datetime(2017, 12, 1, 0, 57, 5), passenger_count=1.0, trip_distance=1.5, RatecodeID=1.0, store_and_fwd_flag='N', PULocationID=142.0, DOLocationID=162.0, payment_type=3.0, fare_amount=7.0, extra=0.5, mta_tax=0.5, tip_amount=0.0, tolls_amount=0.0, improvement_surcharge=0.3, total_amount=8.3),\n",
       " Row(VendorID=2.0, tpep_pickup_datetime=datetime.datetime(2017, 12, 1, 0, 19, 46), tpep_dropoff_datetime=datetime.datetime(2017, 12, 1, 0, 21, 11), passenger_count=1.0, trip_distance=0.26, RatecodeID=1.0, store_and_fwd_flag='N', PULocationID=7.0, DOLocationID=7.0, payment_type=3.0, fare_amount=-3.0, extra=-0.5, mta_tax=-0.5, tip_amount=0.0, tolls_amount=0.0, improvement_surcharge=-0.3, total_amount=-4.3),\n",
       " Row(VendorID=1.0, tpep_pickup_datetime=datetime.datetime(2017, 12, 1, 0, 11, 59), tpep_dropoff_datetime=datetime.datetime(2017, 12, 1, 0, 54, 47), passenger_count=1.0, trip_distance=13.2, RatecodeID=1.0, store_and_fwd_flag='N', PULocationID=230.0, DOLocationID=92.0, payment_type=3.0, fare_amount=40.0, extra=0.5, mta_tax=0.5, tip_amount=0.0, tolls_amount=0.0, improvement_surcharge=0.3, total_amount=41.3),\n",
       " Row(VendorID=1.0, tpep_pickup_datetime=datetime.datetime(2017, 12, 1, 0, 6, 30), tpep_dropoff_datetime=datetime.datetime(2017, 12, 1, 0, 29, 6), passenger_count=1.0, trip_distance=6.7, RatecodeID=1.0, store_and_fwd_flag='N', PULocationID=87.0, DOLocationID=112.0, payment_type=3.0, fare_amount=22.5, extra=0.5, mta_tax=0.5, tip_amount=0.0, tolls_amount=0.0, improvement_surcharge=0.3, total_amount=23.8),\n",
       " Row(VendorID=1.0, tpep_pickup_datetime=datetime.datetime(2017, 12, 1, 0, 33, 39), tpep_dropoff_datetime=datetime.datetime(2017, 12, 1, 0, 36, 48), passenger_count=1.0, trip_distance=0.2, RatecodeID=1.0, store_and_fwd_flag='N', PULocationID=107.0, DOLocationID=107.0, payment_type=3.0, fare_amount=4.0, extra=0.5, mta_tax=0.5, tip_amount=0.0, tolls_amount=0.0, improvement_surcharge=0.3, total_amount=5.3),\n",
       " Row(VendorID=1.0, tpep_pickup_datetime=datetime.datetime(2017, 12, 1, 0, 20, 5), tpep_dropoff_datetime=datetime.datetime(2017, 12, 1, 0, 35, 17), passenger_count=1.0, trip_distance=3.3, RatecodeID=1.0, store_and_fwd_flag='N', PULocationID=74.0, DOLocationID=116.0, payment_type=3.0, fare_amount=14.0, extra=0.5, mta_tax=0.5, tip_amount=0.0, tolls_amount=0.0, improvement_surcharge=0.3, total_amount=15.3),\n",
       " Row(VendorID=1.0, tpep_pickup_datetime=datetime.datetime(2017, 12, 1, 0, 28, 22), tpep_dropoff_datetime=datetime.datetime(2017, 12, 1, 0, 41, 54), passenger_count=1.0, trip_distance=2.3, RatecodeID=1.0, store_and_fwd_flag='N', PULocationID=144.0, DOLocationID=68.0, payment_type=3.0, fare_amount=11.0, extra=0.5, mta_tax=0.5, tip_amount=0.0, tolls_amount=0.0, improvement_surcharge=0.3, total_amount=12.3),\n",
       " Row(VendorID=1.0, tpep_pickup_datetime=datetime.datetime(2017, 12, 1, 0, 2, 30), tpep_dropoff_datetime=datetime.datetime(2017, 12, 1, 0, 47, 2), passenger_count=1.0, trip_distance=21.0, RatecodeID=1.0, store_and_fwd_flag='N', PULocationID=141.0, DOLocationID=150.0, payment_type=3.0, fare_amount=58.5, extra=0.5, mta_tax=0.5, tip_amount=0.0, tolls_amount=0.0, improvement_surcharge=0.3, total_amount=59.8),\n",
       " Row(VendorID=1.0, tpep_pickup_datetime=datetime.datetime(2017, 12, 1, 0, 52, 55), tpep_dropoff_datetime=datetime.datetime(2017, 12, 1, 1, 0, 53), passenger_count=1.0, trip_distance=1.0, RatecodeID=1.0, store_and_fwd_flag='N', PULocationID=229.0, DOLocationID=163.0, payment_type=3.0, fare_amount=7.0, extra=0.5, mta_tax=0.5, tip_amount=0.0, tolls_amount=0.0, improvement_surcharge=0.3, total_amount=8.3),\n",
       " Row(VendorID=1.0, tpep_pickup_datetime=datetime.datetime(2017, 12, 1, 0, 38, 23), tpep_dropoff_datetime=datetime.datetime(2017, 12, 1, 0, 40, 1), passenger_count=0.0, trip_distance=0.2, RatecodeID=1.0, store_and_fwd_flag='N', PULocationID=238.0, DOLocationID=238.0, payment_type=3.0, fare_amount=3.5, extra=0.5, mta_tax=0.5, tip_amount=0.0, tolls_amount=0.0, improvement_surcharge=0.3, total_amount=4.8),\n",
       " Row(VendorID=1.0, tpep_pickup_datetime=datetime.datetime(2017, 12, 1, 0, 53, 53), tpep_dropoff_datetime=datetime.datetime(2017, 12, 1, 1, 5, 13), passenger_count=1.0, trip_distance=0.7, RatecodeID=1.0, store_and_fwd_flag='N', PULocationID=181.0, DOLocationID=97.0, payment_type=3.0, fare_amount=7.0, extra=0.5, mta_tax=0.5, tip_amount=0.0, tolls_amount=0.0, improvement_surcharge=0.3, total_amount=8.3),\n",
       " Row(VendorID=1.0, tpep_pickup_datetime=datetime.datetime(2017, 12, 1, 0, 57, 48), tpep_dropoff_datetime=datetime.datetime(2017, 12, 1, 1, 9, 2), passenger_count=1.0, trip_distance=1.4, RatecodeID=1.0, store_and_fwd_flag='N', PULocationID=113.0, DOLocationID=158.0, payment_type=3.0, fare_amount=8.0, extra=0.5, mta_tax=0.5, tip_amount=0.0, tolls_amount=0.0, improvement_surcharge=0.3, total_amount=9.3),\n",
       " Row(VendorID=1.0, tpep_pickup_datetime=datetime.datetime(2017, 12, 1, 0, 52, 21), tpep_dropoff_datetime=datetime.datetime(2017, 12, 1, 1, 5, 56), passenger_count=2.0, trip_distance=2.8, RatecodeID=1.0, store_and_fwd_flag='N', PULocationID=113.0, DOLocationID=261.0, payment_type=3.0, fare_amount=11.5, extra=0.5, mta_tax=0.5, tip_amount=0.0, tolls_amount=0.0, improvement_surcharge=0.3, total_amount=12.8),\n",
       " Row(VendorID=1.0, tpep_pickup_datetime=datetime.datetime(2017, 12, 1, 0, 35, 30), tpep_dropoff_datetime=datetime.datetime(2017, 12, 1, 1, 3, 48), passenger_count=1.0, trip_distance=4.8, RatecodeID=1.0, store_and_fwd_flag='N', PULocationID=261.0, DOLocationID=261.0, payment_type=3.0, fare_amount=21.5, extra=0.5, mta_tax=0.5, tip_amount=0.0, tolls_amount=0.0, improvement_surcharge=0.3, total_amount=22.8),\n",
       " Row(VendorID=1.0, tpep_pickup_datetime=datetime.datetime(2017, 12, 1, 0, 48, 7), tpep_dropoff_datetime=datetime.datetime(2017, 12, 1, 0, 48, 31), passenger_count=1.0, trip_distance=0.6, RatecodeID=1.0, store_and_fwd_flag='N', PULocationID=90.0, DOLocationID=90.0, payment_type=3.0, fare_amount=2.5, extra=0.5, mta_tax=0.5, tip_amount=0.0, tolls_amount=0.0, improvement_surcharge=0.3, total_amount=3.8),\n",
       " Row(VendorID=1.0, tpep_pickup_datetime=datetime.datetime(2017, 12, 1, 0, 10, 29), tpep_dropoff_datetime=datetime.datetime(2017, 12, 1, 0, 26, 53), passenger_count=1.0, trip_distance=4.3, RatecodeID=1.0, store_and_fwd_flag='N', PULocationID=209.0, DOLocationID=106.0, payment_type=3.0, fare_amount=16.0, extra=0.5, mta_tax=0.5, tip_amount=0.0, tolls_amount=0.0, improvement_surcharge=0.3, total_amount=17.3),\n",
       " Row(VendorID=1.0, tpep_pickup_datetime=datetime.datetime(2017, 12, 1, 0, 43, 11), tpep_dropoff_datetime=datetime.datetime(2017, 12, 1, 1, 35, 1), passenger_count=1.0, trip_distance=7.9, RatecodeID=1.0, store_and_fwd_flag='N', PULocationID=113.0, DOLocationID=36.0, payment_type=3.0, fare_amount=36.0, extra=0.5, mta_tax=0.5, tip_amount=0.0, tolls_amount=0.0, improvement_surcharge=0.3, total_amount=37.3),\n",
       " Row(VendorID=1.0, tpep_pickup_datetime=datetime.datetime(2017, 12, 1, 0, 17, 23), tpep_dropoff_datetime=datetime.datetime(2017, 12, 1, 0, 25, 27), passenger_count=1.0, trip_distance=1.8, RatecodeID=1.0, store_and_fwd_flag='N', PULocationID=48.0, DOLocationID=68.0, payment_type=3.0, fare_amount=8.0, extra=0.5, mta_tax=0.5, tip_amount=0.0, tolls_amount=0.0, improvement_surcharge=0.3, total_amount=9.3),\n",
       " Row(VendorID=1.0, tpep_pickup_datetime=datetime.datetime(2017, 12, 1, 0, 32, 21), tpep_dropoff_datetime=datetime.datetime(2017, 12, 1, 0, 38, 55), passenger_count=1.0, trip_distance=1.4, RatecodeID=1.0, store_and_fwd_flag='N', PULocationID=249.0, DOLocationID=79.0, payment_type=3.0, fare_amount=6.5, extra=0.5, mta_tax=0.5, tip_amount=0.0, tolls_amount=0.0, improvement_surcharge=0.3, total_amount=7.8),\n",
       " Row(VendorID=1.0, tpep_pickup_datetime=datetime.datetime(2017, 12, 1, 0, 50, 44), tpep_dropoff_datetime=datetime.datetime(2017, 12, 1, 0, 52, 2), passenger_count=1.0, trip_distance=0.1, RatecodeID=1.0, store_and_fwd_flag='N', PULocationID=142.0, DOLocationID=43.0, payment_type=3.0, fare_amount=3.0, extra=0.5, mta_tax=0.5, tip_amount=0.0, tolls_amount=0.0, improvement_surcharge=0.3, total_amount=4.3),\n",
       " Row(VendorID=1.0, tpep_pickup_datetime=datetime.datetime(2017, 12, 1, 0, 27, 53), tpep_dropoff_datetime=datetime.datetime(2017, 12, 1, 0, 33, 57), passenger_count=1.0, trip_distance=1.8, RatecodeID=1.0, store_and_fwd_flag='N', PULocationID=263.0, DOLocationID=229.0, payment_type=3.0, fare_amount=7.5, extra=0.5, mta_tax=0.5, tip_amount=0.0, tolls_amount=0.0, improvement_surcharge=0.3, total_amount=8.8),\n",
       " Row(VendorID=1.0, tpep_pickup_datetime=datetime.datetime(2017, 12, 1, 0, 25, 4), tpep_dropoff_datetime=datetime.datetime(2017, 12, 1, 0, 30, 40), passenger_count=1.0, trip_distance=0.4, RatecodeID=1.0, store_and_fwd_flag='N', PULocationID=114.0, DOLocationID=144.0, payment_type=3.0, fare_amount=5.0, extra=0.5, mta_tax=0.5, tip_amount=0.0, tolls_amount=0.0, improvement_surcharge=0.3, total_amount=6.3),\n",
       " Row(VendorID=1.0, tpep_pickup_datetime=datetime.datetime(2017, 12, 1, 0, 0, 43), tpep_dropoff_datetime=datetime.datetime(2017, 12, 1, 0, 11, 57), passenger_count=2.0, trip_distance=2.7, RatecodeID=1.0, store_and_fwd_flag='N', PULocationID=145.0, DOLocationID=83.0, payment_type=3.0, fare_amount=11.5, extra=0.5, mta_tax=0.5, tip_amount=0.0, tolls_amount=0.0, improvement_surcharge=0.3, total_amount=12.8),\n",
       " Row(VendorID=1.0, tpep_pickup_datetime=datetime.datetime(2017, 12, 1, 0, 56, 19), tpep_dropoff_datetime=datetime.datetime(2017, 12, 1, 0, 59, 41), passenger_count=1.0, trip_distance=0.7, RatecodeID=1.0, store_and_fwd_flag='N', PULocationID=65.0, DOLocationID=97.0, payment_type=3.0, fare_amount=4.5, extra=0.5, mta_tax=0.5, tip_amount=0.0, tolls_amount=0.0, improvement_surcharge=0.3, total_amount=5.8),\n",
       " Row(VendorID=2.0, tpep_pickup_datetime=datetime.datetime(2017, 12, 1, 0, 9, 41), tpep_dropoff_datetime=datetime.datetime(2017, 12, 1, 0, 12, 2), passenger_count=6.0, trip_distance=0.4, RatecodeID=1.0, store_and_fwd_flag='N', PULocationID=233.0, DOLocationID=162.0, payment_type=3.0, fare_amount=-3.5, extra=-0.5, mta_tax=-0.5, tip_amount=0.0, tolls_amount=0.0, improvement_surcharge=-0.3, total_amount=-4.8),\n",
       " Row(VendorID=1.0, tpep_pickup_datetime=datetime.datetime(2017, 12, 1, 0, 3, 22), tpep_dropoff_datetime=datetime.datetime(2017, 12, 1, 0, 8, 32), passenger_count=1.0, trip_distance=1.0, RatecodeID=1.0, store_and_fwd_flag='N', PULocationID=142.0, DOLocationID=48.0, payment_type=3.0, fare_amount=5.5, extra=0.5, mta_tax=0.5, tip_amount=0.0, tolls_amount=0.0, improvement_surcharge=0.3, total_amount=6.8),\n",
       " Row(VendorID=1.0, tpep_pickup_datetime=datetime.datetime(2017, 12, 1, 0, 22, 52), tpep_dropoff_datetime=datetime.datetime(2017, 12, 1, 0, 31, 19), passenger_count=1.0, trip_distance=2.2, RatecodeID=1.0, store_and_fwd_flag='N', PULocationID=233.0, DOLocationID=249.0, payment_type=3.0, fare_amount=9.0, extra=0.5, mta_tax=0.5, tip_amount=0.0, tolls_amount=0.0, improvement_surcharge=0.3, total_amount=10.3),\n",
       " Row(VendorID=1.0, tpep_pickup_datetime=datetime.datetime(2017, 12, 1, 0, 38, 48), tpep_dropoff_datetime=datetime.datetime(2017, 12, 1, 0, 39, 54), passenger_count=1.0, trip_distance=0.0, RatecodeID=5.0, store_and_fwd_flag='N', PULocationID=265.0, DOLocationID=265.0, payment_type=3.0, fare_amount=535.0, extra=0.0, mta_tax=0.0, tip_amount=0.0, tolls_amount=0.0, improvement_surcharge=0.3, total_amount=535.3),\n",
       " Row(VendorID=1.0, tpep_pickup_datetime=datetime.datetime(2017, 12, 1, 0, 25, 13), tpep_dropoff_datetime=datetime.datetime(2017, 12, 1, 0, 29, 49), passenger_count=1.0, trip_distance=1.0, RatecodeID=1.0, store_and_fwd_flag='N', PULocationID=164.0, DOLocationID=161.0, payment_type=3.0, fare_amount=5.5, extra=0.5, mta_tax=0.5, tip_amount=0.0, tolls_amount=0.0, improvement_surcharge=0.3, total_amount=6.8),\n",
       " Row(VendorID=1.0, tpep_pickup_datetime=datetime.datetime(2017, 12, 1, 0, 45, 42), tpep_dropoff_datetime=datetime.datetime(2017, 12, 1, 1, 9, 6), passenger_count=1.0, trip_distance=5.6, RatecodeID=1.0, store_and_fwd_flag='N', PULocationID=231.0, DOLocationID=62.0, payment_type=3.0, fare_amount=20.5, extra=0.5, mta_tax=0.5, tip_amount=0.0, tolls_amount=0.0, improvement_surcharge=0.3, total_amount=21.8),\n",
       " Row(VendorID=1.0, tpep_pickup_datetime=datetime.datetime(2017, 12, 1, 0, 45, 43), tpep_dropoff_datetime=datetime.datetime(2017, 12, 1, 1, 5, 38), passenger_count=0.0, trip_distance=5.4, RatecodeID=1.0, store_and_fwd_flag='N', PULocationID=230.0, DOLocationID=42.0, payment_type=3.0, fare_amount=19.5, extra=0.5, mta_tax=0.5, tip_amount=0.0, tolls_amount=0.0, improvement_surcharge=0.3, total_amount=20.8),\n",
       " Row(VendorID=1.0, tpep_pickup_datetime=datetime.datetime(2017, 12, 1, 0, 52, 29), tpep_dropoff_datetime=datetime.datetime(2017, 12, 1, 1, 36, 2), passenger_count=2.0, trip_distance=39.0, RatecodeID=3.0, store_and_fwd_flag='N', PULocationID=132.0, DOLocationID=265.0, payment_type=3.0, fare_amount=117.5, extra=0.5, mta_tax=0.0, tip_amount=0.0, tolls_amount=22.02, improvement_surcharge=0.3, total_amount=140.32),\n",
       " Row(VendorID=1.0, tpep_pickup_datetime=datetime.datetime(2017, 12, 1, 0, 20, 41), tpep_dropoff_datetime=datetime.datetime(2017, 12, 1, 0, 21, 40), passenger_count=1.0, trip_distance=0.0, RatecodeID=1.0, store_and_fwd_flag='N', PULocationID=230.0, DOLocationID=230.0, payment_type=3.0, fare_amount=2.5, extra=0.5, mta_tax=0.5, tip_amount=0.0, tolls_amount=0.0, improvement_surcharge=0.3, total_amount=3.8),\n",
       " Row(VendorID=1.0, tpep_pickup_datetime=datetime.datetime(2017, 12, 1, 0, 39, 52), tpep_dropoff_datetime=datetime.datetime(2017, 12, 1, 1, 14, 38), passenger_count=1.0, trip_distance=5.6, RatecodeID=1.0, store_and_fwd_flag='N', PULocationID=145.0, DOLocationID=7.0, payment_type=3.0, fare_amount=26.0, extra=0.5, mta_tax=0.5, tip_amount=0.0, tolls_amount=0.0, improvement_surcharge=0.3, total_amount=27.3),\n",
       " Row(VendorID=1.0, tpep_pickup_datetime=datetime.datetime(2017, 12, 1, 0, 5, 34), tpep_dropoff_datetime=datetime.datetime(2017, 12, 1, 0, 19, 33), passenger_count=2.0, trip_distance=8.2, RatecodeID=1.0, store_and_fwd_flag='N', PULocationID=132.0, DOLocationID=132.0, payment_type=3.0, fare_amount=23.5, extra=0.5, mta_tax=0.5, tip_amount=0.0, tolls_amount=0.0, improvement_surcharge=0.3, total_amount=24.8),\n",
       " Row(VendorID=1.0, tpep_pickup_datetime=datetime.datetime(2017, 12, 1, 0, 25, 28), tpep_dropoff_datetime=datetime.datetime(2017, 12, 1, 0, 26, 54), passenger_count=2.0, trip_distance=0.3, RatecodeID=1.0, store_and_fwd_flag='N', PULocationID=239.0, DOLocationID=238.0, payment_type=3.0, fare_amount=3.5, extra=0.5, mta_tax=0.5, tip_amount=0.0, tolls_amount=0.0, improvement_surcharge=0.3, total_amount=4.8),\n",
       " Row(VendorID=1.0, tpep_pickup_datetime=datetime.datetime(2017, 12, 1, 0, 56, 45), tpep_dropoff_datetime=datetime.datetime(2017, 12, 1, 1, 0, 6), passenger_count=1.0, trip_distance=1.0, RatecodeID=1.0, store_and_fwd_flag='N', PULocationID=138.0, DOLocationID=70.0, payment_type=3.0, fare_amount=5.5, extra=0.5, mta_tax=0.5, tip_amount=0.0, tolls_amount=0.0, improvement_surcharge=0.3, total_amount=6.8),\n",
       " Row(VendorID=1.0, tpep_pickup_datetime=datetime.datetime(2017, 12, 1, 0, 23, 36), tpep_dropoff_datetime=datetime.datetime(2017, 12, 1, 0, 37, 8), passenger_count=2.0, trip_distance=2.0, RatecodeID=1.0, store_and_fwd_flag='Y', PULocationID=230.0, DOLocationID=170.0, payment_type=3.0, fare_amount=10.0, extra=0.5, mta_tax=0.5, tip_amount=0.0, tolls_amount=0.0, improvement_surcharge=0.3, total_amount=11.3),\n",
       " Row(VendorID=1.0, tpep_pickup_datetime=datetime.datetime(2017, 12, 1, 0, 10, 56), tpep_dropoff_datetime=datetime.datetime(2017, 12, 1, 0, 17, 3), passenger_count=1.0, trip_distance=1.4, RatecodeID=1.0, store_and_fwd_flag='N', PULocationID=223.0, DOLocationID=129.0, payment_type=3.0, fare_amount=7.0, extra=0.5, mta_tax=0.5, tip_amount=0.0, tolls_amount=0.0, improvement_surcharge=0.3, total_amount=8.3),\n",
       " Row(VendorID=1.0, tpep_pickup_datetime=datetime.datetime(2017, 12, 1, 0, 31, 26), tpep_dropoff_datetime=datetime.datetime(2017, 12, 1, 0, 44, 42), passenger_count=1.0, trip_distance=3.8, RatecodeID=1.0, store_and_fwd_flag='N', PULocationID=42.0, DOLocationID=169.0, payment_type=3.0, fare_amount=14.0, extra=0.5, mta_tax=0.5, tip_amount=0.0, tolls_amount=0.0, improvement_surcharge=0.3, total_amount=15.3),\n",
       " Row(VendorID=1.0, tpep_pickup_datetime=datetime.datetime(2017, 12, 1, 0, 49, 16), tpep_dropoff_datetime=datetime.datetime(2017, 12, 1, 0, 57, 43), passenger_count=1.0, trip_distance=1.4, RatecodeID=1.0, store_and_fwd_flag='N', PULocationID=164.0, DOLocationID=249.0, payment_type=3.0, fare_amount=8.0, extra=0.5, mta_tax=0.5, tip_amount=0.0, tolls_amount=0.0, improvement_surcharge=0.3, total_amount=9.3),\n",
       " Row(VendorID=1.0, tpep_pickup_datetime=datetime.datetime(2017, 12, 1, 0, 32, 57), tpep_dropoff_datetime=datetime.datetime(2017, 12, 1, 0, 40, 7), passenger_count=1.0, trip_distance=1.8, RatecodeID=1.0, store_and_fwd_flag='N', PULocationID=48.0, DOLocationID=90.0, payment_type=3.0, fare_amount=8.0, extra=0.5, mta_tax=0.5, tip_amount=0.0, tolls_amount=0.0, improvement_surcharge=0.3, total_amount=9.3),\n",
       " Row(VendorID=1.0, tpep_pickup_datetime=datetime.datetime(2017, 12, 1, 0, 27, 27), tpep_dropoff_datetime=datetime.datetime(2017, 12, 1, 0, 34, 54), passenger_count=1.0, trip_distance=1.2, RatecodeID=1.0, store_and_fwd_flag='N', PULocationID=244.0, DOLocationID=244.0, payment_type=3.0, fare_amount=7.0, extra=0.5, mta_tax=0.5, tip_amount=0.0, tolls_amount=0.0, improvement_surcharge=0.3, total_amount=8.3),\n",
       " Row(VendorID=1.0, tpep_pickup_datetime=datetime.datetime(2017, 12, 1, 0, 29, 19), tpep_dropoff_datetime=datetime.datetime(2017, 12, 1, 0, 30, 9), passenger_count=1.0, trip_distance=0.0, RatecodeID=1.0, store_and_fwd_flag='N', PULocationID=140.0, DOLocationID=140.0, payment_type=3.0, fare_amount=2.5, extra=0.5, mta_tax=0.5, tip_amount=0.0, tolls_amount=0.0, improvement_surcharge=0.3, total_amount=3.8),\n",
       " Row(VendorID=1.0, tpep_pickup_datetime=datetime.datetime(2017, 12, 1, 0, 26, 40), tpep_dropoff_datetime=datetime.datetime(2017, 12, 1, 0, 32, 24), passenger_count=1.0, trip_distance=1.3, RatecodeID=1.0, store_and_fwd_flag='N', PULocationID=113.0, DOLocationID=246.0, payment_type=3.0, fare_amount=6.5, extra=0.5, mta_tax=0.5, tip_amount=0.0, tolls_amount=0.0, improvement_surcharge=0.3, total_amount=7.8),\n",
       " Row(VendorID=1.0, tpep_pickup_datetime=datetime.datetime(2017, 12, 1, 0, 54, 23), tpep_dropoff_datetime=datetime.datetime(2017, 12, 1, 0, 56, 54), passenger_count=1.0, trip_distance=0.0, RatecodeID=1.0, store_and_fwd_flag='N', PULocationID=79.0, DOLocationID=148.0, payment_type=3.0, fare_amount=3.5, extra=0.5, mta_tax=0.5, tip_amount=0.0, tolls_amount=0.0, improvement_surcharge=0.3, total_amount=4.8),\n",
       " Row(VendorID=1.0, tpep_pickup_datetime=datetime.datetime(2017, 12, 1, 0, 9, 59), tpep_dropoff_datetime=datetime.datetime(2017, 12, 1, 0, 26, 12), passenger_count=1.0, trip_distance=3.0, RatecodeID=1.0, store_and_fwd_flag='N', PULocationID=144.0, DOLocationID=25.0, payment_type=3.0, fare_amount=13.0, extra=0.5, mta_tax=0.5, tip_amount=0.0, tolls_amount=0.0, improvement_surcharge=0.3, total_amount=14.3),\n",
       " Row(VendorID=1.0, tpep_pickup_datetime=datetime.datetime(2017, 12, 1, 0, 33, 15), tpep_dropoff_datetime=datetime.datetime(2017, 12, 1, 0, 35, 31), passenger_count=3.0, trip_distance=0.4, RatecodeID=1.0, store_and_fwd_flag='N', PULocationID=79.0, DOLocationID=79.0, payment_type=3.0, fare_amount=3.5, extra=0.5, mta_tax=0.5, tip_amount=0.0, tolls_amount=0.0, improvement_surcharge=0.3, total_amount=4.8),\n",
       " Row(VendorID=1.0, tpep_pickup_datetime=datetime.datetime(2017, 12, 1, 0, 4, 35), tpep_dropoff_datetime=datetime.datetime(2017, 12, 1, 0, 5, 25), passenger_count=1.0, trip_distance=0.7, RatecodeID=1.0, store_and_fwd_flag='N', PULocationID=249.0, DOLocationID=249.0, payment_type=3.0, fare_amount=2.5, extra=0.5, mta_tax=0.5, tip_amount=0.0, tolls_amount=0.0, improvement_surcharge=0.3, total_amount=3.8),\n",
       " Row(VendorID=1.0, tpep_pickup_datetime=datetime.datetime(2017, 12, 1, 0, 31, 34), tpep_dropoff_datetime=datetime.datetime(2017, 12, 1, 0, 41, 47), passenger_count=3.0, trip_distance=1.6, RatecodeID=1.0, store_and_fwd_flag='N', PULocationID=144.0, DOLocationID=45.0, payment_type=3.0, fare_amount=8.0, extra=0.5, mta_tax=0.5, tip_amount=0.0, tolls_amount=0.0, improvement_surcharge=0.3, total_amount=9.3),\n",
       " Row(VendorID=2.0, tpep_pickup_datetime=datetime.datetime(2017, 12, 1, 0, 36, 31), tpep_dropoff_datetime=datetime.datetime(2017, 12, 1, 0, 39, 36), passenger_count=1.0, trip_distance=0.72, RatecodeID=1.0, store_and_fwd_flag='N', PULocationID=113.0, DOLocationID=107.0, payment_type=3.0, fare_amount=-4.5, extra=-0.5, mta_tax=-0.5, tip_amount=0.0, tolls_amount=0.0, improvement_surcharge=-0.3, total_amount=-5.8),\n",
       " Row(VendorID=1.0, tpep_pickup_datetime=datetime.datetime(2017, 12, 1, 0, 58, 53), tpep_dropoff_datetime=datetime.datetime(2017, 12, 1, 1, 2, 33), passenger_count=1.0, trip_distance=0.3, RatecodeID=1.0, store_and_fwd_flag='N', PULocationID=163.0, DOLocationID=48.0, payment_type=3.0, fare_amount=4.0, extra=0.5, mta_tax=0.5, tip_amount=0.0, tolls_amount=0.0, improvement_surcharge=0.3, total_amount=5.3),\n",
       " Row(VendorID=1.0, tpep_pickup_datetime=datetime.datetime(2017, 12, 1, 0, 29, 43), tpep_dropoff_datetime=datetime.datetime(2017, 12, 1, 0, 29, 47), passenger_count=1.0, trip_distance=0.0, RatecodeID=1.0, store_and_fwd_flag='N', PULocationID=238.0, DOLocationID=238.0, payment_type=3.0, fare_amount=2.5, extra=0.5, mta_tax=0.5, tip_amount=0.0, tolls_amount=0.0, improvement_surcharge=0.3, total_amount=3.8),\n",
       " Row(VendorID=1.0, tpep_pickup_datetime=datetime.datetime(2017, 12, 1, 0, 23, 6), tpep_dropoff_datetime=datetime.datetime(2017, 12, 1, 0, 44, 44), passenger_count=1.0, trip_distance=4.7, RatecodeID=1.0, store_and_fwd_flag='N', PULocationID=264.0, DOLocationID=264.0, payment_type=3.0, fare_amount=18.5, extra=0.5, mta_tax=0.5, tip_amount=0.0, tolls_amount=0.0, improvement_surcharge=0.3, total_amount=19.8),\n",
       " Row(VendorID=2.0, tpep_pickup_datetime=datetime.datetime(2017, 12, 1, 1, 3, 3), tpep_dropoff_datetime=datetime.datetime(2017, 12, 1, 1, 4, 11), passenger_count=5.0, trip_distance=0.16, RatecodeID=1.0, store_and_fwd_flag='N', PULocationID=7.0, DOLocationID=7.0, payment_type=3.0, fare_amount=-3.0, extra=-0.5, mta_tax=-0.5, tip_amount=0.0, tolls_amount=0.0, improvement_surcharge=-0.3, total_amount=-4.3),\n",
       " Row(VendorID=1.0, tpep_pickup_datetime=datetime.datetime(2017, 12, 1, 0, 56, 8), tpep_dropoff_datetime=datetime.datetime(2017, 12, 1, 1, 0, 23), passenger_count=1.0, trip_distance=0.5, RatecodeID=1.0, store_and_fwd_flag='N', PULocationID=48.0, DOLocationID=50.0, payment_type=3.0, fare_amount=5.0, extra=0.5, mta_tax=0.5, tip_amount=0.0, tolls_amount=0.0, improvement_surcharge=0.3, total_amount=6.3),\n",
       " Row(VendorID=1.0, tpep_pickup_datetime=datetime.datetime(2017, 12, 1, 0, 21, 7), tpep_dropoff_datetime=datetime.datetime(2017, 12, 1, 0, 23, 11), passenger_count=1.0, trip_distance=0.6, RatecodeID=1.0, store_and_fwd_flag='N', PULocationID=217.0, DOLocationID=256.0, payment_type=3.0, fare_amount=4.0, extra=0.5, mta_tax=0.5, tip_amount=0.0, tolls_amount=0.0, improvement_surcharge=0.3, total_amount=5.3),\n",
       " Row(VendorID=1.0, tpep_pickup_datetime=datetime.datetime(2017, 12, 1, 0, 44, 25), tpep_dropoff_datetime=datetime.datetime(2017, 12, 1, 0, 58, 56), passenger_count=1.0, trip_distance=1.6, RatecodeID=1.0, store_and_fwd_flag='N', PULocationID=264.0, DOLocationID=264.0, payment_type=3.0, fare_amount=10.0, extra=0.5, mta_tax=0.5, tip_amount=0.0, tolls_amount=0.0, improvement_surcharge=0.3, total_amount=11.3),\n",
       " Row(VendorID=1.0, tpep_pickup_datetime=datetime.datetime(2017, 12, 1, 0, 15, 26), tpep_dropoff_datetime=datetime.datetime(2017, 12, 1, 0, 16, 6), passenger_count=1.0, trip_distance=0.0, RatecodeID=1.0, store_and_fwd_flag='N', PULocationID=233.0, DOLocationID=229.0, payment_type=3.0, fare_amount=2.5, extra=0.5, mta_tax=0.5, tip_amount=0.0, tolls_amount=0.0, improvement_surcharge=0.3, total_amount=3.8),\n",
       " Row(VendorID=1.0, tpep_pickup_datetime=datetime.datetime(2017, 12, 1, 0, 3, 40), tpep_dropoff_datetime=datetime.datetime(2017, 12, 1, 0, 18, 29), passenger_count=1.0, trip_distance=2.7, RatecodeID=1.0, store_and_fwd_flag='N', PULocationID=234.0, DOLocationID=163.0, payment_type=3.0, fare_amount=12.0, extra=0.5, mta_tax=0.5, tip_amount=0.0, tolls_amount=0.0, improvement_surcharge=0.3, total_amount=13.3),\n",
       " Row(VendorID=1.0, tpep_pickup_datetime=datetime.datetime(2017, 12, 1, 0, 6, 25), tpep_dropoff_datetime=datetime.datetime(2017, 12, 1, 0, 25, 52), passenger_count=1.0, trip_distance=3.2, RatecodeID=1.0, store_and_fwd_flag='N', PULocationID=158.0, DOLocationID=162.0, payment_type=3.0, fare_amount=14.5, extra=0.5, mta_tax=0.5, tip_amount=0.0, tolls_amount=0.0, improvement_surcharge=0.3, total_amount=15.8),\n",
       " Row(VendorID=1.0, tpep_pickup_datetime=datetime.datetime(2017, 12, 1, 0, 52, 54), tpep_dropoff_datetime=datetime.datetime(2017, 12, 1, 0, 55, 12), passenger_count=1.0, trip_distance=0.4, RatecodeID=1.0, store_and_fwd_flag='N', PULocationID=90.0, DOLocationID=249.0, payment_type=3.0, fare_amount=3.5, extra=0.5, mta_tax=0.5, tip_amount=0.0, tolls_amount=0.0, improvement_surcharge=0.3, total_amount=4.8),\n",
       " Row(VendorID=1.0, tpep_pickup_datetime=datetime.datetime(2017, 12, 1, 0, 55, 8), tpep_dropoff_datetime=datetime.datetime(2017, 12, 1, 1, 27, 4), passenger_count=1.0, trip_distance=11.0, RatecodeID=1.0, store_and_fwd_flag='N', PULocationID=264.0, DOLocationID=264.0, payment_type=3.0, fare_amount=34.0, extra=0.5, mta_tax=0.5, tip_amount=0.0, tolls_amount=0.0, improvement_surcharge=0.3, total_amount=35.3),\n",
       " Row(VendorID=1.0, tpep_pickup_datetime=datetime.datetime(2017, 12, 1, 0, 30, 31), tpep_dropoff_datetime=datetime.datetime(2017, 12, 1, 0, 30, 43), passenger_count=1.0, trip_distance=0.0, RatecodeID=1.0, store_and_fwd_flag='N', PULocationID=116.0, DOLocationID=116.0, payment_type=3.0, fare_amount=2.5, extra=0.5, mta_tax=0.5, tip_amount=0.0, tolls_amount=0.0, improvement_surcharge=0.3, total_amount=3.8),\n",
       " Row(VendorID=2.0, tpep_pickup_datetime=datetime.datetime(2017, 12, 1, 0, 47, 29), tpep_dropoff_datetime=datetime.datetime(2017, 12, 1, 0, 52, 25), passenger_count=2.0, trip_distance=0.98, RatecodeID=1.0, store_and_fwd_flag='N', PULocationID=48.0, DOLocationID=186.0, payment_type=3.0, fare_amount=-5.5, extra=-0.5, mta_tax=-0.5, tip_amount=0.0, tolls_amount=0.0, improvement_surcharge=-0.3, total_amount=-6.8),\n",
       " Row(VendorID=2.0, tpep_pickup_datetime=datetime.datetime(2017, 12, 1, 0, 21, 23), tpep_dropoff_datetime=datetime.datetime(2017, 12, 1, 0, 22, 55), passenger_count=1.0, trip_distance=0.06, RatecodeID=1.0, store_and_fwd_flag='N', PULocationID=162.0, DOLocationID=170.0, payment_type=3.0, fare_amount=-3.0, extra=-0.5, mta_tax=-0.5, tip_amount=0.0, tolls_amount=0.0, improvement_surcharge=-0.3, total_amount=-4.3),\n",
       " Row(VendorID=1.0, tpep_pickup_datetime=datetime.datetime(2017, 12, 1, 0, 21, 19), tpep_dropoff_datetime=datetime.datetime(2017, 12, 1, 0, 39, 40), passenger_count=1.0, trip_distance=3.5, RatecodeID=1.0, store_and_fwd_flag='N', PULocationID=79.0, DOLocationID=163.0, payment_type=3.0, fare_amount=15.0, extra=0.5, mta_tax=0.5, tip_amount=0.0, tolls_amount=0.0, improvement_surcharge=0.3, total_amount=16.3),\n",
       " Row(VendorID=1.0, tpep_pickup_datetime=datetime.datetime(2017, 12, 1, 0, 11, 26), tpep_dropoff_datetime=datetime.datetime(2017, 12, 1, 0, 11, 38), passenger_count=1.0, trip_distance=29.7, RatecodeID=1.0, store_and_fwd_flag='N', PULocationID=265.0, DOLocationID=265.0, payment_type=3.0, fare_amount=2.5, extra=0.5, mta_tax=0.5, tip_amount=0.0, tolls_amount=0.0, improvement_surcharge=0.3, total_amount=3.8),\n",
       " Row(VendorID=1.0, tpep_pickup_datetime=datetime.datetime(2017, 12, 1, 0, 12, 28), tpep_dropoff_datetime=datetime.datetime(2017, 12, 1, 0, 15, 42), passenger_count=1.0, trip_distance=29.7, RatecodeID=1.0, store_and_fwd_flag='N', PULocationID=265.0, DOLocationID=265.0, payment_type=3.0, fare_amount=4.0, extra=0.5, mta_tax=0.5, tip_amount=0.0, tolls_amount=0.0, improvement_surcharge=0.3, total_amount=5.3),\n",
       " Row(VendorID=1.0, tpep_pickup_datetime=datetime.datetime(2017, 12, 1, 0, 24, 50), tpep_dropoff_datetime=datetime.datetime(2017, 12, 1, 0, 25, 6), passenger_count=1.0, trip_distance=0.2, RatecodeID=1.0, store_and_fwd_flag='N', PULocationID=265.0, DOLocationID=265.0, payment_type=3.0, fare_amount=3.0, extra=0.5, mta_tax=0.5, tip_amount=0.0, tolls_amount=0.0, improvement_surcharge=0.3, total_amount=4.3),\n",
       " Row(VendorID=1.0, tpep_pickup_datetime=datetime.datetime(2017, 12, 1, 0, 36, 14), tpep_dropoff_datetime=datetime.datetime(2017, 12, 1, 0, 41, 34), passenger_count=1.0, trip_distance=6.1, RatecodeID=1.0, store_and_fwd_flag='N', PULocationID=265.0, DOLocationID=265.0, payment_type=3.0, fare_amount=17.0, extra=0.5, mta_tax=0.5, tip_amount=0.0, tolls_amount=0.0, improvement_surcharge=0.3, total_amount=18.3),\n",
       " Row(VendorID=1.0, tpep_pickup_datetime=datetime.datetime(2017, 12, 1, 0, 42, 45), tpep_dropoff_datetime=datetime.datetime(2017, 12, 1, 1, 4, 59), passenger_count=1.0, trip_distance=23.3, RatecodeID=4.0, store_and_fwd_flag='N', PULocationID=265.0, DOLocationID=82.0, payment_type=3.0, fare_amount=115.5, extra=0.5, mta_tax=0.5, tip_amount=0.0, tolls_amount=0.0, improvement_surcharge=0.3, total_amount=116.8),\n",
       " Row(VendorID=1.0, tpep_pickup_datetime=datetime.datetime(2017, 12, 1, 0, 25, 48), tpep_dropoff_datetime=datetime.datetime(2017, 12, 1, 0, 25, 58), passenger_count=1.0, trip_distance=0.0, RatecodeID=1.0, store_and_fwd_flag='N', PULocationID=144.0, DOLocationID=144.0, payment_type=3.0, fare_amount=2.5, extra=0.5, mta_tax=0.5, tip_amount=0.0, tolls_amount=0.0, improvement_surcharge=0.3, total_amount=3.8),\n",
       " Row(VendorID=1.0, tpep_pickup_datetime=datetime.datetime(2017, 12, 1, 0, 51, 26), tpep_dropoff_datetime=datetime.datetime(2017, 12, 1, 0, 55, 6), passenger_count=1.0, trip_distance=0.6, RatecodeID=1.0, store_and_fwd_flag='N', PULocationID=80.0, DOLocationID=80.0, payment_type=3.0, fare_amount=4.5, extra=0.5, mta_tax=0.5, tip_amount=0.0, tolls_amount=0.0, improvement_surcharge=0.3, total_amount=5.8),\n",
       " Row(VendorID=1.0, tpep_pickup_datetime=datetime.datetime(2017, 12, 1, 0, 58, 22), tpep_dropoff_datetime=datetime.datetime(2017, 12, 1, 1, 17, 43), passenger_count=1.0, trip_distance=6.0, RatecodeID=1.0, store_and_fwd_flag='N', PULocationID=7.0, DOLocationID=75.0, payment_type=3.0, fare_amount=20.0, extra=0.5, mta_tax=0.5, tip_amount=0.0, tolls_amount=0.0, improvement_surcharge=0.3, total_amount=21.3),\n",
       " Row(VendorID=1.0, tpep_pickup_datetime=datetime.datetime(2017, 12, 1, 0, 59, 34), tpep_dropoff_datetime=datetime.datetime(2017, 12, 1, 1, 27, 33), passenger_count=1.0, trip_distance=8.9, RatecodeID=1.0, store_and_fwd_flag='N', PULocationID=164.0, DOLocationID=42.0, payment_type=3.0, fare_amount=29.0, extra=0.5, mta_tax=0.5, tip_amount=0.0, tolls_amount=0.0, improvement_surcharge=0.3, total_amount=30.3),\n",
       " Row(VendorID=1.0, tpep_pickup_datetime=datetime.datetime(2017, 12, 1, 0, 18, 51), tpep_dropoff_datetime=datetime.datetime(2017, 12, 1, 0, 20, 35), passenger_count=1.0, trip_distance=0.1, RatecodeID=1.0, store_and_fwd_flag='N', PULocationID=226.0, DOLocationID=226.0, payment_type=3.0, fare_amount=3.5, extra=0.5, mta_tax=0.5, tip_amount=0.0, tolls_amount=0.0, improvement_surcharge=0.3, total_amount=4.8),\n",
       " Row(VendorID=1.0, tpep_pickup_datetime=datetime.datetime(2017, 12, 1, 0, 43, 43), tpep_dropoff_datetime=datetime.datetime(2017, 12, 1, 0, 45, 25), passenger_count=1.0, trip_distance=0.4, RatecodeID=1.0, store_and_fwd_flag='N', PULocationID=48.0, DOLocationID=48.0, payment_type=3.0, fare_amount=3.5, extra=0.5, mta_tax=0.5, tip_amount=0.0, tolls_amount=0.0, improvement_surcharge=0.3, total_amount=4.8),\n",
       " Row(VendorID=1.0, tpep_pickup_datetime=datetime.datetime(2017, 12, 1, 0, 47, 7), tpep_dropoff_datetime=datetime.datetime(2017, 12, 1, 0, 47, 44), passenger_count=1.0, trip_distance=0.8, RatecodeID=1.0, store_and_fwd_flag='N', PULocationID=100.0, DOLocationID=100.0, payment_type=3.0, fare_amount=2.5, extra=0.5, mta_tax=0.5, tip_amount=0.0, tolls_amount=0.0, improvement_surcharge=0.3, total_amount=3.8),\n",
       " Row(VendorID=1.0, tpep_pickup_datetime=datetime.datetime(2017, 12, 1, 1, 41, 34), tpep_dropoff_datetime=datetime.datetime(2017, 12, 1, 1, 44, 10), passenger_count=1.0, trip_distance=0.7, RatecodeID=1.0, store_and_fwd_flag='N', PULocationID=263.0, DOLocationID=237.0, payment_type=3.0, fare_amount=4.0, extra=0.5, mta_tax=0.5, tip_amount=0.0, tolls_amount=0.0, improvement_surcharge=0.3, total_amount=5.3),\n",
       " Row(VendorID=1.0, tpep_pickup_datetime=datetime.datetime(2017, 12, 1, 1, 16, 7), tpep_dropoff_datetime=datetime.datetime(2017, 12, 1, 1, 28, 32), passenger_count=1.0, trip_distance=2.5, RatecodeID=1.0, store_and_fwd_flag='N', PULocationID=158.0, DOLocationID=87.0, payment_type=3.0, fare_amount=10.5, extra=0.5, mta_tax=0.5, tip_amount=0.0, tolls_amount=0.0, improvement_surcharge=0.3, total_amount=11.8),\n",
       " Row(VendorID=1.0, tpep_pickup_datetime=datetime.datetime(2017, 12, 1, 1, 38, 47), tpep_dropoff_datetime=datetime.datetime(2017, 12, 1, 1, 53, 14), passenger_count=1.0, trip_distance=4.2, RatecodeID=1.0, store_and_fwd_flag='N', PULocationID=237.0, DOLocationID=260.0, payment_type=3.0, fare_amount=14.5, extra=0.5, mta_tax=0.5, tip_amount=0.0, tolls_amount=0.0, improvement_surcharge=0.3, total_amount=15.8),\n",
       " Row(VendorID=1.0, tpep_pickup_datetime=datetime.datetime(2017, 12, 1, 1, 18, 50), tpep_dropoff_datetime=datetime.datetime(2017, 12, 1, 1, 27, 21), passenger_count=2.0, trip_distance=1.9, RatecodeID=1.0, store_and_fwd_flag='N', PULocationID=7.0, DOLocationID=226.0, payment_type=3.0, fare_amount=9.0, extra=0.5, mta_tax=0.5, tip_amount=0.0, tolls_amount=0.0, improvement_surcharge=0.3, total_amount=10.3),\n",
       " Row(VendorID=1.0, tpep_pickup_datetime=datetime.datetime(2017, 12, 1, 1, 31, 11), tpep_dropoff_datetime=datetime.datetime(2017, 12, 1, 1, 32, 6), passenger_count=1.0, trip_distance=0.0, RatecodeID=1.0, store_and_fwd_flag='N', PULocationID=87.0, DOLocationID=209.0, payment_type=3.0, fare_amount=2.5, extra=0.5, mta_tax=0.5, tip_amount=0.0, tolls_amount=0.0, improvement_surcharge=0.3, total_amount=3.8),\n",
       " Row(VendorID=1.0, tpep_pickup_datetime=datetime.datetime(2017, 12, 1, 1, 49, 23), tpep_dropoff_datetime=datetime.datetime(2017, 12, 1, 1, 58, 2), passenger_count=1.0, trip_distance=1.5, RatecodeID=1.0, store_and_fwd_flag='N', PULocationID=232.0, DOLocationID=224.0, payment_type=3.0, fare_amount=7.5, extra=0.5, mta_tax=0.5, tip_amount=0.0, tolls_amount=0.0, improvement_surcharge=0.3, total_amount=8.8),\n",
       " Row(VendorID=1.0, tpep_pickup_datetime=datetime.datetime(2017, 12, 1, 1, 21, 20), tpep_dropoff_datetime=datetime.datetime(2017, 12, 1, 1, 21, 51), passenger_count=1.0, trip_distance=0.0, RatecodeID=1.0, store_and_fwd_flag='N', PULocationID=246.0, DOLocationID=246.0, payment_type=3.0, fare_amount=2.5, extra=0.5, mta_tax=0.5, tip_amount=0.0, tolls_amount=0.0, improvement_surcharge=0.3, total_amount=3.8),\n",
       " Row(VendorID=1.0, tpep_pickup_datetime=datetime.datetime(2017, 12, 1, 1, 17, 17), tpep_dropoff_datetime=datetime.datetime(2017, 12, 1, 1, 27, 47), passenger_count=1.0, trip_distance=2.7, RatecodeID=1.0, store_and_fwd_flag='N', PULocationID=234.0, DOLocationID=142.0, payment_type=3.0, fare_amount=11.0, extra=0.5, mta_tax=0.5, tip_amount=0.0, tolls_amount=0.0, improvement_surcharge=0.3, total_amount=12.3),\n",
       " Row(VendorID=2.0, tpep_pickup_datetime=datetime.datetime(2017, 12, 1, 1, 5, 17), tpep_dropoff_datetime=datetime.datetime(2017, 12, 1, 1, 6, 38), passenger_count=5.0, trip_distance=0.16, RatecodeID=1.0, store_and_fwd_flag='N', PULocationID=79.0, DOLocationID=79.0, payment_type=3.0, fare_amount=-3.0, extra=-0.5, mta_tax=-0.5, tip_amount=0.0, tolls_amount=0.0, improvement_surcharge=-0.3, total_amount=-4.3),\n",
       " Row(VendorID=2.0, tpep_pickup_datetime=datetime.datetime(2017, 12, 1, 1, 30, 29), tpep_dropoff_datetime=datetime.datetime(2017, 12, 1, 1, 31, 11), passenger_count=1.0, trip_distance=0.02, RatecodeID=1.0, store_and_fwd_flag='N', PULocationID=148.0, DOLocationID=148.0, payment_type=3.0, fare_amount=-2.5, extra=-0.5, mta_tax=-0.5, tip_amount=0.0, tolls_amount=0.0, improvement_surcharge=-0.3, total_amount=-3.8),\n",
       " Row(VendorID=1.0, tpep_pickup_datetime=datetime.datetime(2017, 12, 1, 1, 55, 48), tpep_dropoff_datetime=datetime.datetime(2017, 12, 1, 2, 0, 22), passenger_count=1.0, trip_distance=0.7, RatecodeID=1.0, store_and_fwd_flag='N', PULocationID=232.0, DOLocationID=232.0, payment_type=3.0, fare_amount=5.0, extra=0.5, mta_tax=0.5, tip_amount=0.0, tolls_amount=0.0, improvement_surcharge=0.3, total_amount=6.3),\n",
       " Row(VendorID=1.0, tpep_pickup_datetime=datetime.datetime(2017, 12, 1, 1, 42, 53), tpep_dropoff_datetime=datetime.datetime(2017, 12, 1, 2, 4, 55), passenger_count=1.0, trip_distance=8.8, RatecodeID=1.0, store_and_fwd_flag='N', PULocationID=231.0, DOLocationID=129.0, payment_type=3.0, fare_amount=27.5, extra=0.5, mta_tax=0.5, tip_amount=0.0, tolls_amount=0.0, improvement_surcharge=0.3, total_amount=28.8),\n",
       " Row(VendorID=1.0, tpep_pickup_datetime=datetime.datetime(2017, 12, 1, 1, 12, 59), tpep_dropoff_datetime=datetime.datetime(2017, 12, 1, 1, 14, 28), passenger_count=1.0, trip_distance=0.1, RatecodeID=1.0, store_and_fwd_flag='N', PULocationID=125.0, DOLocationID=125.0, payment_type=3.0, fare_amount=3.0, extra=0.5, mta_tax=0.5, tip_amount=0.0, tolls_amount=0.0, improvement_surcharge=0.3, total_amount=4.3),\n",
       " Row(VendorID=1.0, tpep_pickup_datetime=datetime.datetime(2017, 12, 1, 1, 57, 22), tpep_dropoff_datetime=datetime.datetime(2017, 12, 1, 2, 12, 32), passenger_count=1.0, trip_distance=7.2, RatecodeID=1.0, store_and_fwd_flag='N', PULocationID=170.0, DOLocationID=42.0, payment_type=3.0, fare_amount=22.0, extra=0.5, mta_tax=0.5, tip_amount=0.0, tolls_amount=0.0, improvement_surcharge=0.3, total_amount=23.3),\n",
       " Row(VendorID=1.0, tpep_pickup_datetime=datetime.datetime(2017, 12, 1, 1, 8, 23), tpep_dropoff_datetime=datetime.datetime(2017, 12, 1, 1, 22, 39), passenger_count=2.0, trip_distance=2.4, RatecodeID=1.0, store_and_fwd_flag='N', PULocationID=142.0, DOLocationID=164.0, payment_type=3.0, fare_amount=10.5, extra=0.5, mta_tax=0.5, tip_amount=0.0, tolls_amount=0.0, improvement_surcharge=0.3, total_amount=11.8),\n",
       " Row(VendorID=1.0, tpep_pickup_datetime=datetime.datetime(2017, 12, 1, 1, 26, 14), tpep_dropoff_datetime=datetime.datetime(2017, 12, 1, 1, 32, 10), passenger_count=2.0, trip_distance=0.6, RatecodeID=1.0, store_and_fwd_flag='N', PULocationID=264.0, DOLocationID=264.0, payment_type=3.0, fare_amount=4.5, extra=0.5, mta_tax=0.5, tip_amount=0.0, tolls_amount=0.0, improvement_surcharge=0.3, total_amount=5.8),\n",
       " Row(VendorID=1.0, tpep_pickup_datetime=datetime.datetime(2017, 12, 1, 1, 52, 17), tpep_dropoff_datetime=datetime.datetime(2017, 12, 1, 1, 56, 29), passenger_count=1.0, trip_distance=0.5, RatecodeID=1.0, store_and_fwd_flag='N', PULocationID=114.0, DOLocationID=144.0, payment_type=3.0, fare_amount=5.0, extra=0.5, mta_tax=0.5, tip_amount=0.0, tolls_amount=0.0, improvement_surcharge=0.3, total_amount=6.3),\n",
       " Row(VendorID=1.0, tpep_pickup_datetime=datetime.datetime(2017, 12, 1, 1, 2, 56), tpep_dropoff_datetime=datetime.datetime(2017, 12, 1, 1, 15, 48), passenger_count=1.0, trip_distance=4.3, RatecodeID=1.0, store_and_fwd_flag='N', PULocationID=261.0, DOLocationID=48.0, payment_type=3.0, fare_amount=14.5, extra=0.5, mta_tax=0.5, tip_amount=0.0, tolls_amount=0.0, improvement_surcharge=0.3, total_amount=15.8),\n",
       " Row(VendorID=1.0, tpep_pickup_datetime=datetime.datetime(2017, 12, 1, 1, 34, 40), tpep_dropoff_datetime=datetime.datetime(2017, 12, 1, 2, 1, 51), passenger_count=3.0, trip_distance=5.4, RatecodeID=1.0, store_and_fwd_flag='N', PULocationID=148.0, DOLocationID=36.0, payment_type=3.0, fare_amount=22.0, extra=0.5, mta_tax=0.5, tip_amount=0.0, tolls_amount=0.0, improvement_surcharge=0.3, total_amount=23.3),\n",
       " Row(VendorID=1.0, tpep_pickup_datetime=datetime.datetime(2017, 12, 1, 1, 4, 24), tpep_dropoff_datetime=datetime.datetime(2017, 12, 1, 1, 4, 43), passenger_count=1.0, trip_distance=0.0, RatecodeID=1.0, store_and_fwd_flag='N', PULocationID=239.0, DOLocationID=239.0, payment_type=3.0, fare_amount=2.5, extra=0.5, mta_tax=0.5, tip_amount=0.0, tolls_amount=0.0, improvement_surcharge=0.3, total_amount=3.8),\n",
       " Row(VendorID=1.0, tpep_pickup_datetime=datetime.datetime(2017, 12, 1, 1, 10, 2), tpep_dropoff_datetime=datetime.datetime(2017, 12, 1, 1, 17, 16), passenger_count=1.0, trip_distance=1.7, RatecodeID=1.0, store_and_fwd_flag='N', PULocationID=264.0, DOLocationID=264.0, payment_type=3.0, fare_amount=7.5, extra=0.5, mta_tax=0.5, tip_amount=0.0, tolls_amount=0.0, improvement_surcharge=0.3, total_amount=8.8),\n",
       " Row(VendorID=1.0, tpep_pickup_datetime=datetime.datetime(2017, 12, 1, 1, 3, 10), tpep_dropoff_datetime=datetime.datetime(2017, 12, 1, 1, 6), passenger_count=1.0, trip_distance=0.2, RatecodeID=1.0, store_and_fwd_flag='N', PULocationID=60.0, DOLocationID=60.0, payment_type=3.0, fare_amount=4.0, extra=0.5, mta_tax=0.5, tip_amount=0.0, tolls_amount=0.0, improvement_surcharge=0.3, total_amount=5.3),\n",
       " Row(VendorID=1.0, tpep_pickup_datetime=datetime.datetime(2017, 12, 1, 1, 9, 48), tpep_dropoff_datetime=datetime.datetime(2017, 12, 1, 1, 20, 39), passenger_count=1.0, trip_distance=1.5, RatecodeID=1.0, store_and_fwd_flag='N', PULocationID=211.0, DOLocationID=148.0, payment_type=3.0, fare_amount=9.0, extra=0.5, mta_tax=0.5, tip_amount=0.0, tolls_amount=0.0, improvement_surcharge=0.3, total_amount=10.3),\n",
       " Row(VendorID=1.0, tpep_pickup_datetime=datetime.datetime(2017, 12, 1, 1, 27, 39), tpep_dropoff_datetime=datetime.datetime(2017, 12, 1, 1, 33, 4), passenger_count=1.0, trip_distance=0.9, RatecodeID=1.0, store_and_fwd_flag='N', PULocationID=114.0, DOLocationID=125.0, payment_type=3.0, fare_amount=6.0, extra=0.5, mta_tax=0.5, tip_amount=0.0, tolls_amount=0.0, improvement_surcharge=0.3, total_amount=7.3),\n",
       " Row(VendorID=1.0, tpep_pickup_datetime=datetime.datetime(2017, 12, 1, 1, 34, 3), tpep_dropoff_datetime=datetime.datetime(2017, 12, 1, 1, 49, 15), passenger_count=1.0, trip_distance=3.9, RatecodeID=1.0, store_and_fwd_flag='N', PULocationID=125.0, DOLocationID=162.0, payment_type=3.0, fare_amount=14.5, extra=0.5, mta_tax=0.5, tip_amount=0.0, tolls_amount=0.0, improvement_surcharge=0.3, total_amount=15.8),\n",
       " Row(VendorID=1.0, tpep_pickup_datetime=datetime.datetime(2017, 12, 1, 1, 53, 38), tpep_dropoff_datetime=datetime.datetime(2017, 12, 1, 1, 59, 43), passenger_count=1.0, trip_distance=1.5, RatecodeID=1.0, store_and_fwd_flag='N', PULocationID=162.0, DOLocationID=50.0, payment_type=3.0, fare_amount=7.0, extra=0.5, mta_tax=0.5, tip_amount=0.0, tolls_amount=0.0, improvement_surcharge=0.3, total_amount=8.3),\n",
       " Row(VendorID=1.0, tpep_pickup_datetime=datetime.datetime(2017, 12, 1, 1, 7, 55), tpep_dropoff_datetime=datetime.datetime(2017, 12, 1, 1, 10, 23), passenger_count=1.0, trip_distance=1.1, RatecodeID=1.0, store_and_fwd_flag='N', PULocationID=141.0, DOLocationID=263.0, payment_type=3.0, fare_amount=5.0, extra=0.5, mta_tax=0.5, tip_amount=0.0, tolls_amount=0.0, improvement_surcharge=0.3, total_amount=6.3),\n",
       " Row(VendorID=2.0, tpep_pickup_datetime=datetime.datetime(2017, 12, 1, 1, 11, 48), tpep_dropoff_datetime=datetime.datetime(2017, 12, 1, 1, 14, 47), passenger_count=1.0, trip_distance=0.52, RatecodeID=1.0, store_and_fwd_flag='N', PULocationID=211.0, DOLocationID=231.0, payment_type=3.0, fare_amount=-4.0, extra=-0.5, mta_tax=-0.5, tip_amount=0.0, tolls_amount=0.0, improvement_surcharge=-0.3, total_amount=-5.3),\n",
       " Row(VendorID=1.0, tpep_pickup_datetime=datetime.datetime(2017, 12, 1, 1, 33, 22), tpep_dropoff_datetime=datetime.datetime(2017, 12, 1, 1, 43, 46), passenger_count=2.0, trip_distance=1.7, RatecodeID=1.0, store_and_fwd_flag='N', PULocationID=163.0, DOLocationID=140.0, payment_type=3.0, fare_amount=9.0, extra=0.5, mta_tax=0.5, tip_amount=0.0, tolls_amount=0.0, improvement_surcharge=0.3, total_amount=10.3),\n",
       " Row(VendorID=1.0, tpep_pickup_datetime=datetime.datetime(2017, 12, 1, 1, 10, 22), tpep_dropoff_datetime=datetime.datetime(2017, 12, 1, 1, 10, 37), passenger_count=1.0, trip_distance=0.1, RatecodeID=1.0, store_and_fwd_flag='N', PULocationID=45.0, DOLocationID=45.0, payment_type=3.0, fare_amount=2.5, extra=0.5, mta_tax=0.5, tip_amount=0.0, tolls_amount=0.0, improvement_surcharge=0.3, total_amount=3.8),\n",
       " Row(VendorID=1.0, tpep_pickup_datetime=datetime.datetime(2017, 12, 1, 1, 40, 35), tpep_dropoff_datetime=datetime.datetime(2017, 12, 1, 2, 1, 30), passenger_count=1.0, trip_distance=9.8, RatecodeID=1.0, store_and_fwd_flag='N', PULocationID=234.0, DOLocationID=244.0, payment_type=3.0, fare_amount=29.5, extra=0.5, mta_tax=0.5, tip_amount=0.0, tolls_amount=0.0, improvement_surcharge=0.3, total_amount=30.8),\n",
       " Row(VendorID=1.0, tpep_pickup_datetime=datetime.datetime(2017, 12, 1, 1, 29, 27), tpep_dropoff_datetime=datetime.datetime(2017, 12, 1, 1, 38, 34), passenger_count=3.0, trip_distance=0.1, RatecodeID=1.0, store_and_fwd_flag='N', PULocationID=263.0, DOLocationID=263.0, payment_type=3.0, fare_amount=7.0, extra=0.5, mta_tax=0.5, tip_amount=0.0, tolls_amount=0.0, improvement_surcharge=0.3, total_amount=8.3),\n",
       " Row(VendorID=1.0, tpep_pickup_datetime=datetime.datetime(2017, 12, 1, 1, 28, 53), tpep_dropoff_datetime=datetime.datetime(2017, 12, 1, 1, 34, 17), passenger_count=1.0, trip_distance=0.2, RatecodeID=1.0, store_and_fwd_flag='N', PULocationID=264.0, DOLocationID=264.0, payment_type=3.0, fare_amount=5.0, extra=0.5, mta_tax=0.5, tip_amount=0.0, tolls_amount=0.0, improvement_surcharge=0.3, total_amount=6.3),\n",
       " Row(VendorID=1.0, tpep_pickup_datetime=datetime.datetime(2017, 12, 1, 1, 5, 16), tpep_dropoff_datetime=datetime.datetime(2017, 12, 1, 1, 11, 52), passenger_count=6.0, trip_distance=0.9, RatecodeID=1.0, store_and_fwd_flag='N', PULocationID=48.0, DOLocationID=162.0, payment_type=3.0, fare_amount=6.0, extra=0.5, mta_tax=0.5, tip_amount=0.0, tolls_amount=0.0, improvement_surcharge=0.3, total_amount=7.3),\n",
       " Row(VendorID=1.0, tpep_pickup_datetime=datetime.datetime(2017, 12, 1, 1, 46, 32), tpep_dropoff_datetime=datetime.datetime(2017, 12, 1, 1, 57, 59), passenger_count=1.0, trip_distance=2.7, RatecodeID=1.0, store_and_fwd_flag='N', PULocationID=68.0, DOLocationID=231.0, payment_type=3.0, fare_amount=10.5, extra=0.5, mta_tax=0.5, tip_amount=0.0, tolls_amount=0.0, improvement_surcharge=0.3, total_amount=11.8),\n",
       " Row(VendorID=1.0, tpep_pickup_datetime=datetime.datetime(2017, 12, 1, 2, 16, 24), tpep_dropoff_datetime=datetime.datetime(2017, 12, 1, 2, 25, 56), passenger_count=1.0, trip_distance=1.9, RatecodeID=1.0, store_and_fwd_flag='N', PULocationID=164.0, DOLocationID=141.0, payment_type=3.0, fare_amount=8.5, extra=0.5, mta_tax=0.5, tip_amount=0.0, tolls_amount=0.0, improvement_surcharge=0.3, total_amount=9.8),\n",
       " Row(VendorID=1.0, tpep_pickup_datetime=datetime.datetime(2017, 12, 1, 2, 31, 49), tpep_dropoff_datetime=datetime.datetime(2017, 12, 1, 2, 32), passenger_count=1.0, trip_distance=2.0, RatecodeID=1.0, store_and_fwd_flag='N', PULocationID=79.0, DOLocationID=79.0, payment_type=3.0, fare_amount=2.5, extra=0.5, mta_tax=0.5, tip_amount=0.0, tolls_amount=0.0, improvement_surcharge=0.3, total_amount=3.8),\n",
       " Row(VendorID=1.0, tpep_pickup_datetime=datetime.datetime(2017, 12, 1, 2, 58, 48), tpep_dropoff_datetime=datetime.datetime(2017, 12, 1, 3, 25, 28), passenger_count=2.0, trip_distance=13.0, RatecodeID=1.0, store_and_fwd_flag='N', PULocationID=79.0, DOLocationID=28.0, payment_type=3.0, fare_amount=39.5, extra=0.5, mta_tax=0.5, tip_amount=0.0, tolls_amount=0.0, improvement_surcharge=0.3, total_amount=40.8),\n",
       " Row(VendorID=1.0, tpep_pickup_datetime=datetime.datetime(2017, 12, 1, 2, 20, 38), tpep_dropoff_datetime=datetime.datetime(2017, 12, 1, 2, 22, 26), passenger_count=1.0, trip_distance=0.3, RatecodeID=1.0, store_and_fwd_flag='N', PULocationID=244.0, DOLocationID=244.0, payment_type=3.0, fare_amount=3.5, extra=0.5, mta_tax=0.5, tip_amount=0.0, tolls_amount=0.0, improvement_surcharge=0.3, total_amount=4.8),\n",
       " Row(VendorID=1.0, tpep_pickup_datetime=datetime.datetime(2017, 12, 1, 2, 25, 46), tpep_dropoff_datetime=datetime.datetime(2017, 12, 1, 2, 28, 32), passenger_count=1.0, trip_distance=0.4, RatecodeID=1.0, store_and_fwd_flag='N', PULocationID=164.0, DOLocationID=164.0, payment_type=3.0, fare_amount=4.0, extra=0.5, mta_tax=0.5, tip_amount=0.0, tolls_amount=0.0, improvement_surcharge=0.3, total_amount=5.3),\n",
       " Row(VendorID=1.0, tpep_pickup_datetime=datetime.datetime(2017, 12, 1, 2, 48, 9), tpep_dropoff_datetime=datetime.datetime(2017, 12, 1, 3, 6, 47), passenger_count=1.0, trip_distance=5.1, RatecodeID=1.0, store_and_fwd_flag='N', PULocationID=144.0, DOLocationID=37.0, payment_type=3.0, fare_amount=18.5, extra=0.5, mta_tax=0.5, tip_amount=0.0, tolls_amount=0.0, improvement_surcharge=0.3, total_amount=19.8),\n",
       " Row(VendorID=1.0, tpep_pickup_datetime=datetime.datetime(2017, 12, 1, 2, 19, 20), tpep_dropoff_datetime=datetime.datetime(2017, 12, 1, 2, 31, 22), passenger_count=1.0, trip_distance=1.0, RatecodeID=1.0, store_and_fwd_flag='N', PULocationID=249.0, DOLocationID=249.0, payment_type=3.0, fare_amount=9.0, extra=0.5, mta_tax=0.5, tip_amount=0.0, tolls_amount=0.0, improvement_surcharge=0.3, total_amount=10.3),\n",
       " Row(VendorID=1.0, tpep_pickup_datetime=datetime.datetime(2017, 12, 1, 2, 20, 17), tpep_dropoff_datetime=datetime.datetime(2017, 12, 1, 2, 23, 6), passenger_count=2.0, trip_distance=0.1, RatecodeID=1.0, store_and_fwd_flag='N', PULocationID=137.0, DOLocationID=170.0, payment_type=3.0, fare_amount=3.5, extra=0.5, mta_tax=0.5, tip_amount=0.0, tolls_amount=0.0, improvement_surcharge=0.3, total_amount=4.8),\n",
       " Row(VendorID=1.0, tpep_pickup_datetime=datetime.datetime(2017, 12, 1, 2, 25, 13), tpep_dropoff_datetime=datetime.datetime(2017, 12, 1, 2, 25, 37), passenger_count=1.0, trip_distance=0.1, RatecodeID=1.0, store_and_fwd_flag='N', PULocationID=137.0, DOLocationID=137.0, payment_type=3.0, fare_amount=2.5, extra=0.5, mta_tax=0.5, tip_amount=0.0, tolls_amount=0.0, improvement_surcharge=0.3, total_amount=3.8),\n",
       " Row(VendorID=1.0, tpep_pickup_datetime=datetime.datetime(2017, 12, 1, 2, 45, 30), tpep_dropoff_datetime=datetime.datetime(2017, 12, 1, 2, 57, 33), passenger_count=1.0, trip_distance=3.1, RatecodeID=1.0, store_and_fwd_flag='N', PULocationID=148.0, DOLocationID=186.0, payment_type=3.0, fare_amount=12.0, extra=0.5, mta_tax=0.5, tip_amount=0.0, tolls_amount=0.0, improvement_surcharge=0.3, total_amount=13.3),\n",
       " Row(VendorID=1.0, tpep_pickup_datetime=datetime.datetime(2017, 12, 1, 2, 32, 55), tpep_dropoff_datetime=datetime.datetime(2017, 12, 1, 2, 35, 11), passenger_count=1.0, trip_distance=0.3, RatecodeID=1.0, store_and_fwd_flag='N', PULocationID=170.0, DOLocationID=164.0, payment_type=3.0, fare_amount=3.5, extra=0.5, mta_tax=0.5, tip_amount=0.0, tolls_amount=0.0, improvement_surcharge=0.3, total_amount=4.8),\n",
       " Row(VendorID=1.0, tpep_pickup_datetime=datetime.datetime(2017, 12, 1, 2, 30, 56), tpep_dropoff_datetime=datetime.datetime(2017, 12, 1, 2, 31, 39), passenger_count=2.0, trip_distance=2.2, RatecodeID=1.0, store_and_fwd_flag='N', PULocationID=48.0, DOLocationID=48.0, payment_type=3.0, fare_amount=2.5, extra=0.5, mta_tax=0.5, tip_amount=0.0, tolls_amount=0.0, improvement_surcharge=0.3, total_amount=3.8),\n",
       " Row(VendorID=1.0, tpep_pickup_datetime=datetime.datetime(2017, 12, 1, 2, 30, 45), tpep_dropoff_datetime=datetime.datetime(2017, 12, 1, 2, 44, 46), passenger_count=1.0, trip_distance=3.1, RatecodeID=1.0, store_and_fwd_flag='N', PULocationID=116.0, DOLocationID=119.0, payment_type=3.0, fare_amount=12.5, extra=0.5, mta_tax=0.5, tip_amount=0.0, tolls_amount=0.0, improvement_surcharge=0.3, total_amount=13.8),\n",
       " Row(VendorID=1.0, tpep_pickup_datetime=datetime.datetime(2017, 12, 1, 2, 42, 9), tpep_dropoff_datetime=datetime.datetime(2017, 12, 1, 2, 42, 31), passenger_count=1.0, trip_distance=0.0, RatecodeID=1.0, store_and_fwd_flag='N', PULocationID=48.0, DOLocationID=48.0, payment_type=3.0, fare_amount=2.5, extra=0.5, mta_tax=0.5, tip_amount=0.0, tolls_amount=0.0, improvement_surcharge=0.3, total_amount=3.8),\n",
       " Row(VendorID=1.0, tpep_pickup_datetime=datetime.datetime(2017, 12, 1, 2, 40, 17), tpep_dropoff_datetime=datetime.datetime(2017, 12, 1, 3, 4, 51), passenger_count=1.0, trip_distance=4.0, RatecodeID=1.0, store_and_fwd_flag='N', PULocationID=158.0, DOLocationID=125.0, payment_type=3.0, fare_amount=18.0, extra=0.5, mta_tax=0.5, tip_amount=0.0, tolls_amount=0.0, improvement_surcharge=0.3, total_amount=19.3),\n",
       " Row(VendorID=1.0, tpep_pickup_datetime=datetime.datetime(2017, 12, 1, 2, 41, 13), tpep_dropoff_datetime=datetime.datetime(2017, 12, 1, 3, 13, 21), passenger_count=3.0, trip_distance=7.3, RatecodeID=1.0, store_and_fwd_flag='N', PULocationID=79.0, DOLocationID=198.0, payment_type=3.0, fare_amount=27.0, extra=0.5, mta_tax=0.5, tip_amount=0.0, tolls_amount=0.0, improvement_surcharge=0.3, total_amount=28.3),\n",
       " Row(VendorID=2.0, tpep_pickup_datetime=datetime.datetime(2017, 12, 1, 2, 18, 8), tpep_dropoff_datetime=datetime.datetime(2017, 12, 1, 2, 19, 28), passenger_count=3.0, trip_distance=0.07, RatecodeID=1.0, store_and_fwd_flag='N', PULocationID=137.0, DOLocationID=137.0, payment_type=3.0, fare_amount=-3.0, extra=-0.5, mta_tax=-0.5, tip_amount=0.0, tolls_amount=0.0, improvement_surcharge=-0.3, total_amount=-4.3),\n",
       " Row(VendorID=1.0, tpep_pickup_datetime=datetime.datetime(2017, 12, 1, 2, 41, 14), tpep_dropoff_datetime=datetime.datetime(2017, 12, 1, 2, 55, 15), passenger_count=1.0, trip_distance=6.1, RatecodeID=1.0, store_and_fwd_flag='N', PULocationID=48.0, DOLocationID=116.0, payment_type=3.0, fare_amount=19.0, extra=0.5, mta_tax=0.5, tip_amount=0.0, tolls_amount=0.0, improvement_surcharge=0.3, total_amount=20.3),\n",
       " Row(VendorID=1.0, tpep_pickup_datetime=datetime.datetime(2017, 12, 1, 2, 49, 37), tpep_dropoff_datetime=datetime.datetime(2017, 12, 1, 3, 6, 19), passenger_count=1.0, trip_distance=3.4, RatecodeID=1.0, store_and_fwd_flag='N', PULocationID=7.0, DOLocationID=82.0, payment_type=3.0, fare_amount=15.0, extra=0.5, mta_tax=0.5, tip_amount=0.0, tolls_amount=0.0, improvement_surcharge=0.3, total_amount=16.3),\n",
       " Row(VendorID=1.0, tpep_pickup_datetime=datetime.datetime(2017, 12, 1, 2, 40, 12), tpep_dropoff_datetime=datetime.datetime(2017, 12, 1, 2, 45, 41), passenger_count=1.0, trip_distance=1.8, RatecodeID=1.0, store_and_fwd_flag='N', PULocationID=249.0, DOLocationID=100.0, payment_type=3.0, fare_amount=7.5, extra=0.5, mta_tax=0.5, tip_amount=0.0, tolls_amount=0.0, improvement_surcharge=0.3, total_amount=8.8),\n",
       " Row(VendorID=1.0, tpep_pickup_datetime=datetime.datetime(2017, 12, 1, 2, 31, 32), tpep_dropoff_datetime=datetime.datetime(2017, 12, 1, 2, 31, 38), passenger_count=1.0, trip_distance=0.0, RatecodeID=1.0, store_and_fwd_flag='N', PULocationID=249.0, DOLocationID=249.0, payment_type=3.0, fare_amount=2.5, extra=0.5, mta_tax=0.5, tip_amount=0.0, tolls_amount=0.0, improvement_surcharge=0.3, total_amount=3.8),\n",
       " Row(VendorID=1.0, tpep_pickup_datetime=datetime.datetime(2017, 12, 1, 2, 56, 39), tpep_dropoff_datetime=datetime.datetime(2017, 12, 1, 3, 52, 25), passenger_count=1.0, trip_distance=13.4, RatecodeID=1.0, store_and_fwd_flag='N', PULocationID=163.0, DOLocationID=237.0, payment_type=3.0, fare_amount=45.0, extra=0.5, mta_tax=0.5, tip_amount=0.0, tolls_amount=0.0, improvement_surcharge=0.3, total_amount=46.3),\n",
       " Row(VendorID=1.0, tpep_pickup_datetime=datetime.datetime(2017, 12, 1, 2, 10, 24), tpep_dropoff_datetime=datetime.datetime(2017, 12, 1, 2, 27, 15), passenger_count=1.0, trip_distance=3.6, RatecodeID=1.0, store_and_fwd_flag='N', PULocationID=255.0, DOLocationID=61.0, payment_type=3.0, fare_amount=14.0, extra=0.5, mta_tax=0.5, tip_amount=0.0, tolls_amount=0.0, improvement_surcharge=0.3, total_amount=15.3),\n",
       " Row(VendorID=1.0, tpep_pickup_datetime=datetime.datetime(2017, 12, 1, 2, 40, 42), tpep_dropoff_datetime=datetime.datetime(2017, 12, 1, 2, 42, 57), passenger_count=1.0, trip_distance=0.5, RatecodeID=1.0, store_and_fwd_flag='N', PULocationID=90.0, DOLocationID=246.0, payment_type=3.0, fare_amount=4.0, extra=0.5, mta_tax=0.5, tip_amount=0.0, tolls_amount=0.0, improvement_surcharge=0.3, total_amount=5.3),\n",
       " Row(VendorID=1.0, tpep_pickup_datetime=datetime.datetime(2017, 12, 1, 2, 51, 48), tpep_dropoff_datetime=datetime.datetime(2017, 12, 1, 2, 53, 38), passenger_count=1.0, trip_distance=0.2, RatecodeID=1.0, store_and_fwd_flag='N', PULocationID=158.0, DOLocationID=158.0, payment_type=3.0, fare_amount=3.0, extra=0.5, mta_tax=0.5, tip_amount=0.0, tolls_amount=0.0, improvement_surcharge=0.3, total_amount=4.3),\n",
       " Row(VendorID=2.0, tpep_pickup_datetime=datetime.datetime(2017, 12, 1, 2, 43), tpep_dropoff_datetime=datetime.datetime(2017, 12, 1, 2, 46, 34), passenger_count=1.0, trip_distance=0.97, RatecodeID=1.0, store_and_fwd_flag='N', PULocationID=7.0, DOLocationID=146.0, payment_type=3.0, fare_amount=-5.0, extra=-0.5, mta_tax=-0.5, tip_amount=0.0, tolls_amount=0.0, improvement_surcharge=-0.3, total_amount=-6.3),\n",
       " Row(VendorID=1.0, tpep_pickup_datetime=datetime.datetime(2017, 12, 1, 2, 46, 53), tpep_dropoff_datetime=datetime.datetime(2017, 12, 1, 3, 0, 10), passenger_count=1.0, trip_distance=3.1, RatecodeID=1.0, store_and_fwd_flag='N', PULocationID=158.0, DOLocationID=232.0, payment_type=3.0, fare_amount=12.5, extra=0.5, mta_tax=0.5, tip_amount=0.0, tolls_amount=0.0, improvement_surcharge=0.3, total_amount=13.8),\n",
       " Row(VendorID=1.0, tpep_pickup_datetime=datetime.datetime(2017, 12, 1, 2, 13, 53), tpep_dropoff_datetime=datetime.datetime(2017, 12, 1, 2, 24, 36), passenger_count=1.0, trip_distance=2.2, RatecodeID=1.0, store_and_fwd_flag='N', PULocationID=17.0, DOLocationID=37.0, payment_type=3.0, fare_amount=9.5, extra=0.5, mta_tax=0.5, tip_amount=0.0, tolls_amount=0.0, improvement_surcharge=0.3, total_amount=10.8),\n",
       " Row(VendorID=1.0, tpep_pickup_datetime=datetime.datetime(2017, 12, 1, 2, 29, 33), tpep_dropoff_datetime=datetime.datetime(2017, 12, 1, 2, 49, 11), passenger_count=1.0, trip_distance=4.7, RatecodeID=1.0, store_and_fwd_flag='N', PULocationID=230.0, DOLocationID=226.0, payment_type=3.0, fare_amount=18.5, extra=0.5, mta_tax=0.5, tip_amount=0.0, tolls_amount=0.0, improvement_surcharge=0.3, total_amount=19.8),\n",
       " Row(VendorID=1.0, tpep_pickup_datetime=datetime.datetime(2017, 12, 1, 2, 38, 18), tpep_dropoff_datetime=datetime.datetime(2017, 12, 1, 2, 41, 7), passenger_count=1.0, trip_distance=0.3, RatecodeID=3.0, store_and_fwd_flag='N', PULocationID=100.0, DOLocationID=100.0, payment_type=3.0, fare_amount=21.0, extra=0.5, mta_tax=0.0, tip_amount=0.0, tolls_amount=0.0, improvement_surcharge=0.3, total_amount=21.8),\n",
       " Row(VendorID=1.0, tpep_pickup_datetime=datetime.datetime(2017, 12, 1, 2, 2, 28), tpep_dropoff_datetime=datetime.datetime(2017, 12, 1, 2, 44, 16), passenger_count=1.0, trip_distance=2.1, RatecodeID=1.0, store_and_fwd_flag='N', PULocationID=234.0, DOLocationID=234.0, payment_type=3.0, fare_amount=24.5, extra=0.5, mta_tax=0.5, tip_amount=0.0, tolls_amount=0.0, improvement_surcharge=0.3, total_amount=25.8),\n",
       " Row(VendorID=1.0, tpep_pickup_datetime=datetime.datetime(2017, 12, 1, 2, 49, 44), tpep_dropoff_datetime=datetime.datetime(2017, 12, 1, 2, 51, 13), passenger_count=1.0, trip_distance=0.0, RatecodeID=4.0, store_and_fwd_flag='N', PULocationID=265.0, DOLocationID=265.0, payment_type=3.0, fare_amount=3.5, extra=0.5, mta_tax=0.5, tip_amount=0.0, tolls_amount=0.0, improvement_surcharge=0.3, total_amount=4.8),\n",
       " Row(VendorID=1.0, tpep_pickup_datetime=datetime.datetime(2017, 12, 1, 2, 52, 20), tpep_dropoff_datetime=datetime.datetime(2017, 12, 1, 2, 54, 50), passenger_count=1.0, trip_distance=0.7, RatecodeID=4.0, store_and_fwd_flag='N', PULocationID=265.0, DOLocationID=265.0, payment_type=3.0, fare_amount=6.0, extra=0.5, mta_tax=0.5, tip_amount=0.0, tolls_amount=0.0, improvement_surcharge=0.3, total_amount=7.3),\n",
       " Row(VendorID=1.0, tpep_pickup_datetime=datetime.datetime(2017, 12, 1, 2, 26, 26), tpep_dropoff_datetime=datetime.datetime(2017, 12, 1, 2, 31, 27), passenger_count=1.0, trip_distance=0.0, RatecodeID=2.0, store_and_fwd_flag='N', PULocationID=193.0, DOLocationID=193.0, payment_type=3.0, fare_amount=52.0, extra=0.0, mta_tax=0.5, tip_amount=0.0, tolls_amount=0.0, improvement_surcharge=0.3, total_amount=52.8),\n",
       " Row(VendorID=2.0, tpep_pickup_datetime=datetime.datetime(2017, 12, 1, 2, 22, 11), tpep_dropoff_datetime=datetime.datetime(2017, 12, 1, 2, 23, 7), passenger_count=6.0, trip_distance=0.26, RatecodeID=1.0, store_and_fwd_flag='N', PULocationID=161.0, DOLocationID=161.0, payment_type=3.0, fare_amount=-3.0, extra=-0.5, mta_tax=-0.5, tip_amount=0.0, tolls_amount=0.0, improvement_surcharge=-0.3, total_amount=-4.3),\n",
       " Row(VendorID=1.0, tpep_pickup_datetime=datetime.datetime(2017, 12, 1, 2, 23), tpep_dropoff_datetime=datetime.datetime(2017, 12, 1, 2, 33, 31), passenger_count=2.0, trip_distance=2.0, RatecodeID=1.0, store_and_fwd_flag='N', PULocationID=142.0, DOLocationID=141.0, payment_type=3.0, fare_amount=10.0, extra=0.5, mta_tax=0.5, tip_amount=0.0, tolls_amount=0.0, improvement_surcharge=0.3, total_amount=11.3),\n",
       " Row(VendorID=1.0, tpep_pickup_datetime=datetime.datetime(2017, 12, 1, 2, 3, 45), tpep_dropoff_datetime=datetime.datetime(2017, 12, 1, 2, 11, 43), passenger_count=1.0, trip_distance=1.7, RatecodeID=1.0, store_and_fwd_flag='N', PULocationID=68.0, DOLocationID=233.0, payment_type=3.0, fare_amount=8.0, extra=0.5, mta_tax=0.5, tip_amount=0.0, tolls_amount=0.0, improvement_surcharge=0.3, total_amount=9.3),\n",
       " Row(VendorID=1.0, tpep_pickup_datetime=datetime.datetime(2017, 12, 1, 2, 50, 45), tpep_dropoff_datetime=datetime.datetime(2017, 12, 1, 2, 53, 30), passenger_count=1.0, trip_distance=0.1, RatecodeID=1.0, store_and_fwd_flag='N', PULocationID=137.0, DOLocationID=170.0, payment_type=3.0, fare_amount=3.5, extra=0.5, mta_tax=0.5, tip_amount=0.0, tolls_amount=0.0, improvement_surcharge=0.3, total_amount=4.8),\n",
       " Row(VendorID=1.0, tpep_pickup_datetime=datetime.datetime(2017, 12, 1, 2, 0, 2), tpep_dropoff_datetime=datetime.datetime(2017, 12, 1, 2, 37, 1), passenger_count=1.0, trip_distance=7.9, RatecodeID=1.0, store_and_fwd_flag='N', PULocationID=68.0, DOLocationID=177.0, payment_type=3.0, fare_amount=29.5, extra=0.5, mta_tax=0.5, tip_amount=0.0, tolls_amount=0.0, improvement_surcharge=0.3, total_amount=30.8),\n",
       " Row(VendorID=2.0, tpep_pickup_datetime=datetime.datetime(2017, 12, 1, 2, 37, 46), tpep_dropoff_datetime=datetime.datetime(2017, 12, 1, 2, 38, 19), passenger_count=3.0, trip_distance=0.0, RatecodeID=1.0, store_and_fwd_flag='N', PULocationID=265.0, DOLocationID=265.0, payment_type=3.0, fare_amount=-2.5, extra=-0.5, mta_tax=-0.5, tip_amount=0.0, tolls_amount=0.0, improvement_surcharge=-0.3, total_amount=-3.8),\n",
       " Row(VendorID=1.0, tpep_pickup_datetime=datetime.datetime(2017, 12, 1, 3, 59, 13), tpep_dropoff_datetime=datetime.datetime(2017, 12, 1, 4, 10, 26), passenger_count=2.0, trip_distance=2.3, RatecodeID=1.0, store_and_fwd_flag='N', PULocationID=246.0, DOLocationID=229.0, payment_type=3.0, fare_amount=10.5, extra=0.5, mta_tax=0.5, tip_amount=0.0, tolls_amount=0.0, improvement_surcharge=0.3, total_amount=11.8),\n",
       " Row(VendorID=1.0, tpep_pickup_datetime=datetime.datetime(2017, 12, 1, 3, 37, 23), tpep_dropoff_datetime=datetime.datetime(2017, 12, 1, 3, 44, 49), passenger_count=1.0, trip_distance=1.5, RatecodeID=1.0, store_and_fwd_flag='N', PULocationID=236.0, DOLocationID=74.0, payment_type=3.0, fare_amount=7.0, extra=0.5, mta_tax=0.5, tip_amount=0.0, tolls_amount=0.0, improvement_surcharge=0.3, total_amount=8.3),\n",
       " Row(VendorID=1.0, tpep_pickup_datetime=datetime.datetime(2017, 12, 1, 3, 45, 25), tpep_dropoff_datetime=datetime.datetime(2017, 12, 1, 3, 52, 46), passenger_count=1.0, trip_distance=1.9, RatecodeID=1.0, store_and_fwd_flag='N', PULocationID=48.0, DOLocationID=107.0, payment_type=3.0, fare_amount=8.0, extra=0.5, mta_tax=0.5, tip_amount=0.0, tolls_amount=0.0, improvement_surcharge=0.3, total_amount=9.3),\n",
       " Row(VendorID=1.0, tpep_pickup_datetime=datetime.datetime(2017, 12, 1, 3, 3, 5), tpep_dropoff_datetime=datetime.datetime(2017, 12, 1, 3, 3, 22), passenger_count=0.0, trip_distance=0.0, RatecodeID=5.0, store_and_fwd_flag='N', PULocationID=264.0, DOLocationID=264.0, payment_type=3.0, fare_amount=0.01, extra=0.0, mta_tax=0.0, tip_amount=0.0, tolls_amount=0.0, improvement_surcharge=0.3, total_amount=0.31),\n",
       " Row(VendorID=1.0, tpep_pickup_datetime=datetime.datetime(2017, 12, 1, 3, 48, 19), tpep_dropoff_datetime=datetime.datetime(2017, 12, 1, 3, 49), passenger_count=1.0, trip_distance=0.1, RatecodeID=1.0, store_and_fwd_flag='N', PULocationID=209.0, DOLocationID=87.0, payment_type=3.0, fare_amount=2.5, extra=0.5, mta_tax=0.5, tip_amount=0.0, tolls_amount=0.0, improvement_surcharge=0.3, total_amount=3.8),\n",
       " Row(VendorID=1.0, tpep_pickup_datetime=datetime.datetime(2017, 12, 1, 3, 29, 34), tpep_dropoff_datetime=datetime.datetime(2017, 12, 1, 3, 29, 49), passenger_count=1.0, trip_distance=0.0, RatecodeID=1.0, store_and_fwd_flag='N', PULocationID=246.0, DOLocationID=246.0, payment_type=3.0, fare_amount=2.5, extra=0.5, mta_tax=0.5, tip_amount=0.0, tolls_amount=0.0, improvement_surcharge=0.3, total_amount=3.8),\n",
       " Row(VendorID=1.0, tpep_pickup_datetime=datetime.datetime(2017, 12, 1, 3, 26, 49), tpep_dropoff_datetime=datetime.datetime(2017, 12, 1, 3, 27, 6), passenger_count=1.0, trip_distance=0.6, RatecodeID=1.0, store_and_fwd_flag='N', PULocationID=149.0, DOLocationID=149.0, payment_type=3.0, fare_amount=2.5, extra=0.5, mta_tax=0.5, tip_amount=0.0, tolls_amount=0.0, improvement_surcharge=0.3, total_amount=3.8),\n",
       " Row(VendorID=1.0, tpep_pickup_datetime=datetime.datetime(2017, 12, 1, 3, 20, 11), tpep_dropoff_datetime=datetime.datetime(2017, 12, 1, 3, 20, 21), passenger_count=1.0, trip_distance=0.0, RatecodeID=2.0, store_and_fwd_flag='N', PULocationID=238.0, DOLocationID=238.0, payment_type=3.0, fare_amount=52.0, extra=0.0, mta_tax=0.5, tip_amount=0.0, tolls_amount=0.0, improvement_surcharge=0.3, total_amount=52.8),\n",
       " Row(VendorID=2.0, tpep_pickup_datetime=datetime.datetime(2017, 12, 1, 3, 36, 14), tpep_dropoff_datetime=datetime.datetime(2017, 12, 1, 3, 38, 9), passenger_count=1.0, trip_distance=0.06, RatecodeID=5.0, store_and_fwd_flag='N', PULocationID=264.0, DOLocationID=48.0, payment_type=3.0, fare_amount=-50.0, extra=0.0, mta_tax=0.0, tip_amount=0.0, tolls_amount=0.0, improvement_surcharge=-0.3, total_amount=-50.3),\n",
       " Row(VendorID=1.0, tpep_pickup_datetime=datetime.datetime(2017, 12, 1, 3, 38, 55), tpep_dropoff_datetime=datetime.datetime(2017, 12, 1, 4, 0, 22), passenger_count=1.0, trip_distance=2.9, RatecodeID=1.0, store_and_fwd_flag='N', PULocationID=114.0, DOLocationID=232.0, payment_type=3.0, fare_amount=15.5, extra=0.5, mta_tax=0.5, tip_amount=0.0, tolls_amount=0.0, improvement_surcharge=0.3, total_amount=16.8),\n",
       " Row(VendorID=1.0, tpep_pickup_datetime=datetime.datetime(2017, 12, 1, 3, 58, 30), tpep_dropoff_datetime=datetime.datetime(2017, 12, 1, 4, 7, 52), passenger_count=1.0, trip_distance=2.1, RatecodeID=1.0, store_and_fwd_flag='N', PULocationID=114.0, DOLocationID=224.0, payment_type=3.0, fare_amount=9.5, extra=0.5, mta_tax=0.5, tip_amount=0.0, tolls_amount=0.0, improvement_surcharge=0.3, total_amount=10.8),\n",
       " Row(VendorID=1.0, tpep_pickup_datetime=datetime.datetime(2017, 12, 1, 3, 18, 48), tpep_dropoff_datetime=datetime.datetime(2017, 12, 1, 3, 49, 38), passenger_count=3.0, trip_distance=6.6, RatecodeID=1.0, store_and_fwd_flag='N', PULocationID=141.0, DOLocationID=173.0, payment_type=3.0, fare_amount=24.5, extra=0.5, mta_tax=0.5, tip_amount=0.0, tolls_amount=0.0, improvement_surcharge=0.3, total_amount=25.8),\n",
       " Row(VendorID=1.0, tpep_pickup_datetime=datetime.datetime(2017, 12, 1, 3, 11, 2), tpep_dropoff_datetime=datetime.datetime(2017, 12, 1, 3, 14, 32), passenger_count=1.0, trip_distance=0.5, RatecodeID=1.0, store_and_fwd_flag='N', PULocationID=211.0, DOLocationID=114.0, payment_type=3.0, fare_amount=4.0, extra=0.5, mta_tax=0.5, tip_amount=0.0, tolls_amount=0.0, improvement_surcharge=0.3, total_amount=5.3),\n",
       " Row(VendorID=1.0, tpep_pickup_datetime=datetime.datetime(2017, 12, 1, 3, 51, 19), tpep_dropoff_datetime=datetime.datetime(2017, 12, 1, 3, 51, 21), passenger_count=1.0, trip_distance=0.0, RatecodeID=1.0, store_and_fwd_flag='N', PULocationID=226.0, DOLocationID=226.0, payment_type=3.0, fare_amount=2.5, extra=0.5, mta_tax=0.5, tip_amount=0.0, tolls_amount=0.0, improvement_surcharge=0.3, total_amount=3.8),\n",
       " Row(VendorID=1.0, tpep_pickup_datetime=datetime.datetime(2017, 12, 1, 3, 54, 28), tpep_dropoff_datetime=datetime.datetime(2017, 12, 1, 3, 56, 58), passenger_count=1.0, trip_distance=0.3, RatecodeID=1.0, store_and_fwd_flag='N', PULocationID=4.0, DOLocationID=4.0, payment_type=3.0, fare_amount=4.0, extra=0.5, mta_tax=0.5, tip_amount=0.0, tolls_amount=0.0, improvement_surcharge=0.3, total_amount=5.3),\n",
       " Row(VendorID=1.0, tpep_pickup_datetime=datetime.datetime(2017, 12, 1, 3, 20, 35), tpep_dropoff_datetime=datetime.datetime(2017, 12, 1, 3, 21, 41), passenger_count=1.0, trip_distance=0.0, RatecodeID=1.0, store_and_fwd_flag='N', PULocationID=68.0, DOLocationID=68.0, payment_type=3.0, fare_amount=2.5, extra=0.5, mta_tax=0.5, tip_amount=0.0, tolls_amount=0.0, improvement_surcharge=0.3, total_amount=3.8),\n",
       " Row(VendorID=1.0, tpep_pickup_datetime=datetime.datetime(2017, 12, 1, 3, 45, 38), tpep_dropoff_datetime=datetime.datetime(2017, 12, 1, 3, 54, 15), passenger_count=1.0, trip_distance=3.2, RatecodeID=1.0, store_and_fwd_flag='N', PULocationID=162.0, DOLocationID=74.0, payment_type=3.0, fare_amount=10.5, extra=0.5, mta_tax=0.5, tip_amount=0.0, tolls_amount=0.0, improvement_surcharge=0.3, total_amount=11.8),\n",
       " Row(VendorID=1.0, tpep_pickup_datetime=datetime.datetime(2017, 12, 1, 3, 9, 55), tpep_dropoff_datetime=datetime.datetime(2017, 12, 1, 3, 13, 50), passenger_count=1.0, trip_distance=0.7, RatecodeID=1.0, store_and_fwd_flag='N', PULocationID=75.0, DOLocationID=75.0, payment_type=3.0, fare_amount=5.0, extra=0.5, mta_tax=0.5, tip_amount=0.0, tolls_amount=0.0, improvement_surcharge=0.3, total_amount=6.3),\n",
       " Row(VendorID=1.0, tpep_pickup_datetime=datetime.datetime(2017, 12, 1, 3, 59, 8), tpep_dropoff_datetime=datetime.datetime(2017, 12, 1, 4, 4, 26), passenger_count=2.0, trip_distance=0.5, RatecodeID=1.0, store_and_fwd_flag='N', PULocationID=148.0, DOLocationID=148.0, payment_type=3.0, fare_amount=5.5, extra=0.5, mta_tax=0.5, tip_amount=0.0, tolls_amount=0.0, improvement_surcharge=0.3, total_amount=6.8),\n",
       " Row(VendorID=1.0, tpep_pickup_datetime=datetime.datetime(2017, 12, 1, 3, 16, 55), tpep_dropoff_datetime=datetime.datetime(2017, 12, 1, 3, 17, 29), passenger_count=1.0, trip_distance=0.0, RatecodeID=1.0, store_and_fwd_flag='N', PULocationID=162.0, DOLocationID=162.0, payment_type=3.0, fare_amount=2.5, extra=0.5, mta_tax=0.5, tip_amount=0.0, tolls_amount=0.0, improvement_surcharge=0.3, total_amount=3.8),\n",
       " Row(VendorID=1.0, tpep_pickup_datetime=datetime.datetime(2017, 12, 1, 3, 26, 42), tpep_dropoff_datetime=datetime.datetime(2017, 12, 1, 3, 49, 18), passenger_count=1.0, trip_distance=11.7, RatecodeID=1.0, store_and_fwd_flag='N', PULocationID=145.0, DOLocationID=242.0, payment_type=3.0, fare_amount=33.5, extra=0.5, mta_tax=0.5, tip_amount=0.0, tolls_amount=0.0, improvement_surcharge=0.3, total_amount=34.8),\n",
       " Row(VendorID=1.0, tpep_pickup_datetime=datetime.datetime(2017, 12, 1, 3, 48, 15), tpep_dropoff_datetime=datetime.datetime(2017, 12, 1, 3, 50, 9), passenger_count=1.0, trip_distance=0.8, RatecodeID=1.0, store_and_fwd_flag='N', PULocationID=263.0, DOLocationID=75.0, payment_type=3.0, fare_amount=4.5, extra=0.5, mta_tax=0.5, tip_amount=0.0, tolls_amount=0.0, improvement_surcharge=0.3, total_amount=5.8),\n",
       " Row(VendorID=1.0, tpep_pickup_datetime=datetime.datetime(2017, 12, 1, 3, 46, 13), tpep_dropoff_datetime=datetime.datetime(2017, 12, 1, 3, 53, 52), passenger_count=1.0, trip_distance=2.1, RatecodeID=1.0, store_and_fwd_flag='N', PULocationID=232.0, DOLocationID=217.0, payment_type=3.0, fare_amount=9.0, extra=0.5, mta_tax=0.5, tip_amount=0.0, tolls_amount=0.0, improvement_surcharge=0.3, total_amount=10.3),\n",
       " Row(VendorID=1.0, tpep_pickup_datetime=datetime.datetime(2017, 12, 1, 3, 21, 7), tpep_dropoff_datetime=datetime.datetime(2017, 12, 1, 3, 25, 45), passenger_count=1.0, trip_distance=0.5, RatecodeID=1.0, store_and_fwd_flag='N', PULocationID=148.0, DOLocationID=144.0, payment_type=3.0, fare_amount=5.0, extra=0.5, mta_tax=0.5, tip_amount=0.0, tolls_amount=0.0, improvement_surcharge=0.3, total_amount=6.3),\n",
       " Row(VendorID=2.0, tpep_pickup_datetime=datetime.datetime(2017, 12, 1, 3, 4, 40), tpep_dropoff_datetime=datetime.datetime(2017, 12, 1, 3, 7, 52), passenger_count=5.0, trip_distance=0.12, RatecodeID=1.0, store_and_fwd_flag='N', PULocationID=211.0, DOLocationID=144.0, payment_type=3.0, fare_amount=-4.0, extra=-0.5, mta_tax=-0.5, tip_amount=0.0, tolls_amount=0.0, improvement_surcharge=-0.3, total_amount=-5.3),\n",
       " Row(VendorID=1.0, tpep_pickup_datetime=datetime.datetime(2017, 12, 1, 3, 52, 22), tpep_dropoff_datetime=datetime.datetime(2017, 12, 1, 4, 5, 22), passenger_count=1.0, trip_distance=3.1, RatecodeID=1.0, store_and_fwd_flag='N', PULocationID=163.0, DOLocationID=41.0, payment_type=3.0, fare_amount=12.5, extra=0.5, mta_tax=0.5, tip_amount=0.0, tolls_amount=0.0, improvement_surcharge=0.3, total_amount=13.8),\n",
       " Row(VendorID=1.0, tpep_pickup_datetime=datetime.datetime(2017, 12, 1, 3, 37, 23), tpep_dropoff_datetime=datetime.datetime(2017, 12, 1, 3, 52, 17), passenger_count=1.0, trip_distance=4.0, RatecodeID=1.0, store_and_fwd_flag='N', PULocationID=145.0, DOLocationID=186.0, payment_type=3.0, fare_amount=14.5, extra=0.5, mta_tax=0.5, tip_amount=0.0, tolls_amount=0.0, improvement_surcharge=0.3, total_amount=15.8),\n",
       " Row(VendorID=1.0, tpep_pickup_datetime=datetime.datetime(2017, 12, 1, 3, 0, 7), tpep_dropoff_datetime=datetime.datetime(2017, 12, 1, 3, 1, 19), passenger_count=1.0, trip_distance=0.2, RatecodeID=1.0, store_and_fwd_flag='N', PULocationID=179.0, DOLocationID=193.0, payment_type=3.0, fare_amount=3.0, extra=0.5, mta_tax=0.5, tip_amount=0.0, tolls_amount=0.0, improvement_surcharge=0.3, total_amount=4.3),\n",
       " Row(VendorID=1.0, tpep_pickup_datetime=datetime.datetime(2017, 12, 1, 3, 19, 54), tpep_dropoff_datetime=datetime.datetime(2017, 12, 1, 3, 40, 23), passenger_count=1.0, trip_distance=7.6, RatecodeID=1.0, store_and_fwd_flag='N', PULocationID=68.0, DOLocationID=129.0, payment_type=3.0, fare_amount=23.5, extra=0.5, mta_tax=0.5, tip_amount=0.0, tolls_amount=0.0, improvement_surcharge=0.3, total_amount=24.8),\n",
       " Row(VendorID=2.0, tpep_pickup_datetime=datetime.datetime(2017, 12, 1, 3, 16, 55), tpep_dropoff_datetime=datetime.datetime(2017, 12, 1, 3, 19, 34), passenger_count=1.0, trip_distance=0.33, RatecodeID=1.0, store_and_fwd_flag='N', PULocationID=114.0, DOLocationID=249.0, payment_type=3.0, fare_amount=-4.0, extra=-0.5, mta_tax=-0.5, tip_amount=0.0, tolls_amount=0.0, improvement_surcharge=-0.3, total_amount=-5.3),\n",
       " Row(VendorID=1.0, tpep_pickup_datetime=datetime.datetime(2017, 12, 1, 3, 44, 13), tpep_dropoff_datetime=datetime.datetime(2017, 12, 1, 3, 55, 41), passenger_count=1.0, trip_distance=3.2, RatecodeID=1.0, store_and_fwd_flag='N', PULocationID=100.0, DOLocationID=125.0, payment_type=3.0, fare_amount=12.5, extra=0.5, mta_tax=0.5, tip_amount=0.0, tolls_amount=0.0, improvement_surcharge=0.3, total_amount=13.8),\n",
       " Row(VendorID=1.0, tpep_pickup_datetime=datetime.datetime(2017, 12, 1, 3, 6, 49), tpep_dropoff_datetime=datetime.datetime(2017, 12, 1, 3, 9, 25), passenger_count=1.0, trip_distance=0.6, RatecodeID=1.0, store_and_fwd_flag='N', PULocationID=164.0, DOLocationID=234.0, payment_type=3.0, fare_amount=4.0, extra=0.5, mta_tax=0.5, tip_amount=0.0, tolls_amount=0.0, improvement_surcharge=0.3, total_amount=5.3),\n",
       " Row(VendorID=1.0, tpep_pickup_datetime=datetime.datetime(2017, 12, 1, 3, 54, 16), tpep_dropoff_datetime=datetime.datetime(2017, 12, 1, 4, 12, 29), passenger_count=1.0, trip_distance=4.7, RatecodeID=1.0, store_and_fwd_flag='N', PULocationID=90.0, DOLocationID=37.0, payment_type=3.0, fare_amount=17.5, extra=0.5, mta_tax=0.5, tip_amount=0.0, tolls_amount=0.0, improvement_surcharge=0.3, total_amount=18.8),\n",
       " Row(VendorID=1.0, tpep_pickup_datetime=datetime.datetime(2017, 12, 1, 3, 16, 59), tpep_dropoff_datetime=datetime.datetime(2017, 12, 1, 3, 42, 11), passenger_count=1.0, trip_distance=9.4, RatecodeID=1.0, store_and_fwd_flag='N', PULocationID=132.0, DOLocationID=35.0, payment_type=3.0, fare_amount=29.5, extra=0.5, mta_tax=0.5, tip_amount=0.0, tolls_amount=0.0, improvement_surcharge=0.3, total_amount=30.8),\n",
       " Row(VendorID=1.0, tpep_pickup_datetime=datetime.datetime(2017, 12, 1, 3, 43, 1), tpep_dropoff_datetime=datetime.datetime(2017, 12, 1, 3, 55, 28), passenger_count=1.0, trip_distance=3.4, RatecodeID=1.0, store_and_fwd_flag='N', PULocationID=163.0, DOLocationID=114.0, payment_type=3.0, fare_amount=13.0, extra=0.5, mta_tax=0.5, tip_amount=0.0, tolls_amount=0.0, improvement_surcharge=0.3, total_amount=14.3),\n",
       " Row(VendorID=1.0, tpep_pickup_datetime=datetime.datetime(2017, 12, 1, 3, 1, 21), tpep_dropoff_datetime=datetime.datetime(2017, 12, 1, 3, 1, 24), passenger_count=1.0, trip_distance=0.0, RatecodeID=1.0, store_and_fwd_flag='N', PULocationID=144.0, DOLocationID=144.0, payment_type=3.0, fare_amount=2.5, extra=0.5, mta_tax=0.5, tip_amount=0.0, tolls_amount=0.0, improvement_surcharge=0.3, total_amount=3.8),\n",
       " Row(VendorID=1.0, tpep_pickup_datetime=datetime.datetime(2017, 12, 1, 3, 50, 58), tpep_dropoff_datetime=datetime.datetime(2017, 12, 1, 3, 51, 25), passenger_count=1.0, trip_distance=0.0, RatecodeID=1.0, store_and_fwd_flag='N', PULocationID=7.0, DOLocationID=7.0, payment_type=3.0, fare_amount=2.5, extra=0.5, mta_tax=0.5, tip_amount=0.0, tolls_amount=0.0, improvement_surcharge=0.3, total_amount=3.8),\n",
       " Row(VendorID=1.0, tpep_pickup_datetime=datetime.datetime(2017, 12, 1, 3, 57, 31), tpep_dropoff_datetime=datetime.datetime(2017, 12, 1, 3, 59, 41), passenger_count=2.0, trip_distance=0.0, RatecodeID=1.0, store_and_fwd_flag='N', PULocationID=7.0, DOLocationID=7.0, payment_type=3.0, fare_amount=3.5, extra=0.5, mta_tax=0.5, tip_amount=0.0, tolls_amount=0.0, improvement_surcharge=0.3, total_amount=4.8),\n",
       " Row(VendorID=1.0, tpep_pickup_datetime=datetime.datetime(2017, 12, 1, 3, 46, 2), tpep_dropoff_datetime=datetime.datetime(2017, 12, 1, 4, 9, 9), passenger_count=1.0, trip_distance=5.7, RatecodeID=1.0, store_and_fwd_flag='N', PULocationID=68.0, DOLocationID=226.0, payment_type=3.0, fare_amount=20.5, extra=0.5, mta_tax=0.5, tip_amount=0.0, tolls_amount=0.0, improvement_surcharge=0.3, total_amount=21.8),\n",
       " Row(VendorID=1.0, tpep_pickup_datetime=datetime.datetime(2017, 12, 1, 4, 18, 22), tpep_dropoff_datetime=datetime.datetime(2017, 12, 1, 4, 24, 38), passenger_count=1.0, trip_distance=1.6, RatecodeID=1.0, store_and_fwd_flag='N', PULocationID=113.0, DOLocationID=90.0, payment_type=3.0, fare_amount=7.0, extra=0.5, mta_tax=0.5, tip_amount=0.0, tolls_amount=0.0, improvement_surcharge=0.3, total_amount=8.3),\n",
       " Row(VendorID=1.0, tpep_pickup_datetime=datetime.datetime(2017, 12, 1, 4, 23, 30), tpep_dropoff_datetime=datetime.datetime(2017, 12, 1, 4, 34, 24), passenger_count=1.0, trip_distance=2.1, RatecodeID=1.0, store_and_fwd_flag='N', PULocationID=230.0, DOLocationID=239.0, payment_type=3.0, fare_amount=10.5, extra=0.5, mta_tax=0.5, tip_amount=0.0, tolls_amount=0.0, improvement_surcharge=0.3, total_amount=11.8),\n",
       " Row(VendorID=1.0, tpep_pickup_datetime=datetime.datetime(2017, 12, 1, 4, 51, 56), tpep_dropoff_datetime=datetime.datetime(2017, 12, 1, 4, 52, 2), passenger_count=1.0, trip_distance=0.0, RatecodeID=1.0, store_and_fwd_flag='N', PULocationID=226.0, DOLocationID=226.0, payment_type=3.0, fare_amount=2.5, extra=0.5, mta_tax=0.5, tip_amount=0.0, tolls_amount=0.0, improvement_surcharge=0.3, total_amount=3.8),\n",
       " Row(VendorID=1.0, tpep_pickup_datetime=datetime.datetime(2017, 12, 1, 4, 1, 48), tpep_dropoff_datetime=datetime.datetime(2017, 12, 1, 4, 41, 36), passenger_count=1.0, trip_distance=8.8, RatecodeID=1.0, store_and_fwd_flag='N', PULocationID=42.0, DOLocationID=68.0, payment_type=3.0, fare_amount=30.5, extra=0.0, mta_tax=0.5, tip_amount=0.0, tolls_amount=0.0, improvement_surcharge=0.3, total_amount=31.3),\n",
       " Row(VendorID=1.0, tpep_pickup_datetime=datetime.datetime(2017, 12, 1, 4, 37, 22), tpep_dropoff_datetime=datetime.datetime(2017, 12, 1, 4, 42, 31), passenger_count=1.0, trip_distance=1.1, RatecodeID=1.0, store_and_fwd_flag='N', PULocationID=264.0, DOLocationID=158.0, payment_type=3.0, fare_amount=6.0, extra=0.5, mta_tax=0.5, tip_amount=0.0, tolls_amount=0.0, improvement_surcharge=0.3, total_amount=7.3),\n",
       " Row(VendorID=1.0, tpep_pickup_datetime=datetime.datetime(2017, 12, 1, 4, 38, 24), tpep_dropoff_datetime=datetime.datetime(2017, 12, 1, 4, 56, 33), passenger_count=1.0, trip_distance=5.8, RatecodeID=1.0, store_and_fwd_flag='N', PULocationID=230.0, DOLocationID=168.0, payment_type=3.0, fare_amount=20.0, extra=0.5, mta_tax=0.5, tip_amount=0.0, tolls_amount=0.0, improvement_surcharge=0.3, total_amount=21.3),\n",
       " Row(VendorID=1.0, tpep_pickup_datetime=datetime.datetime(2017, 12, 1, 4, 0, 11), tpep_dropoff_datetime=datetime.datetime(2017, 12, 1, 4, 17, 15), passenger_count=1.0, trip_distance=9.2, RatecodeID=1.0, store_and_fwd_flag='N', PULocationID=163.0, DOLocationID=138.0, payment_type=3.0, fare_amount=26.5, extra=0.5, mta_tax=0.5, tip_amount=0.0, tolls_amount=0.0, improvement_surcharge=0.3, total_amount=27.8),\n",
       " Row(VendorID=1.0, tpep_pickup_datetime=datetime.datetime(2017, 12, 1, 4, 12, 51), tpep_dropoff_datetime=datetime.datetime(2017, 12, 1, 4, 21, 38), passenger_count=3.0, trip_distance=1.9, RatecodeID=1.0, store_and_fwd_flag='N', PULocationID=68.0, DOLocationID=170.0, payment_type=3.0, fare_amount=9.0, extra=0.5, mta_tax=0.5, tip_amount=0.0, tolls_amount=0.0, improvement_surcharge=0.3, total_amount=10.3),\n",
       " Row(VendorID=1.0, tpep_pickup_datetime=datetime.datetime(2017, 12, 1, 4, 9, 26), tpep_dropoff_datetime=datetime.datetime(2017, 12, 1, 4, 9, 48), passenger_count=1.0, trip_distance=0.0, RatecodeID=5.0, store_and_fwd_flag='N', PULocationID=265.0, DOLocationID=265.0, payment_type=3.0, fare_amount=195.0, extra=0.0, mta_tax=0.0, tip_amount=0.0, tolls_amount=0.0, improvement_surcharge=0.3, total_amount=195.3),\n",
       " Row(VendorID=1.0, tpep_pickup_datetime=datetime.datetime(2017, 12, 1, 4, 54, 47), tpep_dropoff_datetime=datetime.datetime(2017, 12, 1, 4, 55, 17), passenger_count=1.0, trip_distance=0.0, RatecodeID=1.0, store_and_fwd_flag='N', PULocationID=158.0, DOLocationID=158.0, payment_type=3.0, fare_amount=2.5, extra=0.5, mta_tax=0.5, tip_amount=0.0, tolls_amount=0.0, improvement_surcharge=0.3, total_amount=3.8),\n",
       " Row(VendorID=1.0, tpep_pickup_datetime=datetime.datetime(2017, 12, 1, 4, 38, 3), tpep_dropoff_datetime=datetime.datetime(2017, 12, 1, 4, 46, 19), passenger_count=1.0, trip_distance=1.7, RatecodeID=1.0, store_and_fwd_flag='Y', PULocationID=90.0, DOLocationID=114.0, payment_type=3.0, fare_amount=8.0, extra=0.5, mta_tax=0.5, tip_amount=0.0, tolls_amount=0.0, improvement_surcharge=0.3, total_amount=9.3),\n",
       " Row(VendorID=1.0, tpep_pickup_datetime=datetime.datetime(2017, 12, 1, 4, 30, 58), tpep_dropoff_datetime=datetime.datetime(2017, 12, 1, 4, 36, 13), passenger_count=1.0, trip_distance=1.5, RatecodeID=1.0, store_and_fwd_flag='N', PULocationID=48.0, DOLocationID=239.0, payment_type=3.0, fare_amount=7.0, extra=0.5, mta_tax=0.5, tip_amount=0.0, tolls_amount=0.0, improvement_surcharge=0.3, total_amount=8.3),\n",
       " Row(VendorID=1.0, tpep_pickup_datetime=datetime.datetime(2017, 12, 1, 4, 12, 52), tpep_dropoff_datetime=datetime.datetime(2017, 12, 1, 4, 32, 14), passenger_count=1.0, trip_distance=6.7, RatecodeID=1.0, store_and_fwd_flag='N', PULocationID=148.0, DOLocationID=74.0, payment_type=3.0, fare_amount=21.0, extra=0.5, mta_tax=0.5, tip_amount=0.0, tolls_amount=0.0, improvement_surcharge=0.3, total_amount=22.3),\n",
       " Row(VendorID=1.0, tpep_pickup_datetime=datetime.datetime(2017, 12, 1, 4, 57, 28), tpep_dropoff_datetime=datetime.datetime(2017, 12, 1, 5, 6, 9), passenger_count=1.0, trip_distance=0.9, RatecodeID=1.0, store_and_fwd_flag='N', PULocationID=129.0, DOLocationID=129.0, payment_type=3.0, fare_amount=7.5, extra=0.5, mta_tax=0.5, tip_amount=0.0, tolls_amount=0.0, improvement_surcharge=0.3, total_amount=8.8),\n",
       " Row(VendorID=1.0, tpep_pickup_datetime=datetime.datetime(2017, 12, 1, 4, 19, 20), tpep_dropoff_datetime=datetime.datetime(2017, 12, 1, 4, 22, 35), passenger_count=0.0, trip_distance=0.5, RatecodeID=1.0, store_and_fwd_flag='N', PULocationID=148.0, DOLocationID=144.0, payment_type=3.0, fare_amount=4.0, extra=0.5, mta_tax=0.5, tip_amount=0.0, tolls_amount=0.0, improvement_surcharge=0.3, total_amount=5.3),\n",
       " Row(VendorID=1.0, tpep_pickup_datetime=datetime.datetime(2017, 12, 1, 4, 53, 11), tpep_dropoff_datetime=datetime.datetime(2017, 12, 1, 5, 2, 4), passenger_count=2.0, trip_distance=2.7, RatecodeID=1.0, store_and_fwd_flag='N', PULocationID=113.0, DOLocationID=48.0, payment_type=3.0, fare_amount=10.0, extra=0.5, mta_tax=0.5, tip_amount=0.0, tolls_amount=0.0, improvement_surcharge=0.3, total_amount=11.3),\n",
       " Row(VendorID=1.0, tpep_pickup_datetime=datetime.datetime(2017, 12, 1, 4, 53, 18), tpep_dropoff_datetime=datetime.datetime(2017, 12, 1, 4, 58, 55), passenger_count=1.0, trip_distance=1.0, RatecodeID=1.0, store_and_fwd_flag='N', PULocationID=163.0, DOLocationID=48.0, payment_type=3.0, fare_amount=6.0, extra=0.5, mta_tax=0.5, tip_amount=0.0, tolls_amount=0.0, improvement_surcharge=0.3, total_amount=7.3),\n",
       " Row(VendorID=1.0, tpep_pickup_datetime=datetime.datetime(2017, 12, 1, 4, 33, 25), tpep_dropoff_datetime=datetime.datetime(2017, 12, 1, 4, 36, 35), passenger_count=1.0, trip_distance=0.7, RatecodeID=1.0, store_and_fwd_flag='N', PULocationID=45.0, DOLocationID=209.0, payment_type=3.0, fare_amount=4.5, extra=0.5, mta_tax=0.5, tip_amount=0.0, tolls_amount=0.0, improvement_surcharge=0.3, total_amount=5.8),\n",
       " Row(VendorID=1.0, tpep_pickup_datetime=datetime.datetime(2017, 12, 1, 4, 21, 43), tpep_dropoff_datetime=datetime.datetime(2017, 12, 1, 4, 23, 27), passenger_count=1.0, trip_distance=0.4, RatecodeID=1.0, store_and_fwd_flag='N', PULocationID=230.0, DOLocationID=48.0, payment_type=3.0, fare_amount=3.5, extra=0.5, mta_tax=0.5, tip_amount=0.0, tolls_amount=0.0, improvement_surcharge=0.3, total_amount=4.8),\n",
       " Row(VendorID=1.0, tpep_pickup_datetime=datetime.datetime(2017, 12, 1, 4, 13, 51), tpep_dropoff_datetime=datetime.datetime(2017, 12, 1, 4, 13, 53), passenger_count=1.0, trip_distance=0.0, RatecodeID=2.0, store_and_fwd_flag='N', PULocationID=237.0, DOLocationID=237.0, payment_type=3.0, fare_amount=52.0, extra=0.0, mta_tax=0.5, tip_amount=0.0, tolls_amount=0.0, improvement_surcharge=0.3, total_amount=52.8),\n",
       " Row(VendorID=1.0, tpep_pickup_datetime=datetime.datetime(2017, 12, 1, 4, 26, 31), tpep_dropoff_datetime=datetime.datetime(2017, 12, 1, 4, 53, 40), passenger_count=1.0, trip_distance=5.5, RatecodeID=1.0, store_and_fwd_flag='N', PULocationID=68.0, DOLocationID=256.0, payment_type=3.0, fare_amount=22.0, extra=0.5, mta_tax=0.5, tip_amount=0.0, tolls_amount=0.0, improvement_surcharge=0.3, total_amount=23.3),\n",
       " Row(VendorID=1.0, tpep_pickup_datetime=datetime.datetime(2017, 12, 1, 4, 35, 30), tpep_dropoff_datetime=datetime.datetime(2017, 12, 1, 4, 35, 36), passenger_count=0.0, trip_distance=0.0, RatecodeID=1.0, store_and_fwd_flag='N', PULocationID=70.0, DOLocationID=70.0, payment_type=3.0, fare_amount=2.5, extra=0.5, mta_tax=0.5, tip_amount=0.0, tolls_amount=0.0, improvement_surcharge=0.3, total_amount=3.8),\n",
       " Row(VendorID=2.0, tpep_pickup_datetime=datetime.datetime(2017, 12, 1, 4, 9, 23), tpep_dropoff_datetime=datetime.datetime(2017, 12, 1, 4, 10, 6), passenger_count=5.0, trip_distance=0.0, RatecodeID=1.0, store_and_fwd_flag='N', PULocationID=90.0, DOLocationID=90.0, payment_type=3.0, fare_amount=-2.5, extra=-0.5, mta_tax=-0.5, tip_amount=0.0, tolls_amount=0.0, improvement_surcharge=-0.3, total_amount=-3.8),\n",
       " Row(VendorID=1.0, tpep_pickup_datetime=datetime.datetime(2017, 12, 1, 4, 16, 51), tpep_dropoff_datetime=datetime.datetime(2017, 12, 1, 4, 16, 54), passenger_count=1.0, trip_distance=5.7, RatecodeID=1.0, store_and_fwd_flag='N', PULocationID=145.0, DOLocationID=145.0, payment_type=3.0, fare_amount=2.5, extra=0.5, mta_tax=0.5, tip_amount=0.0, tolls_amount=0.0, improvement_surcharge=0.3, total_amount=3.8),\n",
       " Row(VendorID=1.0, tpep_pickup_datetime=datetime.datetime(2017, 12, 1, 4, 18, 30), tpep_dropoff_datetime=datetime.datetime(2017, 12, 1, 4, 36, 17), passenger_count=1.0, trip_distance=6.1, RatecodeID=1.0, store_and_fwd_flag='N', PULocationID=137.0, DOLocationID=166.0, payment_type=3.0, fare_amount=19.0, extra=0.5, mta_tax=0.5, tip_amount=0.0, tolls_amount=0.0, improvement_surcharge=0.3, total_amount=20.3),\n",
       " Row(VendorID=1.0, tpep_pickup_datetime=datetime.datetime(2017, 12, 1, 4, 31, 6), tpep_dropoff_datetime=datetime.datetime(2017, 12, 1, 4, 31, 26), passenger_count=1.0, trip_distance=0.0, RatecodeID=1.0, store_and_fwd_flag='N', PULocationID=229.0, DOLocationID=229.0, payment_type=3.0, fare_amount=2.5, extra=0.5, mta_tax=0.5, tip_amount=0.0, tolls_amount=0.0, improvement_surcharge=0.3, total_amount=3.8),\n",
       " Row(VendorID=1.0, tpep_pickup_datetime=datetime.datetime(2017, 12, 1, 4, 7, 46), tpep_dropoff_datetime=datetime.datetime(2017, 12, 1, 4, 14, 43), passenger_count=1.0, trip_distance=1.2, RatecodeID=1.0, store_and_fwd_flag='N', PULocationID=68.0, DOLocationID=107.0, payment_type=3.0, fare_amount=7.0, extra=0.5, mta_tax=0.5, tip_amount=0.0, tolls_amount=0.0, improvement_surcharge=0.3, total_amount=8.3),\n",
       " Row(VendorID=1.0, tpep_pickup_datetime=datetime.datetime(2017, 12, 1, 4, 33, 7), tpep_dropoff_datetime=datetime.datetime(2017, 12, 1, 4, 33, 9), passenger_count=1.0, trip_distance=0.0, RatecodeID=1.0, store_and_fwd_flag='N', PULocationID=260.0, DOLocationID=260.0, payment_type=3.0, fare_amount=2.5, extra=0.5, mta_tax=0.5, tip_amount=0.0, tolls_amount=0.0, improvement_surcharge=0.3, total_amount=3.8),\n",
       " Row(VendorID=2.0, tpep_pickup_datetime=datetime.datetime(2017, 12, 1, 4, 6, 7), tpep_dropoff_datetime=datetime.datetime(2017, 12, 1, 4, 9, 6), passenger_count=1.0, trip_distance=0.66, RatecodeID=1.0, store_and_fwd_flag='N', PULocationID=256.0, DOLocationID=256.0, payment_type=3.0, fare_amount=-4.5, extra=-0.5, mta_tax=-0.5, tip_amount=0.0, tolls_amount=0.0, improvement_surcharge=-0.3, total_amount=-5.8),\n",
       " Row(VendorID=2.0, tpep_pickup_datetime=datetime.datetime(2017, 12, 1, 4, 18, 57), tpep_dropoff_datetime=datetime.datetime(2017, 12, 1, 4, 19, 5), passenger_count=1.0, trip_distance=0.0, RatecodeID=5.0, store_and_fwd_flag='N', PULocationID=79.0, DOLocationID=79.0, payment_type=3.0, fare_amount=-13.0, extra=0.0, mta_tax=-0.5, tip_amount=0.0, tolls_amount=0.0, improvement_surcharge=-0.3, total_amount=-13.8),\n",
       " Row(VendorID=1.0, tpep_pickup_datetime=datetime.datetime(2017, 12, 1, 4, 14, 15), tpep_dropoff_datetime=datetime.datetime(2017, 12, 1, 4, 45), passenger_count=1.0, trip_distance=11.5, RatecodeID=1.0, store_and_fwd_flag='N', PULocationID=164.0, DOLocationID=36.0, payment_type=3.0, fare_amount=35.0, extra=0.5, mta_tax=0.5, tip_amount=0.0, tolls_amount=0.0, improvement_surcharge=0.3, total_amount=36.3),\n",
       " Row(VendorID=1.0, tpep_pickup_datetime=datetime.datetime(2017, 12, 1, 4, 0, 49), tpep_dropoff_datetime=datetime.datetime(2017, 12, 1, 4, 39, 10), passenger_count=1.0, trip_distance=11.4, RatecodeID=1.0, store_and_fwd_flag='N', PULocationID=79.0, DOLocationID=244.0, payment_type=3.0, fare_amount=37.5, extra=0.5, mta_tax=0.5, tip_amount=0.0, tolls_amount=0.0, improvement_surcharge=0.3, total_amount=38.8),\n",
       " Row(VendorID=1.0, tpep_pickup_datetime=datetime.datetime(2017, 12, 1, 4, 31, 43), tpep_dropoff_datetime=datetime.datetime(2017, 12, 1, 4, 44, 18), passenger_count=1.0, trip_distance=4.3, RatecodeID=1.0, store_and_fwd_flag='N', PULocationID=163.0, DOLocationID=260.0, payment_type=3.0, fare_amount=14.5, extra=0.5, mta_tax=0.5, tip_amount=0.0, tolls_amount=0.0, improvement_surcharge=0.3, total_amount=15.8),\n",
       " Row(VendorID=1.0, tpep_pickup_datetime=datetime.datetime(2017, 12, 1, 4, 29, 26), tpep_dropoff_datetime=datetime.datetime(2017, 12, 1, 4, 55, 59), passenger_count=3.0, trip_distance=18.0, RatecodeID=2.0, store_and_fwd_flag='N', PULocationID=48.0, DOLocationID=132.0, payment_type=3.0, fare_amount=52.0, extra=0.0, mta_tax=0.5, tip_amount=0.0, tolls_amount=5.76, improvement_surcharge=0.3, total_amount=58.56),\n",
       " Row(VendorID=1.0, tpep_pickup_datetime=datetime.datetime(2017, 12, 1, 4, 17, 7), tpep_dropoff_datetime=datetime.datetime(2017, 12, 1, 4, 19, 23), passenger_count=1.0, trip_distance=0.7, RatecodeID=1.0, store_and_fwd_flag='N', PULocationID=25.0, DOLocationID=65.0, payment_type=3.0, fare_amount=4.0, extra=0.5, mta_tax=0.5, tip_amount=0.0, tolls_amount=0.0, improvement_surcharge=0.3, total_amount=5.3),\n",
       " Row(VendorID=1.0, tpep_pickup_datetime=datetime.datetime(2017, 12, 1, 4, 10, 47), tpep_dropoff_datetime=datetime.datetime(2017, 12, 1, 4, 26, 2), passenger_count=2.0, trip_distance=3.8, RatecodeID=1.0, store_and_fwd_flag='N', PULocationID=48.0, DOLocationID=145.0, payment_type=3.0, fare_amount=15.0, extra=0.5, mta_tax=0.5, tip_amount=0.0, tolls_amount=0.0, improvement_surcharge=0.3, total_amount=16.3),\n",
       " Row(VendorID=1.0, tpep_pickup_datetime=datetime.datetime(2017, 12, 1, 4, 6, 14), tpep_dropoff_datetime=datetime.datetime(2017, 12, 1, 4, 7, 39), passenger_count=1.0, trip_distance=0.0, RatecodeID=5.0, store_and_fwd_flag='N', PULocationID=100.0, DOLocationID=100.0, payment_type=3.0, fare_amount=0.01, extra=0.0, mta_tax=0.0, tip_amount=0.0, tolls_amount=0.0, improvement_surcharge=0.3, total_amount=0.31),\n",
       " Row(VendorID=1.0, tpep_pickup_datetime=datetime.datetime(2017, 12, 1, 4, 10, 22), tpep_dropoff_datetime=datetime.datetime(2017, 12, 1, 4, 19, 50), passenger_count=1.0, trip_distance=1.8, RatecodeID=1.0, store_and_fwd_flag='N', PULocationID=158.0, DOLocationID=107.0, payment_type=3.0, fare_amount=9.0, extra=0.5, mta_tax=0.5, tip_amount=0.0, tolls_amount=0.0, improvement_surcharge=0.3, total_amount=10.3),\n",
       " Row(VendorID=1.0, tpep_pickup_datetime=datetime.datetime(2017, 12, 1, 4, 1, 26), tpep_dropoff_datetime=datetime.datetime(2017, 12, 1, 4, 4, 35), passenger_count=2.0, trip_distance=0.0, RatecodeID=5.0, store_and_fwd_flag='N', PULocationID=7.0, DOLocationID=7.0, payment_type=3.0, fare_amount=120.0, extra=0.0, mta_tax=0.0, tip_amount=0.0, tolls_amount=14.0, improvement_surcharge=0.3, total_amount=134.3),\n",
       " Row(VendorID=1.0, tpep_pickup_datetime=datetime.datetime(2017, 12, 1, 4, 5, 11), tpep_dropoff_datetime=datetime.datetime(2017, 12, 1, 4, 7, 34), passenger_count=3.0, trip_distance=0.0, RatecodeID=5.0, store_and_fwd_flag='N', PULocationID=7.0, DOLocationID=7.0, payment_type=3.0, fare_amount=80.0, extra=0.0, mta_tax=0.0, tip_amount=0.0, tolls_amount=0.0, improvement_surcharge=0.3, total_amount=80.3),\n",
       " Row(VendorID=1.0, tpep_pickup_datetime=datetime.datetime(2017, 12, 1, 4, 9, 39), tpep_dropoff_datetime=datetime.datetime(2017, 12, 1, 4, 14, 59), passenger_count=2.0, trip_distance=0.0, RatecodeID=5.0, store_and_fwd_flag='N', PULocationID=7.0, DOLocationID=7.0, payment_type=3.0, fare_amount=40.0, extra=0.0, mta_tax=0.0, tip_amount=0.0, tolls_amount=0.0, improvement_surcharge=0.3, total_amount=40.3),\n",
       " Row(VendorID=1.0, tpep_pickup_datetime=datetime.datetime(2017, 12, 1, 4, 30, 33), tpep_dropoff_datetime=datetime.datetime(2017, 12, 1, 4, 30, 38), passenger_count=1.0, trip_distance=0.0, RatecodeID=1.0, store_and_fwd_flag='N', PULocationID=211.0, DOLocationID=211.0, payment_type=3.0, fare_amount=2.5, extra=0.5, mta_tax=0.5, tip_amount=0.0, tolls_amount=0.0, improvement_surcharge=0.3, total_amount=3.8),\n",
       " Row(VendorID=1.0, tpep_pickup_datetime=datetime.datetime(2017, 12, 1, 4, 11, 47), tpep_dropoff_datetime=datetime.datetime(2017, 12, 1, 4, 16, 53), passenger_count=1.0, trip_distance=0.0, RatecodeID=1.0, store_and_fwd_flag='N', PULocationID=148.0, DOLocationID=148.0, payment_type=3.0, fare_amount=5.0, extra=0.5, mta_tax=0.5, tip_amount=0.0, tolls_amount=0.0, improvement_surcharge=0.3, total_amount=6.3),\n",
       " Row(VendorID=2.0, tpep_pickup_datetime=datetime.datetime(2017, 12, 1, 5, 55, 48), tpep_dropoff_datetime=datetime.datetime(2017, 12, 1, 5, 56, 8), passenger_count=1.0, trip_distance=0.0, RatecodeID=1.0, store_and_fwd_flag='N', PULocationID=265.0, DOLocationID=265.0, payment_type=3.0, fare_amount=-2.5, extra=-0.5, mta_tax=-0.5, tip_amount=0.0, tolls_amount=0.0, improvement_surcharge=-0.3, total_amount=-3.8),\n",
       " Row(VendorID=1.0, tpep_pickup_datetime=datetime.datetime(2017, 12, 1, 5, 55, 2), tpep_dropoff_datetime=datetime.datetime(2017, 12, 1, 6, 0, 12), passenger_count=1.0, trip_distance=1.0, RatecodeID=1.0, store_and_fwd_flag='N', PULocationID=162.0, DOLocationID=186.0, payment_type=3.0, fare_amount=5.5, extra=0.5, mta_tax=0.5, tip_amount=0.0, tolls_amount=0.0, improvement_surcharge=0.3, total_amount=6.8),\n",
       " Row(VendorID=1.0, tpep_pickup_datetime=datetime.datetime(2017, 12, 1, 5, 23, 43), tpep_dropoff_datetime=datetime.datetime(2017, 12, 1, 5, 29, 34), passenger_count=1.0, trip_distance=1.3, RatecodeID=1.0, store_and_fwd_flag='N', PULocationID=107.0, DOLocationID=186.0, payment_type=3.0, fare_amount=6.5, extra=0.5, mta_tax=0.5, tip_amount=0.0, tolls_amount=0.0, improvement_surcharge=0.3, total_amount=7.8),\n",
       " Row(VendorID=1.0, tpep_pickup_datetime=datetime.datetime(2017, 12, 1, 5, 28, 51), tpep_dropoff_datetime=datetime.datetime(2017, 12, 1, 5, 36, 23), passenger_count=1.0, trip_distance=2.8, RatecodeID=1.0, store_and_fwd_flag='N', PULocationID=236.0, DOLocationID=186.0, payment_type=3.0, fare_amount=10.0, extra=0.5, mta_tax=0.5, tip_amount=0.0, tolls_amount=0.0, improvement_surcharge=0.3, total_amount=11.3),\n",
       " Row(VendorID=2.0, tpep_pickup_datetime=datetime.datetime(2017, 12, 1, 5, 25, 37), tpep_dropoff_datetime=datetime.datetime(2017, 12, 1, 5, 29, 8), passenger_count=5.0, trip_distance=0.94, RatecodeID=1.0, store_and_fwd_flag='N', PULocationID=68.0, DOLocationID=90.0, payment_type=3.0, fare_amount=-5.0, extra=-0.5, mta_tax=-0.5, tip_amount=0.0, tolls_amount=0.0, improvement_surcharge=-0.3, total_amount=-6.3),\n",
       " Row(VendorID=1.0, tpep_pickup_datetime=datetime.datetime(2017, 12, 1, 5, 35, 56), tpep_dropoff_datetime=datetime.datetime(2017, 12, 1, 5, 45, 2), passenger_count=1.0, trip_distance=2.8, RatecodeID=1.0, store_and_fwd_flag='N', PULocationID=79.0, DOLocationID=50.0, payment_type=3.0, fare_amount=10.5, extra=0.5, mta_tax=0.5, tip_amount=0.0, tolls_amount=0.0, improvement_surcharge=0.3, total_amount=11.8),\n",
       " Row(VendorID=1.0, tpep_pickup_datetime=datetime.datetime(2017, 12, 1, 5, 50, 48), tpep_dropoff_datetime=datetime.datetime(2017, 12, 1, 5, 50, 52), passenger_count=1.0, trip_distance=0.0, RatecodeID=2.0, store_and_fwd_flag='N', PULocationID=50.0, DOLocationID=50.0, payment_type=3.0, fare_amount=52.0, extra=0.0, mta_tax=0.5, tip_amount=0.0, tolls_amount=0.0, improvement_surcharge=0.3, total_amount=52.8),\n",
       " Row(VendorID=1.0, tpep_pickup_datetime=datetime.datetime(2017, 12, 1, 5, 42, 8), tpep_dropoff_datetime=datetime.datetime(2017, 12, 1, 5, 42, 13), passenger_count=1.0, trip_distance=3.9, RatecodeID=3.0, store_and_fwd_flag='N', PULocationID=132.0, DOLocationID=132.0, payment_type=3.0, fare_amount=20.0, extra=0.5, mta_tax=0.0, tip_amount=0.0, tolls_amount=0.0, improvement_surcharge=0.3, total_amount=20.8),\n",
       " Row(VendorID=1.0, tpep_pickup_datetime=datetime.datetime(2017, 12, 1, 5, 22, 47), tpep_dropoff_datetime=datetime.datetime(2017, 12, 1, 5, 45, 37), passenger_count=1.0, trip_distance=6.9, RatecodeID=1.0, store_and_fwd_flag='N', PULocationID=249.0, DOLocationID=61.0, payment_type=3.0, fare_amount=24.0, extra=0.5, mta_tax=0.5, tip_amount=0.0, tolls_amount=0.0, improvement_surcharge=0.3, total_amount=25.3),\n",
       " Row(VendorID=1.0, tpep_pickup_datetime=datetime.datetime(2017, 12, 1, 5, 33, 15), tpep_dropoff_datetime=datetime.datetime(2017, 12, 1, 5, 33, 19), passenger_count=1.0, trip_distance=0.0, RatecodeID=3.0, store_and_fwd_flag='N', PULocationID=132.0, DOLocationID=132.0, payment_type=3.0, fare_amount=20.0, extra=0.5, mta_tax=0.0, tip_amount=0.0, tolls_amount=0.0, improvement_surcharge=0.3, total_amount=20.8),\n",
       " Row(VendorID=1.0, tpep_pickup_datetime=datetime.datetime(2017, 12, 1, 5, 5, 56), tpep_dropoff_datetime=datetime.datetime(2017, 12, 1, 5, 9, 48), passenger_count=1.0, trip_distance=0.9, RatecodeID=1.0, store_and_fwd_flag='N', PULocationID=90.0, DOLocationID=164.0, payment_type=3.0, fare_amount=5.0, extra=0.5, mta_tax=0.5, tip_amount=0.0, tolls_amount=0.0, improvement_surcharge=0.3, total_amount=6.3),\n",
       " Row(VendorID=1.0, tpep_pickup_datetime=datetime.datetime(2017, 12, 1, 5, 58, 19), tpep_dropoff_datetime=datetime.datetime(2017, 12, 1, 5, 58, 23), passenger_count=1.0, trip_distance=0.0, RatecodeID=1.0, store_and_fwd_flag='N', PULocationID=48.0, DOLocationID=48.0, payment_type=3.0, fare_amount=2.5, extra=0.5, mta_tax=0.5, tip_amount=0.0, tolls_amount=0.0, improvement_surcharge=0.3, total_amount=3.8),\n",
       " Row(VendorID=1.0, tpep_pickup_datetime=datetime.datetime(2017, 12, 1, 5, 16, 55), tpep_dropoff_datetime=datetime.datetime(2017, 12, 1, 5, 18, 44), passenger_count=1.0, trip_distance=0.2, RatecodeID=3.0, store_and_fwd_flag='N', PULocationID=132.0, DOLocationID=132.0, payment_type=3.0, fare_amount=21.0, extra=0.5, mta_tax=0.0, tip_amount=0.0, tolls_amount=0.0, improvement_surcharge=0.3, total_amount=21.8),\n",
       " Row(VendorID=1.0, tpep_pickup_datetime=datetime.datetime(2017, 12, 1, 5, 26, 41), tpep_dropoff_datetime=datetime.datetime(2017, 12, 1, 5, 53, 20), passenger_count=1.0, trip_distance=16.7, RatecodeID=2.0, store_and_fwd_flag='N', PULocationID=162.0, DOLocationID=132.0, payment_type=3.0, fare_amount=52.0, extra=0.0, mta_tax=0.5, tip_amount=0.0, tolls_amount=5.76, improvement_surcharge=0.3, total_amount=58.56),\n",
       " Row(VendorID=1.0, tpep_pickup_datetime=datetime.datetime(2017, 12, 1, 5, 45, 21), tpep_dropoff_datetime=datetime.datetime(2017, 12, 1, 5, 55, 49), passenger_count=1.0, trip_distance=1.7, RatecodeID=1.0, store_and_fwd_flag='N', PULocationID=48.0, DOLocationID=48.0, payment_type=3.0, fare_amount=9.0, extra=0.5, mta_tax=0.5, tip_amount=0.0, tolls_amount=0.0, improvement_surcharge=0.3, total_amount=10.3),\n",
       " Row(VendorID=1.0, tpep_pickup_datetime=datetime.datetime(2017, 12, 1, 5, 2, 13), tpep_dropoff_datetime=datetime.datetime(2017, 12, 1, 5, 13, 31), passenger_count=1.0, trip_distance=1.5, RatecodeID=1.0, store_and_fwd_flag='N', PULocationID=116.0, DOLocationID=116.0, payment_type=3.0, fare_amount=9.0, extra=0.5, mta_tax=0.5, tip_amount=0.0, tolls_amount=0.0, improvement_surcharge=0.3, total_amount=10.3),\n",
       " Row(VendorID=1.0, tpep_pickup_datetime=datetime.datetime(2017, 12, 1, 5, 23, 44), tpep_dropoff_datetime=datetime.datetime(2017, 12, 1, 5, 23, 47), passenger_count=1.0, trip_distance=0.0, RatecodeID=1.0, store_and_fwd_flag='N', PULocationID=264.0, DOLocationID=264.0, payment_type=3.0, fare_amount=2.5, extra=0.5, mta_tax=0.5, tip_amount=0.0, tolls_amount=0.0, improvement_surcharge=0.3, total_amount=3.8),\n",
       " Row(VendorID=1.0, tpep_pickup_datetime=datetime.datetime(2017, 12, 1, 5, 57, 4), tpep_dropoff_datetime=datetime.datetime(2017, 12, 1, 5, 57, 19), passenger_count=1.0, trip_distance=0.0, RatecodeID=1.0, store_and_fwd_flag='N', PULocationID=125.0, DOLocationID=125.0, payment_type=3.0, fare_amount=2.5, extra=0.5, mta_tax=0.5, tip_amount=0.0, tolls_amount=0.0, improvement_surcharge=0.3, total_amount=3.8),\n",
       " Row(VendorID=1.0, tpep_pickup_datetime=datetime.datetime(2017, 12, 1, 5, 34, 39), tpep_dropoff_datetime=datetime.datetime(2017, 12, 1, 5, 45, 18), passenger_count=1.0, trip_distance=2.9, RatecodeID=1.0, store_and_fwd_flag='N', PULocationID=48.0, DOLocationID=262.0, payment_type=3.0, fare_amount=11.0, extra=0.5, mta_tax=0.5, tip_amount=0.0, tolls_amount=0.0, improvement_surcharge=0.3, total_amount=12.3),\n",
       " Row(VendorID=2.0, tpep_pickup_datetime=datetime.datetime(2017, 12, 1, 5, 47, 48), tpep_dropoff_datetime=datetime.datetime(2017, 12, 1, 5, 50, 43), passenger_count=2.0, trip_distance=0.46, RatecodeID=1.0, store_and_fwd_flag='N', PULocationID=79.0, DOLocationID=114.0, payment_type=3.0, fare_amount=-4.0, extra=-0.5, mta_tax=-0.5, tip_amount=0.0, tolls_amount=0.0, improvement_surcharge=-0.3, total_amount=-5.3),\n",
       " Row(VendorID=2.0, tpep_pickup_datetime=datetime.datetime(2017, 12, 1, 5, 47, 17), tpep_dropoff_datetime=datetime.datetime(2017, 12, 1, 5, 48, 38), passenger_count=1.0, trip_distance=0.48, RatecodeID=1.0, store_and_fwd_flag='N', PULocationID=264.0, DOLocationID=230.0, payment_type=3.0, fare_amount=-3.5, extra=-0.5, mta_tax=-0.5, tip_amount=0.0, tolls_amount=0.0, improvement_surcharge=-0.3, total_amount=-4.8),\n",
       " Row(VendorID=1.0, tpep_pickup_datetime=datetime.datetime(2017, 12, 1, 5, 36, 25), tpep_dropoff_datetime=datetime.datetime(2017, 12, 1, 5, 42, 20), passenger_count=0.0, trip_distance=1.2, RatecodeID=1.0, store_and_fwd_flag='N', PULocationID=186.0, DOLocationID=48.0, payment_type=3.0, fare_amount=6.5, extra=0.5, mta_tax=0.5, tip_amount=0.0, tolls_amount=0.0, improvement_surcharge=0.3, total_amount=7.8),\n",
       " Row(VendorID=2.0, tpep_pickup_datetime=datetime.datetime(2017, 12, 1, 5, 3, 45), tpep_dropoff_datetime=datetime.datetime(2017, 12, 1, 5, 6, 2), passenger_count=1.0, trip_distance=0.51, RatecodeID=1.0, store_and_fwd_flag='N', PULocationID=263.0, DOLocationID=263.0, payment_type=3.0, fare_amount=-4.0, extra=-0.5, mta_tax=-0.5, tip_amount=0.0, tolls_amount=0.0, improvement_surcharge=-0.3, total_amount=-5.3),\n",
       " Row(VendorID=1.0, tpep_pickup_datetime=datetime.datetime(2017, 12, 1, 5, 30, 19), tpep_dropoff_datetime=datetime.datetime(2017, 12, 1, 5, 30, 30), passenger_count=1.0, trip_distance=0.0, RatecodeID=1.0, store_and_fwd_flag='N', PULocationID=223.0, DOLocationID=223.0, payment_type=3.0, fare_amount=2.5, extra=0.5, mta_tax=0.5, tip_amount=0.0, tolls_amount=0.0, improvement_surcharge=0.3, total_amount=3.8),\n",
       " Row(VendorID=1.0, tpep_pickup_datetime=datetime.datetime(2017, 12, 1, 5, 0, 38), tpep_dropoff_datetime=datetime.datetime(2017, 12, 1, 5, 17, 34), passenger_count=1.0, trip_distance=4.0, RatecodeID=1.0, store_and_fwd_flag='N', PULocationID=166.0, DOLocationID=237.0, payment_type=3.0, fare_amount=15.5, extra=0.5, mta_tax=0.5, tip_amount=0.0, tolls_amount=0.0, improvement_surcharge=0.3, total_amount=16.8),\n",
       " Row(VendorID=1.0, tpep_pickup_datetime=datetime.datetime(2017, 12, 1, 5, 26, 56), tpep_dropoff_datetime=datetime.datetime(2017, 12, 1, 5, 27, 3), passenger_count=1.0, trip_distance=3.4, RatecodeID=1.0, store_and_fwd_flag='N', PULocationID=82.0, DOLocationID=82.0, payment_type=3.0, fare_amount=2.5, extra=0.5, mta_tax=0.5, tip_amount=0.0, tolls_amount=0.0, improvement_surcharge=0.3, total_amount=3.8),\n",
       " Row(VendorID=1.0, tpep_pickup_datetime=datetime.datetime(2017, 12, 1, 5, 27, 46), tpep_dropoff_datetime=datetime.datetime(2017, 12, 1, 5, 28, 34), passenger_count=1.0, trip_distance=3.4, RatecodeID=5.0, store_and_fwd_flag='N', PULocationID=82.0, DOLocationID=82.0, payment_type=3.0, fare_amount=0.0, extra=0.0, mta_tax=0.0, tip_amount=0.0, tolls_amount=0.0, improvement_surcharge=0.3, total_amount=0.3),\n",
       " Row(VendorID=1.0, tpep_pickup_datetime=datetime.datetime(2017, 12, 1, 5, 57, 19), tpep_dropoff_datetime=datetime.datetime(2017, 12, 1, 6, 12, 34), passenger_count=1.0, trip_distance=5.2, RatecodeID=1.0, store_and_fwd_flag='N', PULocationID=48.0, DOLocationID=87.0, payment_type=3.0, fare_amount=17.5, extra=0.5, mta_tax=0.5, tip_amount=0.0, tolls_amount=0.0, improvement_surcharge=0.3, total_amount=18.8),\n",
       " Row(VendorID=2.0, tpep_pickup_datetime=datetime.datetime(2017, 12, 1, 5, 47, 13), tpep_dropoff_datetime=datetime.datetime(2017, 12, 1, 5, 50, 29), passenger_count=2.0, trip_distance=0.64, RatecodeID=1.0, store_and_fwd_flag='N', PULocationID=100.0, DOLocationID=230.0, payment_type=3.0, fare_amount=-4.5, extra=-0.5, mta_tax=-0.5, tip_amount=0.0, tolls_amount=0.0, improvement_surcharge=-0.3, total_amount=-5.8),\n",
       " Row(VendorID=1.0, tpep_pickup_datetime=datetime.datetime(2017, 12, 1, 5, 6, 42), tpep_dropoff_datetime=datetime.datetime(2017, 12, 1, 5, 8, 51), passenger_count=1.0, trip_distance=1.5, RatecodeID=1.0, store_and_fwd_flag='N', PULocationID=132.0, DOLocationID=132.0, payment_type=3.0, fare_amount=6.0, extra=0.5, mta_tax=0.5, tip_amount=0.0, tolls_amount=0.0, improvement_surcharge=0.3, total_amount=7.3),\n",
       " Row(VendorID=1.0, tpep_pickup_datetime=datetime.datetime(2017, 12, 1, 6, 18, 45), tpep_dropoff_datetime=datetime.datetime(2017, 12, 1, 6, 26, 48), passenger_count=4.0, trip_distance=1.6, RatecodeID=1.0, store_and_fwd_flag='N', PULocationID=68.0, DOLocationID=50.0, payment_type=3.0, fare_amount=8.0, extra=0.0, mta_tax=0.5, tip_amount=0.0, tolls_amount=0.0, improvement_surcharge=0.3, total_amount=8.8),\n",
       " Row(VendorID=1.0, tpep_pickup_datetime=datetime.datetime(2017, 12, 1, 6, 27, 15), tpep_dropoff_datetime=datetime.datetime(2017, 12, 1, 6, 31, 48), passenger_count=1.0, trip_distance=0.8, RatecodeID=1.0, store_and_fwd_flag='N', PULocationID=163.0, DOLocationID=142.0, payment_type=3.0, fare_amount=5.5, extra=0.0, mta_tax=0.5, tip_amount=0.0, tolls_amount=0.0, improvement_surcharge=0.3, total_amount=6.3),\n",
       " Row(VendorID=1.0, tpep_pickup_datetime=datetime.datetime(2017, 12, 1, 6, 41, 51), tpep_dropoff_datetime=datetime.datetime(2017, 12, 1, 6, 59, 52), passenger_count=1.0, trip_distance=2.6, RatecodeID=1.0, store_and_fwd_flag='N', PULocationID=143.0, DOLocationID=140.0, payment_type=3.0, fare_amount=13.5, extra=0.0, mta_tax=0.5, tip_amount=0.0, tolls_amount=0.0, improvement_surcharge=0.3, total_amount=14.3),\n",
       " Row(VendorID=1.0, tpep_pickup_datetime=datetime.datetime(2017, 12, 1, 6, 52, 30), tpep_dropoff_datetime=datetime.datetime(2017, 12, 1, 7, 55, 37), passenger_count=1.0, trip_distance=19.8, RatecodeID=1.0, store_and_fwd_flag='N', PULocationID=132.0, DOLocationID=26.0, payment_type=3.0, fare_amount=58.5, extra=0.0, mta_tax=0.5, tip_amount=0.0, tolls_amount=0.0, improvement_surcharge=0.3, total_amount=59.3),\n",
       " Row(VendorID=1.0, tpep_pickup_datetime=datetime.datetime(2017, 12, 1, 6, 34, 40), tpep_dropoff_datetime=datetime.datetime(2017, 12, 1, 6, 45, 30), passenger_count=1.0, trip_distance=2.3, RatecodeID=1.0, store_and_fwd_flag='N', PULocationID=79.0, DOLocationID=229.0, payment_type=3.0, fare_amount=10.5, extra=0.0, mta_tax=0.5, tip_amount=0.0, tolls_amount=0.0, improvement_surcharge=0.3, total_amount=11.3),\n",
       " Row(VendorID=1.0, tpep_pickup_datetime=datetime.datetime(2017, 12, 1, 6, 29, 59), tpep_dropoff_datetime=datetime.datetime(2017, 12, 1, 6, 38, 43), passenger_count=1.0, trip_distance=1.7, RatecodeID=1.0, store_and_fwd_flag='N', PULocationID=186.0, DOLocationID=161.0, payment_type=3.0, fare_amount=8.5, extra=0.0, mta_tax=0.5, tip_amount=0.0, tolls_amount=0.0, improvement_surcharge=0.3, total_amount=9.3),\n",
       " Row(VendorID=1.0, tpep_pickup_datetime=datetime.datetime(2017, 12, 1, 6, 0, 35), tpep_dropoff_datetime=datetime.datetime(2017, 12, 1, 6, 9, 34), passenger_count=1.0, trip_distance=1.4, RatecodeID=1.0, store_and_fwd_flag='N', PULocationID=186.0, DOLocationID=170.0, payment_type=3.0, fare_amount=8.0, extra=0.0, mta_tax=0.5, tip_amount=0.0, tolls_amount=0.0, improvement_surcharge=0.3, total_amount=8.8),\n",
       " Row(VendorID=1.0, tpep_pickup_datetime=datetime.datetime(2017, 12, 1, 6, 58, 17), tpep_dropoff_datetime=datetime.datetime(2017, 12, 1, 7, 9, 4), passenger_count=1.0, trip_distance=1.3, RatecodeID=1.0, store_and_fwd_flag='N', PULocationID=100.0, DOLocationID=161.0, payment_type=3.0, fare_amount=8.5, extra=0.0, mta_tax=0.5, tip_amount=0.0, tolls_amount=0.0, improvement_surcharge=0.3, total_amount=9.3),\n",
       " Row(VendorID=1.0, tpep_pickup_datetime=datetime.datetime(2017, 12, 1, 6, 6, 17), tpep_dropoff_datetime=datetime.datetime(2017, 12, 1, 6, 16, 57), passenger_count=1.0, trip_distance=1.9, RatecodeID=1.0, store_and_fwd_flag='N', PULocationID=140.0, DOLocationID=230.0, payment_type=3.0, fare_amount=9.0, extra=0.0, mta_tax=0.5, tip_amount=0.0, tolls_amount=0.0, improvement_surcharge=0.3, total_amount=9.8),\n",
       " Row(VendorID=1.0, tpep_pickup_datetime=datetime.datetime(2017, 12, 1, 6, 26, 36), tpep_dropoff_datetime=datetime.datetime(2017, 12, 1, 6, 31, 5), passenger_count=1.0, trip_distance=0.6, RatecodeID=1.0, store_and_fwd_flag='N', PULocationID=143.0, DOLocationID=239.0, payment_type=3.0, fare_amount=4.5, extra=0.0, mta_tax=0.5, tip_amount=0.0, tolls_amount=0.0, improvement_surcharge=0.3, total_amount=5.3),\n",
       " Row(VendorID=1.0, tpep_pickup_datetime=datetime.datetime(2017, 12, 1, 6, 14, 29), tpep_dropoff_datetime=datetime.datetime(2017, 12, 1, 6, 23, 44), passenger_count=1.0, trip_distance=1.9, RatecodeID=1.0, store_and_fwd_flag='N', PULocationID=137.0, DOLocationID=246.0, payment_type=3.0, fare_amount=8.5, extra=0.0, mta_tax=0.5, tip_amount=0.0, tolls_amount=0.0, improvement_surcharge=0.3, total_amount=9.3),\n",
       " Row(VendorID=1.0, tpep_pickup_datetime=datetime.datetime(2017, 12, 1, 6, 10, 11), tpep_dropoff_datetime=datetime.datetime(2017, 12, 1, 6, 25, 14), passenger_count=1.0, trip_distance=5.2, RatecodeID=1.0, store_and_fwd_flag='N', PULocationID=186.0, DOLocationID=88.0, payment_type=3.0, fare_amount=17.5, extra=0.0, mta_tax=0.5, tip_amount=0.0, tolls_amount=0.0, improvement_surcharge=0.3, total_amount=18.3),\n",
       " Row(VendorID=1.0, tpep_pickup_datetime=datetime.datetime(2017, 12, 1, 6, 7, 28), tpep_dropoff_datetime=datetime.datetime(2017, 12, 1, 6, 15, 41), passenger_count=1.0, trip_distance=1.8, RatecodeID=1.0, store_and_fwd_flag='N', PULocationID=140.0, DOLocationID=162.0, payment_type=3.0, fare_amount=8.0, extra=0.0, mta_tax=0.5, tip_amount=0.0, tolls_amount=0.0, improvement_surcharge=0.3, total_amount=8.8),\n",
       " Row(VendorID=1.0, tpep_pickup_datetime=datetime.datetime(2017, 12, 1, 6, 51, 29), tpep_dropoff_datetime=datetime.datetime(2017, 12, 1, 7, 6, 53), passenger_count=1.0, trip_distance=4.2, RatecodeID=1.0, store_and_fwd_flag='N', PULocationID=262.0, DOLocationID=186.0, payment_type=3.0, fare_amount=16.0, extra=0.0, mta_tax=0.5, tip_amount=0.0, tolls_amount=0.0, improvement_surcharge=0.3, total_amount=16.8),\n",
       " Row(VendorID=1.0, tpep_pickup_datetime=datetime.datetime(2017, 12, 1, 6, 44, 29), tpep_dropoff_datetime=datetime.datetime(2017, 12, 1, 7, 0, 57), passenger_count=1.0, trip_distance=4.2, RatecodeID=1.0, store_and_fwd_flag='N', PULocationID=125.0, DOLocationID=141.0, payment_type=3.0, fare_amount=15.5, extra=0.0, mta_tax=0.5, tip_amount=0.0, tolls_amount=0.0, improvement_surcharge=0.3, total_amount=16.3),\n",
       " Row(VendorID=1.0, tpep_pickup_datetime=datetime.datetime(2017, 12, 1, 6, 7, 21), tpep_dropoff_datetime=datetime.datetime(2017, 12, 1, 6, 28, 38), passenger_count=1.0, trip_distance=5.7, RatecodeID=1.0, store_and_fwd_flag='N', PULocationID=79.0, DOLocationID=198.0, payment_type=3.0, fare_amount=20.5, extra=0.0, mta_tax=0.5, tip_amount=0.0, tolls_amount=0.0, improvement_surcharge=0.3, total_amount=21.3),\n",
       " Row(VendorID=1.0, tpep_pickup_datetime=datetime.datetime(2017, 12, 1, 6, 2, 59), tpep_dropoff_datetime=datetime.datetime(2017, 12, 1, 6, 40, 31), passenger_count=1.0, trip_distance=18.2, RatecodeID=2.0, store_and_fwd_flag='N', PULocationID=163.0, DOLocationID=132.0, payment_type=3.0, fare_amount=52.0, extra=0.0, mta_tax=0.5, tip_amount=0.0, tolls_amount=0.0, improvement_surcharge=0.3, total_amount=52.8),\n",
       " Row(VendorID=1.0, tpep_pickup_datetime=datetime.datetime(2017, 12, 1, 6, 3, 30), tpep_dropoff_datetime=datetime.datetime(2017, 12, 1, 6, 11, 7), passenger_count=1.0, trip_distance=1.8, RatecodeID=1.0, store_and_fwd_flag='N', PULocationID=186.0, DOLocationID=143.0, payment_type=3.0, fare_amount=8.0, extra=0.0, mta_tax=0.5, tip_amount=0.0, tolls_amount=0.0, improvement_surcharge=0.3, total_amount=8.8),\n",
       " Row(VendorID=1.0, tpep_pickup_datetime=datetime.datetime(2017, 12, 1, 6, 17, 48), tpep_dropoff_datetime=datetime.datetime(2017, 12, 1, 6, 21, 30), passenger_count=1.0, trip_distance=1.2, RatecodeID=1.0, store_and_fwd_flag='N', PULocationID=163.0, DOLocationID=186.0, payment_type=3.0, fare_amount=5.5, extra=0.0, mta_tax=0.5, tip_amount=0.0, tolls_amount=0.0, improvement_surcharge=0.3, total_amount=6.3),\n",
       " Row(VendorID=1.0, tpep_pickup_datetime=datetime.datetime(2017, 12, 1, 6, 39, 19), tpep_dropoff_datetime=datetime.datetime(2017, 12, 1, 6, 54, 37), passenger_count=1.0, trip_distance=3.7, RatecodeID=1.0, store_and_fwd_flag='N', PULocationID=13.0, DOLocationID=161.0, payment_type=3.0, fare_amount=14.0, extra=0.0, mta_tax=0.5, tip_amount=0.0, tolls_amount=0.0, improvement_surcharge=0.3, total_amount=14.8),\n",
       " Row(VendorID=1.0, tpep_pickup_datetime=datetime.datetime(2017, 12, 1, 6, 0, 19), tpep_dropoff_datetime=datetime.datetime(2017, 12, 1, 6, 4, 16), passenger_count=2.0, trip_distance=0.5, RatecodeID=1.0, store_and_fwd_flag='N', PULocationID=116.0, DOLocationID=116.0, payment_type=3.0, fare_amount=4.5, extra=0.0, mta_tax=0.5, tip_amount=0.0, tolls_amount=0.0, improvement_surcharge=0.3, total_amount=5.3),\n",
       " Row(VendorID=1.0, tpep_pickup_datetime=datetime.datetime(2017, 12, 1, 0, 20, 19), tpep_dropoff_datetime=datetime.datetime(2017, 12, 1, 0, 57, 38), passenger_count=1.0, trip_distance=9.8, RatecodeID=1.0, store_and_fwd_flag='N', PULocationID=230.0, DOLocationID=169.0, payment_type=4.0, fare_amount=31.5, extra=0.5, mta_tax=0.5, tip_amount=0.0, tolls_amount=0.0, improvement_surcharge=0.3, total_amount=32.8),\n",
       " Row(VendorID=2.0, tpep_pickup_datetime=datetime.datetime(2017, 12, 1, 0, 32, 13), tpep_dropoff_datetime=datetime.datetime(2017, 12, 1, 0, 34, 50), passenger_count=1.0, trip_distance=0.65, RatecodeID=1.0, store_and_fwd_flag='N', PULocationID=211.0, DOLocationID=249.0, payment_type=4.0, fare_amount=-4.0, extra=-0.5, mta_tax=-0.5, tip_amount=0.0, tolls_amount=0.0, improvement_surcharge=-0.3, total_amount=-5.3),\n",
       " Row(VendorID=2.0, tpep_pickup_datetime=datetime.datetime(2017, 12, 1, 0, 51, 13), tpep_dropoff_datetime=datetime.datetime(2017, 12, 1, 0, 51, 58), passenger_count=5.0, trip_distance=0.02, RatecodeID=1.0, store_and_fwd_flag='N', PULocationID=148.0, DOLocationID=148.0, payment_type=4.0, fare_amount=-2.5, extra=-0.5, mta_tax=-0.5, tip_amount=0.0, tolls_amount=0.0, improvement_surcharge=-0.3, total_amount=-3.8),\n",
       " Row(VendorID=1.0, tpep_pickup_datetime=datetime.datetime(2017, 12, 1, 0, 18, 59), tpep_dropoff_datetime=datetime.datetime(2017, 12, 1, 0, 21, 19), passenger_count=1.0, trip_distance=0.4, RatecodeID=1.0, store_and_fwd_flag='N', PULocationID=17.0, DOLocationID=17.0, payment_type=4.0, fare_amount=4.0, extra=0.5, mta_tax=0.5, tip_amount=0.0, tolls_amount=0.0, improvement_surcharge=0.3, total_amount=5.3),\n",
       " Row(VendorID=1.0, tpep_pickup_datetime=datetime.datetime(2017, 12, 1, 0, 23, 22), tpep_dropoff_datetime=datetime.datetime(2017, 12, 1, 0, 26, 1), passenger_count=1.0, trip_distance=0.5, RatecodeID=1.0, store_and_fwd_flag='N', PULocationID=263.0, DOLocationID=263.0, payment_type=4.0, fare_amount=4.0, extra=0.5, mta_tax=0.5, tip_amount=0.0, tolls_amount=0.0, improvement_surcharge=0.3, total_amount=5.3),\n",
       " Row(VendorID=2.0, tpep_pickup_datetime=datetime.datetime(2017, 12, 1, 0, 52, 18), tpep_dropoff_datetime=datetime.datetime(2017, 12, 1, 0, 54, 44), passenger_count=1.0, trip_distance=0.42, RatecodeID=1.0, store_and_fwd_flag='N', PULocationID=146.0, DOLocationID=145.0, payment_type=4.0, fare_amount=-4.0, extra=-0.5, mta_tax=-0.5, tip_amount=0.0, tolls_amount=0.0, improvement_surcharge=-0.3, total_amount=-5.3),\n",
       " Row(VendorID=1.0, tpep_pickup_datetime=datetime.datetime(2017, 12, 1, 0, 1), tpep_dropoff_datetime=datetime.datetime(2017, 12, 1, 0, 10, 33), passenger_count=1.0, trip_distance=1.3, RatecodeID=1.0, store_and_fwd_flag='N', PULocationID=158.0, DOLocationID=249.0, payment_type=4.0, fare_amount=8.0, extra=0.5, mta_tax=0.5, tip_amount=0.0, tolls_amount=0.0, improvement_surcharge=0.3, total_amount=9.3),\n",
       " Row(VendorID=1.0, tpep_pickup_datetime=datetime.datetime(2017, 12, 1, 0, 8, 17), tpep_dropoff_datetime=datetime.datetime(2017, 12, 1, 0, 18, 30), passenger_count=1.0, trip_distance=1.8, RatecodeID=1.0, store_and_fwd_flag='N', PULocationID=237.0, DOLocationID=50.0, payment_type=4.0, fare_amount=9.0, extra=0.5, mta_tax=0.5, tip_amount=0.0, tolls_amount=0.0, improvement_surcharge=0.3, total_amount=10.3),\n",
       " Row(VendorID=1.0, tpep_pickup_datetime=datetime.datetime(2017, 12, 1, 0, 58, 51), tpep_dropoff_datetime=datetime.datetime(2017, 12, 1, 1, 9, 29), passenger_count=1.0, trip_distance=2.3, RatecodeID=1.0, store_and_fwd_flag='N', PULocationID=249.0, DOLocationID=68.0, payment_type=4.0, fare_amount=10.0, extra=0.5, mta_tax=0.5, tip_amount=0.0, tolls_amount=0.0, improvement_surcharge=0.3, total_amount=11.3),\n",
       " Row(VendorID=1.0, tpep_pickup_datetime=datetime.datetime(2017, 12, 1, 0, 21, 41), tpep_dropoff_datetime=datetime.datetime(2017, 12, 1, 0, 44, 50), passenger_count=1.0, trip_distance=2.7, RatecodeID=1.0, store_and_fwd_flag='N', PULocationID=161.0, DOLocationID=114.0, payment_type=4.0, fare_amount=12.5, extra=0.5, mta_tax=0.5, tip_amount=0.0, tolls_amount=0.0, improvement_surcharge=0.3, total_amount=13.8),\n",
       " Row(VendorID=1.0, tpep_pickup_datetime=datetime.datetime(2017, 12, 1, 0, 58, 32), tpep_dropoff_datetime=datetime.datetime(2017, 12, 1, 1, 23, 25), passenger_count=1.0, trip_distance=6.4, RatecodeID=1.0, store_and_fwd_flag='N', PULocationID=114.0, DOLocationID=74.0, payment_type=4.0, fare_amount=22.0, extra=0.5, mta_tax=0.5, tip_amount=0.0, tolls_amount=0.0, improvement_surcharge=0.3, total_amount=23.3),\n",
       " Row(VendorID=2.0, tpep_pickup_datetime=datetime.datetime(2017, 12, 1, 0, 36, 15), tpep_dropoff_datetime=datetime.datetime(2017, 12, 1, 0, 42, 27), passenger_count=1.0, trip_distance=0.92, RatecodeID=1.0, store_and_fwd_flag='N', PULocationID=161.0, DOLocationID=163.0, payment_type=4.0, fare_amount=-6.0, extra=-0.5, mta_tax=-0.5, tip_amount=0.0, tolls_amount=0.0, improvement_surcharge=-0.3, total_amount=-7.3),\n",
       " Row(VendorID=1.0, tpep_pickup_datetime=datetime.datetime(2017, 12, 1, 0, 34, 48), tpep_dropoff_datetime=datetime.datetime(2017, 12, 1, 0, 39, 15), passenger_count=1.0, trip_distance=0.8, RatecodeID=1.0, store_and_fwd_flag='N', PULocationID=79.0, DOLocationID=144.0, payment_type=4.0, fare_amount=5.0, extra=0.5, mta_tax=0.5, tip_amount=0.0, tolls_amount=0.0, improvement_surcharge=0.3, total_amount=6.3),\n",
       " Row(VendorID=1.0, tpep_pickup_datetime=datetime.datetime(2017, 12, 1, 0, 24, 38), tpep_dropoff_datetime=datetime.datetime(2017, 12, 1, 0, 28, 20), passenger_count=1.0, trip_distance=0.5, RatecodeID=1.0, store_and_fwd_flag='N', PULocationID=144.0, DOLocationID=79.0, payment_type=4.0, fare_amount=4.5, extra=0.5, mta_tax=0.5, tip_amount=0.0, tolls_amount=0.0, improvement_surcharge=0.3, total_amount=5.8),\n",
       " Row(VendorID=1.0, tpep_pickup_datetime=datetime.datetime(2017, 12, 1, 0, 38, 46), tpep_dropoff_datetime=datetime.datetime(2017, 12, 1, 0, 57, 23), passenger_count=1.0, trip_distance=7.6, RatecodeID=1.0, store_and_fwd_flag='N', PULocationID=13.0, DOLocationID=165.0, payment_type=4.0, fare_amount=23.5, extra=0.5, mta_tax=0.5, tip_amount=0.0, tolls_amount=5.76, improvement_surcharge=0.3, total_amount=30.56),\n",
       " Row(VendorID=1.0, tpep_pickup_datetime=datetime.datetime(2017, 12, 1, 0, 10, 9), tpep_dropoff_datetime=datetime.datetime(2017, 12, 1, 0, 27, 27), passenger_count=2.0, trip_distance=4.9, RatecodeID=1.0, store_and_fwd_flag='N', PULocationID=79.0, DOLocationID=75.0, payment_type=4.0, fare_amount=17.0, extra=0.5, mta_tax=0.5, tip_amount=0.0, tolls_amount=0.0, improvement_surcharge=0.3, total_amount=18.3),\n",
       " Row(VendorID=1.0, tpep_pickup_datetime=datetime.datetime(2017, 12, 1, 1, 37, 47), tpep_dropoff_datetime=datetime.datetime(2017, 12, 1, 1, 46, 57), passenger_count=1.0, trip_distance=3.2, RatecodeID=1.0, store_and_fwd_flag='N', PULocationID=48.0, DOLocationID=151.0, payment_type=4.0, fare_amount=12.0, extra=0.5, mta_tax=0.5, tip_amount=0.0, tolls_amount=0.0, improvement_surcharge=0.3, total_amount=13.3),\n",
       " Row(VendorID=1.0, tpep_pickup_datetime=datetime.datetime(2017, 12, 1, 1, 50, 27), tpep_dropoff_datetime=datetime.datetime(2017, 12, 1, 2, 14, 8), passenger_count=1.0, trip_distance=6.4, RatecodeID=1.0, store_and_fwd_flag='N', PULocationID=255.0, DOLocationID=173.0, payment_type=4.0, fare_amount=23.0, extra=0.5, mta_tax=0.5, tip_amount=0.0, tolls_amount=0.0, improvement_surcharge=0.3, total_amount=24.3),\n",
       " Row(VendorID=1.0, tpep_pickup_datetime=datetime.datetime(2017, 12, 1, 1, 57, 8), tpep_dropoff_datetime=datetime.datetime(2017, 12, 1, 2, 2, 48), passenger_count=2.0, trip_distance=1.3, RatecodeID=1.0, store_and_fwd_flag='N', PULocationID=163.0, DOLocationID=162.0, payment_type=4.0, fare_amount=6.5, extra=0.5, mta_tax=0.5, tip_amount=0.0, tolls_amount=0.0, improvement_surcharge=0.3, total_amount=7.8),\n",
       " Row(VendorID=1.0, tpep_pickup_datetime=datetime.datetime(2017, 12, 1, 1, 1, 7), tpep_dropoff_datetime=datetime.datetime(2017, 12, 1, 1, 7, 40), passenger_count=1.0, trip_distance=1.1, RatecodeID=1.0, store_and_fwd_flag='N', PULocationID=48.0, DOLocationID=164.0, payment_type=4.0, fare_amount=6.0, extra=0.5, mta_tax=0.5, tip_amount=0.0, tolls_amount=0.0, improvement_surcharge=0.3, total_amount=7.3),\n",
       " Row(VendorID=2.0, tpep_pickup_datetime=datetime.datetime(2017, 12, 1, 1, 29, 17), tpep_dropoff_datetime=datetime.datetime(2017, 12, 1, 1, 36, 3), passenger_count=3.0, trip_distance=0.56, RatecodeID=1.0, store_and_fwd_flag='N', PULocationID=163.0, DOLocationID=230.0, payment_type=4.0, fare_amount=-4.0, extra=-0.5, mta_tax=-0.5, tip_amount=0.0, tolls_amount=0.0, improvement_surcharge=-0.3, total_amount=-5.3),\n",
       " Row(VendorID=1.0, tpep_pickup_datetime=datetime.datetime(2017, 12, 1, 1, 6, 1), tpep_dropoff_datetime=datetime.datetime(2017, 12, 1, 1, 6, 31), passenger_count=1.0, trip_distance=0.2, RatecodeID=1.0, store_and_fwd_flag='N', PULocationID=223.0, DOLocationID=223.0, payment_type=4.0, fare_amount=3.0, extra=0.5, mta_tax=0.5, tip_amount=0.0, tolls_amount=0.0, improvement_surcharge=0.3, total_amount=4.3),\n",
       " Row(VendorID=1.0, tpep_pickup_datetime=datetime.datetime(2017, 12, 1, 1, 8, 53), tpep_dropoff_datetime=datetime.datetime(2017, 12, 1, 1, 22, 30), passenger_count=1.0, trip_distance=2.8, RatecodeID=1.0, store_and_fwd_flag='N', PULocationID=226.0, DOLocationID=129.0, payment_type=4.0, fare_amount=11.5, extra=0.5, mta_tax=0.5, tip_amount=0.0, tolls_amount=0.0, improvement_surcharge=0.3, total_amount=12.8),\n",
       " Row(VendorID=1.0, tpep_pickup_datetime=datetime.datetime(2017, 12, 1, 1, 13, 15), tpep_dropoff_datetime=datetime.datetime(2017, 12, 1, 1, 13, 48), passenger_count=1.0, trip_distance=0.0, RatecodeID=1.0, store_and_fwd_flag='N', PULocationID=49.0, DOLocationID=49.0, payment_type=4.0, fare_amount=2.5, extra=0.5, mta_tax=0.5, tip_amount=0.0, tolls_amount=0.0, improvement_surcharge=0.3, total_amount=3.8),\n",
       " Row(VendorID=1.0, tpep_pickup_datetime=datetime.datetime(2017, 12, 1, 1, 43, 10), tpep_dropoff_datetime=datetime.datetime(2017, 12, 1, 1, 56), passenger_count=1.0, trip_distance=3.3, RatecodeID=1.0, store_and_fwd_flag='N', PULocationID=148.0, DOLocationID=225.0, payment_type=4.0, fare_amount=13.0, extra=0.5, mta_tax=0.5, tip_amount=0.0, tolls_amount=0.0, improvement_surcharge=0.3, total_amount=14.3),\n",
       " Row(VendorID=1.0, tpep_pickup_datetime=datetime.datetime(2017, 12, 1, 1, 41, 30), tpep_dropoff_datetime=datetime.datetime(2017, 12, 1, 1, 42, 8), passenger_count=2.0, trip_distance=0.0, RatecodeID=5.0, store_and_fwd_flag='N', PULocationID=265.0, DOLocationID=265.0, payment_type=4.0, fare_amount=75.0, extra=0.0, mta_tax=0.0, tip_amount=0.0, tolls_amount=0.0, improvement_surcharge=0.3, total_amount=75.3),\n",
       " Row(VendorID=1.0, tpep_pickup_datetime=datetime.datetime(2017, 12, 1, 1, 5, 22), tpep_dropoff_datetime=datetime.datetime(2017, 12, 1, 1, 19, 9), passenger_count=1.0, trip_distance=0.4, RatecodeID=1.0, store_and_fwd_flag='N', PULocationID=186.0, DOLocationID=186.0, payment_type=4.0, fare_amount=9.5, extra=0.5, mta_tax=0.5, tip_amount=0.0, tolls_amount=0.0, improvement_surcharge=0.3, total_amount=10.8),\n",
       " Row(VendorID=1.0, tpep_pickup_datetime=datetime.datetime(2017, 12, 1, 1, 48, 47), tpep_dropoff_datetime=datetime.datetime(2017, 12, 1, 1, 50, 45), passenger_count=1.0, trip_distance=0.0, RatecodeID=1.0, store_and_fwd_flag='N', PULocationID=158.0, DOLocationID=158.0, payment_type=4.0, fare_amount=3.0, extra=0.5, mta_tax=0.5, tip_amount=0.0, tolls_amount=0.0, improvement_surcharge=0.3, total_amount=4.3),\n",
       " Row(VendorID=1.0, tpep_pickup_datetime=datetime.datetime(2017, 12, 1, 1, 27, 3), tpep_dropoff_datetime=datetime.datetime(2017, 12, 1, 1, 40, 43), passenger_count=1.0, trip_distance=4.5, RatecodeID=1.0, store_and_fwd_flag='N', PULocationID=74.0, DOLocationID=127.0, payment_type=4.0, fare_amount=15.5, extra=0.5, mta_tax=0.5, tip_amount=0.0, tolls_amount=0.0, improvement_surcharge=0.3, total_amount=16.8),\n",
       " Row(VendorID=2.0, tpep_pickup_datetime=datetime.datetime(2017, 12, 1, 1, 12, 28), tpep_dropoff_datetime=datetime.datetime(2017, 12, 1, 1, 17, 31), passenger_count=2.0, trip_distance=0.92, RatecodeID=1.0, store_and_fwd_flag='N', PULocationID=158.0, DOLocationID=90.0, payment_type=4.0, fare_amount=-5.5, extra=-0.5, mta_tax=-0.5, tip_amount=0.0, tolls_amount=0.0, improvement_surcharge=-0.3, total_amount=-6.8),\n",
       " Row(VendorID=1.0, tpep_pickup_datetime=datetime.datetime(2017, 12, 1, 1, 4, 52), tpep_dropoff_datetime=datetime.datetime(2017, 12, 1, 1, 12, 35), passenger_count=4.0, trip_distance=2.1, RatecodeID=1.0, store_and_fwd_flag='N', PULocationID=114.0, DOLocationID=13.0, payment_type=4.0, fare_amount=8.5, extra=0.5, mta_tax=0.5, tip_amount=0.0, tolls_amount=0.0, improvement_surcharge=0.3, total_amount=9.8),\n",
       " Row(VendorID=1.0, tpep_pickup_datetime=datetime.datetime(2017, 12, 1, 1, 23, 8), tpep_dropoff_datetime=datetime.datetime(2017, 12, 1, 1, 33, 7), passenger_count=1.0, trip_distance=7.3, RatecodeID=1.0, store_and_fwd_flag='N', PULocationID=132.0, DOLocationID=135.0, payment_type=4.0, fare_amount=21.0, extra=0.5, mta_tax=0.5, tip_amount=0.0, tolls_amount=0.0, improvement_surcharge=0.3, total_amount=22.3),\n",
       " Row(VendorID=1.0, tpep_pickup_datetime=datetime.datetime(2017, 12, 1, 1, 8, 29), tpep_dropoff_datetime=datetime.datetime(2017, 12, 1, 1, 23, 45), passenger_count=1.0, trip_distance=4.3, RatecodeID=1.0, store_and_fwd_flag='N', PULocationID=230.0, DOLocationID=4.0, payment_type=4.0, fare_amount=15.5, extra=0.5, mta_tax=0.5, tip_amount=0.0, tolls_amount=0.0, improvement_surcharge=0.3, total_amount=16.8),\n",
       " Row(VendorID=1.0, tpep_pickup_datetime=datetime.datetime(2017, 12, 1, 1, 20, 30), tpep_dropoff_datetime=datetime.datetime(2017, 12, 1, 1, 23, 15), passenger_count=1.0, trip_distance=0.4, RatecodeID=1.0, store_and_fwd_flag='N', PULocationID=148.0, DOLocationID=144.0, payment_type=4.0, fare_amount=4.0, extra=0.5, mta_tax=0.5, tip_amount=0.0, tolls_amount=0.0, improvement_surcharge=0.3, total_amount=5.3),\n",
       " Row(VendorID=1.0, tpep_pickup_datetime=datetime.datetime(2017, 12, 1, 1, 4, 59), tpep_dropoff_datetime=datetime.datetime(2017, 12, 1, 1, 15, 38), passenger_count=1.0, trip_distance=3.1, RatecodeID=1.0, store_and_fwd_flag='N', PULocationID=107.0, DOLocationID=141.0, payment_type=4.0, fare_amount=11.0, extra=0.5, mta_tax=0.5, tip_amount=0.0, tolls_amount=0.0, improvement_surcharge=0.3, total_amount=12.3),\n",
       " Row(VendorID=1.0, tpep_pickup_datetime=datetime.datetime(2017, 12, 1, 1, 33, 11), tpep_dropoff_datetime=datetime.datetime(2017, 12, 1, 1, 34, 29), passenger_count=1.0, trip_distance=0.0, RatecodeID=1.0, store_and_fwd_flag='N', PULocationID=144.0, DOLocationID=144.0, payment_type=4.0, fare_amount=2.5, extra=0.5, mta_tax=0.5, tip_amount=0.0, tolls_amount=0.0, improvement_surcharge=0.3, total_amount=3.8),\n",
       " Row(VendorID=1.0, tpep_pickup_datetime=datetime.datetime(2017, 12, 1, 1, 34, 26), tpep_dropoff_datetime=datetime.datetime(2017, 12, 1, 2, 5, 52), passenger_count=3.0, trip_distance=8.4, RatecodeID=1.0, store_and_fwd_flag='N', PULocationID=100.0, DOLocationID=255.0, payment_type=4.0, fare_amount=28.5, extra=0.5, mta_tax=0.5, tip_amount=0.0, tolls_amount=0.0, improvement_surcharge=0.3, total_amount=29.8),\n",
       " Row(VendorID=1.0, tpep_pickup_datetime=datetime.datetime(2017, 12, 1, 2, 57, 33), tpep_dropoff_datetime=datetime.datetime(2017, 12, 1, 3, 4, 10), passenger_count=1.0, trip_distance=0.9, RatecodeID=1.0, store_and_fwd_flag='N', PULocationID=229.0, DOLocationID=162.0, payment_type=4.0, fare_amount=6.0, extra=0.5, mta_tax=0.5, tip_amount=0.0, tolls_amount=0.0, improvement_surcharge=0.3, total_amount=7.3),\n",
       " Row(VendorID=1.0, tpep_pickup_datetime=datetime.datetime(2017, 12, 1, 2, 14, 44), tpep_dropoff_datetime=datetime.datetime(2017, 12, 1, 2, 16, 39), passenger_count=1.0, trip_distance=0.1, RatecodeID=1.0, store_and_fwd_flag='N', PULocationID=162.0, DOLocationID=170.0, payment_type=4.0, fare_amount=3.5, extra=0.5, mta_tax=0.5, tip_amount=0.0, tolls_amount=0.0, improvement_surcharge=0.3, total_amount=4.8),\n",
       " Row(VendorID=1.0, tpep_pickup_datetime=datetime.datetime(2017, 12, 1, 2, 58, 55), tpep_dropoff_datetime=datetime.datetime(2017, 12, 1, 3, 8, 57), passenger_count=1.0, trip_distance=1.2, RatecodeID=1.0, store_and_fwd_flag='N', PULocationID=80.0, DOLocationID=80.0, payment_type=4.0, fare_amount=8.0, extra=0.5, mta_tax=0.5, tip_amount=0.0, tolls_amount=0.0, improvement_surcharge=0.3, total_amount=9.3),\n",
       " Row(VendorID=2.0, tpep_pickup_datetime=datetime.datetime(2017, 12, 1, 2, 3, 33), tpep_dropoff_datetime=datetime.datetime(2017, 12, 1, 2, 4, 8), passenger_count=1.0, trip_distance=0.0, RatecodeID=1.0, store_and_fwd_flag='N', PULocationID=75.0, DOLocationID=75.0, payment_type=4.0, fare_amount=-2.5, extra=-0.5, mta_tax=-0.5, tip_amount=0.0, tolls_amount=0.0, improvement_surcharge=-0.3, total_amount=-3.8),\n",
       " Row(VendorID=1.0, tpep_pickup_datetime=datetime.datetime(2017, 12, 1, 2, 59, 19), tpep_dropoff_datetime=datetime.datetime(2017, 12, 1, 3, 44, 44), passenger_count=1.0, trip_distance=14.8, RatecodeID=1.0, store_and_fwd_flag='N', PULocationID=68.0, DOLocationID=134.0, payment_type=4.0, fare_amount=47.5, extra=0.5, mta_tax=0.5, tip_amount=0.0, tolls_amount=0.0, improvement_surcharge=0.3, total_amount=48.8),\n",
       " Row(VendorID=1.0, tpep_pickup_datetime=datetime.datetime(2017, 12, 1, 2, 22, 5), tpep_dropoff_datetime=datetime.datetime(2017, 12, 1, 2, 41, 33), passenger_count=1.0, trip_distance=14.7, RatecodeID=1.0, store_and_fwd_flag='N', PULocationID=65.0, DOLocationID=216.0, payment_type=4.0, fare_amount=39.5, extra=0.5, mta_tax=0.5, tip_amount=0.0, tolls_amount=0.0, improvement_surcharge=0.3, total_amount=40.8),\n",
       " Row(VendorID=1.0, tpep_pickup_datetime=datetime.datetime(2017, 12, 1, 2, 31, 53), tpep_dropoff_datetime=datetime.datetime(2017, 12, 1, 2, 47, 30), passenger_count=1.0, trip_distance=4.0, RatecodeID=1.0, store_and_fwd_flag='N', PULocationID=264.0, DOLocationID=264.0, payment_type=4.0, fare_amount=15.5, extra=0.5, mta_tax=0.5, tip_amount=0.0, tolls_amount=0.0, improvement_surcharge=0.3, total_amount=16.8),\n",
       " Row(VendorID=2.0, tpep_pickup_datetime=datetime.datetime(2017, 12, 1, 3, 20, 32), tpep_dropoff_datetime=datetime.datetime(2017, 12, 1, 3, 20, 51), passenger_count=1.0, trip_distance=0.02, RatecodeID=2.0, store_and_fwd_flag='N', PULocationID=263.0, DOLocationID=263.0, payment_type=4.0, fare_amount=-52.0, extra=0.0, mta_tax=-0.5, tip_amount=0.0, tolls_amount=0.0, improvement_surcharge=-0.3, total_amount=-52.8),\n",
       " Row(VendorID=1.0, tpep_pickup_datetime=datetime.datetime(2017, 12, 1, 3, 38, 32), tpep_dropoff_datetime=datetime.datetime(2017, 12, 1, 3, 45, 42), passenger_count=1.0, trip_distance=2.1, RatecodeID=1.0, store_and_fwd_flag='N', PULocationID=231.0, DOLocationID=186.0, payment_type=4.0, fare_amount=8.5, extra=0.5, mta_tax=0.5, tip_amount=0.0, tolls_amount=0.0, improvement_surcharge=0.3, total_amount=9.8),\n",
       " Row(VendorID=1.0, tpep_pickup_datetime=datetime.datetime(2017, 12, 1, 3, 22, 28), tpep_dropoff_datetime=datetime.datetime(2017, 12, 1, 3, 28, 27), passenger_count=1.0, trip_distance=1.0, RatecodeID=1.0, store_and_fwd_flag='N', PULocationID=246.0, DOLocationID=234.0, payment_type=4.0, fare_amount=6.5, extra=0.5, mta_tax=0.5, tip_amount=0.0, tolls_amount=0.0, improvement_surcharge=0.3, total_amount=7.8),\n",
       " Row(VendorID=1.0, tpep_pickup_datetime=datetime.datetime(2017, 12, 1, 3, 16, 49), tpep_dropoff_datetime=datetime.datetime(2017, 12, 1, 3, 27, 18), passenger_count=1.0, trip_distance=3.4, RatecodeID=1.0, store_and_fwd_flag='N', PULocationID=224.0, DOLocationID=140.0, payment_type=4.0, fare_amount=12.5, extra=0.5, mta_tax=0.5, tip_amount=0.0, tolls_amount=0.0, improvement_surcharge=0.3, total_amount=13.8),\n",
       " Row(VendorID=1.0, tpep_pickup_datetime=datetime.datetime(2017, 12, 1, 3, 22, 41), tpep_dropoff_datetime=datetime.datetime(2017, 12, 1, 3, 23, 51), passenger_count=1.0, trip_distance=0.3, RatecodeID=1.0, store_and_fwd_flag='N', PULocationID=100.0, DOLocationID=48.0, payment_type=4.0, fare_amount=3.0, extra=0.5, mta_tax=0.5, tip_amount=0.0, tolls_amount=0.0, improvement_surcharge=0.3, total_amount=4.3),\n",
       " Row(VendorID=1.0, tpep_pickup_datetime=datetime.datetime(2017, 12, 1, 3, 49, 15), tpep_dropoff_datetime=datetime.datetime(2017, 12, 1, 4, 26, 21), passenger_count=2.0, trip_distance=8.4, RatecodeID=1.0, store_and_fwd_flag='N', PULocationID=164.0, DOLocationID=37.0, payment_type=4.0, fare_amount=31.5, extra=0.5, mta_tax=0.5, tip_amount=0.0, tolls_amount=5.76, improvement_surcharge=0.3, total_amount=38.56),\n",
       " Row(VendorID=2.0, tpep_pickup_datetime=datetime.datetime(2017, 12, 1, 0, 37, 31), tpep_dropoff_datetime=datetime.datetime(2017, 12, 1, 1, 17, 51), passenger_count=1.0, trip_distance=21.12, RatecodeID=4.0, store_and_fwd_flag='N', PULocationID=209.0, DOLocationID=265.0, payment_type=1.0, fare_amount=64.5, extra=0.5, mta_tax=0.5, tip_amount=13.16, tolls_amount=0.0, improvement_surcharge=0.3, total_amount=78.96),\n",
       " Row(VendorID=2.0, tpep_pickup_datetime=datetime.datetime(2017, 12, 1, 0, 11, 57), tpep_dropoff_datetime=datetime.datetime(2017, 12, 1, 0, 57, 45), passenger_count=1.0, trip_distance=16.54, RatecodeID=4.0, store_and_fwd_flag='N', PULocationID=48.0, DOLocationID=265.0, payment_type=1.0, fare_amount=54.5, extra=0.5, mta_tax=0.5, tip_amount=16.74, tolls_amount=0.0, improvement_surcharge=0.3, total_amount=72.54),\n",
       " Row(VendorID=2.0, tpep_pickup_datetime=datetime.datetime(2017, 12, 1, 0, 4, 18), tpep_dropoff_datetime=datetime.datetime(2017, 12, 1, 0, 26, 58), passenger_count=1.0, trip_distance=9.23, RatecodeID=4.0, store_and_fwd_flag='N', PULocationID=132.0, DOLocationID=265.0, payment_type=1.0, fare_amount=39.0, extra=0.5, mta_tax=0.5, tip_amount=10.08, tolls_amount=0.0, improvement_surcharge=0.3, total_amount=50.38),\n",
       " Row(VendorID=2.0, tpep_pickup_datetime=datetime.datetime(2017, 12, 1, 0, 9, 31), tpep_dropoff_datetime=datetime.datetime(2017, 12, 1, 1, 24, 56), passenger_count=1.0, trip_distance=29.03, RatecodeID=4.0, store_and_fwd_flag='N', PULocationID=158.0, DOLocationID=265.0, payment_type=1.0, fare_amount=147.0, extra=0.5, mta_tax=0.5, tip_amount=0.0, tolls_amount=16.5, improvement_surcharge=0.3, total_amount=164.8),\n",
       " Row(VendorID=2.0, tpep_pickup_datetime=datetime.datetime(2017, 12, 1, 0, 38, 16), tpep_dropoff_datetime=datetime.datetime(2017, 12, 1, 1, 11, 35), passenger_count=1.0, trip_distance=4.41, RatecodeID=4.0, store_and_fwd_flag='N', PULocationID=261.0, DOLocationID=265.0, payment_type=1.0, fare_amount=26.5, extra=0.5, mta_tax=0.5, tip_amount=0.0, tolls_amount=10.5, improvement_surcharge=0.3, total_amount=38.3),\n",
       " Row(VendorID=1.0, tpep_pickup_datetime=datetime.datetime(2017, 12, 1, 0, 29, 34), tpep_dropoff_datetime=datetime.datetime(2017, 12, 1, 0, 56, 58), passenger_count=1.0, trip_distance=20.4, RatecodeID=4.0, store_and_fwd_flag='N', PULocationID=132.0, DOLocationID=265.0, payment_type=1.0, fare_amount=55.0, extra=0.5, mta_tax=0.5, tip_amount=3.0, tolls_amount=5.76, improvement_surcharge=0.3, total_amount=65.06),\n",
       " Row(VendorID=2.0, tpep_pickup_datetime=datetime.datetime(2017, 12, 1, 0, 7, 50), tpep_dropoff_datetime=datetime.datetime(2017, 12, 1, 0, 37, 4), passenger_count=1.0, trip_distance=8.66, RatecodeID=4.0, store_and_fwd_flag='N', PULocationID=88.0, DOLocationID=265.0, payment_type=1.0, fare_amount=33.5, extra=0.5, mta_tax=0.5, tip_amount=9.06, tolls_amount=10.5, improvement_surcharge=0.3, total_amount=54.36),\n",
       " Row(VendorID=2.0, tpep_pickup_datetime=datetime.datetime(2017, 12, 1, 0, 51), tpep_dropoff_datetime=datetime.datetime(2017, 12, 1, 1, 10, 5), passenger_count=1.0, trip_distance=15.35, RatecodeID=4.0, store_and_fwd_flag='N', PULocationID=132.0, DOLocationID=265.0, payment_type=2.0, fare_amount=45.0, extra=0.5, mta_tax=0.5, tip_amount=0.0, tolls_amount=0.0, improvement_surcharge=0.3, total_amount=46.3),\n",
       " Row(VendorID=2.0, tpep_pickup_datetime=datetime.datetime(2017, 12, 1, 0, 9, 48), tpep_dropoff_datetime=datetime.datetime(2017, 12, 1, 1, 8, 28), passenger_count=6.0, trip_distance=27.05, RatecodeID=4.0, store_and_fwd_flag='N', PULocationID=161.0, DOLocationID=265.0, payment_type=1.0, fare_amount=103.5, extra=0.5, mta_tax=0.5, tip_amount=33.1, tolls_amount=5.54, improvement_surcharge=0.3, total_amount=143.44),\n",
       " Row(VendorID=1.0, tpep_pickup_datetime=datetime.datetime(2017, 12, 1, 0, 42, 45), tpep_dropoff_datetime=datetime.datetime(2017, 12, 1, 1, 4, 59), passenger_count=1.0, trip_distance=23.3, RatecodeID=4.0, store_and_fwd_flag='N', PULocationID=265.0, DOLocationID=82.0, payment_type=3.0, fare_amount=115.5, extra=0.5, mta_tax=0.5, tip_amount=0.0, tolls_amount=0.0, improvement_surcharge=0.3, total_amount=116.8),\n",
       " Row(VendorID=2.0, tpep_pickup_datetime=datetime.datetime(2017, 12, 1, 0, 38, 8), tpep_dropoff_datetime=datetime.datetime(2017, 12, 1, 2, 41, 8), passenger_count=1.0, trip_distance=40.43, RatecodeID=4.0, store_and_fwd_flag='N', PULocationID=68.0, DOLocationID=170.0, payment_type=1.0, fare_amount=220.5, extra=0.5, mta_tax=0.5, tip_amount=44.89, tolls_amount=2.64, improvement_surcharge=0.3, total_amount=269.33),\n",
       " Row(VendorID=2.0, tpep_pickup_datetime=datetime.datetime(2017, 12, 1, 0, 17, 42), tpep_dropoff_datetime=datetime.datetime(2017, 12, 1, 1, 31, 7), passenger_count=1.0, trip_distance=46.99, RatecodeID=4.0, store_and_fwd_flag='N', PULocationID=132.0, DOLocationID=265.0, payment_type=1.0, fare_amount=160.5, extra=0.5, mta_tax=0.5, tip_amount=20.0, tolls_amount=0.0, improvement_surcharge=0.3, total_amount=181.8),\n",
       " Row(VendorID=2.0, tpep_pickup_datetime=datetime.datetime(2017, 12, 1, 1, 13, 9), tpep_dropoff_datetime=datetime.datetime(2017, 12, 1, 1, 49), passenger_count=1.0, trip_distance=20.2, RatecodeID=4.0, store_and_fwd_flag='N', PULocationID=237.0, DOLocationID=265.0, payment_type=1.0, fare_amount=66.0, extra=0.5, mta_tax=0.5, tip_amount=13.46, tolls_amount=0.0, improvement_surcharge=0.3, total_amount=80.76),\n",
       " Row(VendorID=1.0, tpep_pickup_datetime=datetime.datetime(2017, 12, 1, 1, 51, 4), tpep_dropoff_datetime=datetime.datetime(2017, 12, 1, 2, 18, 18), passenger_count=1.0, trip_distance=20.9, RatecodeID=4.0, store_and_fwd_flag='N', PULocationID=164.0, DOLocationID=265.0, payment_type=2.0, fare_amount=59.5, extra=0.5, mta_tax=0.5, tip_amount=0.0, tolls_amount=5.76, improvement_surcharge=0.3, total_amount=66.56),\n",
       " Row(VendorID=1.0, tpep_pickup_datetime=datetime.datetime(2017, 12, 1, 1, 4, 7), tpep_dropoff_datetime=datetime.datetime(2017, 12, 1, 1, 46, 3), passenger_count=1.0, trip_distance=25.9, RatecodeID=4.0, store_and_fwd_flag='N', PULocationID=161.0, DOLocationID=265.0, payment_type=1.0, fare_amount=91.5, extra=0.5, mta_tax=0.5, tip_amount=19.7, tolls_amount=5.76, improvement_surcharge=0.3, total_amount=118.26),\n",
       " Row(VendorID=1.0, tpep_pickup_datetime=datetime.datetime(2017, 12, 1, 2, 19, 49), tpep_dropoff_datetime=datetime.datetime(2017, 12, 1, 3, 2, 39), passenger_count=2.0, trip_distance=25.5, RatecodeID=4.0, store_and_fwd_flag='N', PULocationID=144.0, DOLocationID=265.0, payment_type=2.0, fare_amount=90.5, extra=0.5, mta_tax=0.5, tip_amount=0.0, tolls_amount=0.0, improvement_surcharge=0.3, total_amount=91.8),\n",
       " Row(VendorID=2.0, tpep_pickup_datetime=datetime.datetime(2017, 12, 1, 2, 37, 1), tpep_dropoff_datetime=datetime.datetime(2017, 12, 1, 2, 54, 52), passenger_count=3.0, trip_distance=8.08, RatecodeID=4.0, store_and_fwd_flag='N', PULocationID=132.0, DOLocationID=86.0, payment_type=2.0, fare_amount=27.0, extra=0.5, mta_tax=0.5, tip_amount=0.0, tolls_amount=0.0, improvement_surcharge=0.3, total_amount=28.3),\n",
       " Row(VendorID=2.0, tpep_pickup_datetime=datetime.datetime(2017, 12, 1, 2, 10, 57), tpep_dropoff_datetime=datetime.datetime(2017, 12, 2, 1, 30, 5), passenger_count=1.0, trip_distance=22.87, RatecodeID=4.0, store_and_fwd_flag='N', PULocationID=148.0, DOLocationID=265.0, payment_type=2.0, fare_amount=79.5, extra=0.5, mta_tax=0.5, tip_amount=0.0, tolls_amount=0.0, improvement_surcharge=0.3, total_amount=80.8),\n",
       " Row(VendorID=1.0, tpep_pickup_datetime=datetime.datetime(2017, 12, 1, 2, 49, 44), tpep_dropoff_datetime=datetime.datetime(2017, 12, 1, 2, 51, 13), passenger_count=1.0, trip_distance=0.0, RatecodeID=4.0, store_and_fwd_flag='N', PULocationID=265.0, DOLocationID=265.0, payment_type=3.0, fare_amount=3.5, extra=0.5, mta_tax=0.5, tip_amount=0.0, tolls_amount=0.0, improvement_surcharge=0.3, total_amount=4.8),\n",
       " Row(VendorID=1.0, tpep_pickup_datetime=datetime.datetime(2017, 12, 1, 2, 52, 20), tpep_dropoff_datetime=datetime.datetime(2017, 12, 1, 2, 54, 50), passenger_count=1.0, trip_distance=0.7, RatecodeID=4.0, store_and_fwd_flag='N', PULocationID=265.0, DOLocationID=265.0, payment_type=3.0, fare_amount=6.0, extra=0.5, mta_tax=0.5, tip_amount=0.0, tolls_amount=0.0, improvement_surcharge=0.3, total_amount=7.3),\n",
       " Row(VendorID=2.0, tpep_pickup_datetime=datetime.datetime(2017, 12, 1, 2, 28, 23), tpep_dropoff_datetime=datetime.datetime(2017, 12, 1, 2, 41, 31), passenger_count=6.0, trip_distance=3.9, RatecodeID=4.0, store_and_fwd_flag='N', PULocationID=158.0, DOLocationID=265.0, payment_type=1.0, fare_amount=15.5, extra=0.5, mta_tax=0.5, tip_amount=0.0, tolls_amount=10.5, improvement_surcharge=0.3, total_amount=27.3),\n",
       " Row(VendorID=2.0, tpep_pickup_datetime=datetime.datetime(2017, 12, 1, 3, 18, 51), tpep_dropoff_datetime=datetime.datetime(2017, 12, 1, 4, 52, 58), passenger_count=1.0, trip_distance=32.1, RatecodeID=4.0, store_and_fwd_flag='N', PULocationID=231.0, DOLocationID=265.0, payment_type=1.0, fare_amount=127.5, extra=0.5, mta_tax=0.5, tip_amount=0.0, tolls_amount=0.0, improvement_surcharge=0.3, total_amount=128.8),\n",
       " Row(VendorID=2.0, tpep_pickup_datetime=datetime.datetime(2017, 12, 1, 3, 24, 3), tpep_dropoff_datetime=datetime.datetime(2017, 12, 1, 4, 9, 20), passenger_count=1.0, trip_distance=22.77, RatecodeID=4.0, store_and_fwd_flag='N', PULocationID=231.0, DOLocationID=265.0, payment_type=1.0, fare_amount=77.0, extra=0.5, mta_tax=0.5, tip_amount=21.02, tolls_amount=5.76, improvement_surcharge=0.3, total_amount=105.08),\n",
       " Row(VendorID=1.0, tpep_pickup_datetime=datetime.datetime(2017, 12, 1, 3, 47, 37), tpep_dropoff_datetime=datetime.datetime(2017, 12, 1, 4, 13, 29), passenger_count=1.0, trip_distance=21.5, RatecodeID=4.0, store_and_fwd_flag='N', PULocationID=132.0, DOLocationID=265.0, payment_type=2.0, fare_amount=89.5, extra=0.5, mta_tax=0.5, tip_amount=0.0, tolls_amount=0.0, improvement_surcharge=0.3, total_amount=90.8),\n",
       " Row(VendorID=2.0, tpep_pickup_datetime=datetime.datetime(2017, 12, 1, 4, 50, 53), tpep_dropoff_datetime=datetime.datetime(2017, 12, 1, 5, 13, 32), passenger_count=5.0, trip_distance=17.49, RatecodeID=4.0, store_and_fwd_flag='N', PULocationID=132.0, DOLocationID=265.0, payment_type=1.0, fare_amount=53.0, extra=0.5, mta_tax=0.5, tip_amount=13.58, tolls_amount=0.0, improvement_surcharge=0.3, total_amount=67.88),\n",
       " Row(VendorID=1.0, tpep_pickup_datetime=datetime.datetime(2017, 12, 1, 4, 13, 37), tpep_dropoff_datetime=datetime.datetime(2017, 12, 1, 4, 28, 49), passenger_count=1.0, trip_distance=9.8, RatecodeID=4.0, store_and_fwd_flag='N', PULocationID=132.0, DOLocationID=265.0, payment_type=2.0, fare_amount=32.5, extra=0.5, mta_tax=0.5, tip_amount=0.0, tolls_amount=0.0, improvement_surcharge=0.3, total_amount=33.8),\n",
       " Row(VendorID=2.0, tpep_pickup_datetime=datetime.datetime(2017, 12, 1, 5, 24, 16), tpep_dropoff_datetime=datetime.datetime(2017, 12, 1, 5, 38, 52), passenger_count=5.0, trip_distance=6.42, RatecodeID=4.0, store_and_fwd_flag='N', PULocationID=132.0, DOLocationID=265.0, payment_type=1.0, fare_amount=22.5, extra=0.5, mta_tax=0.5, tip_amount=2.0, tolls_amount=0.0, improvement_surcharge=0.3, total_amount=25.8),\n",
       " Row(VendorID=2.0, tpep_pickup_datetime=datetime.datetime(2017, 12, 1, 5, 53, 55), tpep_dropoff_datetime=datetime.datetime(2017, 12, 1, 6, 31, 12), passenger_count=1.0, trip_distance=28.46, RatecodeID=4.0, store_and_fwd_flag='N', PULocationID=132.0, DOLocationID=265.0, payment_type=1.0, fare_amount=111.5, extra=0.5, mta_tax=0.5, tip_amount=18.0, tolls_amount=0.0, improvement_surcharge=0.3, total_amount=130.8),\n",
       " Row(VendorID=1.0, tpep_pickup_datetime=datetime.datetime(2017, 12, 1, 5, 43, 34), tpep_dropoff_datetime=datetime.datetime(2017, 12, 1, 5, 54, 56), passenger_count=2.0, trip_distance=7.7, RatecodeID=4.0, store_and_fwd_flag='N', PULocationID=132.0, DOLocationID=265.0, payment_type=2.0, fare_amount=25.5, extra=0.5, mta_tax=0.5, tip_amount=0.0, tolls_amount=0.0, improvement_surcharge=0.3, total_amount=26.8),\n",
       " Row(VendorID=1.0, tpep_pickup_datetime=datetime.datetime(2017, 12, 1, 6, 40, 50), tpep_dropoff_datetime=datetime.datetime(2017, 12, 1, 6, 57, 23), passenger_count=2.0, trip_distance=7.2, RatecodeID=4.0, store_and_fwd_flag='N', PULocationID=132.0, DOLocationID=265.0, payment_type=1.0, fare_amount=27.0, extra=0.0, mta_tax=0.5, tip_amount=3.5, tolls_amount=0.0, improvement_surcharge=0.3, total_amount=31.3),\n",
       " Row(VendorID=1.0, tpep_pickup_datetime=datetime.datetime(2017, 12, 1, 6, 51, 14), tpep_dropoff_datetime=datetime.datetime(2017, 12, 1, 7, 8, 45), passenger_count=1.0, trip_distance=7.0, RatecodeID=4.0, store_and_fwd_flag='N', PULocationID=132.0, DOLocationID=265.0, payment_type=2.0, fare_amount=26.5, extra=0.0, mta_tax=0.5, tip_amount=0.0, tolls_amount=0.0, improvement_surcharge=0.3, total_amount=27.3),\n",
       " Row(VendorID=2.0, tpep_pickup_datetime=datetime.datetime(2017, 12, 1, 6, 56), tpep_dropoff_datetime=datetime.datetime(2017, 12, 1, 7, 56, 15), passenger_count=5.0, trip_distance=28.96, RatecodeID=4.0, store_and_fwd_flag='N', PULocationID=132.0, DOLocationID=265.0, payment_type=1.0, fare_amount=92.0, extra=0.0, mta_tax=0.5, tip_amount=15.0, tolls_amount=5.76, improvement_surcharge=0.3, total_amount=113.56),\n",
       " Row(VendorID=2.0, tpep_pickup_datetime=datetime.datetime(2017, 12, 1, 6, 52, 52), tpep_dropoff_datetime=datetime.datetime(2017, 12, 1, 7, 56, 3), passenger_count=1.0, trip_distance=24.64, RatecodeID=4.0, store_and_fwd_flag='N', PULocationID=132.0, DOLocationID=265.0, payment_type=1.0, fare_amount=74.5, extra=0.0, mta_tax=0.5, tip_amount=16.21, tolls_amount=5.76, improvement_surcharge=0.3, total_amount=97.27),\n",
       " Row(VendorID=2.0, tpep_pickup_datetime=datetime.datetime(2017, 12, 1, 6, 36, 44), tpep_dropoff_datetime=datetime.datetime(2017, 12, 1, 7, 3, 50), passenger_count=1.0, trip_distance=19.58, RatecodeID=4.0, store_and_fwd_flag='N', PULocationID=132.0, DOLocationID=265.0, payment_type=1.0, fare_amount=66.0, extra=0.0, mta_tax=0.5, tip_amount=0.0, tolls_amount=0.0, improvement_surcharge=0.3, total_amount=66.8),\n",
       " Row(VendorID=1.0, tpep_pickup_datetime=datetime.datetime(2017, 12, 1, 6, 53, 36), tpep_dropoff_datetime=datetime.datetime(2017, 12, 1, 8, 3, 20), passenger_count=2.0, trip_distance=14.8, RatecodeID=4.0, store_and_fwd_flag='Y', PULocationID=132.0, DOLocationID=132.0, payment_type=2.0, fare_amount=101.5, extra=0.0, mta_tax=0.5, tip_amount=0.0, tolls_amount=0.0, improvement_surcharge=0.3, total_amount=102.3),\n",
       " Row(VendorID=1.0, tpep_pickup_datetime=datetime.datetime(2017, 12, 1, 6, 55, 14), tpep_dropoff_datetime=datetime.datetime(2017, 12, 1, 7, 0, 13), passenger_count=1.0, trip_distance=2.0, RatecodeID=4.0, store_and_fwd_flag='N', PULocationID=236.0, DOLocationID=74.0, payment_type=3.0, fare_amount=12.5, extra=0.0, mta_tax=0.5, tip_amount=0.0, tolls_amount=0.0, improvement_surcharge=0.3, total_amount=13.3),\n",
       " Row(VendorID=2.0, tpep_pickup_datetime=datetime.datetime(2017, 12, 1, 6, 23, 48), tpep_dropoff_datetime=datetime.datetime(2017, 12, 1, 6, 59), passenger_count=1.0, trip_distance=15.36, RatecodeID=4.0, store_and_fwd_flag='N', PULocationID=116.0, DOLocationID=265.0, payment_type=2.0, fare_amount=59.5, extra=0.0, mta_tax=0.5, tip_amount=0.0, tolls_amount=0.0, improvement_surcharge=0.3, total_amount=60.3),\n",
       " Row(VendorID=2.0, tpep_pickup_datetime=datetime.datetime(2017, 12, 1, 6, 50, 39), tpep_dropoff_datetime=datetime.datetime(2017, 12, 1, 7, 10, 36), passenger_count=1.0, trip_distance=10.17, RatecodeID=4.0, store_and_fwd_flag='N', PULocationID=132.0, DOLocationID=265.0, payment_type=1.0, fare_amount=40.0, extra=0.0, mta_tax=0.5, tip_amount=20.0, tolls_amount=0.0, improvement_surcharge=0.3, total_amount=60.8),\n",
       " Row(VendorID=1.0, tpep_pickup_datetime=datetime.datetime(2017, 12, 1, 7, 30, 13), tpep_dropoff_datetime=datetime.datetime(2017, 12, 1, 8, 40, 7), passenger_count=1.0, trip_distance=24.4, RatecodeID=4.0, store_and_fwd_flag='N', PULocationID=132.0, DOLocationID=265.0, payment_type=1.0, fare_amount=86.5, extra=0.0, mta_tax=0.5, tip_amount=26.15, tolls_amount=0.0, improvement_surcharge=0.3, total_amount=113.45),\n",
       " Row(VendorID=2.0, tpep_pickup_datetime=datetime.datetime(2017, 12, 1, 7, 33, 40), tpep_dropoff_datetime=datetime.datetime(2017, 12, 2, 6, 53, 57), passenger_count=6.0, trip_distance=28.15, RatecodeID=4.0, store_and_fwd_flag='N', PULocationID=132.0, DOLocationID=265.0, payment_type=1.0, fare_amount=102.5, extra=0.0, mta_tax=0.5, tip_amount=21.81, tolls_amount=5.76, improvement_surcharge=0.3, total_amount=130.87),\n",
       " Row(VendorID=2.0, tpep_pickup_datetime=datetime.datetime(2017, 12, 1, 7, 42, 36), tpep_dropoff_datetime=datetime.datetime(2017, 12, 1, 8, 4, 46), passenger_count=4.0, trip_distance=9.6, RatecodeID=4.0, store_and_fwd_flag='N', PULocationID=132.0, DOLocationID=265.0, payment_type=1.0, fare_amount=33.0, extra=0.0, mta_tax=0.5, tip_amount=2.0, tolls_amount=0.0, improvement_surcharge=0.3, total_amount=35.8),\n",
       " Row(VendorID=2.0, tpep_pickup_datetime=datetime.datetime(2017, 12, 1, 7, 58, 32), tpep_dropoff_datetime=datetime.datetime(2017, 12, 1, 9, 22, 15), passenger_count=1.0, trip_distance=57.24, RatecodeID=4.0, store_and_fwd_flag='N', PULocationID=209.0, DOLocationID=265.0, payment_type=1.0, fare_amount=231.5, extra=0.0, mta_tax=0.5, tip_amount=0.0, tolls_amount=13.27, improvement_surcharge=0.3, total_amount=245.57),\n",
       " Row(VendorID=2.0, tpep_pickup_datetime=datetime.datetime(2017, 12, 1, 7, 25, 47), tpep_dropoff_datetime=datetime.datetime(2017, 12, 1, 8, 37, 29), passenger_count=1.0, trip_distance=16.63, RatecodeID=4.0, store_and_fwd_flag='N', PULocationID=138.0, DOLocationID=265.0, payment_type=1.0, fare_amount=64.5, extra=0.0, mta_tax=0.5, tip_amount=10.0, tolls_amount=12.5, improvement_surcharge=0.3, total_amount=87.8),\n",
       " Row(VendorID=1.0, tpep_pickup_datetime=datetime.datetime(2017, 12, 1, 7, 53, 25), tpep_dropoff_datetime=datetime.datetime(2017, 12, 1, 8, 28, 56), passenger_count=1.0, trip_distance=14.6, RatecodeID=4.0, store_and_fwd_flag='N', PULocationID=132.0, DOLocationID=265.0, payment_type=1.0, fare_amount=45.0, extra=0.0, mta_tax=0.5, tip_amount=9.15, tolls_amount=0.0, improvement_surcharge=0.3, total_amount=54.95),\n",
       " Row(VendorID=1.0, tpep_pickup_datetime=datetime.datetime(2017, 12, 1, 7, 13, 12), tpep_dropoff_datetime=datetime.datetime(2017, 12, 1, 7, 14, 11), passenger_count=2.0, trip_distance=0.1, RatecodeID=4.0, store_and_fwd_flag='N', PULocationID=75.0, DOLocationID=75.0, payment_type=2.0, fare_amount=3.5, extra=0.0, mta_tax=0.5, tip_amount=0.0, tolls_amount=0.0, improvement_surcharge=0.3, total_amount=4.3),\n",
       " Row(VendorID=2.0, tpep_pickup_datetime=datetime.datetime(2017, 12, 1, 7, 47, 43), tpep_dropoff_datetime=datetime.datetime(2017, 12, 1, 8, 19, 39), passenger_count=2.0, trip_distance=7.49, RatecodeID=4.0, store_and_fwd_flag='N', PULocationID=87.0, DOLocationID=265.0, payment_type=2.0, fare_amount=31.0, extra=0.0, mta_tax=0.5, tip_amount=0.0, tolls_amount=12.5, improvement_surcharge=0.3, total_amount=44.3),\n",
       " Row(VendorID=2.0, tpep_pickup_datetime=datetime.datetime(2017, 12, 1, 8, 2, 12), tpep_dropoff_datetime=datetime.datetime(2017, 12, 1, 8, 48, 28), passenger_count=1.0, trip_distance=18.56, RatecodeID=4.0, store_and_fwd_flag='N', PULocationID=132.0, DOLocationID=265.0, payment_type=1.0, fare_amount=73.0, extra=0.0, mta_tax=0.5, tip_amount=14.76, tolls_amount=0.0, improvement_surcharge=0.3, total_amount=88.56),\n",
       " Row(VendorID=2.0, tpep_pickup_datetime=datetime.datetime(2017, 12, 1, 8, 42, 33), tpep_dropoff_datetime=datetime.datetime(2017, 12, 1, 10, 6, 16), passenger_count=1.0, trip_distance=51.37, RatecodeID=4.0, store_and_fwd_flag='N', PULocationID=144.0, DOLocationID=265.0, payment_type=1.0, fare_amount=266.5, extra=0.0, mta_tax=0.5, tip_amount=56.96, tolls_amount=17.5, improvement_surcharge=0.3, total_amount=341.76),\n",
       " Row(VendorID=2.0, tpep_pickup_datetime=datetime.datetime(2017, 12, 1, 8, 46, 47), tpep_dropoff_datetime=datetime.datetime(2017, 12, 1, 9, 42, 51), passenger_count=1.0, trip_distance=25.12, RatecodeID=4.0, store_and_fwd_flag='N', PULocationID=138.0, DOLocationID=265.0, payment_type=1.0, fare_amount=107.0, extra=0.0, mta_tax=0.5, tip_amount=21.56, tolls_amount=0.0, improvement_surcharge=0.3, total_amount=129.36),\n",
       " Row(VendorID=1.0, tpep_pickup_datetime=datetime.datetime(2017, 12, 1, 8, 54, 36), tpep_dropoff_datetime=datetime.datetime(2017, 12, 1, 9, 13, 12), passenger_count=1.0, trip_distance=6.7, RatecodeID=4.0, store_and_fwd_flag='N', PULocationID=264.0, DOLocationID=265.0, payment_type=1.0, fare_amount=26.0, extra=0.0, mta_tax=0.5, tip_amount=4.0, tolls_amount=0.0, improvement_surcharge=0.3, total_amount=30.8),\n",
       " Row(VendorID=2.0, tpep_pickup_datetime=datetime.datetime(2017, 12, 1, 8, 45, 18), tpep_dropoff_datetime=datetime.datetime(2017, 12, 1, 9, 34, 21), passenger_count=1.0, trip_distance=29.21, RatecodeID=4.0, store_and_fwd_flag='N', PULocationID=138.0, DOLocationID=265.0, payment_type=1.0, fare_amount=108.5, extra=0.0, mta_tax=0.5, tip_amount=30.02, tolls_amount=10.76, improvement_surcharge=0.3, total_amount=150.08),\n",
       " Row(VendorID=2.0, tpep_pickup_datetime=datetime.datetime(2017, 12, 1, 9, 33, 35), tpep_dropoff_datetime=datetime.datetime(2017, 12, 1, 10, 5, 48), passenger_count=6.0, trip_distance=21.21, RatecodeID=4.0, store_and_fwd_flag='N', PULocationID=132.0, DOLocationID=265.0, payment_type=1.0, fare_amount=84.0, extra=0.0, mta_tax=0.5, tip_amount=0.0, tolls_amount=0.0, improvement_surcharge=0.3, total_amount=84.8),\n",
       " Row(VendorID=1.0, tpep_pickup_datetime=datetime.datetime(2017, 12, 1, 9, 51, 27), tpep_dropoff_datetime=datetime.datetime(2017, 12, 1, 10, 22, 40), passenger_count=1.0, trip_distance=18.6, RatecodeID=4.0, store_and_fwd_flag='N', PULocationID=138.0, DOLocationID=265.0, payment_type=1.0, fare_amount=63.0, extra=0.0, mta_tax=0.5, tip_amount=14.25, tolls_amount=7.51, improvement_surcharge=0.3, total_amount=85.56),\n",
       " Row(VendorID=2.0, tpep_pickup_datetime=datetime.datetime(2017, 12, 1, 9, 29, 27), tpep_dropoff_datetime=datetime.datetime(2017, 12, 1, 10, 6, 24), passenger_count=1.0, trip_distance=19.79, RatecodeID=4.0, store_and_fwd_flag='N', PULocationID=138.0, DOLocationID=265.0, payment_type=1.0, fare_amount=72.5, extra=0.0, mta_tax=0.5, tip_amount=14.66, tolls_amount=0.0, improvement_surcharge=0.3, total_amount=87.96),\n",
       " Row(VendorID=1.0, tpep_pickup_datetime=datetime.datetime(2017, 12, 1, 9, 47, 14), tpep_dropoff_datetime=datetime.datetime(2017, 12, 1, 9, 48, 2), passenger_count=1.0, trip_distance=1.5, RatecodeID=4.0, store_and_fwd_flag='N', PULocationID=164.0, DOLocationID=164.0, payment_type=1.0, fare_amount=0.0, extra=0.0, mta_tax=0.5, tip_amount=14.0, tolls_amount=0.0, improvement_surcharge=0.3, total_amount=14.8),\n",
       " Row(VendorID=2.0, tpep_pickup_datetime=datetime.datetime(2017, 12, 1, 9, 40, 14), tpep_dropoff_datetime=datetime.datetime(2017, 12, 1, 9, 55, 36), passenger_count=1.0, trip_distance=7.31, RatecodeID=4.0, store_and_fwd_flag='N', PULocationID=132.0, DOLocationID=265.0, payment_type=2.0, fare_amount=23.5, extra=0.0, mta_tax=0.5, tip_amount=0.0, tolls_amount=0.0, improvement_surcharge=0.3, total_amount=24.3),\n",
       " Row(VendorID=1.0, tpep_pickup_datetime=datetime.datetime(2017, 12, 1, 10, 43, 41), tpep_dropoff_datetime=datetime.datetime(2017, 12, 1, 11, 9, 44), passenger_count=1.0, trip_distance=18.4, RatecodeID=4.0, store_and_fwd_flag='N', PULocationID=132.0, DOLocationID=265.0, payment_type=2.0, fare_amount=79.0, extra=0.0, mta_tax=0.5, tip_amount=0.0, tolls_amount=0.0, improvement_surcharge=0.3, total_amount=79.8),\n",
       " Row(VendorID=2.0, tpep_pickup_datetime=datetime.datetime(2017, 12, 1, 10, 41, 5), tpep_dropoff_datetime=datetime.datetime(2017, 12, 1, 11, 0, 1), passenger_count=1.0, trip_distance=7.48, RatecodeID=4.0, store_and_fwd_flag='N', PULocationID=132.0, DOLocationID=265.0, payment_type=1.0, fare_amount=27.5, extra=0.0, mta_tax=0.5, tip_amount=7.08, tolls_amount=0.0, improvement_surcharge=0.3, total_amount=35.38),\n",
       " Row(VendorID=2.0, tpep_pickup_datetime=datetime.datetime(2017, 12, 1, 10, 39, 50), tpep_dropoff_datetime=datetime.datetime(2017, 12, 1, 11, 29, 20), passenger_count=1.0, trip_distance=33.45, RatecodeID=4.0, store_and_fwd_flag='N', PULocationID=132.0, DOLocationID=265.0, payment_type=2.0, fare_amount=158.0, extra=0.0, mta_tax=0.5, tip_amount=0.0, tolls_amount=0.0, improvement_surcharge=0.3, total_amount=158.8),\n",
       " Row(VendorID=2.0, tpep_pickup_datetime=datetime.datetime(2017, 12, 1, 11, 56, 50), tpep_dropoff_datetime=datetime.datetime(2017, 12, 1, 12, 35, 23), passenger_count=1.0, trip_distance=18.47, RatecodeID=4.0, store_and_fwd_flag='N', PULocationID=138.0, DOLocationID=265.0, payment_type=1.0, fare_amount=66.0, extra=0.0, mta_tax=0.5, tip_amount=14.51, tolls_amount=5.76, improvement_surcharge=0.3, total_amount=87.07),\n",
       " Row(VendorID=2.0, tpep_pickup_datetime=datetime.datetime(2017, 12, 1, 11, 38, 52), tpep_dropoff_datetime=datetime.datetime(2017, 12, 1, 12, 14, 17), passenger_count=3.0, trip_distance=17.85, RatecodeID=4.0, store_and_fwd_flag='N', PULocationID=138.0, DOLocationID=265.0, payment_type=1.0, fare_amount=67.0, extra=0.0, mta_tax=0.5, tip_amount=10.0, tolls_amount=0.0, improvement_surcharge=0.3, total_amount=77.8),\n",
       " Row(VendorID=2.0, tpep_pickup_datetime=datetime.datetime(2017, 12, 1, 11, 22, 15), tpep_dropoff_datetime=datetime.datetime(2017, 12, 1, 11, 59, 27), passenger_count=1.0, trip_distance=7.45, RatecodeID=4.0, store_and_fwd_flag='N', PULocationID=87.0, DOLocationID=265.0, payment_type=2.0, fare_amount=40.0, extra=0.0, mta_tax=0.5, tip_amount=0.0, tolls_amount=10.5, improvement_surcharge=0.3, total_amount=51.3),\n",
       " Row(VendorID=2.0, tpep_pickup_datetime=datetime.datetime(2017, 12, 1, 11, 16, 55), tpep_dropoff_datetime=datetime.datetime(2017, 12, 1, 11, 46, 39), passenger_count=2.0, trip_distance=24.73, RatecodeID=4.0, store_and_fwd_flag='N', PULocationID=138.0, DOLocationID=265.0, payment_type=2.0, fare_amount=89.0, extra=0.0, mta_tax=0.5, tip_amount=0.0, tolls_amount=0.0, improvement_surcharge=0.3, total_amount=89.8),\n",
       " Row(VendorID=1.0, tpep_pickup_datetime=datetime.datetime(2017, 12, 1, 11, 31, 1), tpep_dropoff_datetime=datetime.datetime(2017, 12, 1, 12, 0, 8), passenger_count=2.0, trip_distance=17.5, RatecodeID=4.0, store_and_fwd_flag='N', PULocationID=138.0, DOLocationID=265.0, payment_type=2.0, fare_amount=53.5, extra=0.0, mta_tax=0.5, tip_amount=0.0, tolls_amount=0.0, improvement_surcharge=0.3, total_amount=54.3),\n",
       " Row(VendorID=2.0, tpep_pickup_datetime=datetime.datetime(2017, 12, 1, 10, 59, 49), tpep_dropoff_datetime=datetime.datetime(2017, 12, 1, 12, 3, 11), passenger_count=1.0, trip_distance=34.14, RatecodeID=4.0, store_and_fwd_flag='N', PULocationID=138.0, DOLocationID=265.0, payment_type=2.0, fare_amount=138.5, extra=0.0, mta_tax=0.5, tip_amount=0.0, tolls_amount=0.0, improvement_surcharge=0.3, total_amount=139.3),\n",
       " Row(VendorID=2.0, tpep_pickup_datetime=datetime.datetime(2017, 12, 1, 11, 48, 2), tpep_dropoff_datetime=datetime.datetime(2017, 12, 1, 12, 19, 46), passenger_count=1.0, trip_distance=20.83, RatecodeID=4.0, store_and_fwd_flag='N', PULocationID=138.0, DOLocationID=265.0, payment_type=1.0, fare_amount=62.5, extra=0.0, mta_tax=0.5, tip_amount=12.66, tolls_amount=0.0, improvement_surcharge=0.3, total_amount=75.96),\n",
       " Row(VendorID=2.0, tpep_pickup_datetime=datetime.datetime(2017, 12, 1, 12, 56, 18), tpep_dropoff_datetime=datetime.datetime(2017, 12, 1, 13, 17, 5), passenger_count=3.0, trip_distance=11.77, RatecodeID=4.0, store_and_fwd_flag='N', PULocationID=132.0, DOLocationID=265.0, payment_type=1.0, fare_amount=48.0, extra=0.0, mta_tax=0.5, tip_amount=12.2, tolls_amount=0.0, improvement_surcharge=0.3, total_amount=61.0),\n",
       " Row(VendorID=2.0, tpep_pickup_datetime=datetime.datetime(2017, 12, 1, 12, 40, 7), tpep_dropoff_datetime=datetime.datetime(2017, 12, 1, 13, 5, 2), passenger_count=1.0, trip_distance=13.55, RatecodeID=4.0, store_and_fwd_flag='N', PULocationID=132.0, DOLocationID=265.0, payment_type=1.0, fare_amount=40.0, extra=0.0, mta_tax=0.5, tip_amount=10.2, tolls_amount=0.0, improvement_surcharge=0.3, total_amount=51.0),\n",
       " Row(VendorID=2.0, tpep_pickup_datetime=datetime.datetime(2017, 12, 1, 12, 14, 38), tpep_dropoff_datetime=datetime.datetime(2017, 12, 1, 12, 39, 43), passenger_count=3.0, trip_distance=19.58, RatecodeID=4.0, store_and_fwd_flag='N', PULocationID=132.0, DOLocationID=265.0, payment_type=1.0, fare_amount=81.5, extra=0.0, mta_tax=0.5, tip_amount=0.0, tolls_amount=0.0, improvement_surcharge=0.3, total_amount=82.3),\n",
       " Row(VendorID=1.0, tpep_pickup_datetime=datetime.datetime(2017, 12, 1, 12, 21, 19), tpep_dropoff_datetime=datetime.datetime(2017, 12, 1, 12, 21, 19), passenger_count=1.0, trip_distance=0.0, RatecodeID=4.0, store_and_fwd_flag='N', PULocationID=132.0, DOLocationID=264.0, payment_type=2.0, fare_amount=2.5, extra=0.0, mta_tax=0.5, tip_amount=0.0, tolls_amount=0.0, improvement_surcharge=0.3, total_amount=3.3),\n",
       " Row(VendorID=2.0, tpep_pickup_datetime=datetime.datetime(2017, 12, 1, 12, 54, 8), tpep_dropoff_datetime=datetime.datetime(2017, 12, 1, 13, 36, 8), passenger_count=1.0, trip_distance=28.13, RatecodeID=4.0, store_and_fwd_flag='N', PULocationID=132.0, DOLocationID=265.0, payment_type=1.0, fare_amount=79.5, extra=0.0, mta_tax=0.5, tip_amount=4.08, tolls_amount=5.76, improvement_surcharge=0.3, total_amount=90.14),\n",
       " Row(VendorID=2.0, tpep_pickup_datetime=datetime.datetime(2017, 12, 1, 12, 40, 59), tpep_dropoff_datetime=datetime.datetime(2017, 12, 1, 13, 8, 36), passenger_count=2.0, trip_distance=20.06, RatecodeID=4.0, store_and_fwd_flag='N', PULocationID=132.0, DOLocationID=265.0, payment_type=1.0, fare_amount=79.5, extra=0.0, mta_tax=0.5, tip_amount=16.06, tolls_amount=0.0, improvement_surcharge=0.3, total_amount=96.36),\n",
       " Row(VendorID=2.0, tpep_pickup_datetime=datetime.datetime(2017, 12, 1, 12, 30, 3), tpep_dropoff_datetime=datetime.datetime(2017, 12, 1, 12, 59, 32), passenger_count=1.0, trip_distance=17.23, RatecodeID=4.0, store_and_fwd_flag='N', PULocationID=138.0, DOLocationID=265.0, payment_type=2.0, fare_amount=57.0, extra=0.0, mta_tax=0.5, tip_amount=0.0, tolls_amount=7.51, improvement_surcharge=0.3, total_amount=65.31),\n",
       " Row(VendorID=2.0, tpep_pickup_datetime=datetime.datetime(2017, 12, 1, 12, 53, 5), tpep_dropoff_datetime=datetime.datetime(2017, 12, 1, 13, 38, 25), passenger_count=1.0, trip_distance=16.37, RatecodeID=4.0, store_and_fwd_flag='N', PULocationID=138.0, DOLocationID=265.0, payment_type=1.0, fare_amount=56.5, extra=0.0, mta_tax=0.5, tip_amount=14.32, tolls_amount=0.0, improvement_surcharge=0.3, total_amount=71.62),\n",
       " Row(VendorID=2.0, tpep_pickup_datetime=datetime.datetime(2017, 12, 1, 12, 6, 22), tpep_dropoff_datetime=datetime.datetime(2017, 12, 1, 13, 3, 41), passenger_count=1.0, trip_distance=23.96, RatecodeID=4.0, store_and_fwd_flag='N', PULocationID=231.0, DOLocationID=265.0, payment_type=2.0, fare_amount=79.0, extra=0.0, mta_tax=0.5, tip_amount=0.0, tolls_amount=0.0, improvement_surcharge=0.3, total_amount=79.8),\n",
       " Row(VendorID=1.0, tpep_pickup_datetime=datetime.datetime(2017, 12, 1, 13, 52, 9), tpep_dropoff_datetime=datetime.datetime(2017, 12, 1, 14, 13, 11), passenger_count=1.0, trip_distance=8.1, RatecodeID=4.0, store_and_fwd_flag='N', PULocationID=132.0, DOLocationID=265.0, payment_type=1.0, fare_amount=32.0, extra=0.0, mta_tax=0.5, tip_amount=3.0, tolls_amount=0.0, improvement_surcharge=0.3, total_amount=35.8),\n",
       " Row(VendorID=1.0, tpep_pickup_datetime=datetime.datetime(2017, 12, 1, 13, 41, 27), tpep_dropoff_datetime=datetime.datetime(2017, 12, 1, 14, 14, 10), passenger_count=1.0, trip_distance=20.9, RatecodeID=4.0, store_and_fwd_flag='N', PULocationID=138.0, DOLocationID=265.0, payment_type=2.0, fare_amount=75.0, extra=0.0, mta_tax=0.5, tip_amount=0.0, tolls_amount=0.0, improvement_surcharge=0.3, total_amount=75.8),\n",
       " Row(VendorID=1.0, tpep_pickup_datetime=datetime.datetime(2017, 12, 1, 13, 58, 9), tpep_dropoff_datetime=datetime.datetime(2017, 12, 1, 14, 52, 49), passenger_count=1.0, trip_distance=32.4, RatecodeID=4.0, store_and_fwd_flag='N', PULocationID=132.0, DOLocationID=265.0, payment_type=3.0, fare_amount=147.0, extra=0.0, mta_tax=0.5, tip_amount=0.0, tolls_amount=0.0, improvement_surcharge=0.3, total_amount=147.8),\n",
       " Row(VendorID=2.0, tpep_pickup_datetime=datetime.datetime(2017, 12, 1, 13, 23, 35), tpep_dropoff_datetime=datetime.datetime(2017, 12, 1, 13, 51, 1), passenger_count=2.0, trip_distance=20.92, RatecodeID=4.0, store_and_fwd_flag='N', PULocationID=132.0, DOLocationID=265.0, payment_type=1.0, fare_amount=90.5, extra=0.0, mta_tax=0.5, tip_amount=3.7, tolls_amount=0.0, improvement_surcharge=0.3, total_amount=95.0),\n",
       " Row(VendorID=2.0, tpep_pickup_datetime=datetime.datetime(2017, 12, 1, 13, 11, 14), tpep_dropoff_datetime=datetime.datetime(2017, 12, 1, 14, 10, 24), passenger_count=1.0, trip_distance=17.76, RatecodeID=4.0, store_and_fwd_flag='N', PULocationID=161.0, DOLocationID=265.0, payment_type=1.0, fare_amount=72.5, extra=0.0, mta_tax=0.5, tip_amount=15.19, tolls_amount=2.64, improvement_surcharge=0.3, total_amount=91.13),\n",
       " Row(VendorID=1.0, tpep_pickup_datetime=datetime.datetime(2017, 12, 1, 13, 57, 30), tpep_dropoff_datetime=datetime.datetime(2017, 12, 1, 14, 46, 32), passenger_count=1.0, trip_distance=29.7, RatecodeID=4.0, store_and_fwd_flag='N', PULocationID=132.0, DOLocationID=265.0, payment_type=1.0, fare_amount=91.0, extra=0.0, mta_tax=0.5, tip_amount=15.0, tolls_amount=8.51, improvement_surcharge=0.3, total_amount=115.31),\n",
       " Row(VendorID=1.0, tpep_pickup_datetime=datetime.datetime(2017, 12, 1, 14, 48, 20), tpep_dropoff_datetime=datetime.datetime(2017, 12, 1, 15, 10, 47), passenger_count=1.0, trip_distance=5.3, RatecodeID=4.0, store_and_fwd_flag='N', PULocationID=132.0, DOLocationID=265.0, payment_type=1.0, fare_amount=20.0, extra=0.0, mta_tax=0.5, tip_amount=5.0, tolls_amount=0.0, improvement_surcharge=0.3, total_amount=25.8),\n",
       " Row(VendorID=2.0, tpep_pickup_datetime=datetime.datetime(2017, 12, 1, 14, 18, 4), tpep_dropoff_datetime=datetime.datetime(2017, 12, 1, 15, 52, 47), passenger_count=1.0, trip_distance=43.65, RatecodeID=4.0, store_and_fwd_flag='N', PULocationID=132.0, DOLocationID=265.0, payment_type=1.0, fare_amount=156.0, extra=0.0, mta_tax=0.5, tip_amount=3.0, tolls_amount=5.76, improvement_surcharge=0.3, total_amount=165.56),\n",
       " Row(VendorID=2.0, tpep_pickup_datetime=datetime.datetime(2017, 12, 1, 13, 33, 48), tpep_dropoff_datetime=datetime.datetime(2017, 12, 1, 14, 20, 45), passenger_count=1.0, trip_distance=35.44, RatecodeID=4.0, store_and_fwd_flag='N', PULocationID=132.0, DOLocationID=265.0, payment_type=1.0, fare_amount=119.0, extra=0.0, mta_tax=0.5, tip_amount=25.11, tolls_amount=5.76, improvement_surcharge=0.3, total_amount=150.67),\n",
       " Row(VendorID=2.0, tpep_pickup_datetime=datetime.datetime(2017, 12, 1, 14, 35, 21), tpep_dropoff_datetime=datetime.datetime(2017, 12, 1, 15, 31, 8), passenger_count=6.0, trip_distance=23.67, RatecodeID=4.0, store_and_fwd_flag='N', PULocationID=132.0, DOLocationID=265.0, payment_type=1.0, fare_amount=77.5, extra=0.0, mta_tax=0.5, tip_amount=16.81, tolls_amount=5.76, improvement_surcharge=0.3, total_amount=100.87),\n",
       " Row(VendorID=1.0, tpep_pickup_datetime=datetime.datetime(2017, 12, 1, 14, 41, 25), tpep_dropoff_datetime=datetime.datetime(2017, 12, 1, 15, 51, 43), passenger_count=1.0, trip_distance=22.6, RatecodeID=4.0, store_and_fwd_flag='N', PULocationID=246.0, DOLocationID=265.0, payment_type=1.0, fare_amount=89.0, extra=0.0, mta_tax=0.5, tip_amount=0.0, tolls_amount=2.64, improvement_surcharge=0.3, total_amount=92.44),\n",
       " Row(VendorID=1.0, tpep_pickup_datetime=datetime.datetime(2017, 12, 1, 14, 16, 52), tpep_dropoff_datetime=datetime.datetime(2017, 12, 1, 15, 35, 44), passenger_count=1.0, trip_distance=31.7, RatecodeID=4.0, store_and_fwd_flag='N', PULocationID=138.0, DOLocationID=265.0, payment_type=1.0, fare_amount=137.0, extra=0.0, mta_tax=0.5, tip_amount=40.0, tolls_amount=0.0, improvement_surcharge=0.3, total_amount=177.8),\n",
       " Row(VendorID=1.0, tpep_pickup_datetime=datetime.datetime(2017, 12, 1, 14, 35, 18), tpep_dropoff_datetime=datetime.datetime(2017, 12, 1, 15, 35, 1), passenger_count=1.0, trip_distance=25.4, RatecodeID=4.0, store_and_fwd_flag='N', PULocationID=132.0, DOLocationID=265.0, payment_type=1.0, fare_amount=85.0, extra=0.0, mta_tax=0.5, tip_amount=18.3, tolls_amount=5.76, improvement_surcharge=0.3, total_amount=109.86),\n",
       " Row(VendorID=1.0, tpep_pickup_datetime=datetime.datetime(2017, 12, 1, 14, 52, 4), tpep_dropoff_datetime=datetime.datetime(2017, 12, 1, 15, 38, 16), passenger_count=1.0, trip_distance=16.6, RatecodeID=4.0, store_and_fwd_flag='N', PULocationID=140.0, DOLocationID=265.0, payment_type=2.0, fare_amount=61.5, extra=0.0, mta_tax=0.5, tip_amount=0.0, tolls_amount=0.0, improvement_surcharge=0.3, total_amount=62.3),\n",
       " Row(VendorID=1.0, tpep_pickup_datetime=datetime.datetime(2017, 12, 1, 14, 0, 44), tpep_dropoff_datetime=datetime.datetime(2017, 12, 1, 14, 18, 6), passenger_count=1.0, trip_distance=7.6, RatecodeID=4.0, store_and_fwd_flag='N', PULocationID=132.0, DOLocationID=265.0, payment_type=1.0, fare_amount=29.0, extra=0.0, mta_tax=0.5, tip_amount=7.45, tolls_amount=0.0, improvement_surcharge=0.3, total_amount=37.25),\n",
       " Row(VendorID=2.0, tpep_pickup_datetime=datetime.datetime(2017, 12, 1, 14, 27, 11), tpep_dropoff_datetime=datetime.datetime(2017, 12, 1, 15, 22, 12), passenger_count=1.0, trip_distance=25.6, RatecodeID=4.0, store_and_fwd_flag='N', PULocationID=132.0, DOLocationID=265.0, payment_type=1.0, fare_amount=117.0, extra=0.0, mta_tax=0.5, tip_amount=35.34, tolls_amount=0.0, improvement_surcharge=0.3, total_amount=153.14),\n",
       " Row(VendorID=2.0, tpep_pickup_datetime=datetime.datetime(2017, 12, 1, 14, 20, 20), tpep_dropoff_datetime=datetime.datetime(2017, 12, 1, 14, 44, 16), passenger_count=1.0, trip_distance=6.74, RatecodeID=4.0, store_and_fwd_flag='N', PULocationID=132.0, DOLocationID=265.0, payment_type=1.0, fare_amount=28.0, extra=0.0, mta_tax=0.5, tip_amount=5.76, tolls_amount=0.0, improvement_surcharge=0.3, total_amount=34.56),\n",
       " Row(VendorID=1.0, tpep_pickup_datetime=datetime.datetime(2017, 12, 1, 14, 59, 53), tpep_dropoff_datetime=datetime.datetime(2017, 12, 1, 14, 59, 56), passenger_count=1.0, trip_distance=2.5, RatecodeID=4.0, store_and_fwd_flag='N', PULocationID=113.0, DOLocationID=113.0, payment_type=2.0, fare_amount=2.5, extra=0.0, mta_tax=0.5, tip_amount=0.0, tolls_amount=0.0, improvement_surcharge=0.3, total_amount=3.3),\n",
       " Row(VendorID=2.0, tpep_pickup_datetime=datetime.datetime(2017, 12, 1, 15, 48, 16), tpep_dropoff_datetime=datetime.datetime(2017, 12, 1, 16, 37, 54), passenger_count=1.0, trip_distance=13.63, RatecodeID=4.0, store_and_fwd_flag='N', PULocationID=132.0, DOLocationID=265.0, payment_type=1.0, fare_amount=55.5, extra=0.0, mta_tax=0.5, tip_amount=11.26, tolls_amount=0.0, improvement_surcharge=0.3, total_amount=67.56),\n",
       " Row(VendorID=1.0, tpep_pickup_datetime=datetime.datetime(2017, 12, 1, 15, 56, 9), tpep_dropoff_datetime=datetime.datetime(2017, 12, 1, 16, 59, 59), passenger_count=2.0, trip_distance=19.7, RatecodeID=4.0, store_and_fwd_flag='N', PULocationID=138.0, DOLocationID=265.0, payment_type=1.0, fare_amount=72.5, extra=0.0, mta_tax=0.5, tip_amount=12.0, tolls_amount=5.76, improvement_surcharge=0.3, total_amount=91.06),\n",
       " Row(VendorID=2.0, tpep_pickup_datetime=datetime.datetime(2017, 12, 1, 15, 54, 31), tpep_dropoff_datetime=datetime.datetime(2017, 12, 1, 16, 49, 50), passenger_count=1.0, trip_distance=14.52, RatecodeID=4.0, store_and_fwd_flag='N', PULocationID=132.0, DOLocationID=265.0, payment_type=1.0, fare_amount=66.0, extra=0.0, mta_tax=0.5, tip_amount=11.0, tolls_amount=0.0, improvement_surcharge=0.3, total_amount=77.8),\n",
       " Row(VendorID=2.0, tpep_pickup_datetime=datetime.datetime(2017, 12, 1, 15, 7, 15), tpep_dropoff_datetime=datetime.datetime(2017, 12, 1, 15, 45, 45), passenger_count=1.0, trip_distance=13.78, RatecodeID=4.0, store_and_fwd_flag='N', PULocationID=132.0, DOLocationID=64.0, payment_type=2.0, fare_amount=61.5, extra=0.0, mta_tax=0.5, tip_amount=0.0, tolls_amount=0.0, improvement_surcharge=0.3, total_amount=62.3),\n",
       " Row(VendorID=1.0, tpep_pickup_datetime=datetime.datetime(2017, 12, 1, 15, 48, 26), tpep_dropoff_datetime=datetime.datetime(2017, 12, 1, 16, 16, 12), passenger_count=1.0, trip_distance=7.0, RatecodeID=4.0, store_and_fwd_flag='N', PULocationID=132.0, DOLocationID=265.0, payment_type=2.0, fare_amount=26.0, extra=0.0, mta_tax=0.5, tip_amount=0.0, tolls_amount=0.0, improvement_surcharge=0.3, total_amount=26.8),\n",
       " Row(VendorID=1.0, tpep_pickup_datetime=datetime.datetime(2017, 12, 1, 16, 18, 3), tpep_dropoff_datetime=datetime.datetime(2017, 12, 1, 17, 39, 45), passenger_count=1.0, trip_distance=26.3, RatecodeID=4.0, store_and_fwd_flag='N', PULocationID=132.0, DOLocationID=265.0, payment_type=1.0, fare_amount=127.5, extra=1.0, mta_tax=0.5, tip_amount=20.0, tolls_amount=0.0, improvement_surcharge=0.3, total_amount=149.3),\n",
       " Row(VendorID=1.0, tpep_pickup_datetime=datetime.datetime(2017, 12, 1, 16, 30), tpep_dropoff_datetime=datetime.datetime(2017, 12, 1, 16, 52, 20), passenger_count=2.0, trip_distance=5.8, RatecodeID=4.0, store_and_fwd_flag='N', PULocationID=132.0, DOLocationID=265.0, payment_type=2.0, fare_amount=22.5, extra=1.0, mta_tax=0.5, tip_amount=0.0, tolls_amount=0.0, improvement_surcharge=0.3, total_amount=24.3),\n",
       " Row(VendorID=2.0, tpep_pickup_datetime=datetime.datetime(2017, 12, 1, 16, 49, 49), tpep_dropoff_datetime=datetime.datetime(2017, 12, 2, 15, 57, 55), passenger_count=1.0, trip_distance=14.38, RatecodeID=4.0, store_and_fwd_flag='N', PULocationID=75.0, DOLocationID=265.0, payment_type=2.0, fare_amount=49.5, extra=1.0, mta_tax=0.5, tip_amount=0.0, tolls_amount=0.0, improvement_surcharge=0.3, total_amount=51.3),\n",
       " Row(VendorID=2.0, tpep_pickup_datetime=datetime.datetime(2017, 12, 1, 16, 49, 5), tpep_dropoff_datetime=datetime.datetime(2017, 12, 1, 17, 26, 46), passenger_count=1.0, trip_distance=13.44, RatecodeID=4.0, store_and_fwd_flag='N', PULocationID=132.0, DOLocationID=265.0, payment_type=2.0, fare_amount=56.0, extra=1.0, mta_tax=0.5, tip_amount=0.0, tolls_amount=0.0, improvement_surcharge=0.3, total_amount=57.8),\n",
       " Row(VendorID=1.0, tpep_pickup_datetime=datetime.datetime(2017, 12, 1, 16, 15, 53), tpep_dropoff_datetime=datetime.datetime(2017, 12, 1, 16, 59, 15), passenger_count=1.0, trip_distance=12.8, RatecodeID=4.0, store_and_fwd_flag='N', PULocationID=132.0, DOLocationID=265.0, payment_type=1.0, fare_amount=60.5, extra=1.0, mta_tax=0.5, tip_amount=18.0, tolls_amount=0.0, improvement_surcharge=0.3, total_amount=80.3),\n",
       " Row(VendorID=1.0, tpep_pickup_datetime=datetime.datetime(2017, 12, 1, 16, 55, 59), tpep_dropoff_datetime=datetime.datetime(2017, 12, 1, 16, 56, 33), passenger_count=1.0, trip_distance=0.0, RatecodeID=4.0, store_and_fwd_flag='N', PULocationID=263.0, DOLocationID=263.0, payment_type=2.0, fare_amount=0.0, extra=1.0, mta_tax=0.5, tip_amount=0.0, tolls_amount=0.0, improvement_surcharge=0.3, total_amount=1.8),\n",
       " Row(VendorID=1.0, tpep_pickup_datetime=datetime.datetime(2017, 12, 1, 16, 56, 57), tpep_dropoff_datetime=datetime.datetime(2017, 12, 1, 16, 58, 55), passenger_count=1.0, trip_distance=0.0, RatecodeID=4.0, store_and_fwd_flag='N', PULocationID=263.0, DOLocationID=263.0, payment_type=3.0, fare_amount=2.0, extra=1.0, mta_tax=0.5, tip_amount=0.0, tolls_amount=0.0, improvement_surcharge=0.3, total_amount=3.8),\n",
       " Row(VendorID=1.0, tpep_pickup_datetime=datetime.datetime(2017, 12, 1, 16, 59, 56), tpep_dropoff_datetime=datetime.datetime(2017, 12, 1, 16, 59, 56), passenger_count=1.0, trip_distance=0.0, RatecodeID=4.0, store_and_fwd_flag='N', PULocationID=263.0, DOLocationID=264.0, payment_type=2.0, fare_amount=0.0, extra=1.0, mta_tax=0.5, tip_amount=0.0, tolls_amount=0.0, improvement_surcharge=0.3, total_amount=1.8),\n",
       " Row(VendorID=2.0, tpep_pickup_datetime=datetime.datetime(2017, 12, 1, 16, 12, 39), tpep_dropoff_datetime=datetime.datetime(2017, 12, 1, 17, 16, 14), passenger_count=5.0, trip_distance=19.89, RatecodeID=4.0, store_and_fwd_flag='N', PULocationID=237.0, DOLocationID=265.0, payment_type=2.0, fare_amount=78.5, extra=1.0, mta_tax=0.5, tip_amount=0.0, tolls_amount=2.64, improvement_surcharge=0.3, total_amount=82.94),\n",
       " Row(VendorID=1.0, tpep_pickup_datetime=datetime.datetime(2017, 12, 1, 16, 29, 16), tpep_dropoff_datetime=datetime.datetime(2017, 12, 1, 17, 31, 7), passenger_count=1.0, trip_distance=30.6, RatecodeID=4.0, store_and_fwd_flag='N', PULocationID=138.0, DOLocationID=265.0, payment_type=1.0, fare_amount=128.5, extra=1.0, mta_tax=0.5, tip_amount=25.0, tolls_amount=5.76, improvement_surcharge=0.3, total_amount=161.06),\n",
       " Row(VendorID=2.0, tpep_pickup_datetime=datetime.datetime(2017, 12, 1, 6, 32, 59), tpep_dropoff_datetime=datetime.datetime(2017, 12, 2, 6, 32, 38), passenger_count=1.0, trip_distance=28.22, RatecodeID=4.0, store_and_fwd_flag='N', PULocationID=132.0, DOLocationID=265.0, payment_type=1.0, fare_amount=96.5, extra=1.0, mta_tax=0.5, tip_amount=25.0, tolls_amount=5.76, improvement_surcharge=0.3, total_amount=129.06),\n",
       " Row(VendorID=2.0, tpep_pickup_datetime=datetime.datetime(2017, 12, 1, 16, 32, 23), tpep_dropoff_datetime=datetime.datetime(2017, 12, 1, 17, 8, 46), passenger_count=2.0, trip_distance=14.85, RatecodeID=4.0, store_and_fwd_flag='N', PULocationID=132.0, DOLocationID=265.0, payment_type=1.0, fare_amount=46.5, extra=1.0, mta_tax=0.5, tip_amount=12.08, tolls_amount=0.0, improvement_surcharge=0.3, total_amount=60.38),\n",
       " Row(VendorID=1.0, tpep_pickup_datetime=datetime.datetime(2017, 12, 1, 17, 23, 29), tpep_dropoff_datetime=datetime.datetime(2017, 12, 1, 18, 17, 40), passenger_count=1.0, trip_distance=24.2, RatecodeID=4.0, store_and_fwd_flag='N', PULocationID=132.0, DOLocationID=265.0, payment_type=1.0, fare_amount=78.5, extra=1.0, mta_tax=0.5, tip_amount=21.5, tolls_amount=5.76, improvement_surcharge=0.3, total_amount=107.56),\n",
       " Row(VendorID=2.0, tpep_pickup_datetime=datetime.datetime(2017, 12, 1, 17, 33, 49), tpep_dropoff_datetime=datetime.datetime(2017, 12, 1, 18, 18, 15), passenger_count=5.0, trip_distance=13.71, RatecodeID=4.0, store_and_fwd_flag='N', PULocationID=138.0, DOLocationID=101.0, payment_type=1.0, fare_amount=43.0, extra=1.0, mta_tax=0.5, tip_amount=6.2, tolls_amount=0.0, improvement_surcharge=0.3, total_amount=51.0),\n",
       " Row(VendorID=1.0, tpep_pickup_datetime=datetime.datetime(2017, 12, 1, 17, 54, 43), tpep_dropoff_datetime=datetime.datetime(2017, 12, 1, 18, 54, 33), passenger_count=1.0, trip_distance=26.6, RatecodeID=4.0, store_and_fwd_flag='N', PULocationID=132.0, DOLocationID=265.0, payment_type=2.0, fare_amount=93.0, extra=1.0, mta_tax=0.5, tip_amount=0.0, tolls_amount=5.76, improvement_surcharge=0.3, total_amount=100.56),\n",
       " Row(VendorID=1.0, tpep_pickup_datetime=datetime.datetime(2017, 12, 1, 17, 7, 27), tpep_dropoff_datetime=datetime.datetime(2017, 12, 1, 18, 22, 24), passenger_count=1.0, trip_distance=17.1, RatecodeID=4.0, store_and_fwd_flag='N', PULocationID=138.0, DOLocationID=265.0, payment_type=1.0, fare_amount=76.0, extra=1.0, mta_tax=0.5, tip_amount=19.45, tolls_amount=0.0, improvement_surcharge=0.3, total_amount=97.25),\n",
       " Row(VendorID=2.0, tpep_pickup_datetime=datetime.datetime(2017, 12, 1, 17, 56, 21), tpep_dropoff_datetime=datetime.datetime(2017, 12, 1, 18, 38, 37), passenger_count=1.0, trip_distance=22.91, RatecodeID=4.0, store_and_fwd_flag='N', PULocationID=138.0, DOLocationID=265.0, payment_type=1.0, fare_amount=85.5, extra=1.0, mta_tax=0.5, tip_amount=18.96, tolls_amount=7.51, improvement_surcharge=0.3, total_amount=113.77),\n",
       " Row(VendorID=1.0, tpep_pickup_datetime=datetime.datetime(2017, 12, 1, 17, 54, 31), tpep_dropoff_datetime=datetime.datetime(2017, 12, 1, 18, 15, 40), passenger_count=1.0, trip_distance=9.8, RatecodeID=4.0, store_and_fwd_flag='N', PULocationID=132.0, DOLocationID=265.0, payment_type=1.0, fare_amount=36.5, extra=1.0, mta_tax=0.5, tip_amount=0.0, tolls_amount=0.0, improvement_surcharge=0.3, total_amount=38.3),\n",
       " Row(VendorID=1.0, tpep_pickup_datetime=datetime.datetime(2017, 12, 1, 17, 35, 38), tpep_dropoff_datetime=datetime.datetime(2017, 12, 1, 17, 56, 52), passenger_count=1.0, trip_distance=7.6, RatecodeID=4.0, store_and_fwd_flag='N', PULocationID=132.0, DOLocationID=265.0, payment_type=1.0, fare_amount=27.0, extra=1.0, mta_tax=0.5, tip_amount=5.0, tolls_amount=0.0, improvement_surcharge=0.3, total_amount=33.8),\n",
       " Row(VendorID=2.0, tpep_pickup_datetime=datetime.datetime(2017, 12, 1, 17, 36, 1), tpep_dropoff_datetime=datetime.datetime(2017, 12, 1, 18, 36, 44), passenger_count=2.0, trip_distance=24.36, RatecodeID=4.0, store_and_fwd_flag='N', PULocationID=132.0, DOLocationID=265.0, payment_type=2.0, fare_amount=80.0, extra=1.0, mta_tax=0.5, tip_amount=0.0, tolls_amount=5.76, improvement_surcharge=0.3, total_amount=87.56),\n",
       " Row(VendorID=2.0, tpep_pickup_datetime=datetime.datetime(2017, 12, 1, 17, 26, 56), tpep_dropoff_datetime=datetime.datetime(2017, 12, 1, 18, 17, 52), passenger_count=1.0, trip_distance=22.13, RatecodeID=4.0, store_and_fwd_flag='N', PULocationID=132.0, DOLocationID=265.0, payment_type=1.0, fare_amount=65.5, extra=1.0, mta_tax=0.5, tip_amount=14.61, tolls_amount=5.76, improvement_surcharge=0.3, total_amount=87.67),\n",
       " Row(VendorID=1.0, tpep_pickup_datetime=datetime.datetime(2017, 12, 1, 18, 5, 5), tpep_dropoff_datetime=datetime.datetime(2017, 12, 1, 18, 27, 44), passenger_count=1.0, trip_distance=7.5, RatecodeID=4.0, store_and_fwd_flag='N', PULocationID=132.0, DOLocationID=265.0, payment_type=2.0, fare_amount=30.0, extra=1.0, mta_tax=0.5, tip_amount=0.0, tolls_amount=0.0, improvement_surcharge=0.3, total_amount=31.8),\n",
       " Row(VendorID=2.0, tpep_pickup_datetime=datetime.datetime(2017, 12, 1, 18, 2, 44), tpep_dropoff_datetime=datetime.datetime(2017, 12, 1, 18, 29, 49), passenger_count=1.0, trip_distance=10.26, RatecodeID=4.0, store_and_fwd_flag='N', PULocationID=132.0, DOLocationID=265.0, payment_type=2.0, fare_amount=38.0, extra=1.0, mta_tax=0.5, tip_amount=0.0, tolls_amount=0.0, improvement_surcharge=0.3, total_amount=39.8),\n",
       " Row(VendorID=2.0, tpep_pickup_datetime=datetime.datetime(2017, 12, 1, 18, 55, 48), tpep_dropoff_datetime=datetime.datetime(2017, 12, 1, 19, 10, 53), passenger_count=1.0, trip_distance=5.88, RatecodeID=4.0, store_and_fwd_flag='N', PULocationID=132.0, DOLocationID=265.0, payment_type=2.0, fare_amount=19.0, extra=1.0, mta_tax=0.5, tip_amount=0.0, tolls_amount=0.0, improvement_surcharge=0.3, total_amount=20.8),\n",
       " Row(VendorID=1.0, tpep_pickup_datetime=datetime.datetime(2017, 12, 1, 18, 12, 36), tpep_dropoff_datetime=datetime.datetime(2017, 12, 1, 18, 12, 39), passenger_count=1.0, trip_distance=0.0, RatecodeID=4.0, store_and_fwd_flag='N', PULocationID=114.0, DOLocationID=114.0, payment_type=4.0, fare_amount=2.5, extra=1.0, mta_tax=0.5, tip_amount=0.0, tolls_amount=0.0, improvement_surcharge=0.3, total_amount=4.3),\n",
       " Row(VendorID=2.0, tpep_pickup_datetime=datetime.datetime(2017, 12, 1, 18, 55, 6), tpep_dropoff_datetime=datetime.datetime(2017, 12, 1, 19, 27, 25), passenger_count=4.0, trip_distance=13.61, RatecodeID=4.0, store_and_fwd_flag='N', PULocationID=132.0, DOLocationID=265.0, payment_type=1.0, fare_amount=53.0, extra=1.0, mta_tax=0.5, tip_amount=7.0, tolls_amount=0.0, improvement_surcharge=0.3, total_amount=61.8),\n",
       " Row(VendorID=2.0, tpep_pickup_datetime=datetime.datetime(2017, 12, 1, 18, 20, 33), tpep_dropoff_datetime=datetime.datetime(2017, 12, 1, 19, 16, 1), passenger_count=1.0, trip_distance=30.86, RatecodeID=4.0, store_and_fwd_flag='N', PULocationID=132.0, DOLocationID=265.0, payment_type=1.0, fare_amount=107.5, extra=1.0, mta_tax=0.5, tip_amount=29.02, tolls_amount=6.76, improvement_surcharge=0.3, total_amount=145.08),\n",
       " Row(VendorID=1.0, tpep_pickup_datetime=datetime.datetime(2017, 12, 1, 18, 13, 43), tpep_dropoff_datetime=datetime.datetime(2017, 12, 1, 18, 26, 46), passenger_count=2.0, trip_distance=3.3, RatecodeID=4.0, store_and_fwd_flag='N', PULocationID=13.0, DOLocationID=246.0, payment_type=3.0, fare_amount=24.0, extra=1.0, mta_tax=0.5, tip_amount=0.0, tolls_amount=0.0, improvement_surcharge=0.3, total_amount=25.8),\n",
       " Row(VendorID=1.0, tpep_pickup_datetime=datetime.datetime(2017, 12, 1, 18, 33, 9), tpep_dropoff_datetime=datetime.datetime(2017, 12, 1, 18, 42, 16), passenger_count=1.0, trip_distance=1.0, RatecodeID=4.0, store_and_fwd_flag='N', PULocationID=141.0, DOLocationID=236.0, payment_type=2.0, fare_amount=7.0, extra=1.0, mta_tax=0.5, tip_amount=0.0, tolls_amount=0.0, improvement_surcharge=0.3, total_amount=8.8),\n",
       " Row(VendorID=1.0, tpep_pickup_datetime=datetime.datetime(2017, 12, 1, 18, 58, 59), tpep_dropoff_datetime=datetime.datetime(2017, 12, 1, 19, 42, 2), passenger_count=1.0, trip_distance=21.5, RatecodeID=4.0, store_and_fwd_flag='N', PULocationID=87.0, DOLocationID=265.0, payment_type=1.0, fare_amount=61.0, extra=1.0, mta_tax=0.5, tip_amount=0.0, tolls_amount=0.0, improvement_surcharge=0.3, total_amount=62.8),\n",
       " Row(VendorID=1.0, tpep_pickup_datetime=datetime.datetime(2017, 12, 1, 18, 4, 29), tpep_dropoff_datetime=datetime.datetime(2017, 12, 1, 18, 44, 51), passenger_count=1.0, trip_distance=19.8, RatecodeID=4.0, store_and_fwd_flag='N', PULocationID=138.0, DOLocationID=265.0, payment_type=1.0, fare_amount=72.5, extra=1.0, mta_tax=0.5, tip_amount=16.0, tolls_amount=5.76, improvement_surcharge=0.3, total_amount=96.06),\n",
       " Row(VendorID=2.0, tpep_pickup_datetime=datetime.datetime(2017, 12, 1, 18, 13, 30), tpep_dropoff_datetime=datetime.datetime(2017, 12, 1, 19, 2, 36), passenger_count=1.0, trip_distance=27.62, RatecodeID=4.0, store_and_fwd_flag='N', PULocationID=132.0, DOLocationID=265.0, payment_type=1.0, fare_amount=83.5, extra=1.0, mta_tax=0.5, tip_amount=18.21, tolls_amount=5.76, improvement_surcharge=0.3, total_amount=109.27),\n",
       " Row(VendorID=2.0, tpep_pickup_datetime=datetime.datetime(2017, 12, 1, 9, 46, 40), tpep_dropoff_datetime=datetime.datetime(2017, 12, 1, 10, 10, 33), passenger_count=1.0, trip_distance=9.22, RatecodeID=4.0, store_and_fwd_flag='N', PULocationID=132.0, DOLocationID=265.0, payment_type=1.0, fare_amount=29.0, extra=1.0, mta_tax=0.5, tip_amount=6.16, tolls_amount=0.0, improvement_surcharge=0.3, total_amount=36.96),\n",
       " Row(VendorID=2.0, tpep_pickup_datetime=datetime.datetime(2017, 12, 1, 18, 9, 27), tpep_dropoff_datetime=datetime.datetime(2017, 12, 1, 18, 26, 20), passenger_count=1.0, trip_distance=6.95, RatecodeID=4.0, store_and_fwd_flag='N', PULocationID=132.0, DOLocationID=265.0, payment_type=1.0, fare_amount=24.5, extra=1.0, mta_tax=0.5, tip_amount=6.58, tolls_amount=0.0, improvement_surcharge=0.3, total_amount=32.88),\n",
       " Row(VendorID=1.0, tpep_pickup_datetime=datetime.datetime(2017, 12, 1, 18, 24, 37), tpep_dropoff_datetime=datetime.datetime(2017, 12, 1, 18, 55, 34), passenger_count=1.0, trip_distance=15.6, RatecodeID=4.0, store_and_fwd_flag='N', PULocationID=138.0, DOLocationID=265.0, payment_type=1.0, fare_amount=47.0, extra=1.0, mta_tax=0.5, tip_amount=10.0, tolls_amount=5.76, improvement_surcharge=0.3, total_amount=64.56),\n",
       " Row(VendorID=2.0, tpep_pickup_datetime=datetime.datetime(2017, 12, 1, 19, 36, 51), tpep_dropoff_datetime=datetime.datetime(2017, 12, 1, 20, 34, 49), passenger_count=1.0, trip_distance=31.13, RatecodeID=4.0, store_and_fwd_flag='N', PULocationID=132.0, DOLocationID=265.0, payment_type=1.0, fare_amount=97.0, extra=1.0, mta_tax=0.5, tip_amount=20.91, tolls_amount=5.76, improvement_surcharge=0.3, total_amount=125.47),\n",
       " Row(VendorID=1.0, tpep_pickup_datetime=datetime.datetime(2017, 12, 1, 19, 13, 21), tpep_dropoff_datetime=datetime.datetime(2017, 12, 1, 19, 54, 10), passenger_count=1.0, trip_distance=18.3, RatecodeID=4.0, store_and_fwd_flag='N', PULocationID=233.0, DOLocationID=265.0, payment_type=1.0, fare_amount=59.0, extra=1.0, mta_tax=0.5, tip_amount=18.2, tolls_amount=0.0, improvement_surcharge=0.3, total_amount=79.0),\n",
       " Row(VendorID=1.0, tpep_pickup_datetime=datetime.datetime(2017, 12, 1, 19, 6, 39), tpep_dropoff_datetime=datetime.datetime(2017, 12, 1, 19, 23, 47), passenger_count=1.0, trip_distance=6.9, RatecodeID=4.0, store_and_fwd_flag='N', PULocationID=132.0, DOLocationID=265.0, payment_type=2.0, fare_amount=28.0, extra=1.0, mta_tax=0.5, tip_amount=0.0, tolls_amount=0.0, improvement_surcharge=0.3, total_amount=29.8),\n",
       " Row(VendorID=2.0, tpep_pickup_datetime=datetime.datetime(2017, 12, 1, 19, 13, 6), tpep_dropoff_datetime=datetime.datetime(2017, 12, 1, 20, 11, 36), passenger_count=1.0, trip_distance=34.49, RatecodeID=4.0, store_and_fwd_flag='N', PULocationID=132.0, DOLocationID=265.0, payment_type=2.0, fare_amount=122.5, extra=1.0, mta_tax=0.5, tip_amount=0.0, tolls_amount=51.26, improvement_surcharge=0.3, total_amount=175.56),\n",
       " Row(VendorID=1.0, tpep_pickup_datetime=datetime.datetime(2017, 12, 1, 19, 18, 17), tpep_dropoff_datetime=datetime.datetime(2017, 12, 1, 19, 19, 39), passenger_count=1.0, trip_distance=1.8, RatecodeID=4.0, store_and_fwd_flag='N', PULocationID=138.0, DOLocationID=138.0, payment_type=3.0, fare_amount=2.0, extra=1.0, mta_tax=0.5, tip_amount=0.0, tolls_amount=0.0, improvement_surcharge=0.3, total_amount=3.8),\n",
       " Row(VendorID=2.0, tpep_pickup_datetime=datetime.datetime(2017, 12, 1, 19, 3, 49), tpep_dropoff_datetime=datetime.datetime(2017, 12, 1, 19, 37, 50), passenger_count=6.0, trip_distance=16.89, RatecodeID=4.0, store_and_fwd_flag='N', PULocationID=138.0, DOLocationID=265.0, payment_type=1.0, fare_amount=57.5, extra=1.0, mta_tax=0.5, tip_amount=14.82, tolls_amount=0.0, improvement_surcharge=0.3, total_amount=74.12),\n",
       " Row(VendorID=1.0, tpep_pickup_datetime=datetime.datetime(2017, 12, 1, 19, 56, 59), tpep_dropoff_datetime=datetime.datetime(2017, 12, 1, 21, 15, 33), passenger_count=2.0, trip_distance=22.2, RatecodeID=4.0, store_and_fwd_flag='N', PULocationID=138.0, DOLocationID=265.0, payment_type=2.0, fare_amount=100.5, extra=0.5, mta_tax=0.5, tip_amount=0.0, tolls_amount=5.76, improvement_surcharge=0.3, total_amount=107.56),\n",
       " Row(VendorID=1.0, tpep_pickup_datetime=datetime.datetime(2017, 12, 1, 19, 37, 46), tpep_dropoff_datetime=datetime.datetime(2017, 12, 1, 20, 37, 43), passenger_count=2.0, trip_distance=37.2, RatecodeID=4.0, store_and_fwd_flag='N', PULocationID=138.0, DOLocationID=265.0, payment_type=1.0, fare_amount=147.0, extra=1.0, mta_tax=0.5, tip_amount=29.75, tolls_amount=0.0, improvement_surcharge=0.3, total_amount=178.55),\n",
       " Row(VendorID=1.0, tpep_pickup_datetime=datetime.datetime(2017, 12, 1, 19, 12, 37), tpep_dropoff_datetime=datetime.datetime(2017, 12, 1, 19, 13, 35), passenger_count=1.0, trip_distance=0.2, RatecodeID=4.0, store_and_fwd_flag='N', PULocationID=142.0, DOLocationID=142.0, payment_type=3.0, fare_amount=2.0, extra=1.0, mta_tax=0.5, tip_amount=0.0, tolls_amount=0.0, improvement_surcharge=0.3, total_amount=3.8),\n",
       " Row(VendorID=2.0, tpep_pickup_datetime=datetime.datetime(2017, 12, 1, 19, 49, 37), tpep_dropoff_datetime=datetime.datetime(2017, 12, 1, 20, 42, 39), passenger_count=3.0, trip_distance=30.05, RatecodeID=4.0, store_and_fwd_flag='N', PULocationID=132.0, DOLocationID=265.0, payment_type=1.0, fare_amount=89.5, extra=1.0, mta_tax=0.5, tip_amount=19.41, tolls_amount=5.76, improvement_surcharge=0.3, total_amount=116.47),\n",
       " Row(VendorID=2.0, tpep_pickup_datetime=datetime.datetime(2017, 12, 1, 19, 31, 29), tpep_dropoff_datetime=datetime.datetime(2017, 12, 1, 20, 25, 16), passenger_count=1.0, trip_distance=29.98, RatecodeID=4.0, store_and_fwd_flag='N', PULocationID=138.0, DOLocationID=265.0, payment_type=1.0, fare_amount=123.5, extra=1.0, mta_tax=0.5, tip_amount=27.36, tolls_amount=11.52, improvement_surcharge=0.3, total_amount=164.18),\n",
       " Row(VendorID=1.0, tpep_pickup_datetime=datetime.datetime(2017, 12, 1, 20, 59, 30), tpep_dropoff_datetime=datetime.datetime(2017, 12, 1, 21, 52, 42), passenger_count=1.0, trip_distance=20.2, RatecodeID=4.0, store_and_fwd_flag='N', PULocationID=87.0, DOLocationID=265.0, payment_type=1.0, fare_amount=68.5, extra=0.5, mta_tax=0.5, tip_amount=13.95, tolls_amount=0.0, improvement_surcharge=0.3, total_amount=83.75),\n",
       " Row(VendorID=2.0, tpep_pickup_datetime=datetime.datetime(2017, 12, 1, 20, 38, 9), tpep_dropoff_datetime=datetime.datetime(2017, 12, 1, 21, 18, 54), passenger_count=5.0, trip_distance=32.15, RatecodeID=4.0, store_and_fwd_flag='N', PULocationID=132.0, DOLocationID=265.0, payment_type=1.0, fare_amount=149.0, extra=0.5, mta_tax=0.5, tip_amount=30.06, tolls_amount=0.0, improvement_surcharge=0.3, total_amount=180.36),\n",
       " Row(VendorID=1.0, tpep_pickup_datetime=datetime.datetime(2017, 12, 1, 20, 16, 36), tpep_dropoff_datetime=datetime.datetime(2017, 12, 1, 20, 23, 15), passenger_count=2.0, trip_distance=0.6, RatecodeID=4.0, store_and_fwd_flag='N', PULocationID=162.0, DOLocationID=162.0, payment_type=4.0, fare_amount=9.0, extra=0.5, mta_tax=0.5, tip_amount=0.0, tolls_amount=0.0, improvement_surcharge=0.3, total_amount=10.3),\n",
       " Row(VendorID=2.0, tpep_pickup_datetime=datetime.datetime(2017, 12, 1, 20, 22, 32), tpep_dropoff_datetime=datetime.datetime(2017, 12, 1, 20, 53, 59), passenger_count=6.0, trip_distance=21.54, RatecodeID=4.0, store_and_fwd_flag='N', PULocationID=138.0, DOLocationID=265.0, payment_type=1.0, fare_amount=78.0, extra=0.5, mta_tax=0.5, tip_amount=15.86, tolls_amount=0.0, improvement_surcharge=0.3, total_amount=95.16),\n",
       " Row(VendorID=2.0, tpep_pickup_datetime=datetime.datetime(2017, 12, 1, 20, 38, 47), tpep_dropoff_datetime=datetime.datetime(2017, 12, 1, 21, 10, 6), passenger_count=4.0, trip_distance=17.65, RatecodeID=4.0, store_and_fwd_flag='N', PULocationID=132.0, DOLocationID=265.0, payment_type=1.0, fare_amount=71.5, extra=0.5, mta_tax=0.5, tip_amount=5.0, tolls_amount=0.0, improvement_surcharge=0.3, total_amount=77.8),\n",
       " Row(VendorID=2.0, tpep_pickup_datetime=datetime.datetime(2017, 12, 1, 20, 42, 48), tpep_dropoff_datetime=datetime.datetime(2017, 12, 1, 21, 27, 50), passenger_count=1.0, trip_distance=33.93, RatecodeID=4.0, store_and_fwd_flag='N', PULocationID=132.0, DOLocationID=265.0, payment_type=1.0, fare_amount=113.5, extra=0.5, mta_tax=0.5, tip_amount=24.11, tolls_amount=5.76, improvement_surcharge=0.3, total_amount=144.67),\n",
       " Row(VendorID=2.0, tpep_pickup_datetime=datetime.datetime(2017, 12, 1, 20, 22, 20), tpep_dropoff_datetime=datetime.datetime(2017, 12, 1, 20, 49, 31), passenger_count=2.0, trip_distance=19.63, RatecodeID=4.0, store_and_fwd_flag='N', PULocationID=138.0, DOLocationID=265.0, payment_type=2.0, fare_amount=67.0, extra=0.5, mta_tax=0.5, tip_amount=0.0, tolls_amount=0.0, improvement_surcharge=0.3, total_amount=68.3),\n",
       " Row(VendorID=1.0, tpep_pickup_datetime=datetime.datetime(2017, 12, 1, 20, 23, 2), tpep_dropoff_datetime=datetime.datetime(2017, 12, 1, 20, 48, 39), passenger_count=1.0, trip_distance=17.0, RatecodeID=4.0, store_and_fwd_flag='N', PULocationID=138.0, DOLocationID=265.0, payment_type=1.0, fare_amount=57.0, extra=0.5, mta_tax=0.5, tip_amount=12.81, tolls_amount=5.76, improvement_surcharge=0.3, total_amount=76.87),\n",
       " Row(VendorID=2.0, tpep_pickup_datetime=datetime.datetime(2017, 12, 1, 20, 5, 1), tpep_dropoff_datetime=datetime.datetime(2017, 12, 1, 20, 23, 54), passenger_count=1.0, trip_distance=7.95, RatecodeID=4.0, store_and_fwd_flag='N', PULocationID=132.0, DOLocationID=265.0, payment_type=1.0, fare_amount=25.0, extra=0.5, mta_tax=0.5, tip_amount=5.26, tolls_amount=0.0, improvement_surcharge=0.3, total_amount=31.56),\n",
       " Row(VendorID=2.0, tpep_pickup_datetime=datetime.datetime(2017, 12, 1, 20, 28, 50), tpep_dropoff_datetime=datetime.datetime(2017, 12, 1, 21, 9, 1), passenger_count=1.0, trip_distance=20.36, RatecodeID=4.0, store_and_fwd_flag='N', PULocationID=246.0, DOLocationID=265.0, payment_type=1.0, fare_amount=69.0, extra=0.5, mta_tax=0.5, tip_amount=21.88, tolls_amount=2.64, improvement_surcharge=0.3, total_amount=94.82),\n",
       " Row(VendorID=1.0, tpep_pickup_datetime=datetime.datetime(2017, 12, 1, 20, 34, 42), tpep_dropoff_datetime=datetime.datetime(2017, 12, 1, 21, 43, 25), passenger_count=1.0, trip_distance=35.1, RatecodeID=4.0, store_and_fwd_flag='N', PULocationID=209.0, DOLocationID=265.0, payment_type=1.0, fare_amount=139.0, extra=0.5, mta_tax=0.5, tip_amount=20.0, tolls_amount=0.0, improvement_surcharge=0.3, total_amount=160.3),\n",
       " Row(VendorID=2.0, tpep_pickup_datetime=datetime.datetime(2017, 12, 1, 21, 2, 11), tpep_dropoff_datetime=datetime.datetime(2017, 12, 1, 21, 21, 43), passenger_count=1.0, trip_distance=8.65, RatecodeID=4.0, store_and_fwd_flag='N', PULocationID=132.0, DOLocationID=265.0, payment_type=1.0, fare_amount=34.0, extra=0.5, mta_tax=0.5, tip_amount=7.06, tolls_amount=0.0, improvement_surcharge=0.3, total_amount=42.36),\n",
       " Row(VendorID=2.0, tpep_pickup_datetime=datetime.datetime(2017, 12, 1, 21, 47, 59), tpep_dropoff_datetime=datetime.datetime(2017, 12, 1, 21, 59, 14), passenger_count=1.0, trip_distance=5.89, RatecodeID=4.0, store_and_fwd_flag='N', PULocationID=132.0, DOLocationID=265.0, payment_type=1.0, fare_amount=18.5, extra=0.5, mta_tax=0.5, tip_amount=5.94, tolls_amount=0.0, improvement_surcharge=0.3, total_amount=25.74),\n",
       " Row(VendorID=1.0, tpep_pickup_datetime=datetime.datetime(2017, 12, 1, 21, 2, 33), tpep_dropoff_datetime=datetime.datetime(2017, 12, 1, 21, 32, 33), passenger_count=1.0, trip_distance=19.4, RatecodeID=4.0, store_and_fwd_flag='N', PULocationID=138.0, DOLocationID=265.0, payment_type=1.0, fare_amount=63.5, extra=0.5, mta_tax=0.5, tip_amount=4.0, tolls_amount=0.0, improvement_surcharge=0.3, total_amount=68.8),\n",
       " Row(VendorID=1.0, tpep_pickup_datetime=datetime.datetime(2017, 12, 1, 21, 41, 55), tpep_dropoff_datetime=datetime.datetime(2017, 12, 1, 22, 22, 35), passenger_count=1.0, trip_distance=29.1, RatecodeID=4.0, store_and_fwd_flag='N', PULocationID=132.0, DOLocationID=265.0, payment_type=1.0, fare_amount=99.0, extra=0.5, mta_tax=0.5, tip_amount=26.5, tolls_amount=5.76, improvement_surcharge=0.3, total_amount=132.56),\n",
       " Row(VendorID=2.0, tpep_pickup_datetime=datetime.datetime(2017, 12, 1, 21, 59, 48), tpep_dropoff_datetime=datetime.datetime(2017, 12, 1, 22, 23, 54), passenger_count=5.0, trip_distance=4.32, RatecodeID=4.0, store_and_fwd_flag='N', PULocationID=234.0, DOLocationID=265.0, payment_type=2.0, fare_amount=21.5, extra=0.5, mta_tax=0.5, tip_amount=0.0, tolls_amount=10.5, improvement_surcharge=0.3, total_amount=33.3),\n",
       " Row(VendorID=2.0, tpep_pickup_datetime=datetime.datetime(2017, 12, 1, 21, 53, 33), tpep_dropoff_datetime=datetime.datetime(2017, 12, 1, 22, 9, 34), passenger_count=5.0, trip_distance=7.0, RatecodeID=4.0, store_and_fwd_flag='N', PULocationID=132.0, DOLocationID=265.0, payment_type=1.0, fare_amount=25.5, extra=0.5, mta_tax=0.5, tip_amount=6.7, tolls_amount=0.0, improvement_surcharge=0.3, total_amount=33.5),\n",
       " Row(VendorID=1.0, tpep_pickup_datetime=datetime.datetime(2017, 12, 1, 21, 45, 10), tpep_dropoff_datetime=datetime.datetime(2017, 12, 1, 22, 22, 14), passenger_count=1.0, trip_distance=16.7, RatecodeID=4.0, store_and_fwd_flag='N', PULocationID=234.0, DOLocationID=265.0, payment_type=2.0, fare_amount=49.5, extra=0.5, mta_tax=0.5, tip_amount=0.0, tolls_amount=0.0, improvement_surcharge=0.3, total_amount=50.8),\n",
       " Row(VendorID=2.0, tpep_pickup_datetime=datetime.datetime(2017, 12, 1, 21, 37, 56), tpep_dropoff_datetime=datetime.datetime(2017, 12, 1, 22, 17, 43), passenger_count=1.0, trip_distance=23.26, RatecodeID=4.0, store_and_fwd_flag='N', PULocationID=138.0, DOLocationID=265.0, payment_type=1.0, fare_amount=95.5, extra=0.5, mta_tax=0.5, tip_amount=19.36, tolls_amount=0.0, improvement_surcharge=0.3, total_amount=116.16),\n",
       " Row(VendorID=1.0, tpep_pickup_datetime=datetime.datetime(2017, 12, 1, 21, 10, 7), tpep_dropoff_datetime=datetime.datetime(2017, 12, 1, 21, 33, 50), passenger_count=1.0, trip_distance=16.2, RatecodeID=4.0, store_and_fwd_flag='N', PULocationID=138.0, DOLocationID=265.0, payment_type=1.0, fare_amount=49.0, extra=0.5, mta_tax=0.5, tip_amount=4.0, tolls_amount=5.76, improvement_surcharge=0.3, total_amount=60.06),\n",
       " Row(VendorID=2.0, tpep_pickup_datetime=datetime.datetime(2017, 12, 1, 20, 59, 53), tpep_dropoff_datetime=datetime.datetime(2017, 12, 1, 21, 27, 54), passenger_count=5.0, trip_distance=22.79, RatecodeID=4.0, store_and_fwd_flag='N', PULocationID=132.0, DOLocationID=265.0, payment_type=1.0, fare_amount=97.0, extra=0.5, mta_tax=0.5, tip_amount=19.66, tolls_amount=0.0, improvement_surcharge=0.3, total_amount=117.96),\n",
       " Row(VendorID=1.0, tpep_pickup_datetime=datetime.datetime(2017, 12, 1, 21, 55, 30), tpep_dropoff_datetime=datetime.datetime(2017, 12, 1, 22, 23, 42), passenger_count=1.0, trip_distance=15.9, RatecodeID=4.0, store_and_fwd_flag='N', PULocationID=138.0, DOLocationID=265.0, payment_type=1.0, fare_amount=50.5, extra=0.5, mta_tax=0.5, tip_amount=11.5, tolls_amount=5.76, improvement_surcharge=0.3, total_amount=69.06),\n",
       " Row(VendorID=1.0, tpep_pickup_datetime=datetime.datetime(2017, 12, 1, 21, 13, 10), tpep_dropoff_datetime=datetime.datetime(2017, 12, 1, 21, 50, 29), passenger_count=1.0, trip_distance=24.7, RatecodeID=4.0, store_and_fwd_flag='N', PULocationID=138.0, DOLocationID=265.0, payment_type=2.0, fare_amount=96.0, extra=0.5, mta_tax=0.5, tip_amount=0.0, tolls_amount=5.76, improvement_surcharge=0.3, total_amount=103.06),\n",
       " Row(VendorID=1.0, tpep_pickup_datetime=datetime.datetime(2017, 12, 1, 21, 25, 11), tpep_dropoff_datetime=datetime.datetime(2017, 12, 1, 21, 43, 18), passenger_count=1.0, trip_distance=9.9, RatecodeID=4.0, store_and_fwd_flag='N', PULocationID=132.0, DOLocationID=265.0, payment_type=1.0, fare_amount=38.0, extra=0.5, mta_tax=0.5, tip_amount=4.0, tolls_amount=0.0, improvement_surcharge=0.3, total_amount=43.3),\n",
       " Row(VendorID=1.0, tpep_pickup_datetime=datetime.datetime(2017, 12, 1, 21, 14, 55), tpep_dropoff_datetime=datetime.datetime(2017, 12, 1, 21, 43, 3), passenger_count=1.0, trip_distance=13.8, RatecodeID=4.0, store_and_fwd_flag='N', PULocationID=132.0, DOLocationID=265.0, payment_type=1.0, fare_amount=48.5, extra=0.5, mta_tax=0.5, tip_amount=9.95, tolls_amount=0.0, improvement_surcharge=0.3, total_amount=59.75),\n",
       " Row(VendorID=2.0, tpep_pickup_datetime=datetime.datetime(2017, 12, 1, 21, 40, 31), tpep_dropoff_datetime=datetime.datetime(2017, 12, 1, 21, 58, 40), passenger_count=3.0, trip_distance=10.88, RatecodeID=4.0, store_and_fwd_flag='N', PULocationID=132.0, DOLocationID=265.0, payment_type=1.0, fare_amount=41.5, extra=0.5, mta_tax=0.5, tip_amount=8.56, tolls_amount=0.0, improvement_surcharge=0.3, total_amount=51.36),\n",
       " Row(VendorID=2.0, tpep_pickup_datetime=datetime.datetime(2017, 12, 1, 21, 54, 18), tpep_dropoff_datetime=datetime.datetime(2017, 12, 1, 22, 16, 51), passenger_count=5.0, trip_distance=8.88, RatecodeID=4.0, store_and_fwd_flag='N', PULocationID=132.0, DOLocationID=265.0, payment_type=1.0, fare_amount=36.5, extra=0.5, mta_tax=0.5, tip_amount=9.45, tolls_amount=0.0, improvement_surcharge=0.3, total_amount=47.25),\n",
       " Row(VendorID=1.0, tpep_pickup_datetime=datetime.datetime(2017, 12, 1, 22, 37, 32), tpep_dropoff_datetime=datetime.datetime(2017, 12, 1, 23, 1, 5), passenger_count=1.0, trip_distance=12.3, RatecodeID=4.0, store_and_fwd_flag='N', PULocationID=138.0, DOLocationID=265.0, payment_type=1.0, fare_amount=39.0, extra=0.5, mta_tax=0.5, tip_amount=8.05, tolls_amount=0.0, improvement_surcharge=0.3, total_amount=48.35),\n",
       " Row(VendorID=1.0, tpep_pickup_datetime=datetime.datetime(2017, 12, 1, 22, 7, 40), tpep_dropoff_datetime=datetime.datetime(2017, 12, 1, 22, 23, 10), passenger_count=1.0, trip_distance=7.2, RatecodeID=4.0, store_and_fwd_flag='N', PULocationID=153.0, DOLocationID=265.0, payment_type=1.0, fare_amount=30.0, extra=0.5, mta_tax=0.5, tip_amount=6.25, tolls_amount=0.0, improvement_surcharge=0.3, total_amount=37.55),\n",
       " Row(VendorID=1.0, tpep_pickup_datetime=datetime.datetime(2017, 12, 1, 22, 35, 28), tpep_dropoff_datetime=datetime.datetime(2017, 12, 1, 23, 46, 38), passenger_count=1.0, trip_distance=35.4, RatecodeID=4.0, store_and_fwd_flag='N', PULocationID=231.0, DOLocationID=265.0, payment_type=1.0, fare_amount=144.5, extra=0.5, mta_tax=0.5, tip_amount=20.0, tolls_amount=0.0, improvement_surcharge=0.3, total_amount=165.8),\n",
       " Row(VendorID=1.0, tpep_pickup_datetime=datetime.datetime(2017, 12, 1, 22, 55, 23), tpep_dropoff_datetime=datetime.datetime(2017, 12, 1, 23, 31, 6), passenger_count=1.0, trip_distance=20.0, RatecodeID=4.0, store_and_fwd_flag='N', PULocationID=138.0, DOLocationID=265.0, payment_type=2.0, fare_amount=78.5, extra=0.5, mta_tax=0.5, tip_amount=0.0, tolls_amount=0.0, improvement_surcharge=0.3, total_amount=79.8),\n",
       " Row(VendorID=1.0, tpep_pickup_datetime=datetime.datetime(2017, 12, 1, 22, 55, 23), tpep_dropoff_datetime=datetime.datetime(2017, 12, 1, 22, 55, 37), passenger_count=1.0, trip_distance=0.8, RatecodeID=4.0, store_and_fwd_flag='N', PULocationID=230.0, DOLocationID=230.0, payment_type=2.0, fare_amount=0.0, extra=0.5, mta_tax=0.5, tip_amount=0.0, tolls_amount=0.0, improvement_surcharge=0.3, total_amount=1.3),\n",
       " Row(VendorID=1.0, tpep_pickup_datetime=datetime.datetime(2017, 12, 1, 22, 0, 9), tpep_dropoff_datetime=datetime.datetime(2017, 12, 1, 22, 0, 9), passenger_count=1.0, trip_distance=0.0, RatecodeID=4.0, store_and_fwd_flag='N', PULocationID=164.0, DOLocationID=264.0, payment_type=2.0, fare_amount=16.5, extra=0.5, mta_tax=0.5, tip_amount=0.0, tolls_amount=0.0, improvement_surcharge=0.3, total_amount=17.8),\n",
       " Row(VendorID=2.0, tpep_pickup_datetime=datetime.datetime(2017, 12, 1, 22, 32, 26), tpep_dropoff_datetime=datetime.datetime(2017, 12, 1, 22, 49, 52), passenger_count=4.0, trip_distance=4.79, RatecodeID=4.0, store_and_fwd_flag='N', PULocationID=144.0, DOLocationID=265.0, payment_type=2.0, fare_amount=25.0, extra=0.5, mta_tax=0.5, tip_amount=0.0, tolls_amount=10.5, improvement_surcharge=0.3, total_amount=36.8),\n",
       " Row(VendorID=1.0, tpep_pickup_datetime=datetime.datetime(2017, 12, 1, 22, 57, 22), tpep_dropoff_datetime=datetime.datetime(2017, 12, 1, 23, 10, 53), passenger_count=1.0, trip_distance=6.5, RatecodeID=4.0, store_and_fwd_flag='N', PULocationID=132.0, DOLocationID=265.0, payment_type=1.0, fare_amount=20.0, extra=0.5, mta_tax=0.5, tip_amount=0.0, tolls_amount=0.0, improvement_surcharge=0.3, total_amount=21.3),\n",
       " Row(VendorID=1.0, tpep_pickup_datetime=datetime.datetime(2017, 12, 1, 22, 30, 12), tpep_dropoff_datetime=datetime.datetime(2017, 12, 1, 22, 37, 16), passenger_count=1.0, trip_distance=1.3, RatecodeID=4.0, store_and_fwd_flag='N', PULocationID=42.0, DOLocationID=41.0, payment_type=2.0, fare_amount=11.5, extra=0.5, mta_tax=0.5, tip_amount=0.0, tolls_amount=0.0, improvement_surcharge=0.3, total_amount=12.8),\n",
       " Row(VendorID=2.0, tpep_pickup_datetime=datetime.datetime(2017, 12, 1, 23, 38, 30), tpep_dropoff_datetime=datetime.datetime(2017, 12, 1, 23, 57, 34), passenger_count=1.0, trip_distance=13.78, RatecodeID=4.0, store_and_fwd_flag='N', PULocationID=10.0, DOLocationID=265.0, payment_type=1.0, fare_amount=55.0, extra=0.5, mta_tax=0.5, tip_amount=6.0, tolls_amount=0.0, improvement_surcharge=0.3, total_amount=62.3),\n",
       " Row(VendorID=1.0, tpep_pickup_datetime=datetime.datetime(2017, 12, 1, 23, 36, 44), tpep_dropoff_datetime=datetime.datetime(2017, 12, 2, 0, 11, 59), passenger_count=1.0, trip_distance=28.7, RatecodeID=4.0, store_and_fwd_flag='N', PULocationID=138.0, DOLocationID=265.0, payment_type=3.0, fare_amount=115.0, extra=0.5, mta_tax=0.5, tip_amount=0.0, tolls_amount=0.0, improvement_surcharge=0.3, total_amount=116.3),\n",
       " Row(VendorID=2.0, tpep_pickup_datetime=datetime.datetime(2017, 12, 1, 23, 59, 35), tpep_dropoff_datetime=datetime.datetime(2017, 12, 2, 0, 35, 50), passenger_count=1.0, trip_distance=22.42, RatecodeID=4.0, store_and_fwd_flag='N', PULocationID=138.0, DOLocationID=265.0, payment_type=1.0, fare_amount=87.0, extra=0.5, mta_tax=0.5, tip_amount=17.66, tolls_amount=0.0, improvement_surcharge=0.3, total_amount=105.96),\n",
       " Row(VendorID=2.0, tpep_pickup_datetime=datetime.datetime(2017, 12, 1, 23, 29, 41), tpep_dropoff_datetime=datetime.datetime(2017, 12, 1, 23, 47), passenger_count=1.0, trip_distance=12.08, RatecodeID=4.0, store_and_fwd_flag='N', PULocationID=262.0, DOLocationID=265.0, payment_type=2.0, fare_amount=34.0, extra=0.5, mta_tax=0.5, tip_amount=0.0, tolls_amount=0.0, improvement_surcharge=0.3, total_amount=35.3),\n",
       " Row(VendorID=2.0, tpep_pickup_datetime=datetime.datetime(2017, 12, 1, 23, 19, 10), tpep_dropoff_datetime=datetime.datetime(2017, 12, 2, 0, 18, 31), passenger_count=1.0, trip_distance=25.95, RatecodeID=4.0, store_and_fwd_flag='N', PULocationID=140.0, DOLocationID=265.0, payment_type=1.0, fare_amount=83.5, extra=0.5, mta_tax=0.5, tip_amount=18.11, tolls_amount=5.76, improvement_surcharge=0.3, total_amount=108.67),\n",
       " Row(VendorID=2.0, tpep_pickup_datetime=datetime.datetime(2017, 12, 1, 23, 46, 31), tpep_dropoff_datetime=datetime.datetime(2017, 12, 2, 0, 25, 36), passenger_count=6.0, trip_distance=27.54, RatecodeID=4.0, store_and_fwd_flag='N', PULocationID=132.0, DOLocationID=265.0, payment_type=1.0, fare_amount=91.0, extra=0.5, mta_tax=0.5, tip_amount=19.61, tolls_amount=5.76, improvement_surcharge=0.3, total_amount=117.67),\n",
       " Row(VendorID=2.0, tpep_pickup_datetime=datetime.datetime(2017, 12, 1, 23, 51, 37), tpep_dropoff_datetime=datetime.datetime(2017, 12, 2, 0, 26, 23), passenger_count=1.0, trip_distance=7.52, RatecodeID=4.0, store_and_fwd_flag='N', PULocationID=229.0, DOLocationID=265.0, payment_type=1.0, fare_amount=34.5, extra=0.5, mta_tax=0.5, tip_amount=13.89, tolls_amount=10.5, improvement_surcharge=0.3, total_amount=60.19),\n",
       " Row(VendorID=1.0, tpep_pickup_datetime=datetime.datetime(2017, 12, 1, 23, 33, 44), tpep_dropoff_datetime=datetime.datetime(2017, 12, 2, 0, 44, 24), passenger_count=6.0, trip_distance=21.9, RatecodeID=4.0, store_and_fwd_flag='N', PULocationID=114.0, DOLocationID=265.0, payment_type=1.0, fare_amount=82.0, extra=0.5, mta_tax=0.5, tip_amount=17.8, tolls_amount=5.76, improvement_surcharge=0.3, total_amount=106.86),\n",
       " Row(VendorID=2.0, tpep_pickup_datetime=datetime.datetime(2017, 12, 2, 0, 51, 3), tpep_dropoff_datetime=datetime.datetime(2017, 12, 2, 1, 21, 42), passenger_count=6.0, trip_distance=16.49, RatecodeID=4.0, store_and_fwd_flag='N', PULocationID=229.0, DOLocationID=265.0, payment_type=2.0, fare_amount=50.5, extra=0.5, mta_tax=0.5, tip_amount=0.0, tolls_amount=5.76, improvement_surcharge=0.3, total_amount=57.56),\n",
       " Row(VendorID=2.0, tpep_pickup_datetime=datetime.datetime(2017, 12, 2, 0, 47, 27), tpep_dropoff_datetime=datetime.datetime(2017, 12, 2, 1, 21, 35), passenger_count=1.0, trip_distance=14.83, RatecodeID=4.0, store_and_fwd_flag='N', PULocationID=230.0, DOLocationID=265.0, payment_type=1.0, fare_amount=44.5, extra=0.5, mta_tax=0.5, tip_amount=11.45, tolls_amount=0.0, improvement_surcharge=0.3, total_amount=57.25),\n",
       " Row(VendorID=1.0, tpep_pickup_datetime=datetime.datetime(2017, 12, 2, 0, 28, 37), tpep_dropoff_datetime=datetime.datetime(2017, 12, 2, 1, 18, 24), passenger_count=1.0, trip_distance=19.1, RatecodeID=4.0, store_and_fwd_flag='N', PULocationID=162.0, DOLocationID=265.0, payment_type=1.0, fare_amount=66.0, extra=0.5, mta_tax=0.5, tip_amount=20.15, tolls_amount=0.0, improvement_surcharge=0.3, total_amount=87.45),\n",
       " Row(VendorID=1.0, tpep_pickup_datetime=datetime.datetime(2017, 12, 2, 0, 22, 19), tpep_dropoff_datetime=datetime.datetime(2017, 12, 2, 0, 22, 48), passenger_count=1.0, trip_distance=0.0, RatecodeID=4.0, store_and_fwd_flag='N', PULocationID=265.0, DOLocationID=265.0, payment_type=3.0, fare_amount=0.0, extra=0.5, mta_tax=0.5, tip_amount=0.0, tolls_amount=0.0, improvement_surcharge=0.3, total_amount=1.3),\n",
       " Row(VendorID=1.0, tpep_pickup_datetime=datetime.datetime(2017, 12, 2, 0, 23, 22), tpep_dropoff_datetime=datetime.datetime(2017, 12, 2, 0, 23, 48), passenger_count=1.0, trip_distance=0.0, RatecodeID=4.0, store_and_fwd_flag='N', PULocationID=265.0, DOLocationID=265.0, payment_type=3.0, fare_amount=0.0, extra=0.5, mta_tax=0.5, tip_amount=0.0, tolls_amount=0.0, improvement_surcharge=0.3, total_amount=1.3),\n",
       " Row(VendorID=1.0, tpep_pickup_datetime=datetime.datetime(2017, 12, 2, 0, 2, 4), tpep_dropoff_datetime=datetime.datetime(2017, 12, 2, 0, 22, 28), passenger_count=1.0, trip_distance=9.5, RatecodeID=4.0, store_and_fwd_flag='N', PULocationID=132.0, DOLocationID=265.0, payment_type=2.0, fare_amount=40.0, extra=0.5, mta_tax=0.5, tip_amount=0.0, tolls_amount=0.0, improvement_surcharge=0.3, total_amount=41.3),\n",
       " Row(VendorID=2.0, tpep_pickup_datetime=datetime.datetime(2017, 12, 2, 0, 52, 8), tpep_dropoff_datetime=datetime.datetime(2017, 12, 2, 1, 19, 47), passenger_count=1.0, trip_distance=15.54, RatecodeID=4.0, store_and_fwd_flag='N', PULocationID=138.0, DOLocationID=265.0, payment_type=1.0, fare_amount=50.0, extra=0.5, mta_tax=0.5, tip_amount=7.0, tolls_amount=5.76, improvement_surcharge=0.3, total_amount=64.06),\n",
       " Row(VendorID=2.0, tpep_pickup_datetime=datetime.datetime(2017, 12, 2, 0, 57, 51), tpep_dropoff_datetime=datetime.datetime(2017, 12, 2, 1, 29, 12), passenger_count=1.0, trip_distance=15.61, RatecodeID=4.0, store_and_fwd_flag='N', PULocationID=229.0, DOLocationID=265.0, payment_type=1.0, fare_amount=56.0, extra=0.5, mta_tax=0.5, tip_amount=0.0, tolls_amount=0.0, improvement_surcharge=0.3, total_amount=57.3),\n",
       " Row(VendorID=1.0, tpep_pickup_datetime=datetime.datetime(2017, 12, 2, 0, 19, 36), tpep_dropoff_datetime=datetime.datetime(2017, 12, 2, 0, 45, 2), passenger_count=1.0, trip_distance=17.3, RatecodeID=4.0, store_and_fwd_flag='N', PULocationID=241.0, DOLocationID=265.0, payment_type=1.0, fare_amount=81.5, extra=0.5, mta_tax=0.5, tip_amount=0.0, tolls_amount=0.0, improvement_surcharge=0.3, total_amount=82.8),\n",
       " Row(VendorID=2.0, tpep_pickup_datetime=datetime.datetime(2017, 12, 2, 1, 26, 43), tpep_dropoff_datetime=datetime.datetime(2017, 12, 2, 2, 7, 28), passenger_count=1.0, trip_distance=24.15, RatecodeID=4.0, store_and_fwd_flag='N', PULocationID=50.0, DOLocationID=265.0, payment_type=1.0, fare_amount=81.0, extra=0.5, mta_tax=0.5, tip_amount=16.46, tolls_amount=0.0, improvement_surcharge=0.3, total_amount=98.76),\n",
       " Row(VendorID=1.0, tpep_pickup_datetime=datetime.datetime(2017, 12, 2, 1, 4, 34), tpep_dropoff_datetime=datetime.datetime(2017, 12, 2, 1, 5), passenger_count=1.0, trip_distance=1.1, RatecodeID=4.0, store_and_fwd_flag='N', PULocationID=265.0, DOLocationID=265.0, payment_type=2.0, fare_amount=0.0, extra=0.5, mta_tax=0.5, tip_amount=0.0, tolls_amount=0.0, improvement_surcharge=0.3, total_amount=1.3),\n",
       " Row(VendorID=2.0, tpep_pickup_datetime=datetime.datetime(2017, 12, 2, 1, 1, 14), tpep_dropoff_datetime=datetime.datetime(2017, 12, 2, 1, 51, 39), passenger_count=1.0, trip_distance=26.89, RatecodeID=4.0, store_and_fwd_flag='N', PULocationID=148.0, DOLocationID=265.0, payment_type=1.0, fare_amount=99.0, extra=0.5, mta_tax=0.5, tip_amount=30.09, tolls_amount=0.0, improvement_surcharge=0.3, total_amount=130.39),\n",
       " Row(VendorID=2.0, tpep_pickup_datetime=datetime.datetime(2017, 12, 2, 1, 11, 10), tpep_dropoff_datetime=datetime.datetime(2017, 12, 2, 1, 53, 16), passenger_count=2.0, trip_distance=22.79, RatecodeID=4.0, store_and_fwd_flag='N', PULocationID=100.0, DOLocationID=265.0, payment_type=1.0, fare_amount=76.0, extra=0.5, mta_tax=0.5, tip_amount=0.0, tolls_amount=5.76, improvement_surcharge=0.3, total_amount=83.06),\n",
       " Row(VendorID=1.0, tpep_pickup_datetime=datetime.datetime(2017, 12, 2, 1, 28, 10), tpep_dropoff_datetime=datetime.datetime(2017, 12, 2, 2, 3, 35), passenger_count=1.0, trip_distance=23.4, RatecodeID=4.0, store_and_fwd_flag='N', PULocationID=88.0, DOLocationID=265.0, payment_type=1.0, fare_amount=72.5, extra=0.5, mta_tax=0.5, tip_amount=15.9, tolls_amount=5.76, improvement_surcharge=0.3, total_amount=95.46),\n",
       " Row(VendorID=2.0, tpep_pickup_datetime=datetime.datetime(2017, 12, 2, 2, 32, 16), tpep_dropoff_datetime=datetime.datetime(2017, 12, 2, 3, 18, 30), passenger_count=2.0, trip_distance=24.6, RatecodeID=4.0, store_and_fwd_flag='N', PULocationID=148.0, DOLocationID=265.0, payment_type=2.0, fare_amount=89.5, extra=0.5, mta_tax=0.5, tip_amount=0.0, tolls_amount=0.0, improvement_surcharge=0.3, total_amount=90.8),\n",
       " Row(VendorID=1.0, tpep_pickup_datetime=datetime.datetime(2017, 12, 2, 2, 12, 12), tpep_dropoff_datetime=datetime.datetime(2017, 12, 2, 2, 51, 30), passenger_count=1.0, trip_distance=19.2, RatecodeID=4.0, store_and_fwd_flag='N', PULocationID=113.0, DOLocationID=265.0, payment_type=1.0, fare_amount=59.5, extra=0.5, mta_tax=0.5, tip_amount=15.0, tolls_amount=0.0, improvement_surcharge=0.3, total_amount=75.8),\n",
       " Row(VendorID=1.0, tpep_pickup_datetime=datetime.datetime(2017, 12, 2, 2, 27, 57), tpep_dropoff_datetime=datetime.datetime(2017, 12, 2, 3, 20, 8), passenger_count=2.0, trip_distance=30.2, RatecodeID=4.0, store_and_fwd_flag='Y', PULocationID=100.0, DOLocationID=265.0, payment_type=2.0, fare_amount=120.5, extra=0.5, mta_tax=0.5, tip_amount=0.0, tolls_amount=2.64, improvement_surcharge=0.3, total_amount=124.44),\n",
       " Row(VendorID=1.0, tpep_pickup_datetime=datetime.datetime(2017, 12, 2, 2, 20, 14), tpep_dropoff_datetime=datetime.datetime(2017, 12, 2, 2, 33, 8), passenger_count=1.0, trip_distance=2.9, RatecodeID=4.0, store_and_fwd_flag='N', PULocationID=158.0, DOLocationID=142.0, payment_type=1.0, fare_amount=11.5, extra=0.5, mta_tax=0.5, tip_amount=2.55, tolls_amount=0.0, improvement_surcharge=0.3, total_amount=15.35),\n",
       " Row(VendorID=2.0, tpep_pickup_datetime=datetime.datetime(2017, 12, 2, 2, 54, 12), tpep_dropoff_datetime=datetime.datetime(2017, 12, 2, 4, 2, 54), passenger_count=6.0, trip_distance=30.09, RatecodeID=4.0, store_and_fwd_flag='N', PULocationID=95.0, DOLocationID=265.0, payment_type=2.0, fare_amount=143.0, extra=0.5, mta_tax=0.5, tip_amount=0.0, tolls_amount=0.0, improvement_surcharge=0.3, total_amount=144.3),\n",
       " Row(VendorID=2.0, tpep_pickup_datetime=datetime.datetime(2017, 12, 2, 2, 55, 25), tpep_dropoff_datetime=datetime.datetime(2017, 12, 2, 3, 26, 10), passenger_count=1.0, trip_distance=17.71, RatecodeID=4.0, store_and_fwd_flag='N', PULocationID=162.0, DOLocationID=265.0, payment_type=1.0, fare_amount=57.5, extra=0.5, mta_tax=0.5, tip_amount=0.0, tolls_amount=0.0, improvement_surcharge=0.3, total_amount=58.8),\n",
       " Row(VendorID=2.0, tpep_pickup_datetime=datetime.datetime(2017, 12, 2, 2, 2, 50), tpep_dropoff_datetime=datetime.datetime(2017, 12, 2, 2, 32, 43), passenger_count=1.0, trip_distance=19.31, RatecodeID=4.0, store_and_fwd_flag='N', PULocationID=234.0, DOLocationID=265.0, payment_type=2.0, fare_amount=60.0, extra=0.5, mta_tax=0.5, tip_amount=0.0, tolls_amount=5.76, improvement_surcharge=0.3, total_amount=67.06),\n",
       " Row(VendorID=1.0, tpep_pickup_datetime=datetime.datetime(2017, 12, 2, 2, 38, 48), tpep_dropoff_datetime=datetime.datetime(2017, 12, 2, 3, 8, 54), passenger_count=1.0, trip_distance=17.0, RatecodeID=4.0, store_and_fwd_flag='N', PULocationID=186.0, DOLocationID=265.0, payment_type=1.0, fare_amount=53.0, extra=0.5, mta_tax=0.5, tip_amount=10.85, tolls_amount=0.0, improvement_surcharge=0.3, total_amount=65.15),\n",
       " Row(VendorID=1.0, tpep_pickup_datetime=datetime.datetime(2017, 12, 2, 2, 21, 58), tpep_dropoff_datetime=datetime.datetime(2017, 12, 2, 3, 3, 5), passenger_count=1.0, trip_distance=22.8, RatecodeID=4.0, store_and_fwd_flag='N', PULocationID=162.0, DOLocationID=265.0, payment_type=2.0, fare_amount=79.0, extra=0.5, mta_tax=0.5, tip_amount=0.0, tolls_amount=1.75, improvement_surcharge=0.3, total_amount=82.05),\n",
       " Row(VendorID=1.0, tpep_pickup_datetime=datetime.datetime(2017, 12, 2, 2, 43, 53), tpep_dropoff_datetime=datetime.datetime(2017, 12, 2, 3, 33, 38), passenger_count=1.0, trip_distance=29.0, RatecodeID=4.0, store_and_fwd_flag='N', PULocationID=148.0, DOLocationID=265.0, payment_type=2.0, fare_amount=105.0, extra=0.5, mta_tax=0.5, tip_amount=0.0, tolls_amount=5.76, improvement_surcharge=0.3, total_amount=112.06),\n",
       " Row(VendorID=1.0, tpep_pickup_datetime=datetime.datetime(2017, 12, 2, 2, 46, 47), tpep_dropoff_datetime=datetime.datetime(2017, 12, 2, 2, 47, 12), passenger_count=1.0, trip_distance=0.0, RatecodeID=4.0, store_and_fwd_flag='N', PULocationID=50.0, DOLocationID=50.0, payment_type=4.0, fare_amount=0.0, extra=0.5, mta_tax=0.5, tip_amount=0.0, tolls_amount=0.0, improvement_surcharge=0.3, total_amount=1.3),\n",
       " Row(VendorID=2.0, tpep_pickup_datetime=datetime.datetime(2017, 12, 2, 3, 11, 30), tpep_dropoff_datetime=datetime.datetime(2017, 12, 2, 3, 48, 30), passenger_count=1.0, trip_distance=15.53, RatecodeID=4.0, store_and_fwd_flag='N', PULocationID=236.0, DOLocationID=265.0, payment_type=2.0, fare_amount=53.0, extra=0.5, mta_tax=0.5, tip_amount=0.0, tolls_amount=2.64, improvement_surcharge=0.3, total_amount=56.94),\n",
       " Row(VendorID=1.0, tpep_pickup_datetime=datetime.datetime(2017, 12, 2, 4, 14, 10), tpep_dropoff_datetime=datetime.datetime(2017, 12, 2, 4, 31, 2), passenger_count=1.0, trip_distance=13.2, RatecodeID=4.0, store_and_fwd_flag='N', PULocationID=132.0, DOLocationID=265.0, payment_type=1.0, fare_amount=53.0, extra=0.5, mta_tax=0.5, tip_amount=5.55, tolls_amount=0.0, improvement_surcharge=0.3, total_amount=59.85),\n",
       " Row(VendorID=2.0, tpep_pickup_datetime=datetime.datetime(2017, 12, 2, 4, 22, 41), tpep_dropoff_datetime=datetime.datetime(2017, 12, 2, 4, 49, 56), passenger_count=1.0, trip_distance=20.5, RatecodeID=4.0, store_and_fwd_flag='N', PULocationID=148.0, DOLocationID=38.0, payment_type=1.0, fare_amount=61.5, extra=0.5, mta_tax=0.5, tip_amount=0.0, tolls_amount=0.0, improvement_surcharge=0.3, total_amount=62.8),\n",
       " Row(VendorID=2.0, tpep_pickup_datetime=datetime.datetime(2017, 12, 2, 4, 14, 26), tpep_dropoff_datetime=datetime.datetime(2017, 12, 2, 5, 4, 51), passenger_count=1.0, trip_distance=25.16, RatecodeID=4.0, store_and_fwd_flag='N', PULocationID=148.0, DOLocationID=265.0, payment_type=1.0, fare_amount=81.0, extra=0.5, mta_tax=0.5, tip_amount=0.0, tolls_amount=0.0, improvement_surcharge=0.3, total_amount=82.3),\n",
       " Row(VendorID=2.0, tpep_pickup_datetime=datetime.datetime(2017, 12, 2, 4, 13, 5), tpep_dropoff_datetime=datetime.datetime(2017, 12, 2, 5, 1, 53), passenger_count=1.0, trip_distance=40.43, RatecodeID=4.0, store_and_fwd_flag='N', PULocationID=132.0, DOLocationID=265.0, payment_type=1.0, fare_amount=154.5, extra=0.5, mta_tax=0.5, tip_amount=18.44, tolls_amount=5.76, improvement_surcharge=0.3, total_amount=180.0),\n",
       " Row(VendorID=1.0, tpep_pickup_datetime=datetime.datetime(2017, 12, 2, 5, 58, 47), tpep_dropoff_datetime=datetime.datetime(2017, 12, 2, 6, 47, 39), passenger_count=1.0, trip_distance=27.6, RatecodeID=4.0, store_and_fwd_flag='N', PULocationID=132.0, DOLocationID=265.0, payment_type=2.0, fare_amount=95.5, extra=0.0, mta_tax=0.5, tip_amount=0.0, tolls_amount=8.76, improvement_surcharge=0.3, total_amount=105.06),\n",
       " Row(VendorID=2.0, tpep_pickup_datetime=datetime.datetime(2017, 12, 2, 4, 59, 16), tpep_dropoff_datetime=datetime.datetime(2017, 12, 2, 5, 25, 15), passenger_count=1.0, trip_distance=14.54, RatecodeID=4.0, store_and_fwd_flag='N', PULocationID=230.0, DOLocationID=265.0, payment_type=2.0, fare_amount=42.0, extra=0.5, mta_tax=0.5, tip_amount=0.0, tolls_amount=0.0, improvement_surcharge=0.3, total_amount=43.3),\n",
       " Row(VendorID=1.0, tpep_pickup_datetime=datetime.datetime(2017, 12, 2, 5, 43, 8), tpep_dropoff_datetime=datetime.datetime(2017, 12, 2, 6, 29, 57), passenger_count=1.0, trip_distance=34.8, RatecodeID=4.0, store_and_fwd_flag='N', PULocationID=132.0, DOLocationID=265.0, payment_type=1.0, fare_amount=128.5, extra=0.5, mta_tax=0.5, tip_amount=27.1, tolls_amount=5.76, improvement_surcharge=0.3, total_amount=162.66),\n",
       " Row(VendorID=2.0, tpep_pickup_datetime=datetime.datetime(2017, 12, 2, 5, 3, 57), tpep_dropoff_datetime=datetime.datetime(2017, 12, 2, 5, 23, 19), passenger_count=1.0, trip_distance=8.61, RatecodeID=4.0, store_and_fwd_flag='N', PULocationID=116.0, DOLocationID=265.0, payment_type=1.0, fare_amount=28.5, extra=0.5, mta_tax=0.5, tip_amount=1.62, tolls_amount=2.64, improvement_surcharge=0.3, total_amount=34.06),\n",
       " Row(VendorID=1.0, tpep_pickup_datetime=datetime.datetime(2017, 12, 2, 5, 24, 27), tpep_dropoff_datetime=datetime.datetime(2017, 12, 2, 5, 24, 33), passenger_count=1.0, trip_distance=0.0, RatecodeID=4.0, store_and_fwd_flag='N', PULocationID=132.0, DOLocationID=132.0, payment_type=2.0, fare_amount=0.0, extra=0.5, mta_tax=0.5, tip_amount=0.0, tolls_amount=0.0, improvement_surcharge=0.3, total_amount=1.3),\n",
       " Row(VendorID=2.0, tpep_pickup_datetime=datetime.datetime(2017, 12, 2, 5, 44, 45), tpep_dropoff_datetime=datetime.datetime(2017, 12, 2, 6, 58, 18), passenger_count=1.0, trip_distance=32.31, RatecodeID=4.0, store_and_fwd_flag='N', PULocationID=132.0, DOLocationID=1.0, payment_type=2.0, fare_amount=120.5, extra=0.5, mta_tax=0.5, tip_amount=0.0, tolls_amount=10.5, improvement_surcharge=0.3, total_amount=132.3),\n",
       " Row(VendorID=1.0, tpep_pickup_datetime=datetime.datetime(2017, 12, 2, 6, 48, 55), tpep_dropoff_datetime=datetime.datetime(2017, 12, 2, 7, 18, 38), passenger_count=1.0, trip_distance=19.0, RatecodeID=4.0, store_and_fwd_flag='N', PULocationID=132.0, DOLocationID=265.0, payment_type=1.0, fare_amount=67.5, extra=0.0, mta_tax=0.5, tip_amount=13.65, tolls_amount=0.0, improvement_surcharge=0.3, total_amount=81.95),\n",
       " Row(VendorID=1.0, tpep_pickup_datetime=datetime.datetime(2017, 12, 2, 6, 14, 21), tpep_dropoff_datetime=datetime.datetime(2017, 12, 2, 6, 26, 59), passenger_count=1.0, trip_distance=5.8, RatecodeID=4.0, store_and_fwd_flag='N', PULocationID=132.0, DOLocationID=265.0, payment_type=2.0, fare_amount=19.0, extra=0.0, mta_tax=0.5, tip_amount=0.0, tolls_amount=0.0, improvement_surcharge=0.3, total_amount=19.8),\n",
       " Row(VendorID=1.0, tpep_pickup_datetime=datetime.datetime(2017, 12, 2, 6, 57, 41), tpep_dropoff_datetime=datetime.datetime(2017, 12, 2, 7, 23, 27), passenger_count=1.0, trip_distance=10.3, RatecodeID=4.0, store_and_fwd_flag='N', PULocationID=132.0, DOLocationID=265.0, payment_type=1.0, fare_amount=45.5, extra=0.0, mta_tax=0.5, tip_amount=9.25, tolls_amount=0.0, improvement_surcharge=0.3, total_amount=55.55),\n",
       " Row(VendorID=2.0, tpep_pickup_datetime=datetime.datetime(2017, 12, 2, 6, 7, 31), tpep_dropoff_datetime=datetime.datetime(2017, 12, 2, 7, 15, 9), passenger_count=1.0, trip_distance=44.58, RatecodeID=4.0, store_and_fwd_flag='N', PULocationID=164.0, DOLocationID=265.0, payment_type=1.0, fare_amount=228.5, extra=0.0, mta_tax=0.5, tip_amount=50.56, tolls_amount=23.5, improvement_surcharge=0.3, total_amount=303.36),\n",
       " Row(VendorID=1.0, tpep_pickup_datetime=datetime.datetime(2017, 12, 2, 6, 10, 31), tpep_dropoff_datetime=datetime.datetime(2017, 12, 2, 6, 34, 37), passenger_count=1.0, trip_distance=13.0, RatecodeID=4.0, store_and_fwd_flag='N', PULocationID=132.0, DOLocationID=265.0, payment_type=2.0, fare_amount=35.5, extra=0.0, mta_tax=0.5, tip_amount=0.0, tolls_amount=0.0, improvement_surcharge=0.3, total_amount=36.3),\n",
       " Row(VendorID=2.0, tpep_pickup_datetime=datetime.datetime(2017, 12, 2, 6, 55, 16), tpep_dropoff_datetime=datetime.datetime(2017, 12, 2, 7, 22, 56), passenger_count=1.0, trip_distance=18.73, RatecodeID=4.0, store_and_fwd_flag='N', PULocationID=132.0, DOLocationID=265.0, payment_type=1.0, fare_amount=66.0, extra=0.0, mta_tax=0.5, tip_amount=13.36, tolls_amount=0.0, improvement_surcharge=0.3, total_amount=80.16),\n",
       " Row(VendorID=2.0, tpep_pickup_datetime=datetime.datetime(2017, 12, 2, 7, 51, 20), tpep_dropoff_datetime=datetime.datetime(2017, 12, 2, 8, 17, 18), passenger_count=1.0, trip_distance=9.59, RatecodeID=4.0, store_and_fwd_flag='N', PULocationID=132.0, DOLocationID=265.0, payment_type=1.0, fare_amount=40.0, extra=0.0, mta_tax=0.5, tip_amount=8.16, tolls_amount=0.0, improvement_surcharge=0.3, total_amount=48.96),\n",
       " Row(VendorID=1.0, tpep_pickup_datetime=datetime.datetime(2017, 12, 2, 7, 41, 11), tpep_dropoff_datetime=datetime.datetime(2017, 12, 2, 8, 16, 44), passenger_count=1.0, trip_distance=31.5, RatecodeID=4.0, store_and_fwd_flag='N', PULocationID=132.0, DOLocationID=265.0, payment_type=1.0, fare_amount=99.0, extra=0.0, mta_tax=0.5, tip_amount=18.0, tolls_amount=7.51, improvement_surcharge=0.3, total_amount=125.31),\n",
       " Row(VendorID=1.0, tpep_pickup_datetime=datetime.datetime(2017, 12, 2, 7, 21, 50), tpep_dropoff_datetime=datetime.datetime(2017, 12, 2, 7, 45, 24), passenger_count=1.0, trip_distance=10.3, RatecodeID=4.0, store_and_fwd_flag='N', PULocationID=132.0, DOLocationID=265.0, payment_type=2.0, fare_amount=44.0, extra=0.0, mta_tax=0.5, tip_amount=0.0, tolls_amount=0.0, improvement_surcharge=0.3, total_amount=44.8),\n",
       " Row(VendorID=2.0, tpep_pickup_datetime=datetime.datetime(2017, 12, 2, 7, 58, 47), tpep_dropoff_datetime=datetime.datetime(2017, 12, 2, 8, 27, 23), passenger_count=1.0, trip_distance=23.58, RatecodeID=4.0, store_and_fwd_flag='N', PULocationID=132.0, DOLocationID=265.0, payment_type=2.0, fare_amount=104.5, extra=0.0, mta_tax=0.5, tip_amount=0.0, tolls_amount=0.0, improvement_surcharge=0.3, total_amount=105.3),\n",
       " Row(VendorID=2.0, tpep_pickup_datetime=datetime.datetime(2017, 12, 2, 8, 9, 13), tpep_dropoff_datetime=datetime.datetime(2017, 12, 2, 8, 41, 46), passenger_count=1.0, trip_distance=23.01, RatecodeID=4.0, store_and_fwd_flag='N', PULocationID=132.0, DOLocationID=265.0, payment_type=1.0, fare_amount=69.0, extra=0.0, mta_tax=0.5, tip_amount=5.0, tolls_amount=5.76, improvement_surcharge=0.3, total_amount=80.56),\n",
       " Row(VendorID=2.0, tpep_pickup_datetime=datetime.datetime(2017, 12, 2, 8, 24, 45), tpep_dropoff_datetime=datetime.datetime(2017, 12, 2, 8, 49, 41), passenger_count=6.0, trip_distance=16.87, RatecodeID=4.0, store_and_fwd_flag='N', PULocationID=48.0, DOLocationID=265.0, payment_type=1.0, fare_amount=53.5, extra=0.0, mta_tax=0.5, tip_amount=11.39, tolls_amount=2.64, improvement_surcharge=0.3, total_amount=68.33),\n",
       " Row(VendorID=1.0, tpep_pickup_datetime=datetime.datetime(2017, 12, 2, 9, 59, 59), tpep_dropoff_datetime=datetime.datetime(2017, 12, 2, 10, 29, 59), passenger_count=1.0, trip_distance=24.7, RatecodeID=4.0, store_and_fwd_flag='N', PULocationID=138.0, DOLocationID=265.0, payment_type=2.0, fare_amount=95.5, extra=0.0, mta_tax=0.5, tip_amount=0.0, tolls_amount=0.0, improvement_surcharge=0.3, total_amount=96.3),\n",
       " Row(VendorID=2.0, tpep_pickup_datetime=datetime.datetime(2017, 12, 2, 10, 16, 6), tpep_dropoff_datetime=datetime.datetime(2017, 12, 2, 10, 55, 49), passenger_count=1.0, trip_distance=32.76, RatecodeID=4.0, store_and_fwd_flag='N', PULocationID=132.0, DOLocationID=265.0, payment_type=1.0, fare_amount=151.5, extra=0.0, mta_tax=0.5, tip_amount=38.08, tolls_amount=0.0, improvement_surcharge=0.3, total_amount=190.38),\n",
       " Row(VendorID=2.0, tpep_pickup_datetime=datetime.datetime(2017, 12, 2, 9, 59, 11), tpep_dropoff_datetime=datetime.datetime(2017, 12, 2, 10, 25, 33), passenger_count=1.0, trip_distance=10.42, RatecodeID=4.0, store_and_fwd_flag='N', PULocationID=132.0, DOLocationID=265.0, payment_type=2.0, fare_amount=34.0, extra=0.0, mta_tax=0.5, tip_amount=0.0, tolls_amount=0.0, improvement_surcharge=0.3, total_amount=34.8),\n",
       " Row(VendorID=1.0, tpep_pickup_datetime=datetime.datetime(2017, 12, 2, 10, 45, 43), tpep_dropoff_datetime=datetime.datetime(2017, 12, 2, 10, 46, 58), passenger_count=1.0, trip_distance=0.0, RatecodeID=4.0, store_and_fwd_flag='N', PULocationID=265.0, DOLocationID=265.0, payment_type=3.0, fare_amount=2.0, extra=0.0, mta_tax=0.5, tip_amount=0.0, tolls_amount=0.0, improvement_surcharge=0.3, total_amount=2.8),\n",
       " Row(VendorID=2.0, tpep_pickup_datetime=datetime.datetime(2017, 12, 2, 10, 53, 53), tpep_dropoff_datetime=datetime.datetime(2017, 12, 2, 11, 25, 32), passenger_count=1.0, trip_distance=21.92, RatecodeID=4.0, store_and_fwd_flag='N', PULocationID=138.0, DOLocationID=265.0, payment_type=2.0, fare_amount=69.5, extra=0.0, mta_tax=0.5, tip_amount=0.0, tolls_amount=0.0, improvement_surcharge=0.3, total_amount=70.3),\n",
       " Row(VendorID=1.0, tpep_pickup_datetime=datetime.datetime(2017, 12, 2, 11, 22, 3), tpep_dropoff_datetime=datetime.datetime(2017, 12, 2, 12, 1, 43), passenger_count=1.0, trip_distance=27.5, RatecodeID=4.0, store_and_fwd_flag='N', PULocationID=132.0, DOLocationID=265.0, payment_type=1.0, fare_amount=91.0, extra=0.0, mta_tax=0.5, tip_amount=14.89, tolls_amount=7.51, improvement_surcharge=0.3, total_amount=114.2),\n",
       " Row(VendorID=1.0, tpep_pickup_datetime=datetime.datetime(2017, 12, 2, 11, 36, 11), tpep_dropoff_datetime=datetime.datetime(2017, 12, 2, 11, 49, 56), passenger_count=1.0, trip_distance=6.2, RatecodeID=4.0, store_and_fwd_flag='N', PULocationID=132.0, DOLocationID=265.0, payment_type=2.0, fare_amount=20.5, extra=0.0, mta_tax=0.5, tip_amount=0.0, tolls_amount=0.0, improvement_surcharge=0.3, total_amount=21.3),\n",
       " Row(VendorID=2.0, tpep_pickup_datetime=datetime.datetime(2017, 12, 2, 11, 28, 13), tpep_dropoff_datetime=datetime.datetime(2017, 12, 2, 12, 45, 24), passenger_count=1.0, trip_distance=22.29, RatecodeID=4.0, store_and_fwd_flag='N', PULocationID=107.0, DOLocationID=265.0, payment_type=1.0, fare_amount=79.5, extra=0.0, mta_tax=0.5, tip_amount=24.09, tolls_amount=0.0, improvement_surcharge=0.3, total_amount=104.39),\n",
       " Row(VendorID=2.0, tpep_pickup_datetime=datetime.datetime(2017, 12, 2, 11, 7, 49), tpep_dropoff_datetime=datetime.datetime(2017, 12, 2, 11, 38, 20), passenger_count=1.0, trip_distance=18.73, RatecodeID=4.0, store_and_fwd_flag='N', PULocationID=138.0, DOLocationID=265.0, payment_type=1.0, fare_amount=63.0, extra=0.0, mta_tax=0.5, tip_amount=17.39, tolls_amount=5.76, improvement_surcharge=0.3, total_amount=86.95),\n",
       " Row(VendorID=2.0, tpep_pickup_datetime=datetime.datetime(2017, 12, 2, 11, 19, 51), tpep_dropoff_datetime=datetime.datetime(2017, 12, 2, 12, 4, 24), passenger_count=1.0, trip_distance=10.72, RatecodeID=4.0, store_and_fwd_flag='N', PULocationID=163.0, DOLocationID=265.0, payment_type=1.0, fare_amount=49.5, extra=0.0, mta_tax=0.5, tip_amount=15.7, tolls_amount=12.5, improvement_surcharge=0.3, total_amount=78.5),\n",
       " Row(VendorID=1.0, tpep_pickup_datetime=datetime.datetime(2017, 12, 2, 11, 40, 2), tpep_dropoff_datetime=datetime.datetime(2017, 12, 2, 11, 56, 23), passenger_count=1.0, trip_distance=12.3, RatecodeID=4.0, store_and_fwd_flag='N', PULocationID=223.0, DOLocationID=265.0, payment_type=2.0, fare_amount=35.5, extra=0.0, mta_tax=0.5, tip_amount=0.0, tolls_amount=5.76, improvement_surcharge=0.3, total_amount=42.06),\n",
       " Row(VendorID=2.0, tpep_pickup_datetime=datetime.datetime(2017, 12, 2, 11, 44, 50), tpep_dropoff_datetime=datetime.datetime(2017, 12, 2, 12, 39, 40), passenger_count=1.0, trip_distance=40.11, RatecodeID=4.0, store_and_fwd_flag='N', PULocationID=132.0, DOLocationID=265.0, payment_type=1.0, fare_amount=146.5, extra=0.0, mta_tax=0.5, tip_amount=20.0, tolls_amount=5.76, improvement_surcharge=0.3, total_amount=173.06),\n",
       " Row(VendorID=1.0, tpep_pickup_datetime=datetime.datetime(2017, 12, 2, 11, 50, 16), tpep_dropoff_datetime=datetime.datetime(2017, 12, 2, 12, 25, 17), passenger_count=1.0, trip_distance=17.5, RatecodeID=4.0, store_and_fwd_flag='N', PULocationID=186.0, DOLocationID=265.0, payment_type=1.0, fare_amount=60.5, extra=0.0, mta_tax=0.5, tip_amount=12.75, tolls_amount=2.64, improvement_surcharge=0.3, total_amount=76.69),\n",
       " Row(VendorID=2.0, tpep_pickup_datetime=datetime.datetime(2017, 12, 2, 11, 49, 56), tpep_dropoff_datetime=datetime.datetime(2017, 12, 2, 12, 38, 35), passenger_count=1.0, trip_distance=30.96, RatecodeID=4.0, store_and_fwd_flag='N', PULocationID=132.0, DOLocationID=265.0, payment_type=2.0, fare_amount=143.0, extra=0.0, mta_tax=0.5, tip_amount=0.0, tolls_amount=0.0, improvement_surcharge=0.3, total_amount=143.8),\n",
       " Row(VendorID=2.0, tpep_pickup_datetime=datetime.datetime(2017, 12, 2, 11, 36, 25), tpep_dropoff_datetime=datetime.datetime(2017, 12, 2, 12, 4, 59), passenger_count=2.0, trip_distance=18.67, RatecodeID=4.0, store_and_fwd_flag='N', PULocationID=143.0, DOLocationID=259.0, payment_type=2.0, fare_amount=66.0, extra=0.0, mta_tax=0.5, tip_amount=0.0, tolls_amount=2.64, improvement_surcharge=0.3, total_amount=69.44),\n",
       " Row(VendorID=1.0, tpep_pickup_datetime=datetime.datetime(2017, 12, 2, 11, 55, 47), tpep_dropoff_datetime=datetime.datetime(2017, 12, 2, 12, 12, 46), passenger_count=1.0, trip_distance=6.8, RatecodeID=4.0, store_and_fwd_flag='N', PULocationID=132.0, DOLocationID=265.0, payment_type=2.0, fare_amount=27.5, extra=0.0, mta_tax=0.5, tip_amount=0.0, tolls_amount=0.0, improvement_surcharge=0.3, total_amount=28.3),\n",
       " Row(VendorID=1.0, tpep_pickup_datetime=datetime.datetime(2017, 12, 2, 12, 37, 38), tpep_dropoff_datetime=datetime.datetime(2017, 12, 2, 13, 4, 37), passenger_count=1.0, trip_distance=18.9, RatecodeID=4.0, store_and_fwd_flag='N', PULocationID=138.0, DOLocationID=265.0, payment_type=1.0, fare_amount=65.5, extra=0.0, mta_tax=0.5, tip_amount=11.0, tolls_amount=0.0, improvement_surcharge=0.3, total_amount=77.3),\n",
       " Row(VendorID=2.0, tpep_pickup_datetime=datetime.datetime(2017, 12, 2, 12, 0, 50), tpep_dropoff_datetime=datetime.datetime(2017, 12, 2, 12, 29, 42), passenger_count=3.0, trip_distance=16.86, RatecodeID=4.0, store_and_fwd_flag='N', PULocationID=132.0, DOLocationID=265.0, payment_type=1.0, fare_amount=53.5, extra=0.0, mta_tax=0.5, tip_amount=16.29, tolls_amount=0.0, improvement_surcharge=0.3, total_amount=70.59),\n",
       " Row(VendorID=1.0, tpep_pickup_datetime=datetime.datetime(2017, 12, 2, 12, 11, 2), tpep_dropoff_datetime=datetime.datetime(2017, 12, 2, 12, 37, 19), passenger_count=2.0, trip_distance=17.1, RatecodeID=4.0, store_and_fwd_flag='N', PULocationID=138.0, DOLocationID=265.0, payment_type=2.0, fare_amount=56.5, extra=0.0, mta_tax=0.5, tip_amount=0.0, tolls_amount=9.26, improvement_surcharge=0.3, total_amount=66.56),\n",
       " Row(VendorID=2.0, tpep_pickup_datetime=datetime.datetime(2017, 12, 2, 12, 50, 50), tpep_dropoff_datetime=datetime.datetime(2017, 12, 2, 13, 52, 8), passenger_count=2.0, trip_distance=40.1, RatecodeID=4.0, store_and_fwd_flag='N', PULocationID=132.0, DOLocationID=265.0, payment_type=2.0, fare_amount=170.5, extra=0.0, mta_tax=0.5, tip_amount=0.0, tolls_amount=0.0, improvement_surcharge=0.3, total_amount=171.3),\n",
       " Row(VendorID=1.0, tpep_pickup_datetime=datetime.datetime(2017, 12, 2, 13, 13, 46), tpep_dropoff_datetime=datetime.datetime(2017, 12, 2, 13, 58, 44), passenger_count=2.0, trip_distance=29.8, RatecodeID=4.0, store_and_fwd_flag='N', PULocationID=132.0, DOLocationID=265.0, payment_type=1.0, fare_amount=89.0, extra=0.0, mta_tax=0.5, tip_amount=18.0, tolls_amount=5.76, improvement_surcharge=0.3, total_amount=113.56),\n",
       " Row(VendorID=2.0, tpep_pickup_datetime=datetime.datetime(2017, 12, 2, 14, 20, 49), tpep_dropoff_datetime=datetime.datetime(2017, 12, 2, 14, 46, 46), passenger_count=2.0, trip_distance=17.39, RatecodeID=4.0, store_and_fwd_flag='N', PULocationID=138.0, DOLocationID=265.0, payment_type=1.0, fare_amount=58.0, extra=0.0, mta_tax=0.5, tip_amount=13.61, tolls_amount=9.26, improvement_surcharge=0.3, total_amount=81.67),\n",
       " Row(VendorID=1.0, tpep_pickup_datetime=datetime.datetime(2017, 12, 2, 14, 47, 49), tpep_dropoff_datetime=datetime.datetime(2017, 12, 2, 15, 37, 17), passenger_count=1.0, trip_distance=27.6, RatecodeID=4.0, store_and_fwd_flag='N', PULocationID=132.0, DOLocationID=265.0, payment_type=4.0, fare_amount=93.0, extra=0.0, mta_tax=0.5, tip_amount=0.0, tolls_amount=5.76, improvement_surcharge=0.3, total_amount=99.56),\n",
       " Row(VendorID=2.0, tpep_pickup_datetime=datetime.datetime(2017, 12, 2, 14, 2, 13), tpep_dropoff_datetime=datetime.datetime(2017, 12, 2, 14, 38, 10), passenger_count=1.0, trip_distance=22.85, RatecodeID=4.0, store_and_fwd_flag='N', PULocationID=138.0, DOLocationID=265.0, payment_type=1.0, fare_amount=84.0, extra=0.0, mta_tax=0.5, tip_amount=22.64, tolls_amount=5.76, improvement_surcharge=0.3, total_amount=113.2),\n",
       " Row(VendorID=1.0, tpep_pickup_datetime=datetime.datetime(2017, 12, 2, 15, 44, 3), tpep_dropoff_datetime=datetime.datetime(2017, 12, 2, 15, 57, 59), passenger_count=1.0, trip_distance=6.5, RatecodeID=4.0, store_and_fwd_flag='N', PULocationID=132.0, DOLocationID=265.0, payment_type=2.0, fare_amount=20.5, extra=0.0, mta_tax=0.5, tip_amount=0.0, tolls_amount=0.0, improvement_surcharge=0.3, total_amount=21.3),\n",
       " Row(VendorID=1.0, tpep_pickup_datetime=datetime.datetime(2017, 12, 2, 15, 10, 55), tpep_dropoff_datetime=datetime.datetime(2017, 12, 2, 16, 8, 49), passenger_count=1.0, trip_distance=20.5, RatecodeID=4.0, store_and_fwd_flag='N', PULocationID=162.0, DOLocationID=265.0, payment_type=2.0, fare_amount=73.0, extra=0.0, mta_tax=0.5, tip_amount=0.0, tolls_amount=5.76, improvement_surcharge=0.3, total_amount=79.56),\n",
       " Row(VendorID=2.0, tpep_pickup_datetime=datetime.datetime(2017, 12, 2, 15, 42, 1), tpep_dropoff_datetime=datetime.datetime(2017, 12, 2, 16, 8, 34), passenger_count=1.0, trip_distance=17.25, RatecodeID=4.0, store_and_fwd_flag='N', PULocationID=132.0, DOLocationID=265.0, payment_type=1.0, fare_amount=60.0, extra=0.0, mta_tax=0.5, tip_amount=12.16, tolls_amount=0.0, improvement_surcharge=0.3, total_amount=72.96),\n",
       " Row(VendorID=2.0, tpep_pickup_datetime=datetime.datetime(2017, 12, 2, 15, 30, 37), tpep_dropoff_datetime=datetime.datetime(2017, 12, 2, 16, 4, 4), passenger_count=1.0, trip_distance=12.71, RatecodeID=4.0, store_and_fwd_flag='N', PULocationID=138.0, DOLocationID=265.0, payment_type=2.0, fare_amount=40.5, extra=0.0, mta_tax=0.5, tip_amount=0.0, tolls_amount=0.0, improvement_surcharge=0.3, total_amount=41.3),\n",
       " Row(VendorID=1.0, tpep_pickup_datetime=datetime.datetime(2017, 12, 2, 15, 4, 7), tpep_dropoff_datetime=datetime.datetime(2017, 12, 2, 15, 40, 3), passenger_count=1.0, trip_distance=26.3, RatecodeID=4.0, store_and_fwd_flag='N', PULocationID=138.0, DOLocationID=265.0, payment_type=1.0, fare_amount=100.5, extra=0.0, mta_tax=0.5, tip_amount=18.0, tolls_amount=5.76, improvement_surcharge=0.3, total_amount=125.06),\n",
       " Row(VendorID=1.0, tpep_pickup_datetime=datetime.datetime(2017, 12, 2, 15, 16, 24), tpep_dropoff_datetime=datetime.datetime(2017, 12, 2, 15, 28, 11), passenger_count=1.0, trip_distance=2.7, RatecodeID=4.0, store_and_fwd_flag='N', PULocationID=97.0, DOLocationID=232.0, payment_type=2.0, fare_amount=11.5, extra=0.0, mta_tax=0.5, tip_amount=0.0, tolls_amount=0.0, improvement_surcharge=0.3, total_amount=12.3),\n",
       " Row(VendorID=2.0, tpep_pickup_datetime=datetime.datetime(2017, 12, 2, 16, 47, 47), tpep_dropoff_datetime=datetime.datetime(2017, 12, 2, 17, 10, 51), passenger_count=2.0, trip_distance=10.2, RatecodeID=4.0, store_and_fwd_flag='N', PULocationID=132.0, DOLocationID=265.0, payment_type=1.0, fare_amount=34.5, extra=0.0, mta_tax=0.5, tip_amount=0.0, tolls_amount=0.0, improvement_surcharge=0.3, total_amount=35.3),\n",
       " Row(VendorID=2.0, tpep_pickup_datetime=datetime.datetime(2017, 12, 2, 16, 4, 13), tpep_dropoff_datetime=datetime.datetime(2017, 12, 2, 16, 45, 41), passenger_count=4.0, trip_distance=24.84, RatecodeID=4.0, store_and_fwd_flag='N', PULocationID=138.0, DOLocationID=265.0, payment_type=1.0, fare_amount=97.0, extra=0.0, mta_tax=0.5, tip_amount=20.71, tolls_amount=5.76, improvement_surcharge=0.3, total_amount=124.27),\n",
       " Row(VendorID=2.0, tpep_pickup_datetime=datetime.datetime(2017, 12, 2, 16, 40, 49), tpep_dropoff_datetime=datetime.datetime(2017, 12, 2, 17, 29, 4), passenger_count=4.0, trip_distance=28.3, RatecodeID=4.0, store_and_fwd_flag='N', PULocationID=132.0, DOLocationID=265.0, payment_type=2.0, fare_amount=97.0, extra=0.0, mta_tax=0.5, tip_amount=0.0, tolls_amount=9.26, improvement_surcharge=0.3, total_amount=107.06),\n",
       " Row(VendorID=2.0, tpep_pickup_datetime=datetime.datetime(2017, 12, 2, 16, 7, 37), tpep_dropoff_datetime=datetime.datetime(2017, 12, 2, 16, 25, 40), passenger_count=1.0, trip_distance=9.08, RatecodeID=4.0, store_and_fwd_flag='N', PULocationID=74.0, DOLocationID=265.0, payment_type=2.0, fare_amount=28.0, extra=0.0, mta_tax=0.5, tip_amount=0.0, tolls_amount=0.0, improvement_surcharge=0.3, total_amount=28.8),\n",
       " Row(VendorID=2.0, tpep_pickup_datetime=datetime.datetime(2017, 12, 2, 17, 24, 48), tpep_dropoff_datetime=datetime.datetime(2017, 12, 2, 18, 19, 7), passenger_count=1.0, trip_distance=27.02, RatecodeID=4.0, store_and_fwd_flag='N', PULocationID=132.0, DOLocationID=265.0, payment_type=2.0, fare_amount=122.5, extra=0.0, mta_tax=0.5, tip_amount=0.0, tolls_amount=0.0, improvement_surcharge=0.3, total_amount=123.3),\n",
       " Row(VendorID=1.0, tpep_pickup_datetime=datetime.datetime(2017, 12, 2, 17, 19, 34), tpep_dropoff_datetime=datetime.datetime(2017, 12, 2, 17, 43, 21), passenger_count=1.0, trip_distance=10.3, RatecodeID=4.0, store_and_fwd_flag='N', PULocationID=132.0, DOLocationID=265.0, payment_type=1.0, fare_amount=35.0, extra=0.0, mta_tax=0.5, tip_amount=4.2, tolls_amount=0.0, improvement_surcharge=0.3, total_amount=40.0),\n",
       " Row(VendorID=2.0, tpep_pickup_datetime=datetime.datetime(2017, 12, 2, 17, 10, 44), tpep_dropoff_datetime=datetime.datetime(2017, 12, 2, 17, 52, 27), passenger_count=1.0, trip_distance=18.73, RatecodeID=4.0, store_and_fwd_flag='N', PULocationID=132.0, DOLocationID=265.0, payment_type=2.0, fare_amount=79.5, extra=0.0, mta_tax=0.5, tip_amount=0.0, tolls_amount=0.0, improvement_surcharge=0.3, total_amount=80.3),\n",
       " Row(VendorID=2.0, tpep_pickup_datetime=datetime.datetime(2017, 12, 2, 17, 25, 6), tpep_dropoff_datetime=datetime.datetime(2017, 12, 2, 18, 2, 17), passenger_count=1.0, trip_distance=18.9, RatecodeID=4.0, store_and_fwd_flag='N', PULocationID=138.0, DOLocationID=265.0, payment_type=1.0, fare_amount=58.5, extra=0.0, mta_tax=0.5, tip_amount=11.86, tolls_amount=0.0, improvement_surcharge=0.3, total_amount=71.16),\n",
       " Row(VendorID=1.0, tpep_pickup_datetime=datetime.datetime(2017, 12, 2, 17, 37, 31), tpep_dropoff_datetime=datetime.datetime(2017, 12, 2, 18, 13, 4), passenger_count=2.0, trip_distance=20.0, RatecodeID=4.0, store_and_fwd_flag='N', PULocationID=138.0, DOLocationID=265.0, payment_type=1.0, fare_amount=72.5, extra=0.0, mta_tax=0.5, tip_amount=16.95, tolls_amount=11.52, improvement_surcharge=0.3, total_amount=101.77),\n",
       " Row(VendorID=2.0, tpep_pickup_datetime=datetime.datetime(2017, 12, 2, 17, 20, 42), tpep_dropoff_datetime=datetime.datetime(2017, 12, 2, 18, 26, 31), passenger_count=1.0, trip_distance=35.4, RatecodeID=4.0, store_and_fwd_flag='N', PULocationID=132.0, DOLocationID=265.0, payment_type=1.0, fare_amount=131.0, extra=0.0, mta_tax=0.5, tip_amount=10.0, tolls_amount=5.76, improvement_surcharge=0.3, total_amount=147.56),\n",
       " Row(VendorID=2.0, tpep_pickup_datetime=datetime.datetime(2017, 12, 2, 17, 11, 44), tpep_dropoff_datetime=datetime.datetime(2017, 12, 2, 18, 29, 40), passenger_count=2.0, trip_distance=31.86, RatecodeID=4.0, store_and_fwd_flag='N', PULocationID=151.0, DOLocationID=265.0, payment_type=1.0, fare_amount=114.0, extra=0.0, mta_tax=0.5, tip_amount=60.0, tolls_amount=5.76, improvement_surcharge=0.3, total_amount=180.56),\n",
       " Row(VendorID=2.0, tpep_pickup_datetime=datetime.datetime(2017, 12, 2, 17, 35, 9), tpep_dropoff_datetime=datetime.datetime(2017, 12, 2, 18, 17, 1), passenger_count=6.0, trip_distance=24.03, RatecodeID=4.0, store_and_fwd_flag='N', PULocationID=138.0, DOLocationID=265.0, payment_type=2.0, fare_amount=92.0, extra=0.0, mta_tax=0.5, tip_amount=0.0, tolls_amount=0.0, improvement_surcharge=0.3, total_amount=92.8),\n",
       " Row(VendorID=2.0, tpep_pickup_datetime=datetime.datetime(2017, 12, 2, 17, 48, 41), tpep_dropoff_datetime=datetime.datetime(2017, 12, 2, 19, 3, 54), passenger_count=1.0, trip_distance=7.22, RatecodeID=4.0, store_and_fwd_flag='N', PULocationID=161.0, DOLocationID=265.0, payment_type=1.0, fare_amount=54.0, extra=0.0, mta_tax=0.5, tip_amount=13.46, tolls_amount=12.5, improvement_surcharge=0.3, total_amount=80.76),\n",
       " Row(VendorID=2.0, tpep_pickup_datetime=datetime.datetime(2017, 12, 2, 17, 43, 24), tpep_dropoff_datetime=datetime.datetime(2017, 12, 2, 18, 26, 29), passenger_count=1.0, trip_distance=23.87, RatecodeID=4.0, store_and_fwd_flag='N', PULocationID=138.0, DOLocationID=265.0, payment_type=2.0, fare_amount=94.5, extra=0.0, mta_tax=0.5, tip_amount=0.0, tolls_amount=0.0, improvement_surcharge=0.3, total_amount=95.3),\n",
       " Row(VendorID=1.0, tpep_pickup_datetime=datetime.datetime(2017, 12, 2, 17, 11, 54), tpep_dropoff_datetime=datetime.datetime(2017, 12, 2, 17, 32, 30), passenger_count=4.0, trip_distance=2.0, RatecodeID=4.0, store_and_fwd_flag='N', PULocationID=229.0, DOLocationID=163.0, payment_type=2.0, fare_amount=13.5, extra=0.0, mta_tax=0.5, tip_amount=0.0, tolls_amount=0.0, improvement_surcharge=0.3, total_amount=14.3),\n",
       " Row(VendorID=2.0, tpep_pickup_datetime=datetime.datetime(2017, 12, 2, 18, 41, 59), tpep_dropoff_datetime=datetime.datetime(2017, 12, 3, 0, 0), passenger_count=6.0, trip_distance=14.14, RatecodeID=4.0, store_and_fwd_flag='N', PULocationID=132.0, DOLocationID=265.0, payment_type=2.0, fare_amount=58.5, extra=0.0, mta_tax=0.5, tip_amount=0.0, tolls_amount=0.0, improvement_surcharge=0.3, total_amount=59.3),\n",
       " Row(VendorID=2.0, tpep_pickup_datetime=datetime.datetime(2017, 12, 2, 18, 54, 57), tpep_dropoff_datetime=datetime.datetime(2017, 12, 2, 19, 15, 11), passenger_count=1.0, trip_distance=7.55, RatecodeID=4.0, store_and_fwd_flag='N', PULocationID=132.0, DOLocationID=265.0, payment_type=2.0, fare_amount=29.0, extra=0.0, mta_tax=0.5, tip_amount=0.0, tolls_amount=0.0, improvement_surcharge=0.3, total_amount=29.8),\n",
       " Row(VendorID=2.0, tpep_pickup_datetime=datetime.datetime(2017, 12, 2, 18, 21, 57), tpep_dropoff_datetime=datetime.datetime(2017, 12, 2, 18, 54, 55), passenger_count=1.0, trip_distance=17.96, RatecodeID=4.0, store_and_fwd_flag='N', PULocationID=138.0, DOLocationID=265.0, payment_type=1.0, fare_amount=58.5, extra=0.0, mta_tax=0.5, tip_amount=16.26, tolls_amount=5.76, improvement_surcharge=0.3, total_amount=81.32),\n",
       " Row(VendorID=2.0, tpep_pickup_datetime=datetime.datetime(2017, 12, 2, 18, 45, 5), tpep_dropoff_datetime=datetime.datetime(2017, 12, 2, 19, 13, 27), passenger_count=1.0, trip_distance=12.62, RatecodeID=4.0, store_and_fwd_flag='N', PULocationID=132.0, DOLocationID=265.0, payment_type=1.0, fare_amount=49.5, extra=0.0, mta_tax=0.5, tip_amount=20.0, tolls_amount=0.0, improvement_surcharge=0.3, total_amount=70.3),\n",
       " Row(VendorID=1.0, tpep_pickup_datetime=datetime.datetime(2017, 12, 2, 18, 47, 30), tpep_dropoff_datetime=datetime.datetime(2017, 12, 2, 19, 41, 55), passenger_count=3.0, trip_distance=24.1, RatecodeID=4.0, store_and_fwd_flag='N', PULocationID=79.0, DOLocationID=265.0, payment_type=1.0, fare_amount=86.5, extra=0.0, mta_tax=0.5, tip_amount=18.6, tolls_amount=5.76, improvement_surcharge=0.3, total_amount=111.66),\n",
       " Row(VendorID=1.0, tpep_pickup_datetime=datetime.datetime(2017, 12, 2, 18, 38, 56), tpep_dropoff_datetime=datetime.datetime(2017, 12, 2, 18, 55, 58), passenger_count=1.0, trip_distance=7.3, RatecodeID=4.0, store_and_fwd_flag='N', PULocationID=132.0, DOLocationID=265.0, payment_type=2.0, fare_amount=28.0, extra=0.0, mta_tax=0.5, tip_amount=0.0, tolls_amount=0.0, improvement_surcharge=0.3, total_amount=28.8),\n",
       " Row(VendorID=2.0, tpep_pickup_datetime=datetime.datetime(2017, 12, 2, 19, 13, 51), tpep_dropoff_datetime=datetime.datetime(2017, 12, 2, 19, 45, 14), passenger_count=1.0, trip_distance=18.6, RatecodeID=4.0, store_and_fwd_flag='N', PULocationID=127.0, DOLocationID=265.0, payment_type=1.0, fare_amount=81.5, extra=0.0, mta_tax=0.5, tip_amount=16.46, tolls_amount=0.0, improvement_surcharge=0.3, total_amount=100.71),\n",
       " Row(VendorID=2.0, tpep_pickup_datetime=datetime.datetime(2017, 12, 2, 19, 29, 11), tpep_dropoff_datetime=datetime.datetime(2017, 12, 2, 20, 8, 27), passenger_count=2.0, trip_distance=25.7, RatecodeID=4.0, store_and_fwd_flag='N', PULocationID=138.0, DOLocationID=265.0, payment_type=1.0, fare_amount=100.0, extra=0.0, mta_tax=0.5, tip_amount=11.11, tolls_amount=5.76, improvement_surcharge=0.3, total_amount=117.67),\n",
       " Row(VendorID=2.0, tpep_pickup_datetime=datetime.datetime(2017, 12, 2, 19, 0, 9), tpep_dropoff_datetime=datetime.datetime(2017, 12, 2, 19, 46, 44), passenger_count=1.0, trip_distance=29.42, RatecodeID=4.0, store_and_fwd_flag='N', PULocationID=132.0, DOLocationID=265.0, payment_type=2.0, fare_amount=83.0, extra=0.0, mta_tax=0.5, tip_amount=0.0, tolls_amount=5.76, improvement_surcharge=0.3, total_amount=89.56),\n",
       " Row(VendorID=1.0, tpep_pickup_datetime=datetime.datetime(2017, 12, 2, 19, 8, 32), tpep_dropoff_datetime=datetime.datetime(2017, 12, 2, 19, 37, 41), passenger_count=2.0, trip_distance=1.3, RatecodeID=4.0, store_and_fwd_flag='N', PULocationID=230.0, DOLocationID=164.0, payment_type=2.0, fare_amount=32.0, extra=0.0, mta_tax=0.5, tip_amount=0.0, tolls_amount=0.0, improvement_surcharge=0.3, total_amount=32.8),\n",
       " Row(VendorID=1.0, tpep_pickup_datetime=datetime.datetime(2017, 12, 2, 19, 39, 27), tpep_dropoff_datetime=datetime.datetime(2017, 12, 2, 20, 11, 30), passenger_count=4.0, trip_distance=1.8, RatecodeID=4.0, store_and_fwd_flag='N', PULocationID=164.0, DOLocationID=48.0, payment_type=2.0, fare_amount=35.0, extra=0.0, mta_tax=0.5, tip_amount=0.0, tolls_amount=0.0, improvement_surcharge=0.3, total_amount=35.8),\n",
       " Row(VendorID=2.0, tpep_pickup_datetime=datetime.datetime(2017, 12, 2, 19, 21), tpep_dropoff_datetime=datetime.datetime(2017, 12, 2, 19, 53, 36), passenger_count=1.0, trip_distance=13.45, RatecodeID=4.0, store_and_fwd_flag='N', PULocationID=186.0, DOLocationID=265.0, payment_type=1.0, fare_amount=63.5, extra=0.0, mta_tax=0.5, tip_amount=15.36, tolls_amount=12.5, improvement_surcharge=0.3, total_amount=92.16),\n",
       " Row(VendorID=1.0, tpep_pickup_datetime=datetime.datetime(2017, 12, 2, 20, 17, 3), tpep_dropoff_datetime=datetime.datetime(2017, 12, 2, 21, 18, 4), passenger_count=1.0, trip_distance=46.9, RatecodeID=4.0, store_and_fwd_flag='N', PULocationID=138.0, DOLocationID=265.0, payment_type=2.0, fare_amount=214.0, extra=0.5, mta_tax=0.5, tip_amount=0.0, tolls_amount=0.0, improvement_surcharge=0.3, total_amount=215.3),\n",
       " Row(VendorID=2.0, tpep_pickup_datetime=datetime.datetime(2017, 12, 2, 20, 25, 22), tpep_dropoff_datetime=datetime.datetime(2017, 12, 2, 21, 11, 56), passenger_count=1.0, trip_distance=19.64, RatecodeID=4.0, store_and_fwd_flag='N', PULocationID=79.0, DOLocationID=265.0, payment_type=1.0, fare_amount=96.5, extra=0.5, mta_tax=0.5, tip_amount=0.0, tolls_amount=12.5, improvement_surcharge=0.3, total_amount=110.3),\n",
       " Row(VendorID=2.0, tpep_pickup_datetime=datetime.datetime(2017, 12, 2, 20, 55, 14), tpep_dropoff_datetime=datetime.datetime(2017, 12, 2, 21, 32, 9), passenger_count=1.0, trip_distance=25.13, RatecodeID=4.0, store_and_fwd_flag='N', PULocationID=132.0, DOLocationID=265.0, payment_type=1.0, fare_amount=73.5, extra=0.5, mta_tax=0.5, tip_amount=20.14, tolls_amount=5.76, improvement_surcharge=0.3, total_amount=100.7),\n",
       " Row(VendorID=1.0, tpep_pickup_datetime=datetime.datetime(2017, 12, 2, 20, 42, 19), tpep_dropoff_datetime=datetime.datetime(2017, 12, 2, 21, 14, 48), passenger_count=1.0, trip_distance=22.2, RatecodeID=4.0, store_and_fwd_flag='N', PULocationID=138.0, DOLocationID=265.0, payment_type=1.0, fare_amount=82.0, extra=0.5, mta_tax=0.5, tip_amount=16.65, tolls_amount=0.0, improvement_surcharge=0.3, total_amount=99.95),\n",
       " Row(VendorID=2.0, tpep_pickup_datetime=datetime.datetime(2017, 12, 2, 20, 9, 47), tpep_dropoff_datetime=datetime.datetime(2017, 12, 2, 20, 55, 10), passenger_count=1.0, trip_distance=36.11, RatecodeID=4.0, store_and_fwd_flag='N', PULocationID=223.0, DOLocationID=265.0, payment_type=1.0, fare_amount=160.5, extra=0.5, mta_tax=0.5, tip_amount=36.49, tolls_amount=20.66, improvement_surcharge=0.3, total_amount=218.95),\n",
       " Row(VendorID=1.0, tpep_pickup_datetime=datetime.datetime(2017, 12, 2, 21, 39, 29), tpep_dropoff_datetime=datetime.datetime(2017, 12, 2, 22, 37, 24), passenger_count=2.0, trip_distance=43.7, RatecodeID=4.0, store_and_fwd_flag='N', PULocationID=132.0, DOLocationID=265.0, payment_type=1.0, fare_amount=204.5, extra=0.5, mta_tax=0.5, tip_amount=10.0, tolls_amount=0.0, improvement_surcharge=0.3, total_amount=215.8),\n",
       " Row(VendorID=2.0, tpep_pickup_datetime=datetime.datetime(2017, 12, 2, 21, 31, 39), tpep_dropoff_datetime=datetime.datetime(2017, 12, 2, 22, 4, 3), passenger_count=6.0, trip_distance=22.84, RatecodeID=4.0, store_and_fwd_flag='N', PULocationID=132.0, DOLocationID=265.0, payment_type=2.0, fare_amount=70.0, extra=0.5, mta_tax=0.5, tip_amount=0.0, tolls_amount=5.76, improvement_surcharge=0.3, total_amount=77.06),\n",
       " Row(VendorID=1.0, tpep_pickup_datetime=datetime.datetime(2017, 12, 2, 21, 23, 43), tpep_dropoff_datetime=datetime.datetime(2017, 12, 2, 21, 55, 29), passenger_count=1.0, trip_distance=26.5, RatecodeID=4.0, store_and_fwd_flag='N', PULocationID=132.0, DOLocationID=265.0, payment_type=1.0, fare_amount=119.5, extra=0.5, mta_tax=0.5, tip_amount=3.0, tolls_amount=0.0, improvement_surcharge=0.3, total_amount=123.8),\n",
       " Row(VendorID=2.0, tpep_pickup_datetime=datetime.datetime(2017, 12, 2, 21, 7, 46), tpep_dropoff_datetime=datetime.datetime(2017, 12, 2, 21, 25, 29), passenger_count=1.0, trip_distance=9.29, RatecodeID=4.0, store_and_fwd_flag='N', PULocationID=132.0, DOLocationID=265.0, payment_type=2.0, fare_amount=30.0, extra=0.5, mta_tax=0.5, tip_amount=0.0, tolls_amount=0.0, improvement_surcharge=0.3, total_amount=31.3),\n",
       " Row(VendorID=2.0, tpep_pickup_datetime=datetime.datetime(2017, 12, 2, 21, 44, 25), tpep_dropoff_datetime=datetime.datetime(2017, 12, 2, 22, 16, 33), passenger_count=1.0, trip_distance=23.95, RatecodeID=4.0, store_and_fwd_flag='N', PULocationID=138.0, DOLocationID=265.0, payment_type=2.0, fare_amount=87.0, extra=0.5, mta_tax=0.5, tip_amount=0.0, tolls_amount=0.0, improvement_surcharge=0.3, total_amount=88.3),\n",
       " Row(VendorID=1.0, tpep_pickup_datetime=datetime.datetime(2017, 12, 2, 21, 30, 17), tpep_dropoff_datetime=datetime.datetime(2017, 12, 2, 22, 8, 43), passenger_count=1.0, trip_distance=22.2, RatecodeID=4.0, store_and_fwd_flag='N', PULocationID=140.0, DOLocationID=265.0, payment_type=1.0, fare_amount=67.5, extra=0.5, mta_tax=0.5, tip_amount=13.0, tolls_amount=0.0, improvement_surcharge=0.3, total_amount=81.8),\n",
       " Row(VendorID=2.0, tpep_pickup_datetime=datetime.datetime(2017, 12, 2, 21, 11, 51), tpep_dropoff_datetime=datetime.datetime(2017, 12, 2, 21, 39, 52), passenger_count=5.0, trip_distance=17.59, RatecodeID=4.0, store_and_fwd_flag='N', PULocationID=138.0, DOLocationID=265.0, payment_type=1.0, fare_amount=56.0, extra=0.5, mta_tax=0.5, tip_amount=12.61, tolls_amount=5.76, improvement_surcharge=0.3, total_amount=75.67),\n",
       " Row(VendorID=1.0, tpep_pickup_datetime=datetime.datetime(2017, 12, 2, 21, 43, 26), tpep_dropoff_datetime=datetime.datetime(2017, 12, 2, 22, 26, 56), passenger_count=3.0, trip_distance=36.0, RatecodeID=4.0, store_and_fwd_flag='N', PULocationID=132.0, DOLocationID=265.0, payment_type=1.0, fare_amount=132.5, extra=0.5, mta_tax=0.5, tip_amount=20.0, tolls_amount=5.76, improvement_surcharge=0.3, total_amount=159.56),\n",
       " Row(VendorID=2.0, tpep_pickup_datetime=datetime.datetime(2017, 12, 2, 21, 42, 50), tpep_dropoff_datetime=datetime.datetime(2017, 12, 3, 21, 28, 9), passenger_count=1.0, trip_distance=50.78, RatecodeID=4.0, store_and_fwd_flag='N', PULocationID=141.0, DOLocationID=265.0, payment_type=1.0, fare_amount=237.0, extra=0.5, mta_tax=0.5, tip_amount=0.0, tolls_amount=10.5, improvement_surcharge=0.3, total_amount=248.8),\n",
       " Row(VendorID=1.0, tpep_pickup_datetime=datetime.datetime(2017, 12, 2, 22, 20, 35), tpep_dropoff_datetime=datetime.datetime(2017, 12, 2, 22, 51, 10), passenger_count=1.0, trip_distance=23.5, RatecodeID=4.0, store_and_fwd_flag='N', PULocationID=138.0, DOLocationID=265.0, payment_type=2.0, fare_amount=87.0, extra=0.5, mta_tax=0.5, tip_amount=0.0, tolls_amount=0.0, improvement_surcharge=0.3, total_amount=88.3),\n",
       " Row(VendorID=2.0, tpep_pickup_datetime=datetime.datetime(2017, 12, 2, 22, 4, 29), tpep_dropoff_datetime=datetime.datetime(2017, 12, 2, 22, 45, 23), passenger_count=1.0, trip_distance=16.79, RatecodeID=4.0, store_and_fwd_flag='N', PULocationID=231.0, DOLocationID=265.0, payment_type=1.0, fare_amount=52.0, extra=0.5, mta_tax=0.5, tip_amount=11.19, tolls_amount=2.64, improvement_surcharge=0.3, total_amount=67.13),\n",
       " Row(VendorID=2.0, tpep_pickup_datetime=datetime.datetime(2017, 12, 2, 22, 13, 39), tpep_dropoff_datetime=datetime.datetime(2017, 12, 2, 22, 45, 29), passenger_count=1.0, trip_distance=17.75, RatecodeID=4.0, store_and_fwd_flag='N', PULocationID=138.0, DOLocationID=265.0, payment_type=1.0, fare_amount=60.0, extra=0.5, mta_tax=0.5, tip_amount=6.53, tolls_amount=4.0, improvement_surcharge=0.3, total_amount=71.83),\n",
       " Row(VendorID=1.0, tpep_pickup_datetime=datetime.datetime(2017, 12, 2, 22, 16, 27), tpep_dropoff_datetime=datetime.datetime(2017, 12, 2, 22, 25, 25), passenger_count=0.0, trip_distance=2.6, RatecodeID=4.0, store_and_fwd_flag='N', PULocationID=145.0, DOLocationID=179.0, payment_type=1.0, fare_amount=9.5, extra=0.5, mta_tax=0.5, tip_amount=2.0, tolls_amount=0.0, improvement_surcharge=0.3, total_amount=12.8),\n",
       " Row(VendorID=1.0, tpep_pickup_datetime=datetime.datetime(2017, 12, 2, 22, 27, 50), tpep_dropoff_datetime=datetime.datetime(2017, 12, 2, 22, 45, 17), passenger_count=2.0, trip_distance=11.9, RatecodeID=4.0, store_and_fwd_flag='N', PULocationID=132.0, DOLocationID=64.0, payment_type=2.0, fare_amount=46.0, extra=0.5, mta_tax=0.5, tip_amount=0.0, tolls_amount=0.0, improvement_surcharge=0.3, total_amount=47.3),\n",
       " Row(VendorID=1.0, tpep_pickup_datetime=datetime.datetime(2017, 12, 2, 22, 52, 9), tpep_dropoff_datetime=datetime.datetime(2017, 12, 2, 23, 2, 42), passenger_count=2.0, trip_distance=7.1, RatecodeID=4.0, store_and_fwd_flag='N', PULocationID=132.0, DOLocationID=265.0, payment_type=2.0, fare_amount=21.5, extra=0.5, mta_tax=0.5, tip_amount=0.0, tolls_amount=0.0, improvement_surcharge=0.3, total_amount=22.8),\n",
       " Row(VendorID=1.0, tpep_pickup_datetime=datetime.datetime(2017, 12, 2, 23, 47, 30), tpep_dropoff_datetime=datetime.datetime(2017, 12, 3, 0, 19, 39), passenger_count=2.0, trip_distance=3.0, RatecodeID=4.0, store_and_fwd_flag='N', PULocationID=230.0, DOLocationID=114.0, payment_type=1.0, fare_amount=19.5, extra=0.5, mta_tax=0.5, tip_amount=4.15, tolls_amount=0.0, improvement_surcharge=0.3, total_amount=24.95),\n",
       " Row(VendorID=2.0, tpep_pickup_datetime=datetime.datetime(2017, 12, 2, 23, 3, 15), tpep_dropoff_datetime=datetime.datetime(2017, 12, 2, 23, 23, 51), passenger_count=2.0, trip_distance=10.46, RatecodeID=4.0, store_and_fwd_flag='N', PULocationID=132.0, DOLocationID=265.0, payment_type=1.0, fare_amount=36.0, extra=0.5, mta_tax=0.5, tip_amount=0.0, tolls_amount=0.0, improvement_surcharge=0.3, total_amount=37.3),\n",
       " Row(VendorID=2.0, tpep_pickup_datetime=datetime.datetime(2017, 12, 2, 23, 34, 29), tpep_dropoff_datetime=datetime.datetime(2017, 12, 3, 0, 6, 13), passenger_count=1.0, trip_distance=14.24, RatecodeID=4.0, store_and_fwd_flag='N', PULocationID=163.0, DOLocationID=265.0, payment_type=2.0, fare_amount=44.0, extra=0.5, mta_tax=0.5, tip_amount=0.0, tolls_amount=0.0, improvement_surcharge=0.3, total_amount=45.3),\n",
       " Row(VendorID=1.0, tpep_pickup_datetime=datetime.datetime(2017, 12, 2, 23, 41, 45), tpep_dropoff_datetime=datetime.datetime(2017, 12, 3, 0, 5, 28), passenger_count=1.0, trip_distance=17.4, RatecodeID=4.0, store_and_fwd_flag='N', PULocationID=132.0, DOLocationID=265.0, payment_type=1.0, fare_amount=71.5, extra=0.5, mta_tax=0.5, tip_amount=14.55, tolls_amount=0.0, improvement_surcharge=0.3, total_amount=87.35),\n",
       " Row(VendorID=2.0, tpep_pickup_datetime=datetime.datetime(2017, 12, 2, 23, 41, 16), tpep_dropoff_datetime=datetime.datetime(2017, 12, 3, 0, 8, 52), passenger_count=3.0, trip_distance=18.77, RatecodeID=4.0, store_and_fwd_flag='N', PULocationID=138.0, DOLocationID=265.0, payment_type=1.0, fare_amount=59.0, extra=0.5, mta_tax=0.5, tip_amount=13.21, tolls_amount=5.76, improvement_surcharge=0.3, total_amount=79.27),\n",
       " Row(VendorID=1.0, tpep_pickup_datetime=datetime.datetime(2017, 12, 2, 23, 44, 39), tpep_dropoff_datetime=datetime.datetime(2017, 12, 3, 0, 31, 53), passenger_count=1.0, trip_distance=28.8, RatecodeID=4.0, store_and_fwd_flag='N', PULocationID=132.0, DOLocationID=265.0, payment_type=1.0, fare_amount=94.5, extra=0.0, mta_tax=0.5, tip_amount=7.0, tolls_amount=5.76, improvement_surcharge=0.3, total_amount=108.06),\n",
       " Row(VendorID=2.0, tpep_pickup_datetime=datetime.datetime(2017, 12, 2, 23, 31, 3), tpep_dropoff_datetime=datetime.datetime(2017, 12, 3, 0, 23, 7), passenger_count=1.0, trip_distance=22.82, RatecodeID=4.0, store_and_fwd_flag='N', PULocationID=234.0, DOLocationID=265.0, payment_type=2.0, fare_amount=82.5, extra=0.5, mta_tax=0.5, tip_amount=0.0, tolls_amount=0.0, improvement_surcharge=0.3, total_amount=83.8),\n",
       " Row(VendorID=2.0, tpep_pickup_datetime=datetime.datetime(2017, 12, 2, 23, 30, 55), tpep_dropoff_datetime=datetime.datetime(2017, 12, 3, 0, 0, 50), passenger_count=1.0, trip_distance=10.84, RatecodeID=4.0, store_and_fwd_flag='N', PULocationID=215.0, DOLocationID=117.0, payment_type=1.0, fare_amount=44.0, extra=0.5, mta_tax=0.5, tip_amount=0.0, tolls_amount=0.0, improvement_surcharge=0.3, total_amount=45.3),\n",
       " Row(VendorID=1.0, tpep_pickup_datetime=datetime.datetime(2017, 12, 2, 23, 41, 11), tpep_dropoff_datetime=datetime.datetime(2017, 12, 3, 0, 28, 44), passenger_count=1.0, trip_distance=26.3, RatecodeID=4.0, store_and_fwd_flag='N', PULocationID=230.0, DOLocationID=265.0, payment_type=3.0, fare_amount=88.0, extra=0.5, mta_tax=0.5, tip_amount=0.0, tolls_amount=5.76, improvement_surcharge=0.3, total_amount=95.06),\n",
       " Row(VendorID=2.0, tpep_pickup_datetime=datetime.datetime(2017, 12, 2, 23, 28, 31), tpep_dropoff_datetime=datetime.datetime(2017, 12, 3, 0, 0, 29), passenger_count=1.0, trip_distance=16.88, RatecodeID=4.0, store_and_fwd_flag='N', PULocationID=138.0, DOLocationID=86.0, payment_type=1.0, fare_amount=52.5, extra=0.5, mta_tax=0.5, tip_amount=0.0, tolls_amount=0.0, improvement_surcharge=0.3, total_amount=53.8),\n",
       " Row(VendorID=2.0, tpep_pickup_datetime=datetime.datetime(2017, 12, 2, 23, 57, 22), tpep_dropoff_datetime=datetime.datetime(2017, 12, 3, 0, 11, 29), passenger_count=2.0, trip_distance=11.68, RatecodeID=4.0, store_and_fwd_flag='N', PULocationID=132.0, DOLocationID=265.0, payment_type=1.0, fare_amount=32.5, extra=0.5, mta_tax=0.5, tip_amount=6.76, tolls_amount=0.0, improvement_surcharge=0.3, total_amount=40.56),\n",
       " Row(VendorID=2.0, tpep_pickup_datetime=datetime.datetime(2017, 12, 2, 23, 13, 56), tpep_dropoff_datetime=datetime.datetime(2017, 12, 2, 23, 50, 31), passenger_count=1.0, trip_distance=18.51, RatecodeID=4.0, store_and_fwd_flag='N', PULocationID=186.0, DOLocationID=265.0, payment_type=2.0, fare_amount=61.5, extra=0.5, mta_tax=0.5, tip_amount=0.0, tolls_amount=2.64, improvement_surcharge=0.3, total_amount=65.44),\n",
       " Row(VendorID=1.0, tpep_pickup_datetime=datetime.datetime(2017, 12, 3, 0, 5, 11), tpep_dropoff_datetime=datetime.datetime(2017, 12, 3, 0, 25, 11), passenger_count=1.0, trip_distance=10.8, RatecodeID=4.0, store_and_fwd_flag='N', PULocationID=132.0, DOLocationID=265.0, payment_type=2.0, fare_amount=39.0, extra=0.5, mta_tax=0.5, tip_amount=0.0, tolls_amount=0.0, improvement_surcharge=0.3, total_amount=40.3),\n",
       " Row(VendorID=2.0, tpep_pickup_datetime=datetime.datetime(2017, 12, 3, 0, 27, 53), tpep_dropoff_datetime=datetime.datetime(2017, 12, 3, 1, 46, 3), passenger_count=1.0, trip_distance=37.28, RatecodeID=4.0, store_and_fwd_flag='N', PULocationID=246.0, DOLocationID=265.0, payment_type=2.0, fare_amount=126.5, extra=0.5, mta_tax=0.5, tip_amount=0.0, tolls_amount=5.76, improvement_surcharge=0.3, total_amount=133.56),\n",
       " Row(VendorID=1.0, tpep_pickup_datetime=datetime.datetime(2017, 12, 3, 0, 19, 6), tpep_dropoff_datetime=datetime.datetime(2017, 12, 3, 1, 5, 6), passenger_count=2.0, trip_distance=20.7, RatecodeID=4.0, store_and_fwd_flag='N', PULocationID=141.0, DOLocationID=265.0, payment_type=1.0, fare_amount=63.5, extra=0.5, mta_tax=0.5, tip_amount=20.0, tolls_amount=0.0, improvement_surcharge=0.3, total_amount=84.8),\n",
       " Row(VendorID=1.0, tpep_pickup_datetime=datetime.datetime(2017, 12, 3, 1, 52, 42), tpep_dropoff_datetime=datetime.datetime(2017, 12, 3, 2, 2, 55), passenger_count=1.0, trip_distance=2.3, RatecodeID=4.0, store_and_fwd_flag='N', PULocationID=249.0, DOLocationID=48.0, payment_type=2.0, fare_amount=10.0, extra=0.5, mta_tax=0.5, tip_amount=0.0, tolls_amount=0.0, improvement_surcharge=0.3, total_amount=11.3),\n",
       " Row(VendorID=2.0, tpep_pickup_datetime=datetime.datetime(2017, 12, 3, 1, 20, 42), tpep_dropoff_datetime=datetime.datetime(2017, 12, 3, 2, 23, 4), passenger_count=4.0, trip_distance=39.25, RatecodeID=4.0, store_and_fwd_flag='N', PULocationID=230.0, DOLocationID=265.0, payment_type=1.0, fare_amount=162.0, extra=0.5, mta_tax=0.5, tip_amount=20.0, tolls_amount=0.0, improvement_surcharge=0.3, total_amount=183.3),\n",
       " Row(VendorID=2.0, tpep_pickup_datetime=datetime.datetime(2017, 12, 3, 1, 33, 28), tpep_dropoff_datetime=datetime.datetime(2017, 12, 3, 2, 3, 51), passenger_count=5.0, trip_distance=16.42, RatecodeID=4.0, store_and_fwd_flag='N', PULocationID=170.0, DOLocationID=265.0, payment_type=2.0, fare_amount=54.0, extra=0.5, mta_tax=0.5, tip_amount=0.0, tolls_amount=0.0, improvement_surcharge=0.3, total_amount=55.3),\n",
       " Row(VendorID=2.0, tpep_pickup_datetime=datetime.datetime(2017, 12, 3, 1, 49, 11), tpep_dropoff_datetime=datetime.datetime(2017, 12, 3, 2, 19, 36), passenger_count=1.0, trip_distance=14.26, RatecodeID=4.0, store_and_fwd_flag='N', PULocationID=132.0, DOLocationID=265.0, payment_type=1.0, fare_amount=59.5, extra=0.5, mta_tax=0.5, tip_amount=10.0, tolls_amount=0.0, improvement_surcharge=0.3, total_amount=70.8),\n",
       " Row(VendorID=1.0, tpep_pickup_datetime=datetime.datetime(2017, 12, 3, 1, 39, 5), tpep_dropoff_datetime=datetime.datetime(2017, 12, 3, 2, 14, 53), passenger_count=2.0, trip_distance=18.8, RatecodeID=4.0, store_and_fwd_flag='N', PULocationID=163.0, DOLocationID=265.0, payment_type=2.0, fare_amount=57.0, extra=0.5, mta_tax=0.5, tip_amount=0.0, tolls_amount=0.0, improvement_surcharge=0.3, total_amount=58.3),\n",
       " Row(VendorID=2.0, tpep_pickup_datetime=datetime.datetime(2017, 12, 3, 1, 50, 19), tpep_dropoff_datetime=datetime.datetime(2017, 12, 3, 2, 24, 14), passenger_count=1.0, trip_distance=14.86, RatecodeID=4.0, store_and_fwd_flag='N', PULocationID=186.0, DOLocationID=265.0, payment_type=1.0, fare_amount=69.0, extra=0.5, mta_tax=0.5, tip_amount=0.0, tolls_amount=10.5, improvement_surcharge=0.3, total_amount=80.8),\n",
       " Row(VendorID=1.0, tpep_pickup_datetime=datetime.datetime(2017, 12, 3, 2, 18, 41), tpep_dropoff_datetime=datetime.datetime(2017, 12, 3, 2, 57, 30), passenger_count=1.0, trip_distance=23.7, RatecodeID=4.0, store_and_fwd_flag='N', PULocationID=249.0, DOLocationID=265.0, payment_type=1.0, fare_amount=71.5, extra=0.5, mta_tax=0.5, tip_amount=5.0, tolls_amount=0.0, improvement_surcharge=0.3, total_amount=77.8),\n",
       " Row(VendorID=1.0, tpep_pickup_datetime=datetime.datetime(2017, 12, 3, 2, 20, 34), tpep_dropoff_datetime=datetime.datetime(2017, 12, 3, 2, 21, 6), passenger_count=1.0, trip_distance=0.0, RatecodeID=4.0, store_and_fwd_flag='N', PULocationID=265.0, DOLocationID=265.0, payment_type=3.0, fare_amount=0.0, extra=0.5, mta_tax=0.5, tip_amount=0.0, tolls_amount=0.0, improvement_surcharge=0.3, total_amount=1.3),\n",
       " Row(VendorID=1.0, tpep_pickup_datetime=datetime.datetime(2017, 12, 3, 2, 8, 49), tpep_dropoff_datetime=datetime.datetime(2017, 12, 3, 2, 9, 42), passenger_count=1.0, trip_distance=0.3, RatecodeID=4.0, store_and_fwd_flag='N', PULocationID=237.0, DOLocationID=237.0, payment_type=1.0, fare_amount=0.0, extra=0.5, mta_tax=0.5, tip_amount=75.0, tolls_amount=0.0, improvement_surcharge=0.3, total_amount=76.3),\n",
       " Row(VendorID=1.0, tpep_pickup_datetime=datetime.datetime(2017, 12, 3, 2, 12, 28), tpep_dropoff_datetime=datetime.datetime(2017, 12, 3, 2, 14, 7), passenger_count=1.0, trip_distance=0.3, RatecodeID=4.0, store_and_fwd_flag='N', PULocationID=237.0, DOLocationID=237.0, payment_type=3.0, fare_amount=2.0, extra=0.5, mta_tax=0.5, tip_amount=0.0, tolls_amount=0.0, improvement_surcharge=0.3, total_amount=3.3),\n",
       " Row(VendorID=2.0, tpep_pickup_datetime=datetime.datetime(2017, 12, 3, 2, 19, 41), tpep_dropoff_datetime=datetime.datetime(2017, 12, 3, 3, 55, 41), passenger_count=1.0, trip_distance=47.86, RatecodeID=4.0, store_and_fwd_flag='N', PULocationID=246.0, DOLocationID=265.0, payment_type=2.0, fare_amount=205.5, extra=0.5, mta_tax=0.5, tip_amount=0.0, tolls_amount=2.64, improvement_surcharge=0.3, total_amount=209.44),\n",
       " Row(VendorID=2.0, tpep_pickup_datetime=datetime.datetime(2017, 12, 3, 2, 7, 11), tpep_dropoff_datetime=datetime.datetime(2017, 12, 3, 2, 37, 39), passenger_count=2.0, trip_distance=17.67, RatecodeID=4.0, store_and_fwd_flag='N', PULocationID=163.0, DOLocationID=265.0, payment_type=1.0, fare_amount=53.0, extra=0.5, mta_tax=0.5, tip_amount=20.0, tolls_amount=0.0, improvement_surcharge=0.3, total_amount=74.3),\n",
       " Row(VendorID=2.0, tpep_pickup_datetime=datetime.datetime(2017, 12, 3, 3, 20, 43), tpep_dropoff_datetime=datetime.datetime(2017, 12, 3, 4, 0, 56), passenger_count=4.0, trip_distance=19.49, RatecodeID=4.0, store_and_fwd_flag='N', PULocationID=100.0, DOLocationID=1.0, payment_type=1.0, fare_amount=100.0, extra=0.5, mta_tax=0.5, tip_amount=0.0, tolls_amount=10.5, improvement_surcharge=0.3, total_amount=113.75),\n",
       " Row(VendorID=1.0, tpep_pickup_datetime=datetime.datetime(2017, 12, 3, 3, 4, 27), tpep_dropoff_datetime=datetime.datetime(2017, 12, 3, 3, 39, 39), passenger_count=2.0, trip_distance=19.8, RatecodeID=4.0, store_and_fwd_flag='N', PULocationID=113.0, DOLocationID=265.0, payment_type=1.0, fare_amount=60.5, extra=0.5, mta_tax=0.5, tip_amount=13.5, tolls_amount=5.76, improvement_surcharge=0.3, total_amount=81.06),\n",
       " Row(VendorID=1.0, tpep_pickup_datetime=datetime.datetime(2017, 12, 3, 3, 38, 37), tpep_dropoff_datetime=datetime.datetime(2017, 12, 3, 4, 24, 40), passenger_count=1.0, trip_distance=25.6, RatecodeID=4.0, store_and_fwd_flag='N', PULocationID=234.0, DOLocationID=265.0, payment_type=2.0, fare_amount=85.5, extra=0.5, mta_tax=0.5, tip_amount=0.0, tolls_amount=0.0, improvement_surcharge=0.3, total_amount=86.8),\n",
       " Row(VendorID=2.0, tpep_pickup_datetime=datetime.datetime(2017, 12, 3, 3, 42, 38), tpep_dropoff_datetime=datetime.datetime(2017, 12, 3, 4, 24, 5), passenger_count=1.0, trip_distance=24.74, RatecodeID=4.0, store_and_fwd_flag='N', PULocationID=68.0, DOLocationID=265.0, payment_type=2.0, fare_amount=78.5, extra=0.5, mta_tax=0.5, tip_amount=0.0, tolls_amount=0.0, improvement_surcharge=0.3, total_amount=79.8),\n",
       " Row(VendorID=1.0, tpep_pickup_datetime=datetime.datetime(2017, 12, 3, 3, 10, 8), tpep_dropoff_datetime=datetime.datetime(2017, 12, 3, 3, 49, 38), passenger_count=3.0, trip_distance=24.7, RatecodeID=4.0, store_and_fwd_flag='N', PULocationID=114.0, DOLocationID=265.0, payment_type=1.0, fare_amount=85.5, extra=0.5, mta_tax=0.5, tip_amount=18.5, tolls_amount=5.76, improvement_surcharge=0.3, total_amount=111.06),\n",
       " Row(VendorID=1.0, tpep_pickup_datetime=datetime.datetime(2017, 12, 3, 3, 1, 40), tpep_dropoff_datetime=datetime.datetime(2017, 12, 3, 3, 44, 44), passenger_count=1.0, trip_distance=19.4, RatecodeID=4.0, store_and_fwd_flag='N', PULocationID=164.0, DOLocationID=265.0, payment_type=2.0, fare_amount=59.0, extra=0.5, mta_tax=0.5, tip_amount=0.0, tolls_amount=0.0, improvement_surcharge=0.3, total_amount=60.3),\n",
       " Row(VendorID=1.0, tpep_pickup_datetime=datetime.datetime(2017, 12, 3, 3, 44, 9), tpep_dropoff_datetime=datetime.datetime(2017, 12, 3, 3, 46, 51), passenger_count=1.0, trip_distance=0.1, RatecodeID=4.0, store_and_fwd_flag='N', PULocationID=83.0, DOLocationID=83.0, payment_type=3.0, fare_amount=4.5, extra=0.5, mta_tax=0.5, tip_amount=0.0, tolls_amount=0.0, improvement_surcharge=0.3, total_amount=5.8),\n",
       " Row(VendorID=2.0, tpep_pickup_datetime=datetime.datetime(2017, 12, 3, 3, 32, 24), tpep_dropoff_datetime=datetime.datetime(2017, 12, 3, 4, 17, 34), passenger_count=6.0, trip_distance=27.89, RatecodeID=4.0, store_and_fwd_flag='N', PULocationID=68.0, DOLocationID=265.0, payment_type=2.0, fare_amount=105.5, extra=0.5, mta_tax=0.5, tip_amount=0.0, tolls_amount=2.64, improvement_surcharge=0.3, total_amount=109.44),\n",
       " Row(VendorID=1.0, tpep_pickup_datetime=datetime.datetime(2017, 12, 3, 4, 58, 57), tpep_dropoff_datetime=datetime.datetime(2017, 12, 3, 5, 14, 5), passenger_count=1.0, trip_distance=7.2, RatecodeID=4.0, store_and_fwd_flag='N', PULocationID=132.0, DOLocationID=265.0, payment_type=2.0, fare_amount=26.0, extra=0.5, mta_tax=0.5, tip_amount=0.0, tolls_amount=0.0, improvement_surcharge=0.3, total_amount=27.3),\n",
       " Row(VendorID=2.0, tpep_pickup_datetime=datetime.datetime(2017, 12, 3, 4, 8, 13), tpep_dropoff_datetime=datetime.datetime(2017, 12, 3, 4, 40, 32), passenger_count=1.0, trip_distance=22.0, RatecodeID=4.0, store_and_fwd_flag='N', PULocationID=246.0, DOLocationID=265.0, payment_type=1.0, fare_amount=77.5, extra=0.5, mta_tax=0.5, tip_amount=15.76, tolls_amount=0.0, improvement_surcharge=0.3, total_amount=94.56),\n",
       " Row(VendorID=1.0, tpep_pickup_datetime=datetime.datetime(2017, 12, 3, 4, 28, 23), tpep_dropoff_datetime=datetime.datetime(2017, 12, 3, 4, 57, 38), passenger_count=3.0, trip_distance=17.2, RatecodeID=4.0, store_and_fwd_flag='N', PULocationID=179.0, DOLocationID=265.0, payment_type=2.0, fare_amount=51.5, extra=0.5, mta_tax=0.5, tip_amount=0.0, tolls_amount=0.0, improvement_surcharge=0.3, total_amount=52.8),\n",
       " Row(VendorID=2.0, tpep_pickup_datetime=datetime.datetime(2017, 12, 3, 4, 5, 40), tpep_dropoff_datetime=datetime.datetime(2017, 12, 3, 4, 33, 29), passenger_count=1.0, trip_distance=20.04, RatecodeID=4.0, store_and_fwd_flag='N', PULocationID=163.0, DOLocationID=1.0, payment_type=1.0, fare_amount=87.5, extra=0.5, mta_tax=0.5, tip_amount=21.26, tolls_amount=17.49, improvement_surcharge=0.3, total_amount=127.55),\n",
       " Row(VendorID=2.0, tpep_pickup_datetime=datetime.datetime(2017, 12, 3, 5, 4, 45), tpep_dropoff_datetime=datetime.datetime(2017, 12, 3, 5, 42, 13), passenger_count=1.0, trip_distance=25.6, RatecodeID=4.0, store_and_fwd_flag='N', PULocationID=132.0, DOLocationID=265.0, payment_type=1.0, fare_amount=108.5, extra=0.5, mta_tax=0.5, tip_amount=21.96, tolls_amount=0.0, improvement_surcharge=0.3, total_amount=131.76),\n",
       " Row(VendorID=1.0, tpep_pickup_datetime=datetime.datetime(2017, 12, 3, 5, 58, 20), tpep_dropoff_datetime=datetime.datetime(2017, 12, 3, 6, 27, 57), passenger_count=1.0, trip_distance=24.4, RatecodeID=4.0, store_and_fwd_flag='N', PULocationID=132.0, DOLocationID=265.0, payment_type=1.0, fare_amount=108.5, extra=0.0, mta_tax=0.5, tip_amount=21.85, tolls_amount=0.0, improvement_surcharge=0.3, total_amount=131.15),\n",
       " Row(VendorID=1.0, tpep_pickup_datetime=datetime.datetime(2017, 12, 3, 5, 5, 30), tpep_dropoff_datetime=datetime.datetime(2017, 12, 3, 5, 54, 47), passenger_count=2.0, trip_distance=37.9, RatecodeID=4.0, store_and_fwd_flag='N', PULocationID=48.0, DOLocationID=265.0, payment_type=1.0, fare_amount=158.0, extra=0.5, mta_tax=0.5, tip_amount=15.0, tolls_amount=0.0, improvement_surcharge=0.3, total_amount=174.3),\n",
       " Row(VendorID=1.0, tpep_pickup_datetime=datetime.datetime(2017, 12, 3, 5, 8, 41), tpep_dropoff_datetime=datetime.datetime(2017, 12, 3, 5, 23, 40), passenger_count=1.0, trip_distance=6.9, RatecodeID=4.0, store_and_fwd_flag='N', PULocationID=132.0, DOLocationID=265.0, payment_type=1.0, fare_amount=24.5, extra=0.5, mta_tax=0.5, tip_amount=5.15, tolls_amount=0.0, improvement_surcharge=0.3, total_amount=30.95),\n",
       " Row(VendorID=1.0, tpep_pickup_datetime=datetime.datetime(2017, 12, 3, 5, 45, 48), tpep_dropoff_datetime=datetime.datetime(2017, 12, 3, 6, 23), passenger_count=1.0, trip_distance=32.1, RatecodeID=4.0, store_and_fwd_flag='N', PULocationID=132.0, DOLocationID=265.0, payment_type=1.0, fare_amount=114.0, extra=0.5, mta_tax=0.5, tip_amount=15.0, tolls_amount=5.76, improvement_surcharge=0.3, total_amount=136.06),\n",
       " Row(VendorID=1.0, tpep_pickup_datetime=datetime.datetime(2017, 12, 3, 5, 58, 5), tpep_dropoff_datetime=datetime.datetime(2017, 12, 3, 6, 11, 24), passenger_count=2.0, trip_distance=6.9, RatecodeID=4.0, store_and_fwd_flag='N', PULocationID=132.0, DOLocationID=265.0, payment_type=2.0, fare_amount=24.5, extra=0.0, mta_tax=0.5, tip_amount=0.0, tolls_amount=0.0, improvement_surcharge=0.3, total_amount=25.3),\n",
       " Row(VendorID=2.0, tpep_pickup_datetime=datetime.datetime(2017, 12, 3, 5, 5, 30), tpep_dropoff_datetime=datetime.datetime(2017, 12, 3, 5, 18, 53), passenger_count=1.0, trip_distance=7.35, RatecodeID=4.0, store_and_fwd_flag='N', PULocationID=132.0, DOLocationID=86.0, payment_type=2.0, fare_amount=26.5, extra=0.5, mta_tax=0.5, tip_amount=0.0, tolls_amount=0.0, improvement_surcharge=0.3, total_amount=27.8),\n",
       " Row(VendorID=1.0, tpep_pickup_datetime=datetime.datetime(2017, 12, 3, 5, 46, 41), tpep_dropoff_datetime=datetime.datetime(2017, 12, 3, 6, 21, 58), passenger_count=2.0, trip_distance=21.2, RatecodeID=4.0, store_and_fwd_flag='N', PULocationID=249.0, DOLocationID=264.0, payment_type=1.0, fare_amount=59.5, extra=0.5, mta_tax=0.5, tip_amount=18.2, tolls_amount=0.0, improvement_surcharge=0.3, total_amount=79.0),\n",
       " Row(VendorID=2.0, tpep_pickup_datetime=datetime.datetime(2017, 12, 3, 4, 58, 54), tpep_dropoff_datetime=datetime.datetime(2017, 12, 3, 5, 51, 12), passenger_count=1.0, trip_distance=20.35, RatecodeID=4.0, store_and_fwd_flag='N', PULocationID=17.0, DOLocationID=265.0, payment_type=1.0, fare_amount=64.0, extra=0.5, mta_tax=0.5, tip_amount=13.06, tolls_amount=0.0, improvement_surcharge=0.3, total_amount=78.36),\n",
       " Row(VendorID=2.0, tpep_pickup_datetime=datetime.datetime(2017, 12, 3, 6, 28, 39), tpep_dropoff_datetime=datetime.datetime(2017, 12, 3, 7, 20, 43), passenger_count=1.0, trip_distance=40.34, RatecodeID=4.0, store_and_fwd_flag='N', PULocationID=179.0, DOLocationID=265.0, payment_type=2.0, fare_amount=158.5, extra=0.0, mta_tax=0.5, tip_amount=0.0, tolls_amount=0.0, improvement_surcharge=0.3, total_amount=159.3),\n",
       " Row(VendorID=2.0, tpep_pickup_datetime=datetime.datetime(2017, 12, 3, 6, 3, 28), tpep_dropoff_datetime=datetime.datetime(2017, 12, 3, 6, 18, 45), passenger_count=1.0, trip_distance=6.5, RatecodeID=4.0, store_and_fwd_flag='N', PULocationID=132.0, DOLocationID=265.0, payment_type=1.0, fare_amount=22.0, extra=0.0, mta_tax=0.5, tip_amount=4.56, tolls_amount=0.0, improvement_surcharge=0.3, total_amount=27.36),\n",
       " Row(VendorID=2.0, tpep_pickup_datetime=datetime.datetime(2017, 12, 3, 7, 48, 29), tpep_dropoff_datetime=datetime.datetime(2017, 12, 3, 7, 56, 19), passenger_count=3.0, trip_distance=3.83, RatecodeID=4.0, store_and_fwd_flag='N', PULocationID=48.0, DOLocationID=265.0, payment_type=1.0, fare_amount=15.5, extra=0.0, mta_tax=0.5, tip_amount=3.0, tolls_amount=10.5, improvement_surcharge=0.3, total_amount=29.8),\n",
       " Row(VendorID=2.0, tpep_pickup_datetime=datetime.datetime(2017, 12, 3, 7, 33, 25), tpep_dropoff_datetime=datetime.datetime(2017, 12, 3, 7, 47, 33), passenger_count=5.0, trip_distance=7.25, RatecodeID=4.0, store_and_fwd_flag='N', PULocationID=132.0, DOLocationID=265.0, payment_type=2.0, fare_amount=27.0, extra=0.0, mta_tax=0.5, tip_amount=0.0, tolls_amount=0.0, improvement_surcharge=0.3, total_amount=27.8),\n",
       " Row(VendorID=1.0, tpep_pickup_datetime=datetime.datetime(2017, 12, 3, 7, 7, 44), tpep_dropoff_datetime=datetime.datetime(2017, 12, 3, 7, 25, 18), passenger_count=2.0, trip_distance=7.4, RatecodeID=4.0, store_and_fwd_flag='N', PULocationID=132.0, DOLocationID=265.0, payment_type=2.0, fare_amount=28.0, extra=0.0, mta_tax=0.5, tip_amount=0.0, tolls_amount=0.0, improvement_surcharge=0.3, total_amount=28.8),\n",
       " Row(VendorID=2.0, tpep_pickup_datetime=datetime.datetime(2017, 12, 3, 8, 56, 44), tpep_dropoff_datetime=datetime.datetime(2017, 12, 3, 9, 8, 29), passenger_count=1.0, trip_distance=8.14, RatecodeID=4.0, store_and_fwd_flag='N', PULocationID=132.0, DOLocationID=265.0, payment_type=2.0, fare_amount=25.5, extra=0.0, mta_tax=0.5, tip_amount=0.0, tolls_amount=0.0, improvement_surcharge=0.3, total_amount=26.3),\n",
       " Row(VendorID=2.0, tpep_pickup_datetime=datetime.datetime(2017, 12, 3, 8, 28, 56), tpep_dropoff_datetime=datetime.datetime(2017, 12, 3, 9, 6, 3), passenger_count=1.0, trip_distance=26.52, RatecodeID=4.0, store_and_fwd_flag='N', PULocationID=237.0, DOLocationID=265.0, payment_type=1.0, fare_amount=97.5, extra=0.0, mta_tax=0.5, tip_amount=0.0, tolls_amount=0.0, improvement_surcharge=0.3, total_amount=98.3),\n",
       " Row(VendorID=1.0, tpep_pickup_datetime=datetime.datetime(2017, 12, 3, 8, 38, 36), tpep_dropoff_datetime=datetime.datetime(2017, 12, 3, 9, 1, 21), passenger_count=1.0, trip_distance=14.8, RatecodeID=4.0, store_and_fwd_flag='N', PULocationID=132.0, DOLocationID=265.0, payment_type=1.0, fare_amount=60.5, extra=0.0, mta_tax=0.5, tip_amount=2.0, tolls_amount=0.0, improvement_surcharge=0.3, total_amount=63.3),\n",
       " Row(VendorID=1.0, tpep_pickup_datetime=datetime.datetime(2017, 12, 3, 8, 18, 45), tpep_dropoff_datetime=datetime.datetime(2017, 12, 3, 8, 38, 55), passenger_count=1.0, trip_distance=17.5, RatecodeID=4.0, store_and_fwd_flag='N', PULocationID=132.0, DOLocationID=265.0, payment_type=1.0, fare_amount=74.0, extra=0.0, mta_tax=0.5, tip_amount=18.7, tolls_amount=0.0, improvement_surcharge=0.3, total_amount=93.5),\n",
       " Row(VendorID=2.0, tpep_pickup_datetime=datetime.datetime(2017, 12, 3, 8, 31, 30), tpep_dropoff_datetime=datetime.datetime(2017, 12, 3, 8, 47, 37), passenger_count=3.0, trip_distance=4.53, RatecodeID=4.0, store_and_fwd_flag='N', PULocationID=249.0, DOLocationID=265.0, payment_type=1.0, fare_amount=20.0, extra=0.0, mta_tax=0.5, tip_amount=7.82, tolls_amount=10.5, improvement_surcharge=0.3, total_amount=39.12),\n",
       " Row(VendorID=1.0, tpep_pickup_datetime=datetime.datetime(2017, 12, 3, 9, 5, 58), tpep_dropoff_datetime=datetime.datetime(2017, 12, 3, 9, 32, 27), passenger_count=1.0, trip_distance=17.3, RatecodeID=4.0, store_and_fwd_flag='N', PULocationID=138.0, DOLocationID=265.0, payment_type=1.0, fare_amount=61.0, extra=0.0, mta_tax=0.5, tip_amount=9.0, tolls_amount=0.0, improvement_surcharge=0.3, total_amount=70.8),\n",
       " Row(VendorID=2.0, tpep_pickup_datetime=datetime.datetime(2017, 12, 3, 9, 50, 52), tpep_dropoff_datetime=datetime.datetime(2017, 12, 3, 10, 21, 20), passenger_count=1.0, trip_distance=16.46, RatecodeID=4.0, store_and_fwd_flag='N', PULocationID=142.0, DOLocationID=265.0, payment_type=1.0, fare_amount=57.0, extra=0.0, mta_tax=0.5, tip_amount=12.09, tolls_amount=2.64, improvement_surcharge=0.3, total_amount=72.53),\n",
       " Row(VendorID=1.0, tpep_pickup_datetime=datetime.datetime(2017, 12, 3, 9, 47, 54), tpep_dropoff_datetime=datetime.datetime(2017, 12, 3, 9, 50, 14), passenger_count=1.0, trip_distance=0.4, RatecodeID=4.0, store_and_fwd_flag='N', PULocationID=262.0, DOLocationID=140.0, payment_type=2.0, fare_amount=5.5, extra=0.0, mta_tax=0.5, tip_amount=0.0, tolls_amount=0.0, improvement_surcharge=0.3, total_amount=6.3),\n",
       " Row(VendorID=1.0, tpep_pickup_datetime=datetime.datetime(2017, 12, 3, 9, 54, 6), tpep_dropoff_datetime=datetime.datetime(2017, 12, 3, 9, 55, 49), passenger_count=1.0, trip_distance=0.7, RatecodeID=4.0, store_and_fwd_flag='N', PULocationID=140.0, DOLocationID=262.0, payment_type=1.0, fare_amount=6.0, extra=0.0, mta_tax=0.5, tip_amount=0.5, tolls_amount=0.0, improvement_surcharge=0.3, total_amount=7.3),\n",
       " Row(VendorID=1.0, tpep_pickup_datetime=datetime.datetime(2017, 12, 3, 9, 59, 17), tpep_dropoff_datetime=datetime.datetime(2017, 12, 3, 10, 14), passenger_count=1.0, trip_distance=7.6, RatecodeID=4.0, store_and_fwd_flag='N', PULocationID=262.0, DOLocationID=138.0, payment_type=1.0, fare_amount=43.0, extra=0.0, mta_tax=0.5, tip_amount=0.0, tolls_amount=5.76, improvement_surcharge=0.3, total_amount=49.56),\n",
       " Row(VendorID=1.0, tpep_pickup_datetime=datetime.datetime(2017, 12, 3, 9, 54, 56), tpep_dropoff_datetime=datetime.datetime(2017, 12, 3, 9, 55, 11), passenger_count=1.0, trip_distance=0.0, RatecodeID=4.0, store_and_fwd_flag='N', PULocationID=138.0, DOLocationID=138.0, payment_type=2.0, fare_amount=2.5, extra=0.0, mta_tax=0.5, tip_amount=0.0, tolls_amount=0.0, improvement_surcharge=0.3, total_amount=3.3),\n",
       " Row(VendorID=2.0, tpep_pickup_datetime=datetime.datetime(2017, 12, 3, 9, 21, 17), tpep_dropoff_datetime=datetime.datetime(2017, 12, 3, 9, 51, 19), passenger_count=1.0, trip_distance=19.22, RatecodeID=4.0, store_and_fwd_flag='N', PULocationID=138.0, DOLocationID=265.0, payment_type=2.0, fare_amount=64.0, extra=0.0, mta_tax=0.5, tip_amount=0.0, tolls_amount=5.76, improvement_surcharge=0.3, total_amount=70.56),\n",
       " Row(VendorID=1.0, tpep_pickup_datetime=datetime.datetime(2017, 12, 3, 9, 18, 38), tpep_dropoff_datetime=datetime.datetime(2017, 12, 3, 9, 39, 37), passenger_count=1.0, trip_distance=17.3, RatecodeID=4.0, store_and_fwd_flag='N', PULocationID=138.0, DOLocationID=265.0, payment_type=2.0, fare_amount=57.5, extra=0.0, mta_tax=0.5, tip_amount=0.0, tolls_amount=0.0, improvement_surcharge=0.3, total_amount=58.3),\n",
       " Row(VendorID=1.0, tpep_pickup_datetime=datetime.datetime(2017, 12, 3, 10, 40, 25), tpep_dropoff_datetime=datetime.datetime(2017, 12, 3, 11, 20, 29), passenger_count=1.0, trip_distance=28.5, RatecodeID=4.0, store_and_fwd_flag='N', PULocationID=132.0, DOLocationID=265.0, payment_type=1.0, fare_amount=95.0, extra=0.0, mta_tax=0.5, tip_amount=21.8, tolls_amount=13.27, improvement_surcharge=0.3, total_amount=130.87),\n",
       " Row(VendorID=1.0, tpep_pickup_datetime=datetime.datetime(2017, 12, 3, 10, 18, 57), tpep_dropoff_datetime=datetime.datetime(2017, 12, 3, 10, 52, 17), passenger_count=1.0, trip_distance=25.6, RatecodeID=4.0, store_and_fwd_flag='N', PULocationID=138.0, DOLocationID=265.0, payment_type=1.0, fare_amount=100.0, extra=0.0, mta_tax=0.5, tip_amount=21.3, tolls_amount=5.76, improvement_surcharge=0.3, total_amount=127.86),\n",
       " Row(VendorID=2.0, tpep_pickup_datetime=datetime.datetime(2017, 12, 3, 10, 5, 43), tpep_dropoff_datetime=datetime.datetime(2017, 12, 3, 10, 43, 11), passenger_count=1.0, trip_distance=20.02, RatecodeID=4.0, store_and_fwd_flag='N', PULocationID=163.0, DOLocationID=1.0, payment_type=2.0, fare_amount=91.0, extra=0.0, mta_tax=0.5, tip_amount=0.0, tolls_amount=10.5, improvement_surcharge=0.3, total_amount=102.3),\n",
       " Row(VendorID=1.0, tpep_pickup_datetime=datetime.datetime(2017, 12, 3, 10, 8, 44), tpep_dropoff_datetime=datetime.datetime(2017, 12, 3, 10, 25, 11), passenger_count=1.0, trip_distance=11.6, RatecodeID=4.0, store_and_fwd_flag='N', PULocationID=132.0, DOLocationID=265.0, payment_type=2.0, fare_amount=44.5, extra=0.0, mta_tax=0.5, tip_amount=0.0, tolls_amount=0.0, improvement_surcharge=0.3, total_amount=45.3),\n",
       " Row(VendorID=1.0, tpep_pickup_datetime=datetime.datetime(2017, 12, 3, 11, 45, 29), tpep_dropoff_datetime=datetime.datetime(2017, 12, 3, 12, 8, 17), passenger_count=2.0, trip_distance=12.8, RatecodeID=4.0, store_and_fwd_flag='N', PULocationID=132.0, DOLocationID=265.0, payment_type=2.0, fare_amount=52.0, extra=0.0, mta_tax=0.5, tip_amount=0.0, tolls_amount=0.0, improvement_surcharge=0.3, total_amount=52.8),\n",
       " Row(VendorID=2.0, tpep_pickup_datetime=datetime.datetime(2017, 12, 3, 11, 25, 8), tpep_dropoff_datetime=datetime.datetime(2017, 12, 3, 11, 44, 32), passenger_count=6.0, trip_distance=7.64, RatecodeID=4.0, store_and_fwd_flag='N', PULocationID=132.0, DOLocationID=265.0, payment_type=1.0, fare_amount=30.0, extra=0.0, mta_tax=0.5, tip_amount=2.08, tolls_amount=0.0, improvement_surcharge=0.3, total_amount=32.88),\n",
       " Row(VendorID=2.0, tpep_pickup_datetime=datetime.datetime(2017, 12, 3, 11, 32, 35), tpep_dropoff_datetime=datetime.datetime(2017, 12, 3, 12, 2, 53), passenger_count=1.0, trip_distance=9.43, RatecodeID=4.0, store_and_fwd_flag='N', PULocationID=186.0, DOLocationID=265.0, payment_type=1.0, fare_amount=38.5, extra=0.0, mta_tax=0.5, tip_amount=11.86, tolls_amount=20.0, improvement_surcharge=0.3, total_amount=71.16),\n",
       " Row(VendorID=2.0, tpep_pickup_datetime=datetime.datetime(2017, 12, 3, 11, 8, 35), tpep_dropoff_datetime=datetime.datetime(2017, 12, 3, 11, 48, 7), passenger_count=1.0, trip_distance=31.31, RatecodeID=4.0, store_and_fwd_flag='N', PULocationID=132.0, DOLocationID=265.0, payment_type=2.0, fare_amount=146.5, extra=0.0, mta_tax=0.5, tip_amount=0.0, tolls_amount=0.0, improvement_surcharge=0.3, total_amount=147.3),\n",
       " Row(VendorID=1.0, tpep_pickup_datetime=datetime.datetime(2017, 12, 3, 11, 7, 55), tpep_dropoff_datetime=datetime.datetime(2017, 12, 3, 11, 44, 22), passenger_count=1.0, trip_distance=21.3, RatecodeID=4.0, store_and_fwd_flag='N', PULocationID=181.0, DOLocationID=265.0, payment_type=2.0, fare_amount=58.5, extra=0.0, mta_tax=0.5, tip_amount=0.0, tolls_amount=0.0, improvement_surcharge=0.3, total_amount=59.3),\n",
       " Row(VendorID=2.0, tpep_pickup_datetime=datetime.datetime(2017, 12, 3, 12, 45, 26), tpep_dropoff_datetime=datetime.datetime(2017, 12, 3, 13, 20, 52), passenger_count=1.0, trip_distance=25.27, RatecodeID=4.0, store_and_fwd_flag='N', PULocationID=132.0, DOLocationID=265.0, payment_type=1.0, fare_amount=96.0, extra=0.0, mta_tax=0.5, tip_amount=5.0, tolls_amount=0.0, improvement_surcharge=0.3, total_amount=101.8),\n",
       " Row(VendorID=1.0, tpep_pickup_datetime=datetime.datetime(2017, 12, 3, 12, 58, 58), tpep_dropoff_datetime=datetime.datetime(2017, 12, 3, 13, 35, 53), passenger_count=1.0, trip_distance=25.9, RatecodeID=4.0, store_and_fwd_flag='N', PULocationID=233.0, DOLocationID=265.0, payment_type=1.0, fare_amount=95.0, extra=0.0, mta_tax=0.5, tip_amount=15.0, tolls_amount=0.0, improvement_surcharge=0.3, total_amount=110.8),\n",
       " Row(VendorID=1.0, tpep_pickup_datetime=datetime.datetime(2017, 12, 3, 12, 50, 12), tpep_dropoff_datetime=datetime.datetime(2017, 12, 3, 13, 21, 40), passenger_count=1.0, trip_distance=22.2, RatecodeID=4.0, store_and_fwd_flag='N', PULocationID=138.0, DOLocationID=265.0, payment_type=1.0, fare_amount=83.5, extra=0.0, mta_tax=0.5, tip_amount=5.0, tolls_amount=0.0, improvement_surcharge=0.3, total_amount=89.3),\n",
       " ...]"
      ]
     },
     "execution_count": 64,
     "metadata": {},
     "output_type": "execute_result"
    }
   ],
   "source": [
    "spark_df.collect()"
   ]
  },
  {
   "cell_type": "code",
   "execution_count": null,
   "id": "5ee4e344",
   "metadata": {},
   "outputs": [],
   "source": []
  },
  {
   "cell_type": "code",
   "execution_count": 56,
   "id": "b687215d",
   "metadata": {},
   "outputs": [],
   "source": [
    "spark.stop()"
   ]
  }
 ],
 "metadata": {
  "kernelspec": {
   "display_name": "Python 3 (ipykernel)",
   "language": "python",
   "name": "python3"
  },
  "language_info": {
   "codemirror_mode": {
    "name": "ipython",
    "version": 3
   },
   "file_extension": ".py",
   "mimetype": "text/x-python",
   "name": "python",
   "nbconvert_exporter": "python",
   "pygments_lexer": "ipython3",
   "version": "3.11.8"
  }
 },
 "nbformat": 4,
 "nbformat_minor": 5
}
